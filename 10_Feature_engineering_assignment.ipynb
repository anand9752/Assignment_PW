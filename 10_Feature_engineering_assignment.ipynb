{
  "cells": [
    {
      "cell_type": "markdown",
      "metadata": {},
      "source": [
        "# Feature Engineering Assignment\n"
      ]
    },
    {
      "cell_type": "markdown",
      "metadata": {},
      "source": [
        "## 1. What is a parameter?\n",
        "\n",
        "A **parameter** is a configurable variable that defines the behavior of a machine learning model. Parameters are learned from the training data during the model fitting process.\n",
        "\n",
        "**Types of Parameters:**\n",
        "- **Model Parameters**: Learned from data (e.g., weights in linear regression, coefficients)\n",
        "- **Hyperparameters**: Set before training (e.g., learning rate, number of epochs)\n",
        "\n",
        "**Example**: In linear regression y = mx + b, 'm' (slope) and 'b' (intercept) are parameters that the model learns from training data."
      ]
    },
    {
      "cell_type": "markdown",
      "metadata": {},
      "source": [
        "## 2. What is correlation?\n",
        "\n",
        "**Correlation** measures the strength and direction of a linear relationship between two variables. It ranges from -1 to +1.\n",
        "\n",
        "**Types of Correlation:**\n",
        "- **Positive Correlation (+1)**: As one variable increases, the other increases\n",
        "- **Negative Correlation (-1)**: As one variable increases, the other decreases\n",
        "- **No Correlation (0)**: No linear relationship between variables\n",
        "\n",
        "**Correlation Coefficient (Pearson's r)**: Most common measure of linear correlation."
      ]
    },
    {
      "cell_type": "markdown",
      "metadata": {},
      "source": [
        "## 3. What does negative correlation mean?\n",
        "\n",
        "**Negative correlation** indicates an inverse relationship between two variables. When one variable increases, the other tends to decrease, and vice versa.\n",
        "\n",
        "**Examples:**\n",
        "- Temperature vs. Heating bills (higher temperature → lower heating costs)\n",
        "- Study time vs. Error rate (more study time → fewer errors)\n",
        "- Speed vs. Travel time (higher speed → less time taken)\n",
        "\n",
        "**Range**: -1 to 0, where -1 indicates perfect negative correlation."
      ]
    },
    {
      "cell_type": "markdown",
      "metadata": {},
      "source": [
        "## 4. Define Machine Learning. What are the main components?\n",
        "\n",
        "**Machine Learning** is a subset of artificial intelligence that enables computers to learn and make decisions from data without being explicitly programmed for every task.\n",
        "\n",
        "**Main Components:**\n",
        "1. **Data**: Input information used for training\n",
        "2. **Algorithm**: Mathematical model that finds patterns\n",
        "3. **Features**: Individual measurable properties of observed phenomena\n",
        "4. **Model**: The output of an algorithm after training on data\n",
        "5. **Training**: Process of teaching the algorithm using historical data\n",
        "6. **Evaluation**: Testing model performance on unseen data\n",
        "7. **Prediction**: Using the trained model to make forecasts on new data"
      ]
    },
    {
      "cell_type": "markdown",
      "metadata": {},
      "source": [
        "## 5. How does loss value help in determining model quality?\n",
        "\n",
        "**Loss value** (or cost function) quantifies the difference between predicted and actual values. It serves as a measure of model performance.\n",
        "\n",
        "**How it helps:**\n",
        "- **Lower loss** = Better model performance\n",
        "- **Higher loss** = Poor model performance\n",
        "- **Optimization**: Algorithms minimize loss during training\n",
        "- **Comparison**: Compare different models objectively\n",
        "\n",
        "**Common Loss Functions:**\n",
        "- **Mean Squared Error (MSE)**: For regression problems\n",
        "- **Cross-entropy**: For classification problems\n",
        "- **Mean Absolute Error (MAE)**: For regression with outliers"
      ]
    },
    {
      "cell_type": "markdown",
      "metadata": {},
      "source": [
        "## 6. What are continuous and categorical variables?\n",
        "\n",
        "**Continuous Variables:**\n",
        "- Can take any numerical value within a range\n",
        "- Infinitely many possible values\n",
        "- Examples: Height, weight, temperature, salary, age\n",
        "- Mathematical operations are meaningful\n",
        "\n",
        "**Categorical Variables:**\n",
        "- Represent categories or groups\n",
        "- Limited set of possible values\n",
        "- Two types:\n",
        "  - **Nominal**: No inherent order (color, gender, city)\n",
        "  - **Ordinal**: Has natural order (education level, rating scale)\n",
        "- Examples: Gender, color, brand, country, grade"
      ]
    },
    {
      "cell_type": "markdown",
      "metadata": {},
      "source": [
        "## 7. How do we handle categorical variables in ML? Common techniques?\n",
        "\n",
        "Machine learning algorithms typically work with numerical data, so categorical variables need encoding.\n",
        "\n",
        "**Common Techniques:**\n",
        "\n",
        "1. **Label Encoding**: Assign numerical labels (0, 1, 2, ...)\n",
        "   - Good for: Ordinal data\n",
        "   - Issue: May imply false ordering\n",
        "\n",
        "2. **One-Hot Encoding**: Create binary columns for each category\n",
        "   - Good for: Nominal data\n",
        "   - Issue: High dimensionality with many categories\n",
        "\n",
        "3. **Target Encoding**: Replace categories with target variable statistics\n",
        "   - Good for: High cardinality features\n",
        "   - Issue: Risk of overfitting\n",
        "\n",
        "4. **Binary Encoding**: Convert to binary representation\n",
        "   - Good for: High cardinality with fewer dimensions than one-hot"
      ]
    },
    {
      "cell_type": "code",
      "execution_count": 1,
      "metadata": {},
      "outputs": [
        {
          "name": "stdout",
          "output_type": "stream",
          "text": [
            "Original Data:\n",
            "   color    size  color_encoded\n",
            "0    red   small              2\n",
            "1   blue  medium              0\n",
            "2  green   large              1\n",
            "3    red   small              2\n",
            "4   blue   large              0\n",
            "\n",
            "One-Hot Encoded:\n",
            "     size  color_encoded  color_blue  color_green  color_red\n",
            "0   small              2       False        False       True\n",
            "1  medium              0        True        False      False\n",
            "2   large              1       False         True      False\n",
            "3   small              2       False        False       True\n",
            "4   large              0        True        False      False\n"
          ]
        }
      ],
      "source": [
        "# Essential code for handling categorical variables\n",
        "import pandas as pd\n",
        "from sklearn.preprocessing import LabelEncoder, OneHotEncoder\n",
        "\n",
        "# Sample data\n",
        "data = pd.DataFrame({\n",
        "    'color': ['red', 'blue', 'green', 'red', 'blue'],\n",
        "    'size': ['small', 'medium', 'large', 'small', 'large']\n",
        "})\n",
        "\n",
        "# Label Encoding\n",
        "le = LabelEncoder()\n",
        "data['color_encoded'] = le.fit_transform(data['color'])\n",
        "\n",
        "# One-Hot Encoding\n",
        "data_encoded = pd.get_dummies(data, columns=['color'], prefix='color')\n",
        "\n",
        "print(\"Original Data:\")\n",
        "print(data)\n",
        "print(\"\\nOne-Hot Encoded:\")\n",
        "print(data_encoded)"
      ]
    },
    {
      "cell_type": "markdown",
      "metadata": {},
      "source": [
        "## 8. What do you mean by training and testing a dataset?\n",
        "\n",
        "**Training and Testing** is the fundamental approach to evaluate machine learning models.\n",
        "\n",
        "**Training:**\n",
        "- Use portion of data to teach the model\n",
        "- Model learns patterns and relationships\n",
        "- Algorithm adjusts parameters to minimize error\n",
        "- Typically 70-80% of total data\n",
        "\n",
        "**Testing:**\n",
        "- Use remaining data to evaluate model performance\n",
        "- Data the model has never seen before\n",
        "- Provides unbiased estimate of model accuracy\n",
        "- Typically 20-30% of total data\n",
        "\n",
        "**Purpose**: Prevent overfitting and ensure model generalizes well to new, unseen data."
      ]
    },
    {
      "cell_type": "markdown",
      "metadata": {},
      "source": [
        "## 9. What is sklearn.preprocessing?\n",
        "\n",
        "**sklearn.preprocessing** is a module in scikit-learn that provides utilities for data preprocessing and feature engineering.\n",
        "\n",
        "**Key Functions:**\n",
        "- **StandardScaler**: Standardize features (mean=0, std=1)\n",
        "- **MinMaxScaler**: Scale features to a given range\n",
        "- **LabelEncoder**: Encode categorical labels as integers\n",
        "- **OneHotEncoder**: Encode categorical features as one-hot vectors\n",
        "- **PolynomialFeatures**: Generate polynomial features\n",
        "- **Imputer**: Handle missing values\n",
        "\n",
        "**Purpose**: Transform raw data into format suitable for machine learning algorithms."
      ]
    },
    {
      "cell_type": "markdown",
      "metadata": {},
      "source": [
        "## 10. What is a Test set?\n",
        "\n",
        "A **Test set** is a portion of the dataset that is kept separate and used only for final evaluation of the trained model.\n",
        "\n",
        "**Characteristics:**\n",
        "- Never used during training\n",
        "- Provides unbiased performance estimate\n",
        "- Should be representative of real-world data\n",
        "- Typically 20-30% of total dataset\n",
        "\n",
        "**Three-way split:**\n",
        "- **Training Set** (60-70%): Train the model\n",
        "- **Validation Set** (15-20%): Tune hyperparameters\n",
        "- **Test Set** (15-20%): Final evaluation\n",
        "\n",
        "**Importance**: Ensures model performance assessment is realistic and unbiased."
      ]
    },
    {
      "cell_type": "markdown",
      "metadata": {},
      "source": [
        "## 11. How do we split data for model fitting in Python?\n",
        "\n",
        "Data splitting is crucial for proper model evaluation and preventing overfitting."
      ]
    },
    {
      "cell_type": "code",
      "execution_count": 2,
      "metadata": {},
      "outputs": [
        {
          "name": "stdout",
          "output_type": "stream",
          "text": [
            "Training set size: 600\n",
            "Validation set size: 200\n",
            "Test set size: 200\n"
          ]
        }
      ],
      "source": [
        "# Essential code for data splitting\n",
        "from sklearn.model_selection import train_test_split\n",
        "import pandas as pd\n",
        "import numpy as np\n",
        "\n",
        "# Sample dataset\n",
        "X = np.random.randn(1000, 4)  # Features\n",
        "y = np.random.randint(0, 2, 1000)  # Target\n",
        "\n",
        "# Basic train-test split (80-20)\n",
        "X_train, X_test, y_train, y_test = train_test_split(\n",
        "    X, y, test_size=0.2, random_state=42, stratify=y\n",
        ")\n",
        "\n",
        "# Three-way split (60-20-20)\n",
        "X_train, X_temp, y_train, y_temp = train_test_split(\n",
        "    X, y, test_size=0.4, random_state=42\n",
        ")\n",
        "X_val, X_test, y_val, y_test = train_test_split(\n",
        "    X_temp, y_temp, test_size=0.5, random_state=42\n",
        ")\n",
        "\n",
        "print(f\"Training set size: {X_train.shape[0]}\")\n",
        "print(f\"Validation set size: {X_val.shape[0]}\")\n",
        "print(f\"Test set size: {X_test.shape[0]}\")"
      ]
    },
    {
      "cell_type": "markdown",
      "metadata": {},
      "source": [
        "## 12. How do you approach a Machine Learning problem?\n",
        "\n",
        "**Systematic Approach to ML Problems:**\n",
        "\n",
        "1. **Problem Definition**\n",
        "   - Understand business objective\n",
        "   - Define success metrics\n",
        "   - Determine problem type (classification/regression)\n",
        "\n",
        "2. **Data Collection & Understanding**\n",
        "   - Gather relevant data\n",
        "   - Understand data structure and quality\n",
        "   - Identify missing values and outliers\n",
        "\n",
        "3. **Exploratory Data Analysis (EDA)**\n",
        "   - Visualize data distributions\n",
        "   - Find correlations and patterns\n",
        "   - Identify feature importance\n",
        "\n",
        "4. **Data Preprocessing**\n",
        "   - Handle missing values\n",
        "   - Encode categorical variables\n",
        "   - Scale numerical features\n",
        "   - Feature selection/engineering\n",
        "\n",
        "5. **Model Selection & Training**\n",
        "   - Choose appropriate algorithms\n",
        "   - Train multiple models\n",
        "   - Cross-validation\n",
        "\n",
        "6. **Model Evaluation**\n",
        "   - Use appropriate metrics\n",
        "   - Test on unseen data\n",
        "   - Compare model performance\n",
        "\n",
        "7. **Model Deployment & Monitoring**\n",
        "   - Deploy to production\n",
        "   - Monitor performance\n",
        "   - Retrain when necessary"
      ]
    },
    {
      "cell_type": "markdown",
      "metadata": {},
      "source": [
        "## 13. Why perform EDA before fitting a model?\n",
        "\n",
        "**Exploratory Data Analysis (EDA)** is crucial for understanding your data before building models.\n",
        "\n",
        "**Key Benefits:**\n",
        "\n",
        "1. **Data Quality Assessment**\n",
        "   - Identify missing values, outliers, inconsistencies\n",
        "   - Understand data distribution and patterns\n",
        "\n",
        "2. **Feature Understanding**\n",
        "   - Discover relationships between variables\n",
        "   - Identify important features for prediction\n",
        "   - Find redundant or irrelevant features\n",
        "\n",
        "3. **Model Selection Guidance**\n",
        "   - Understand if data is linear or non-linear\n",
        "   - Choose appropriate algorithms\n",
        "   - Set realistic performance expectations\n",
        "\n",
        "4. **Preprocessing Decisions**\n",
        "   - Determine scaling requirements\n",
        "   - Decide on encoding strategies\n",
        "   - Plan feature engineering approaches\n",
        "\n",
        "5. **Bias Detection**\n",
        "   - Identify potential data biases\n",
        "   - Ensure representative sampling\n",
        "   - Check for class imbalances"
      ]
    },
    {
      "cell_type": "markdown",
      "metadata": {},
      "source": [
        "## 14-15. Correlation (Repeated)\n",
        "\n",
        "*Refer to questions 2 and 3 for detailed explanations of correlation and negative correlation.*"
      ]
    },
    {
      "cell_type": "markdown",
      "metadata": {},
      "source": [
        "## 16. How to find correlation between variables in Python?"
      ]
    },
    {
      "cell_type": "code",
      "execution_count": 3,
      "metadata": {},
      "outputs": [
        {
          "name": "stdout",
          "output_type": "stream",
          "text": [
            "Correlation Matrix:\n",
            "          height    weight       age       bmi\n",
            "height  1.000000 -0.136422  0.097139 -0.568433\n",
            "weight -0.136422  1.000000 -0.042284  0.884446\n",
            "age     0.097139 -0.042284  1.000000 -0.067045\n",
            "bmi    -0.568433  0.884446 -0.067045  1.000000\n",
            "\n",
            "Height-Weight Correlation: -0.136 (p-value: 0.176)\n",
            "Height-BMI Spearman Correlation: -0.516\n"
          ]
        },
        {
          "data": {
            "image/png": "[encoded data removed]",
            "text/plain": [
              "<Figure size 800x600 with 2 Axes>"
            ]
          },
          "metadata": {},
          "output_type": "display_data"
        }
      ],
      "source": [
        "# Essential code for finding correlation\n",
        "import pandas as pd\n",
        "import numpy as np\n",
        "import seaborn as sns\n",
        "import matplotlib.pyplot as plt\n",
        "from scipy.stats import pearsonr, spearmanr\n",
        "\n",
        "# Sample data\n",
        "np.random.seed(42)\n",
        "data = pd.DataFrame({\n",
        "    'height': np.random.normal(170, 10, 100),\n",
        "    'weight': np.random.normal(70, 15, 100),\n",
        "    'age': np.random.randint(18, 65, 100)\n",
        "})\n",
        "\n",
        "# Add correlated variable\n",
        "data['bmi'] = data['weight'] / (data['height']/100)**2\n",
        "\n",
        "# Method 1: Pandas correlation matrix\n",
        "correlation_matrix = data.corr()\n",
        "print(\"Correlation Matrix:\")\n",
        "print(correlation_matrix)\n",
        "\n",
        "# Method 2: Specific correlation between two variables\n",
        "corr_coeff, p_value = pearsonr(data['height'], data['weight'])\n",
        "print(f\"\\nHeight-Weight Correlation: {corr_coeff:.3f} (p-value: {p_value:.3f})\")\n",
        "\n",
        "# Method 3: Spearman correlation (for non-linear relationships)\n",
        "spearman_corr, _ = spearmanr(data['height'], data['bmi'])\n",
        "print(f\"Height-BMI Spearman Correlation: {spearman_corr:.3f}\")\n",
        "\n",
        "# Visualization\n",
        "plt.figure(figsize=(8, 6))\n",
        "sns.heatmap(correlation_matrix, annot=True, cmap='coolwarm', center=0)\n",
        "plt.title('Correlation Heatmap')\n",
        "plt.show()"
      ]
    },
    {
      "cell_type": "markdown",
      "metadata": {},
      "source": [
        "## 17. What is causation? Difference between correlation and causation?\n",
        "\n",
        "**Causation** means one event directly causes another event to occur.\n",
        "\n",
        "**Key Differences:**\n",
        "\n",
        "| Aspect | Correlation | Causation |\n",
        "|--------|-------------|----------|\n",
        "| Definition | Statistical relationship | Direct cause-effect relationship |\n",
        "| Direction | Can be bidirectional | Unidirectional (cause → effect) |\n",
        "| Implication | Variables move together | One variable influences another |\n",
        "| Proof | Mathematical calculation | Requires controlled experiments |\n",
        "\n",
        "**Example:**\n",
        "- **Correlation**: Ice cream sales and drowning incidents are positively correlated\n",
        "- **Causation**: Hot weather causes both increased ice cream sales AND more swimming (leading to drowning incidents)\n",
        "- **Conclusion**: Ice cream sales don't cause drowning; both are caused by temperature\n",
        "\n",
        "**Remember**: \"Correlation does not imply causation\" - just because two variables are correlated doesn't mean one causes the other."
      ]
    },
    {
      "cell_type": "markdown",
      "metadata": {},
      "source": [
        "## 18. What is an Optimizer? Types of optimizers?\n",
        "\n",
        "An **Optimizer** is an algorithm that adjusts model parameters to minimize the loss function during training.\n",
        "\n",
        "**Common Optimizers:**\n",
        "\n",
        "1. **Gradient Descent (GD)**\n",
        "   - Uses entire dataset for each update\n",
        "   - Slow but stable convergence\n",
        "   - Example: Linear regression with large datasets\n",
        "\n",
        "2. **Stochastic Gradient Descent (SGD)**\n",
        "   - Uses one sample at a time\n",
        "   - Fast but noisy updates\n",
        "   - Example: Online learning scenarios\n",
        "\n",
        "3. **Mini-batch Gradient Descent**\n",
        "   - Uses small batches of data\n",
        "   - Balance between speed and stability\n",
        "   - Example: Most deep learning applications\n",
        "\n",
        "4. **Adam (Adaptive Moment Estimation)**\n",
        "   - Combines momentum and adaptive learning rates\n",
        "   - Generally good default choice\n",
        "   - Example: Neural networks, deep learning\n",
        "\n",
        "5. **RMSprop**\n",
        "   - Adapts learning rate for each parameter\n",
        "   - Good for non-stationary objectives\n",
        "   - Example: Recurrent neural networks"
      ]
    },
    {
      "cell_type": "markdown",
      "metadata": {},
      "source": [
        "## 19. What is sklearn.linear_model?\n",
        "\n",
        "**sklearn.linear_model** is a module in scikit-learn that implements various linear models for regression and classification.\n",
        "\n",
        "**Key Classes:**\n",
        "- **LinearRegression**: Ordinary least squares regression\n",
        "- **LogisticRegression**: Logistic regression for classification\n",
        "- **Ridge**: Ridge regression (L2 regularization)\n",
        "- **Lasso**: Lasso regression (L1 regularization)\n",
        "- **ElasticNet**: Combination of Ridge and Lasso\n",
        "- **SGDRegressor**: Linear regression with SGD\n",
        "\n",
        "**Purpose**: Provide implementation of linear models that assume linear relationship between features and target variable."
      ]
    },
    {
      "cell_type": "markdown",
      "metadata": {},
      "source": [
        "## 20. What does model.fit() do? Required arguments?\n",
        "\n",
        "**model.fit()** trains the machine learning model on the provided training data.\n",
        "\n",
        "**What it does:**\n",
        "- Learns patterns from training data\n",
        "- Adjusts model parameters (weights, coefficients)\n",
        "- Minimizes the loss function\n",
        "- Stores learned parameters in the model object\n",
        "\n",
        "**Required Arguments:**\n",
        "- **X**: Feature matrix (training data)\n",
        "  - Shape: (n_samples, n_features)\n",
        "  - Can be numpy array, pandas DataFrame, or sparse matrix\n",
        "- **y**: Target vector (labels/values)\n",
        "  - Shape: (n_samples,) or (n_samples, n_targets)\n",
        "  - Can be numpy array or pandas Series\n",
        "\n",
        "**Optional Arguments** (vary by model):\n",
        "- **sample_weight**: Individual weights for samples\n",
        "- **eval_set**: Validation data for early stopping\n",
        "- **verbose**: Control training output"
      ]
    },
    {
      "cell_type": "code",
      "execution_count": null,
      "metadata": {},
      "outputs": [],
      "source": [
        "# Essential code for model.fit()\n",
        "from sklearn.linear_model import LinearRegression\n",
        "from sklearn.model_selection import train_test_split\n",
        "import numpy as np\n",
        "\n",
        "# Sample data\n",
        "X = np.random.randn(100, 3)  # 100 samples, 3 features\n",
        "y = X @ [1.5, -2.0, 0.5] + np.random.randn(100) * 0.1  # Linear relationship + noise\n",
        "\n",
        "# Split data\n",
        "X_train, X_test, y_train, y_test = train_test_split(X, y, test_size=0.2, random_state=42)\n",
        "\n",
        "# Create and fit model\n",
        "model = LinearRegression()\n",
        "model.fit(X_train, y_train)  # Required: X (features), y (target)\n",
        "\n",
        "print(f\"Model coefficients: {model.coef_}\")\n",
        "print(f\"Model intercept: {model.intercept_}\")\n",
        "print(f\"Training score: {model.score(X_train, y_train):.3f}\")"
      ]
    },
    {
      "cell_type": "markdown",
      "metadata": {},
      "source": [
        "## 21. What does model.predict() do? Required arguments?\n",
        "\n",
        "**model.predict()** uses the trained model to make predictions on new, unseen data.\n",
        "\n",
        "**What it does:**\n",
        "- Applies learned parameters to new data\n",
        "- Generates predictions based on input features\n",
        "- Returns predicted values/classes\n",
        "- Does not modify the model (inference only)\n",
        "\n",
        "**Required Arguments:**\n",
        "- **X**: Feature matrix for prediction\n",
        "  - Shape: (n_samples, n_features)\n",
        "  - Must have same number of features as training data\n",
        "  - Can be single sample or multiple samples\n",
        "\n",
        "**Returns:**\n",
        "- **Regression**: Continuous values (e.g., prices, temperatures)\n",
        "- **Classification**: Class labels (e.g., 0/1, 'cat'/'dog')\n",
        "\n",
        "**Related Methods:**\n",
        "- **predict_proba()**: Returns prediction probabilities (classification)\n",
        "- **predict_log_proba()**: Returns log probabilities\n",
        "- **decision_function()**: Returns decision scores"
      ]
    },
    {
      "cell_type": "code",
      "execution_count": null,
      "metadata": {},
      "outputs": [],
      "source": [
        "# Essential code for model.predict()\n",
        "# Using the model from previous example\n",
        "\n",
        "# Make predictions on test set\n",
        "y_pred = model.predict(X_test)  # Required: X (features for prediction)\n",
        "\n",
        "# Make prediction on single sample\n",
        "single_sample = np.array([[1.0, -0.5, 2.0]])  # Must be 2D array\n",
        "single_prediction = model.predict(single_sample)\n",
        "\n",
        "print(f\"Test predictions (first 5): {y_pred[:5]}\")\n",
        "print(f\"Actual values (first 5): {y_test[:5]}\")\n",
        "print(f\"Single sample prediction: {single_prediction[0]:.3f}\")\n",
        "\n",
        "# Evaluate predictions\n",
        "from sklearn.metrics import mean_squared_error, r2_score\n",
        "mse = mean_squared_error(y_test, y_pred)\n",
        "r2 = r2_score(y_test, y_pred)\n",
        "\n",
        "print(f\"\\nModel Performance:\")\n",
        "print(f\"Mean Squared Error: {mse:.3f}\")\n",
        "print(f\"R² Score: {r2:.3f}\")"
      ]
    },
    {
      "cell_type": "markdown",
      "metadata": {},
      "source": [
        "## 22. Continuous and Categorical Variables (Repeated)\n",
        "\n",
        "*Refer to question 6 for detailed explanation of continuous and categorical variables.*"
      ]
    },
    {
      "cell_type": "markdown",
      "metadata": {},
      "source": [
        "## 23. What is feature scaling? How does it help in ML?\n",
        "\n",
        "**Feature Scaling** is the process of normalizing the range of features to ensure they contribute equally to the model.\n",
        "\n",
        "**Why Feature Scaling is Important:**\n",
        "\n",
        "1. **Equal Contribution**: Prevents features with larger scales from dominating\n",
        "2. **Algorithm Performance**: Many algorithms are sensitive to feature scales\n",
        "3. **Convergence Speed**: Helps optimization algorithms converge faster\n",
        "4. **Distance-based Methods**: Essential for KNN, clustering, SVM\n",
        "\n",
        "**Common Scaling Methods:**\n",
        "\n",
        "1. **Standardization (Z-score normalization)**\n",
        "   - Formula: (x - mean) / std\n",
        "   - Result: Mean = 0, Std = 1\n",
        "   - Good for: Normal distributions\n",
        "\n",
        "2. **Min-Max Scaling**\n",
        "   - Formula: (x - min) / (max - min)\n",
        "   - Result: Range [0, 1]\n",
        "   - Good for: Bounded distributions\n",
        "\n",
        "3. **Robust Scaling**\n",
        "   - Uses median and IQR instead of mean and std\n",
        "   - Good for: Data with outliers\n",
        "\n",
        "**When NOT to Scale:**\n",
        "- Tree-based models (Random Forest, Decision Trees)\n",
        "- Features already on similar scales"
      ]
    },
    {
      "cell_type": "markdown",
      "id": "528b5dbe",
      "metadata": {},
      "source": [
        "## 24. How do we perform scaling in Python?\n",
        " \n"
      ]
    },
    {
      "cell_type": "markdown",
      "id": "3dcee4f4",
      "metadata": {},
      "source": [
        "In Python ML, scaling is typically performed using scikit-learn's StandardScaler or MinMaxScaler.\n",
        "\n",
        "StandardScaler: This method scales features to have a mean of 0 and a standard deviation of 1 (Z-score normalization). It's suitable for algorithms that assume normally distributed data, like Linear Regression, Logistic Regression, and SVMs.\n",
        "\n",
        "```python\n",
        "from sklearn.preprocessing import StandardScaler\n",
        "```\n",
        "\n",
        "### Assuming 'data' is your NumPy array or Pandas DataFrame\n",
        "scaler = StandardScaler()\n",
        "scaled_data = scaler.fit_transform(data) \n",
        "MinMaxScaler: This method scales features to a fixed range, usually between 0 and 1. It's robust to outliers and is often used in algorithms sensitive to the magnitude of features, such as Neural Networks.\n",
        "\n",
        "\n",
        "```python\n",
        "from sklearn.preprocessing import MinMaxScaler\n",
        "```\n",
        "\n",
        "### Assuming 'data' is your NumPy array or Pandas DataFrame\n",
        "```python\n",
        "scaler = MinMaxScaler()\n",
        "scaled_data = scaler.fit_transform(data)\n",
        "```"
      ]
    },
    {
      "cell_type": "markdown",
      "id": "75dab319",
      "metadata": {},
      "source": []
    },
    {
      "cell_type": "markdown",
      "id": "c08b50f7",
      "metadata": {},
      "source": [
        "## 25. What is sklearn.preprocessing?"
      ]
    },
    {
      "cell_type": "markdown",
      "id": "84f55f23",
      "metadata": {},
      "source": [
        "# 📦 `sklearn.preprocessing` in Machine Learning\n",
        "\n",
        "`sklearn.preprocessing` is a module in **Scikit-learn** that provides tools for **feature scaling, transformation, and normalization**. These preprocessing steps are essential before training machine learning models, especially those that are sensitive to the scale of data.\n",
        "\n",
        "## 🎯 Key Features of `sklearn.preprocessing`\n",
        "\n",
        "### ✅ 1. **Scaling and Normalization**\n",
        "Used to standardize the range and distribution of features.\n",
        "\n",
        "- `StandardScaler`: Standardizes features by removing the mean and scaling to unit variance.\n",
        "- `MinMaxScaler`: Scales features to a specified range (default 0 to 1).\n",
        "- `MaxAbsScaler`: Scales features by their maximum absolute value.\n",
        "- `RobustScaler`: Scales using statistics that are robust to outliers (like median and IQR).\n",
        "- `Normalizer`: Scales individual samples to have unit norm.\n",
        "\n",
        "### 🧪 2. **Encoding Categorical Features**\n",
        "\n",
        "- `LabelEncoder`: Converts class labels into integers.\n",
        "- `OneHotEncoder`: Converts categorical variables into a one-hot numeric array.\n",
        "- `OrdinalEncoder`: Encodes categorical features as ordinal integers.\n",
        "\n",
        "### 🔄 3. **Generating Polynomial Features**\n",
        "\n",
        "- `PolynomialFeatures`: Generates new features that are combinations of existing ones (e.g., x², x*y).\n",
        "\n",
        "### 📉 4. **Binarization**\n",
        "\n",
        "- `Binarizer`: Converts numerical values into 0 or 1 based on a threshold.\n",
        "\n",
        "## 🧠 Why Use `sklearn.preprocessing`?\n",
        "\n",
        "- Improves **model performance** and **convergence speed**.\n",
        "- Ensures **fair treatment** of all features.\n",
        "- Helps **avoid bias** in distance-based algorithms.\n",
        "\n",
        "## 💻 Example\n",
        "\n",
        "```python\n",
        "from sklearn.preprocessing import StandardScaler\n",
        "\n",
        "scaler = StandardScaler()\n",
        "X_scaled = scaler.fit_transform(X)\n"
      ]
    },
    {
      "cell_type": "markdown",
      "id": "b516ed12",
      "metadata": {},
      "source": [
        "## 25. Explain data encoding?"
      ]
    },
    {
      "cell_type": "code",
      "execution_count": null,
      "id": "ab118d43",
      "metadata": {},
      "outputs": [],
      "source": [
        "#  Data encoding in machine learning is the process of converting categorical data into a numerical format that machine learning algorithms can understand and process.Many machine learning algorithms are designed to work with numerical inputs. They rely on mathematical operations and statistical relationships that are not directly applicable to text-based or categorical labels like \"Red\", \"Green\", or \"Blue\". Encoding bridges this gap, allowing these algorithms to leverage the information contained within categorical features\n",
        "\n",
        "\n"
      ]
    }
  ],
  "metadata": {
    "kernelspec": {
      "display_name": "Python 3",
      "language": "python",
      "name": "python3"
    },
    "language_info": {
      "codemirror_mode": {
        "name": "ipython",
        "version": 3
      },
      "file_extension": ".py",
      "mimetype": "text/x-python",
      "name": "python",
      "nbconvert_exporter": "python",
      "pygments_lexer": "ipython3",
      "version": "3.13.2"
    }
  },
  "nbformat": 4,
  "nbformat_minor": 5
}
