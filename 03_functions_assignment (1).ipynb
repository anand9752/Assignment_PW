{
  "cells": [
    {
      "cell_type": "markdown",
      "id": "e78362d6",
      "metadata": {
        "id": "e78362d6"
      },
      "source": [
        "# Python Functions - Theory & Practical Questions"
      ]
    },
    {
      "cell_type": "markdown",
      "id": "a31b6338",
      "metadata": {
        "id": "a31b6338"
      },
      "source": [
        "\n",
        "## Theory Questions\n",
        "\n",
        "### 1. What is the difference between a function and a method in Python?\n",
        "- A **function** is a block of reusable code that is defined using `def` and can be called independently.\n",
        "- A **method** is a function that is associated with an object and is called using the object's name.\n",
        "\n",
        "Example:\n",
        "```python\n",
        "def my_function():\n",
        "    return \"Hello from function\"\n",
        "\n",
        "class MyClass:\n",
        "    def my_method(self):\n",
        "        return \"Hello from method\"\n",
        "```\n",
        "\n",
        "### 2. Explain the concept of function arguments and parameters in Python.\n",
        "- **Parameters** are variables in a function definition.\n",
        "- **Arguments** are values passed when calling a function.\n",
        "\n",
        "Example:\n",
        "```python\n",
        "def greet(name):  # 'name' is a parameter\n",
        "    print(\"Hello\", name)\n",
        "\n",
        "greet(\"Alice\")  # \"Alice\" is an argument\n",
        "```\n",
        "\n",
        "### 3. What are the different ways to define and call a function in Python?\n",
        "- **Normal function** using `def`.\n",
        "- **Lambda function** for small, one-liner functions.\n",
        "\n",
        "Example:\n",
        "```python\n",
        "def add(a, b):\n",
        "    return a + b\n",
        "\n",
        "add_lambda = lambda x, y: x + y\n",
        "\n",
        "print(add(2, 3))  # 5\n",
        "print(add_lambda(2, 3))  # 5\n",
        "```\n",
        "\n",
        "### 4. What is the purpose of the `return` statement in a Python function?\n",
        "- The `return` statement is used to send back a result from a function.\n",
        "\n",
        "Example:\n",
        "```python\n",
        "def square(num):\n",
        "    return num * num\n",
        "\n",
        "print(square(4))  # 16\n",
        "```\n",
        "\n",
        "### 5. What are iterators in Python and how do they differ from iterables?\n",
        "- **Iterable**: An object that can be looped over (like lists, tuples).\n",
        "- **Iterator**: An object with `__iter__()` and `__next__()` methods.\n",
        "\n",
        "Example:\n",
        "```python\n",
        "nums = [1, 2, 3]\n",
        "iterator = iter(nums)\n",
        "print(next(iterator))  # 1\n",
        "```\n",
        "\n",
        "### 6. Explain the concept of generators in Python and how they are defined.\n",
        "- Generators are special iterators created using `yield` instead of `return`.\n",
        "\n",
        "Example:\n",
        "```python\n",
        "def gen_numbers():\n",
        "    yield 1\n",
        "    yield 2\n",
        "    yield 3\n",
        "\n",
        "g = gen_numbers()\n",
        "print(next(g))  # 1\n",
        "```\n",
        "\n",
        "### 7. What are the advantages of using generators over regular functions?\n",
        "- Memory-efficient\n",
        "- Lazily evaluated (generates values one at a time)\n",
        "\n",
        "### 8. What is a lambda function in Python and when is it typically used?\n",
        "- A small anonymous function using `lambda` keyword.\n",
        "\n",
        "Example:\n",
        "```python\n",
        "square = lambda x: x * x\n",
        "print(square(5))  # 25\n",
        "```\n",
        "\n",
        "### 9. Explain the purpose and usage of the `map()` function in Python.\n",
        "- Used to apply a function to each item in an iterable.\n",
        "\n",
        "Example:\n",
        "```python\n",
        "nums = [1, 2, 3]\n",
        "squared = list(map(lambda x: x*x, nums))\n",
        "print(squared)  # [1, 4, 9]\n",
        "```\n",
        "\n",
        "### 10. What is the difference between `map()`, `reduce()`, and `filter()` functions in Python?\n",
        "- `map()`: Transforms elements.\n",
        "- `filter()`: Filters elements based on condition.\n",
        "- `reduce()`: Reduces elements to a single value.\n",
        "\n",
        "Example:\n",
        "```python\n",
        "from functools import reduce\n",
        "\n",
        "nums = [1, 2, 3, 4]\n",
        "print(list(filter(lambda x: x % 2 == 0, nums)))  # [2, 4]\n",
        "print(reduce(lambda x, y: x + y, nums))  # 10\n",
        "```\n"
      ]
    },
    {
      "cell_type": "markdown",
      "source": [
        "## Practical Quesitions\n"
      ],
      "metadata": {
        "id": "2qbPdWWrsWNT"
      },
      "id": "2qbPdWWrsWNT"
    },
    {
      "cell_type": "markdown",
      "source": [
        "### 1. Sum of even numbers in a list"
      ],
      "metadata": {
        "id": "bLFfGjl8sran"
      },
      "id": "bLFfGjl8sran"
    },
    {
      "cell_type": "code",
      "source": [
        "listt = [1,2,4,1,2,4,5,6]\n",
        "def sum_even(listt):\n",
        "    sum =0\n",
        "    for i in listt:\n",
        "        if i%2==0:\n",
        "            sum = sum+i\n",
        "    return sum\n",
        "print(sum_even(listt))"
      ],
      "metadata": {
        "colab": {
          "base_uri": "https://localhost:8080/"
        },
        "id": "BIQeJyOGszsw",
        "outputId": "c1227e4f-6e1b-4f34-ab04-9e16091f54b4"
      },
      "id": "BIQeJyOGszsw",
      "execution_count": 1,
      "outputs": [
        {
          "output_type": "stream",
          "name": "stdout",
          "text": [
            "18\n"
          ]
        }
      ]
    },
    {
      "cell_type": "markdown",
      "source": [
        "### 2. Revese a String"
      ],
      "metadata": {
        "id": "faPeoy-vs7YU"
      },
      "id": "faPeoy-vs7YU"
    },
    {
      "cell_type": "code",
      "source": [
        "string = \"hello\"\n",
        "def reverse(string):\n",
        "    return string[::-1]\n",
        "print(reverse(string))"
      ],
      "metadata": {
        "colab": {
          "base_uri": "https://localhost:8080/"
        },
        "id": "RWdHGi8es_NV",
        "outputId": "7a7a501e-72bb-4952-baeb-833a23100730"
      },
      "id": "RWdHGi8es_NV",
      "execution_count": 2,
      "outputs": [
        {
          "output_type": "stream",
          "name": "stdout",
          "text": [
            "olleh\n"
          ]
        }
      ]
    },
    {
      "cell_type": "markdown",
      "source": [
        "### 3. Square of number in a list\n"
      ],
      "metadata": {
        "id": "LScnRV9ktDoJ"
      },
      "id": "LScnRV9ktDoJ"
    },
    {
      "cell_type": "code",
      "source": [
        "\n",
        "listt = [1,2,3,4,5,6]\n",
        "x = lambda listt: [i**2 for i in listt]\n",
        "print(x(listt))"
      ],
      "metadata": {
        "colab": {
          "base_uri": "https://localhost:8080/"
        },
        "id": "k023K6HxtK_G",
        "outputId": "4cd21ec4-a42b-44d7-9c8f-0a4624dfbbff"
      },
      "id": "k023K6HxtK_G",
      "execution_count": null,
      "outputs": [
        {
          "output_type": "stream",
          "name": "stdout",
          "text": [
            "[1, 4, 9, 16, 25, 36]\n"
          ]
        }
      ]
    },
    {
      "cell_type": "markdown",
      "source": [
        "### 4. Check a number is prime or not from 1 to 200"
      ],
      "metadata": {
        "id": "-22PxTuttzQh"
      },
      "id": "-22PxTuttzQh"
    },
    {
      "cell_type": "code",
      "source": [
        "def isPrime(n):\n",
        "  if n<2:\n",
        "    return False\n",
        "  for i in range(2,int(n**0.5)+1):\n",
        "    if n%i==0:\n",
        "      return False\n",
        "  return True\n",
        "\n",
        "ans = [i for i in range(1,201) if isPrime(i)]\n",
        "print(ans)"
      ],
      "metadata": {
        "id": "9TUOHMMpt47z",
        "colab": {
          "base_uri": "https://localhost:8080/"
        },
        "outputId": "5a4615ec-6df8-4030-a838-715e1eb471b6"
      },
      "id": "9TUOHMMpt47z",
      "execution_count": 4,
      "outputs": [
        {
          "output_type": "stream",
          "name": "stdout",
          "text": [
            "[2, 3, 5, 7, 11, 13, 17, 19, 23, 29, 31, 37, 41, 43, 47, 53, 59, 61, 67, 71, 73, 79, 83, 89, 97, 101, 103, 107, 109, 113, 127, 131, 137, 139, 149, 151, 157, 163, 167, 173, 179, 181, 191, 193, 197, 199]\n"
          ]
        }
      ]
    },
    {
      "cell_type": "markdown",
      "source": [
        "### 5. Create an iterator class in Python that generates the Fibonacci sequence up to a specified number of\n"
      ],
      "metadata": {
        "id": "-tvEKwCHkN8R"
      },
      "id": "-tvEKwCHkN8R"
    },
    {
      "cell_type": "code",
      "source": [
        "def generate_fib(n):\n",
        "  a = 0\n",
        "  b=1\n",
        "  for i in range(n+1):\n",
        "    yield a\n",
        "    a,b = b,a+b\n",
        "\n",
        "\n",
        "s = generate_fib(10)\n",
        "for i in range(10):\n",
        "  print(next(s))"
      ],
      "metadata": {
        "colab": {
          "base_uri": "https://localhost:8080/"
        },
        "id": "qNTVNCuwkjJE",
        "outputId": "572a37ab-5ae5-4d36-e95a-bebe90ceef7a"
      },
      "id": "qNTVNCuwkjJE",
      "execution_count": 5,
      "outputs": [
        {
          "output_type": "stream",
          "name": "stdout",
          "text": [
            "0\n",
            "1\n",
            "1\n",
            "2\n",
            "3\n",
            "5\n",
            "8\n",
            "13\n",
            "21\n",
            "34\n"
          ]
        }
      ]
    },
    {
      "cell_type": "markdown",
      "source": [
        "###  6 .Implement a generator function that reads a file line by line and yields each line as a string."
      ],
      "metadata": {
        "id": "Sk9BqcVlmXtB"
      },
      "id": "Sk9BqcVlmXtB"
    },
    {
      "cell_type": "code",
      "source": [
        "# prompt:  Implement a generator function that reads a file line by line and yields each line as a string.\n",
        "\n",
        "def read_file_line_by_line(file_path):\n",
        "  \"\"\"\n",
        "  Generator function that reads a file line by line and yields each line as a string.\n",
        "\n",
        "  Args:\n",
        "      file_path: The path to the file to be read.\n",
        "\n",
        "  Yields:\n",
        "      str: Each line of the file as a string.\n",
        "  \"\"\"\n",
        "  with open(file_path, 'r') as file:\n",
        "    for line in file:\n",
        "      yield line.strip()  # Strip leading/trailing whitespace\n",
        "\n",
        "# Example usage (assuming the code is in a file named 'functions_questions.txt'):\n",
        "# for line in read_file_line_by_line('functions_questions.txt'):\n",
        "#   print(line)\n"
      ],
      "metadata": {
        "id": "jVuL1Rz9ma_C"
      },
      "id": "jVuL1Rz9ma_C",
      "execution_count": null,
      "outputs": []
    },
    {
      "cell_type": "markdown",
      "source": [
        "### 5 .Write a generator function in Python that yields the powers of 2 up to a given exponent."
      ],
      "metadata": {
        "id": "yQkur5yLlr5I"
      },
      "id": "yQkur5yLlr5I"
    },
    {
      "cell_type": "code",
      "source": [
        "\n",
        "def power_of_two(exponent):\n",
        "  for i in range(exponent+1):\n",
        "    yield 2**i\n",
        "\n",
        "print(list(power_of_two(5)))"
      ],
      "metadata": {
        "colab": {
          "base_uri": "https://localhost:8080/"
        },
        "id": "XP2TlGa4lvUe",
        "outputId": "9157ab61-72bb-426f-8529-6d3994234e30"
      },
      "id": "XP2TlGa4lvUe",
      "execution_count": 6,
      "outputs": [
        {
          "output_type": "stream",
          "name": "stdout",
          "text": [
            "[1, 2, 4, 8, 16, 32]\n"
          ]
        }
      ]
    },
    {
      "cell_type": "markdown",
      "source": [
        "### 8. Use a lambda function in Python to sort a list of tuples based on the second element of each tuple."
      ],
      "metadata": {
        "id": "1Ty_tdQSnE1H"
      },
      "id": "1Ty_tdQSnE1H"
    },
    {
      "cell_type": "code",
      "source": [
        "list_of_tuple = [(1,2) ,(21,3) , (34,2) , (32,44)]\n",
        "list_of_tuple.sort(key = lambda x : x[1])\n",
        "print(list_of_tuple)\n"
      ],
      "metadata": {
        "colab": {
          "base_uri": "https://localhost:8080/"
        },
        "id": "YnYb0we9nWXy",
        "outputId": "a0a9edf4-7a7b-4f5c-c0eb-3c98490f3456"
      },
      "id": "YnYb0we9nWXy",
      "execution_count": 7,
      "outputs": [
        {
          "output_type": "stream",
          "name": "stdout",
          "text": [
            "[(1, 2), (34, 2), (21, 3), (32, 44)]\n"
          ]
        }
      ]
    },
    {
      "cell_type": "markdown",
      "source": [
        "### 9. Write a Python program that uses `map()` to convert a list of temperatures from Celsius to Fahrenheit."
      ],
      "metadata": {
        "id": "LN-lyGACn2EE"
      },
      "id": "LN-lyGACn2EE"
    },
    {
      "cell_type": "code",
      "source": [
        "list_of_celsius = [23,122,312,2,3,1,2]\n",
        "list_of_fehrenheit = list(map(lambda x : (9%5)*x + 32 , list_of_celsius))\n",
        "print(list_of_fehrenheit)\n"
      ],
      "metadata": {
        "colab": {
          "base_uri": "https://localhost:8080/"
        },
        "id": "lY6lIKByn4K2",
        "outputId": "9634075a-1648-4ef5-a49e-18d04c64e81f"
      },
      "id": "lY6lIKByn4K2",
      "execution_count": 8,
      "outputs": [
        {
          "output_type": "stream",
          "name": "stdout",
          "text": [
            "[124, 520, 1280, 40, 44, 36, 40]\n"
          ]
        }
      ]
    },
    {
      "cell_type": "markdown",
      "source": [
        "### 10. Create a Python program that uses `filter()` to remove all the vowels from a given string"
      ],
      "metadata": {
        "id": "In4p0z8MnJey"
      },
      "id": "In4p0z8MnJey"
    },
    {
      "cell_type": "code",
      "source": [
        "str_1 = \"I am a Data Science Student\"\n",
        "vowel = 'aeiouAEIOU'\n",
        "def convert(str_1,vowel):\n",
        "  str_nt_cntain_vowel =list(filter(lambda x:vowel.find(x)==-1 , str_1))\n",
        "  a = ''.join(str_nt_cntain_vowel)\n",
        "  return a\n",
        "print(convert(str_1 , vowel))\n",
        "\n"
      ],
      "metadata": {
        "colab": {
          "base_uri": "https://localhost:8080/"
        },
        "id": "xeOKM7Bbn3YK",
        "outputId": "4d835d2e-cb62-40a8-90ed-1e470a7990c1"
      },
      "id": "xeOKM7Bbn3YK",
      "execution_count": 11,
      "outputs": [
        {
          "output_type": "stream",
          "name": "stdout",
          "text": [
            " m  Dt Scnc Stdnt\n"
          ]
        }
      ]
    },
    {
      "cell_type": "markdown",
      "source": [
        "### 11 Imagine an accounting routine used in a book shop. It works on a list with sublists, which look like this:\n",
        "\n",
        "\n",
        "\n",
        "\n",
        "\n",
        "\n",
        "\n",
        "Write a Python program, which returns a list with 2-tuples. Each tuple consists of the order number and the\n",
        "product of the price per item and the quantity. The product should be increased by 10,- € if the value of the\n",
        "order is smaller than 100,00 €.\n",
        "\n",
        "Write a Python program using lambda and map."
      ],
      "metadata": {
        "id": "G4Czoc4jr89O"
      },
      "id": "G4Czoc4jr89O"
    },
    {
      "cell_type": "code",
      "source": [
        "orders = [\n",
        "    [34587, \"Learning Python\", 4, 40.95],\n",
        "    [98762, \"Programming in C\", 5, 56.80],\n",
        "    [77226, \"Introduction to Java\", 3, 32.95],\n",
        "    [88112, \"Data Structures & Algorithms\", 3, 24.99]\n",
        "]\n",
        "\n",
        "def calculate(order):\n",
        "  calculate_total = lambda order: (order[0], order[2] * order[3] + 10 if order[2] * order[3] < 10000 else order[2] * order[3])\n",
        "  order_totals = list(map(calculate_total, orders))\n",
        "  return order_totals\n",
        "print(calculate(orders))\n",
        "\n"
      ],
      "metadata": {
        "colab": {
          "base_uri": "https://localhost:8080/"
        },
        "id": "bv_EtXNgsFCe",
        "outputId": "5935886a-3fae-44a5-8bd1-a279010a4e7c"
      },
      "id": "bv_EtXNgsFCe",
      "execution_count": 12,
      "outputs": [
        {
          "output_type": "stream",
          "name": "stdout",
          "text": [
            "[(34587, 173.8), (98762, 294.0), (77226, 108.85000000000001), (88112, 84.97)]\n"
          ]
        }
      ]
    },
    {
      "cell_type": "code",
      "source": [],
      "metadata": {
        "id": "jW2WYBA5upj5"
      },
      "id": "jW2WYBA5upj5",
      "execution_count": null,
      "outputs": []
    }
  ],
  "metadata": {
    "colab": {
      "provenance": [],
      "toc_visible": true
    },
    "language_info": {
      "name": "python"
    },
    "kernelspec": {
      "name": "python3",
      "display_name": "Python 3"
    }
  },
  "nbformat": 4,
  "nbformat_minor": 5
}