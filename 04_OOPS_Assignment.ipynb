{
 "cells": [
  {
   "cell_type": "markdown",
   "id": "e24520cc",
   "metadata": {},
   "source": [
    "# Python OOPS Theory Question Solution"
   ]
  },
  {
   "cell_type": "markdown",
   "id": "e080cd8a",
   "metadata": {},
   "source": [
    "## Question 1 \n",
    "What is Object-Oriented Programming (OOP)?\n",
    "### Answer:\n",
    "Object-Oriented Programming (OOP) is a programming paradigm that uses objects and classes to structure code. It allows for the creation of reusable and modular code by encapsulating data and behavior within objects. OOP promotes concepts such as inheritance, polymorphism, encapsulation, and abstraction, making it easier to manage complex software systems and improve code maintainability."
   ]
  },
  {
   "cell_type": "markdown",
   "id": "496af331",
   "metadata": {},
   "source": [
    "## Question 2\n",
    "What is a class in OOPs?\n",
    "### Answer:\n",
    " A class is a blueprint or template for creating objects in OOP. It defines the properties (attributes) and behaviors (methods) that the objects created from the class will have. A class encapsulates data and functions that operate on that data, allowing for the creation of instances (objects) that can interact with each other and with the outside world.\n",
    " Example:\n",
    "```python\n",
    "class Dog:\n",
    "    def __init__(self, name, age):\n",
    "        self.name = name  # Attribute\n",
    "        self.age = age    # Attribute\n",
    "\n",
    "    def bark(self):     # Method\n",
    "        print(f\"{self.name} says Woof!\")\n",
    "```"
   ]
  },
  {
   "cell_type": "markdown",
   "id": "7f4b6a22",
   "metadata": {},
   "source": [
    "## Question 3\n",
    "What is an object in OOPs?\n",
    "### Answer:\n",
    "An object is an instance of a class in OOP. It represents a specific entity that has its own state (data) and behavior (methods). Objects are created from classes and can interact with each other through their methods. Each object can have different values for its attributes, allowing for the representation of unique instances of the same class.\n",
    "Example:\n",
    "```python\n",
    "dog1 = Dog(\"Buddy\", 3)  # Creating an object of the Dog class\n",
    "dog2 = Dog(\"Max\", 5)    # Creating another object of the Dog class"
   ]
  },
  {
   "cell_type": "markdown",
   "id": "7f102a00",
   "metadata": {},
   "source": [
    "## Question 4\n",
    "What is the difference between abstraction and encapsulation?\n",
    "### Answer:\n",
    "Abstraction and encapsulation are two fundamental concepts in OOP, but they serve different purposes:\n",
    "Abstraction:\n",
    "- Abstraction is the concept of hiding the complex implementation details of a system and exposing only the essential features to the user. It allows users to interact with an object without needing to understand its internal workings. In Python, abstraction can be achieved using abstract classes and interfaces.\n",
    "- Example: An abstract class that defines a method without implementing it, allowing subclasses to provide their own implementation.\n",
    "```python\n",
    "from abc import ABC, abstractmethod\n",
    "class Shape(ABC):\n",
    "    @abstractmethod\n",
    "    def area(self):\n",
    "        pass\n",
    "class Circle(Shape):\n",
    "    def __init__(self, radius):\n",
    "        self.radius = radius\n",
    "    def area(self):\n",
    "        return 3.14 * self.radius ** 2\n",
    "```\n",
    "- Encapsulation: Encapsulation is the bundling of data (attributes) and methods (functions) that operate on that data within a single unit, typically a class. It restricts direct access to some of an object's components and can prevent the accidental modification of data. Encapsulation is achieved using access modifiers (public, private, protected) in Python.\n",
    "- Example: Using private attributes and getter/setter methods to control access to an object's data.\n",
    "```python\n",
    "class Person:\n",
    "    def __init__(self, name, age):\n",
    "        self.__name = name  # Private attribute\n",
    "        self.__age = age    # Private attribute\n",
    "\n",
    "    def get_name(self):   # Getter method\n",
    "        return self.__name\n",
    "\n",
    "    def set_age(self, age):  # Setter method\n",
    "        if age > 0:\n",
    "            self.__age = age\n",
    "```\n",
    "````"
   ]
  },
  {
   "cell_type": "markdown",
   "id": "802beaae",
   "metadata": {},
   "source": [
    "## Question 5\n",
    "What are dunder methods in Python?\n",
    "### Answer:\n",
    "Dunder methods, short for \"double underscore\" methods, are special methods in Python that have double underscores before and after their names. They are also known as magic methods. Dunder methods allow you to define the behavior of objects for built-in operations such as addition, subtraction, string representation, and more. They enable operator overloading and customization of object behavior.\n",
    "Example:\n",
    "```python\n",
    "class Vector:\n",
    "    def __init__(self, x, y):\n",
    "        self.x = x\n",
    "        self.y = y\n",
    "\n",
    "    def __add__(self, other):  # Overloading the + operator\n",
    "        return Vector(self.x + other.x, self.y + other.y)\n",
    "\n",
    "    def __str__(self):  # Custom string representation\n",
    "        return f\"Vector({self.x}, {self.y})\"\n",
    "    \n",
    "v1 = Vector(2, 3)\n",
    "v2 = Vector(4, 5)\n",
    "result = v1 + v2  # Calls the __add__ method\n",
    "print(result)  # Calls the __str__ method\n",
    "```\n",
    "````"
   ]
  },
  {
   "cell_type": "markdown",
   "id": "9bee3c26",
   "metadata": {},
   "source": [
    "## Question 6\n",
    "Explain the concept of inheritance in OOP.\n",
    "### Answer:\n",
    "Inheritance is a fundamental concept in OOP that allows a new class (subclass or derived class) to inherit attributes and methods from an existing class (superclass or base class). This promotes code reusability and establishes a hierarchical relationship between classes. The subclass can extend or override the functionality of the superclass, allowing for the creation of specialized classes based on more general ones.\n",
    "Example:\n",
    "```python\n",
    "class Animal:\n",
    "    def speak(self):\n",
    "        print(\"Animal speaks\")\n",
    "class Dog(Animal):  # Dog inherits from Animal\n",
    "    def speak(self):  # Overriding the speak method\n",
    "        print(\"Dog barks\")\n",
    "class Cat(Animal):  # Cat inherits from Animal\n",
    "    def speak(self):  # Overriding the speak method\n",
    "        print(\"Cat meows\")\n",
    "```\n",
    "````"
   ]
  },
  {
   "cell_type": "markdown",
   "id": "d0d2cce7",
   "metadata": {},
   "source": [
    "## Question 7\n",
    "What is polymorphism in OOP in python?\n",
    "### Answer:\n",
    "Definition: Polymorphism is a concept in OOP is that ability of different object that respond to the same method name in different ways. It allows objects of different classes to be treated as objects of a common superclass, enabling the same method to be called on different objects, resulting in different behaviors based on the object's class.\n",
    "Example:\n",
    "```python\n",
    "class Animal:\n",
    "    def speak(self):\n",
    "        pass\n",
    "class Dog(Animal):\n",
    "    def speak(self):\n",
    "        return \"Woof!\"\n",
    "class Cat(Animal):\n",
    "    def speak(self):\n",
    "        return \"Meow!\"\n",
    "def animal_sound(animal):\n",
    "    print(animal.speak())  # Calls the speak method of the specific animal object\n",
    "dog = Dog()\n",
    "cat = Cat()\n",
    "animal_sound(dog)  # Output: Woof!\n",
    "animal_sound(cat)  # Output: Meow!\n",
    "```\n",
    "````\n",
    "\n",
    "\n",
    "\n",
    "\n",
    "\n"
   ]
  },
  {
   "cell_type": "markdown",
   "id": "dc8764e9",
   "metadata": {},
   "source": [
    "### Question 8\n",
    "How is encapsulation achieved in Python?\n",
    "### Answer:\n",
    "Encapsulation in Python is achieved by bundling data (attributes) and methods (functions) that operate on that data within a single unit, typically a class. It restricts direct access to some of an object's components and can prevent the accidental modification of data. Encapsulation is implemented using access modifiers (public, private, protected) to control access to class attributes and methods.\n",
    "Example:\n",
    "```python\n",
    "class BankAccount:\n",
    "    def __init__(self, balance):\n",
    "        self.__balance = balance  # Private attribute\n",
    "\n",
    "    def deposit(self, amount):  # Public method\n",
    "        if amount > 0:\n",
    "            self.__balance += amount\n",
    "\n",
    "    def withdraw(self, amount):  # Public method\n",
    "        if 0 < amount <= self.__balance:\n",
    "            self.__balance -= amount\n",
    "\n",
    "    def get_balance(self):  # Public method to access private attribute\n",
    "        return self.__balance\n",
    "```\n",
    "````"
   ]
  },
  {
   "cell_type": "markdown",
   "id": "632c6916",
   "metadata": {},
   "source": [
    "## Question 9\n",
    "What is a constructor in Python?\n",
    "### Answer:\n",
    "A constructor in Python is a special method that is automatically called when an object of a class is created. It is defined using the `__init__` method and is used to initialize the attributes of the object. The constructor can take parameters to set the initial state of the object when it is created.\n",
    "Example:\n",
    "```python\n",
    "class Person:\n",
    "    def __init__(self, name, age):  # Constructor\n",
    "        self.name = name  # Attribute\n",
    "        self.age = age    # Attribute\n",
    "\n",
    "    def display(self):  # Method to display information\n",
    "        print(f\"Name: {self.name}, Age: {self.age}\")\n",
    "person1 = Person(\"Anand\", 30)  # Creating an object of the Person class\n",
    "person1.display()  # Output: Name: Anand, Age: 30\n",
    "```\n",
    "````"
   ]
  },
  {
   "cell_type": "markdown",
   "id": "d169f5dd",
   "metadata": {},
   "source": [
    "## Question 10\n",
    "H What are class and static methods in Python?\n",
    "### Answer:\n",
    "Class methods and static methods are two types of methods in Python that are associated with a class rather than an instance of the class. They are defined using decorators `@classmethod` and `@staticmethod`, respectively.\n",
    "Class Method:\n",
    "- A class method is a method that is bound to the class and not the instance of the class. It takes `cls` as the first parameter, which refers to the class itself. Class methods can access and modify class-level attributes.\n",
    "- Example:\n",
    "```python\n",
    "class Counter:\n",
    "    count = 0  # Class-level attribute\n",
    "\n",
    "    @classmethod\n",
    "    def increment(cls):  # Class method\n",
    "        cls.count += 1\n",
    "\n",
    "    @classmethod\n",
    "    def get_count(cls):  # Class method\n",
    "        return cls.count\n",
    "Counter.increment()  # Increment the class-level count\n",
    "Counter.increment()  # Increment the class-level count\n",
    "print(Counter.get_count())  # Output: 2\n",
    "```\n",
    "\n",
    "\n",
    "\n",
    "Static Method:\n",
    "A Static Method is a method that does not take `self` or `cls` as the first parameter. It behaves like a regular function but belongs to the class's namespace. Static methods cannot access or modify class-level or instance-level attributes.\n",
    "- Example:\n",
    "```python\n",
    "class MathUtils:\n",
    "    @staticmethod\n",
    "    def add(a, b):  # Static method\n",
    "        return a + b\n",
    "\n",
    "    @staticmethod\n",
    "    def multiply(a, b):  # Static method\n",
    "        return a * b\n",
    "result1 = MathUtils.add(5, 10)  # Calls the static method\n",
    "result2 = MathUtils.multiply(5, 10)  # Calls the static method\n",
    "print(result1)  # Output: 15\n",
    "print(result2)  # Output: 50\n",
    "```\n",
    "````\n"
   ]
  },
  {
   "cell_type": "markdown",
   "id": "6dd26c1a",
   "metadata": {},
   "source": [
    "## Question 11\n",
    "What is method overloading in Python?\n",
    "### Answer:\n",
    "Method overloading is a feature in OOP that allows a class to have multiple methods with the same name but different parameters (signature). In Python, method overloading is not natively supported as it is in some other languages like Java or C++. However, you can achieve similar functionality by using default arguments or variable-length arguments (`*args` and `**kwargs`) in a single method.\n",
    "Example:\n",
    "```python\n",
    "class MathUtils:\n",
    "    def add(self, a, b, c=0):  # Method with default argument\n",
    "        return a + b + c\n",
    "    def add(self, a, b, *args):  # Method with variable-length arguments\n",
    "        return a + b + sum(args)\n",
    "result1 = MathUtils().add(5, 10)  # Calls the first add method\n",
    "result2 = MathUtils().add(5, 10, 15, 20)  # Calls the second add method \n",
    "print(result1)  # Output: 15\n",
    "print(result2)  # Output: 50\n",
    "```\n",
    "````"
   ]
  },
  {
   "cell_type": "markdown",
   "id": "1f33aadc",
   "metadata": {},
   "source": [
    "### Question 12\n",
    "What is method overriding in OOP?\n",
    "### Answer:\n",
    "Method overriding is a feature of OOP that allow to a subclass to provide a specific implementation of a method that is already defined in its superclass. When a method in a subclass has the same name and parameters as a method in the superclass, the subclass's method overrides the superclass's method. This allows for polymorphic behavior, where the same method call can produce different results based on the object's class.\n",
    "Example:\n",
    "```python\n",
    "class Animal:\n",
    "    def speak(self):  # Method in the superclass\n",
    "        print(\"Animal speaks\")\n",
    "class Dog(Animal):\n",
    "    def speak(self):  # Overriding the speak method in the subclass\n",
    "        print(\"Dog barks\")\n",
    "class Cat(Animal):\n",
    "    def speak(self):  # Overriding the speak method in the subclass\n",
    "        print(\"Cat meows\")\n",
    "dog = Dog()\n",
    "cat = Cat()\n",
    "dog.speak()  # Output: Dog barks\n",
    "cat.speak()  # Output: Cat meows\n",
    "```\n",
    "````"
   ]
  },
  {
   "cell_type": "markdown",
   "id": "7af09212",
   "metadata": {},
   "source": [
    "## Question 13\n",
    "What is a property decorator in Python?\n",
    "### Answer:\n",
    "The property decorator in Python is a built-in decorator that allows you to define a method as a property of a class. It provides a way to manage the access and modification of an attribute while keeping the interface clean. The property decorator allows you to define getter, setter, and deleter methods for an attribute, enabling encapsulation and control over how the attribute is accessed and modified.\n",
    "Example:\n",
    "```python\n",
    "class Person:\n",
    "    def __init__(self, name):\n",
    "        self.__name = name  # Private attribute\n",
    "\n",
    "    @property\n",
    "    def name(self):  # Getter method\n",
    "        return self.__name\n",
    "\n",
    "    @name.setter\n",
    "    def name(self, new_name):  # Setter method\n",
    "        self.__name = new_name\n",
    "    @name.deleter\n",
    "    def name(self):  # Deleter method\n",
    "        del self.__name\n",
    "    \n",
    "person = Person(\"Anand\")\n",
    "print(person.name)  # Output: Anand\n",
    "person.name = \"John\"  # Calls the setter method\n",
    "print(person.name)  # Output: John\n",
    "del person.name  # Calls the deleter method\n",
    "```\n",
    "````"
   ]
  },
  {
   "cell_type": "markdown",
   "id": "5678b569",
   "metadata": {},
   "source": [
    "## Question 14\n",
    "Why is polymorphism important in OOP?\n",
    "### Answer:\n",
    "Polymorphism is important in OOP because it allows for flexibility and extensibility in code design. It enables objects of different classes to be treated as objects of a common superclass, allowing for the same method to be called on different objects, resulting in different behaviors based on the object's class. This promotes code reusability, reduces complexity, and makes it easier to maintain and extend software systems. Polymorphism also supports the implementation of interfaces and abstract classes, enabling developers to create more generic and adaptable code.\n",
    "Example:\n",
    "```python\n",
    "class Shape:\n",
    "    def area(self):\n",
    "        pass\n",
    "class Circle(Shape):\n",
    "    def __init__(self, radius):\n",
    "        self.radius = radius\n",
    "    def area(self):  # Overriding the area method\n",
    "        return 3.14 * self.radius ** 2\n",
    "class Rectangle(Shape):\n",
    "    def __init__(self, width, height):\n",
    "        self.width = width\n",
    "        self.height = height\n",
    "    def area(self):  # Overriding the area method\n",
    "        return self.width * self.height\n",
    "shapes = [Circle(5), Rectangle(4, 6)]"
   ]
  },
  {
   "cell_type": "markdown",
   "id": "d7253201",
   "metadata": {},
   "source": [
    "## Question 15\n",
    "What is an abstract class in Python?\n",
    "### Answer:\n",
    "An abstract class in Python is a class that cannot be instantiated and is meant to be subclassed. It can contain abstract methods (methods without implementation) that must be implemented by any concrete subclass. Abstract classes are defined using the `abc` module and the `ABC` class. They provide a way to define a common interface for a group of related classes while allowing for different implementations in the subclasses.\n",
    "Example:\n",
    "```python\n",
    "from abc import ABC, abstractmethod\n",
    "class Shape(ABC):\n",
    "    @abstractmethod\n",
    "    def area(self):  # Abstract method\n",
    "        pass\n",
    "class Circle(Shape):\n",
    "    def __init__(self, radius):\n",
    "        self.radius = radius\n",
    "    def area(self):  # Implementing the abstract method\n",
    "        return 3.14 * self.radius ** 2\n",
    "class Rectangle(Shape):\n",
    "    def __init__(self, width, height):\n",
    "        self.width = width\n",
    "        self.height = height\n",
    "    def area(self):  # Implementing the abstract method\n",
    "        return self.width * self.height\n",
    "circle = Circle(5)\n",
    "rectangle = Rectangle(4, 6)\n",
    "print(circle.area())  # Output: 78.5\n",
    "print(rectangle.area())  # Output: 24\n",
    "```\n",
    "````\n",
    "````"
   ]
  },
  {
   "cell_type": "markdown",
   "id": "dcd9ff9a",
   "metadata": {},
   "source": [
    "## Question 16\n",
    "What are the advantages of OOPS?\n",
    "### Answer:\n",
    "The advantages of Object-Oriented Programming (OOP) include:\n",
    "1. **Modularity**: OOP allows for the organization of code into classes and objects, making it easier to manage and understand complex systems. Each class can be developed and tested independently.\n",
    "2. **Reusability**: OOP promotes code reusability through inheritance and polymorphism. Existing classes can be extended or modified to create new classes, reducing code duplication and improving maintainability.\n",
    "3. **Encapsulation**: OOP encapsulates data and behavior within objects, restricting direct access to an object's internal state. This helps prevent accidental modification of data and promotes a clear interface for interacting with objects.\n",
    "4. **Abstraction**: OOP allows for the creation of abstract classes and interfaces, enabling developers to define common behaviors without specifying implementation details. This simplifies code and enhances flexibility.\n",
    "5. **Polymorphism**: OOP supports polymorphism, allowing different classes to be treated as instances of a common superclass. This enables the same method to be called on different objects, resulting in different behaviors based on the object's class.\n",
    "6. **Maintainability**: OOP promotes better organization and structure in code, making it easier to maintain and update software systems. Changes to one part of the code can be made with minimal impact on other parts.\n",
    "7. **Real-world modeling**: OOP allows for the modeling of real-world entities and relationships, making it easier to represent complex systems and interactions in code. This leads to more intuitive and understandable software design.\n",
    "8. **Collaboration**: OOP facilitates collaboration among developers by providing a clear structure for code organization. Different team members can work on different classes or modules without interfering with each other's work.\n",
    "````"
   ]
  },
  {
   "cell_type": "markdown",
   "id": "508c4ad9",
   "metadata": {},
   "source": [
    "## Question 17\n",
    " What is the difference between a class variable and an instance variable?\n",
    "### Answer:\n",
    "A class variable is a variable that is shared among all instances of a class. It is defined within the class but outside any instance methods. Class variables are accessed using the class name or through instances of the class. Changes to a class variable affect all instances of the class.\n",
    "Example:\n",
    "```python\n",
    "class Dog:\n",
    "    species = \"Canine\"  # Class variable\n",
    "\n",
    "    def __init__(self, name):\n",
    "        self.name = name  # Instance variable\n",
    "        self.age = 0     # Instance variable\n",
    "Dog1 = Dog(\"Buddy\")\n",
    "Dog2 = Dog(\"Max\")\n",
    "print(Dog.species)  # Output: Canine\n",
    "print(Dog1.species)  # Output: Canine\n",
    "print(Dog2.species)  # Output: Canine\n",
    "Dog.species = \"Feline\"  # Changing the class variable\n",
    "print(Dog1.species)  # Output: Feline\n",
    "print(Dog2.species)  # Output: Feline\n",
    "```\n",
    "\n",
    "An instance variable is a variable that is unique to each instance of a class. It is defined within the constructor (`__init__` method) and is accessed using the `self` keyword. Changes to an instance variable only affect that specific instance of the class.\n",
    "Example:\n",
    "```python \n",
    "class Dog:\n",
    "    def __init__(self, name):\n",
    "        self.name = name  # Instance variable\n",
    "        self.age = 0     # Instance variable\n",
    "Dog1 = Dog(\"Buddy\")\n",
    "Dog2 = Dog(\"Max\")\n",
    "print(Dog1.name)  # Output: Buddy\n",
    "print(Dog2.name)  # Output: Max\n",
    "Dog1.name = \"Charlie\"  # Changing the instance variable for Dog1\n",
    "print(Dog1.name)  # Output: Charlie\n",
    "print(Dog2.name)  # Output: Max\n",
    "```\n",
    "````\n",
    "\n"
   ]
  },
  {
   "cell_type": "markdown",
   "id": "ce378f70",
   "metadata": {},
   "source": [
    "##  Question 18\n",
    "What is multiple inheritance in Python?\n",
    "### Answer:\n",
    "Multiple inheritance is a feature in Python that allows a class to inherit from more than one superclass. This means that a subclass can have multiple parent classes, enabling it to inherit attributes and methods from all of them. Multiple inheritance can be useful for creating complex class hierarchies and promoting code reusability\n"
   ]
  },
  {
   "cell_type": "markdown",
   "id": "d2708802",
   "metadata": {},
   "source": [
    "## Question 19\n",
    " Explain the purpose of ‘’__str__’ and ‘__repr__’ ‘ methods in PythonH\n",
    "### Answer:\n",
    "The `__str__` and `__repr__` methods in Python are special methods used to define string representations of objects. They serve different purposes and are used in different contexts:\n",
    "- `__str__`: The `__str__` method is used to define a human-readable string representation of an object. It is called by the built-in `str()` function and is used when you want to provide a user-friendly string representation of the object. The output of `__str__` should be easy to read and understand.\n",
    "Example:\n",
    "```python\n",
    "class Person:\n",
    "    def __init__(self, name, age):\n",
    "        self.name = name\n",
    "        self.age = age\n",
    "\n",
    "    def __str__(self):  # Human-readable string representation\n",
    "        return f\"{self.name}, Age: {self.age}\"\n",
    "person = Person(\"Anand\", 30)\n",
    "print(str(person))  # Output: Anand, Age: 30\n",
    "```\n",
    "- `__repr__`: The `__repr__` method is used to define an unambiguous string representation of an object that can be used for debugging and development purposes. It is called by the built-in `repr()` function and is intended to provide a detailed representation of the object, including its attributes and values. The output of `__repr__` should ideally be a valid Python expression that can recreate the object when passed to `eval()`. If possible, it should return a string that can be used to recreate the object.\n",
    "- Example:\n",
    "```python\n",
    "class Person:\n",
    "    def __init__(self, name, age):\n",
    "        self.name = name\n",
    "        self.age = age\n",
    "\n",
    "    def __repr__(self):  # Unambiguous string representation\n",
    "        return f\"Person(name='{self.name}', age={self.age})\"\n",
    "person = Person(\"Anand\", 30)\n",
    "print(repr(person))  # Output: Person(name='Anand', age=30)\n",
    "```\n",
    "````"
   ]
  },
  {
   "cell_type": "markdown",
   "id": "b2a512c3",
   "metadata": {},
   "source": [
    "## Question 20\n",
    "What is the significance of the ‘super()’ function in Python?\n",
    "### Answer:\n",
    "The `super()` function in Python is used to call methods from a parent class (superclass) in a subclass. It allows you to access inherited methods and properties without explicitly naming the parent class. This is particularly useful in the context of inheritance, especially when dealing with multiple inheritance, as it helps avoid issues related to method resolution order (MRO).\n",
    "The `super()` function returns a temporary object of the superclass that allows you to call its methods. It is commonly used in the constructor (`__init__`) of a subclass to initialize attributes inherited from the parent class.\n",
    "Example:\n",
    "```python\n",
    "class Animal:\n",
    "    def __init__(self, species):\n",
    "        self.species = species\n",
    "\n",
    "    def speak(self):\n",
    "        print(\"Animal speaks\")\n",
    "class Dog(Animal):\n",
    "    def __init__(self, name, age):\n",
    "        super().__init__(\"Canine\")  # Calling the constructor of the parent class\n",
    "        self.name = name\n",
    "        self.age = age\n",
    "\n",
    "    def speak(self):  # Overriding the speak method\n",
    "        print(f\"{self.name} barks\")\n",
    "dog = Dog(\"Buddy\", 3)\n",
    "dog.speak()  # Output: Buddy barks\n",
    "```\n",
    "````"
   ]
  },
  {
   "cell_type": "markdown",
   "id": "be26c351",
   "metadata": {},
   "source": [
    "## Question 21\n",
    "What is the significance of the __del__ method in Python?\n",
    "### Answer:\n",
    "The `__del__` method in Python is a special method that is called when an object is about to be destroyed or garbage collected. It is used to define cleanup actions that need to be performed before the object is removed from memory. The `__del__` method can be useful for releasing resources, closing files, or performing any other necessary cleanup tasks.\n",
    "\n",
    "Example:\n",
    "```python\n",
    "class Resource:\n",
    "    def __init__(self, name):\n",
    "        self.name = name\n",
    "        print(f\"Resource {self.name} created.\")\n",
    "\n",
    "    def __del__(self):  # Destructor method\n",
    "        print(f\"Resource {self.name} destroyed.\")\n",
    "resource = Resource(\"File1\")\n",
    "del resource  # Explicitly deleting the object\n",
    "# Output: Resource File1 destroyed.\n",
    "```"
   ]
  },
  {
   "cell_type": "markdown",
   "id": "258ad008",
   "metadata": {},
   "source": [
    "## Question 22\n",
    "What is the difference between @staticmethod and @classmethod in Python?\n",
    "### Answer:\n",
    "The `@staticmethod` and `@classmethod` decorators in Python are used to define methods that are associated with a class rather than an instance of the class. However, they serve different purposes and have different behaviors:\n",
    "MAIN DIFFERENCE:\n",
    "1. `@staticmethod`:\n",
    "- A static method does not take `self` or `cls` as the first parameter. It behaves like a regular function but belongs to the class's namespace. Static methods cannot access or modify class-level or instance-level attributes.\n",
    "- They are used when you want to define a method that does not require access to the class or instance and can be called on the class itself or on instances of the class.\n",
    "- Example:\n",
    "```python\n",
    "class MathUtils:\n",
    "    @staticmethod\n",
    "    def add(a, b):  # Static method\n",
    "        return a + b\n",
    "    @staticmethod\n",
    "    def multiply(a, b):  # Static method\n",
    "        return a * b\n",
    "result1 = MathUtils.add(5, 10)  # Calls the static method\n",
    "result2 = MathUtils.multiply(5, 10)  # Calls the static method\n",
    "print(result1)  # Output: 15\n",
    "print(result2)  # Output: 50\n",
    "```\n",
    "\n",
    "2. `@classmethod`:\n",
    "- A class method is a method that is bound to the class and not the instance of the class. It takes `cls` as the first parameter, which refers to the class itself. Class methods can access and modify class-level attributes.\n",
    "- They are used when you want to define a method that needs to access or modify class-level data or when you want to create factory methods that return instances of the class.\n",
    "- Example:\n",
    "```python\n",
    "class Counter:\n",
    "    count = 0  # Class-level attribute\n",
    "\n",
    "    @classmethod\n",
    "    def increment(cls):  # Class method\n",
    "        cls.count += 1\n",
    "\n",
    "    @classmethod\n",
    "    def get_count(cls):  # Class method\n",
    "        return cls.count\n",
    "Counter.increment()  # Increment the class-level count\n",
    "Counter.increment()  # Increment the class-level count\n",
    "print(Counter.get_count())  # Output: 2\n",
    "```\n",
    "````\n"
   ]
  },
  {
   "cell_type": "markdown",
   "id": "5e27e08b",
   "metadata": {},
   "source": [
    "## Question 23\n",
    "H How does polymorphism work in Python with inheritance?\n",
    "### Answer:\n",
    "Polymorphism in Python with inheritance allows different classes to define methods with the same name but different implementations. When a method is called on an object, Python determines which method to execute based on the object's class. This enables the same method name to be used across different classes, allowing for flexible and reusable code.\n",
    "\n",
    "Example:\n",
    "```python\n",
    "class Animal:\n",
    "    def speak(self):  # Method in the superclass\n",
    "        print(\"Animal speaks\")\n",
    "class Dog(Animal):\n",
    "    def speak(self):  # Overriding the speak method in the subclass\n",
    "        print(\"Dog barks\")\n",
    "class Cat(Animal):\n",
    "    def speak(self):  # Overriding the speak method in the subclass\n",
    "        print(\"Cat meows\")\n",
    "dog = Dog()\n",
    "cat = Cat()\n",
    "dog.speak()  # Output: Dog barks\n",
    "cat.speak()  # Output: Cat meows\n",
    "```\n",
    "````"
   ]
  },
  {
   "cell_type": "markdown",
   "id": "4f3a0c2c",
   "metadata": {},
   "source": [
    "## Question 24\n",
    "What is method chaining in Python OOPs?\n",
    "### Answer:\n",
    "Method chaining is a programming technique in Python OOP that allows multiple method calls to be made on the same object in a single line of code. This is achieved by having each method return the object itself (usually using `self`), allowing subsequent method calls to be chained together. Method chaining can lead to more concise and readable code, especially when performing a series of operations on an object.\n",
    "Example:\n",
    "```python\n",
    "class StringBuilder:\n",
    "    def __init__(self):\n",
    "        self.string = \"\"\n",
    "\n",
    "    def append(self, text):  # Method that returns self\n",
    "        self.string += text\n",
    "        return self\n",
    "\n",
    "    def capitalize(self):  # Method that returns self\n",
    "        self.string = self.string.capitalize()\n",
    "        return self\n",
    "\n",
    "    def get_string(self):  # Method to get the final string\n",
    "        return self.string\n",
    "\n",
    "builder = StringBuilder()\n",
    "result = builder.append(\"hello\").capitalize().append(\" world\").get_string()"
   ]
  },
  {
   "cell_type": "markdown",
   "id": "30bad29b",
   "metadata": {},
   "source": [
    "## Question 25\n",
    "What is the purpose of the __call__ method in Python?\n",
    "### Answer:\n",
    "__call__ method in Python is a special method that allows an object to be called as if it were a function. When the `__call__` method is defined in a class, instances of that class can be called like functions, enabling a more flexible and intuitive way to use objects. This can be useful for creating callable objects, implementing decorators, or defining custom behavior for function-like objects.\n",
    "Example:\n",
    "```python\n",
    "class Adder:\n",
    "    def __init__(self, value):\n",
    "        self.value = value\n",
    "\n",
    "    def __call__(self, x):  # Defining the __call__ method\n",
    "        return self.value + x\n",
    "Adder1 = Adder(5)\n",
    "result = Adder1(10)  # Calling the object like a function\n",
    "print(result)  # Output: 15\n",
    "```\n",
    "````\n",
    "````"
   ]
  },
  {
   "cell_type": "markdown",
   "metadata": {},
   "source": [
    "# Python OOPs Assignment Solutions\n"
   ]
  },
  {
   "cell_type": "markdown",
   "metadata": {},
   "source": [
    "## Question 1\n",
    "Create a parent class `Animal` with a method `speak()` that prints a generic message. Create a child class `Dog` that overrides the `speak()` method to print \"Bark!\"."
   ]
  },
  {
   "cell_type": "code",
   "execution_count": 42,
   "metadata": {},
   "outputs": [
    {
     "name": "stdout",
     "output_type": "stream",
     "text": [
      "Animal speaks\n",
      "Woof!\n",
      "True\n"
     ]
    }
   ],
   "source": [
    "class Animal:\n",
    "    def speak(self):\n",
    "        return \"Animal speaks\"\n",
    "class Dog(Animal):\n",
    "    def speak(self):\n",
    "        return \"Woof!\"\n",
    "\n",
    "A = Animal()\n",
    "D = Dog()\n",
    "print(A.speak())  # Output: Animal speaks\n",
    "print(D.speak())  # Output: Woof!\n",
    "print(isinstance(D, Dog))  # Output: True"
   ]
  },
  {
   "cell_type": "markdown",
   "metadata": {},
   "source": [
    "## Question 2\n",
    "Write a program to create an abstract class `Shape` with a method `area()`. Derive classes `Circle` and `Rectangle` from it and implement the `area()` method in both."
   ]
  },
  {
   "cell_type": "code",
   "execution_count": 20,
   "metadata": {},
   "outputs": [
    {
     "name": "stdout",
     "output_type": "stream",
     "text": [
      "78.53981633974483\n",
      "50\n"
     ]
    }
   ],
   "source": [
    "import abc\n",
    "import math\n",
    "class Shape:\n",
    "    @abc.abstractmethod\n",
    "    def area(self):\n",
    "        pass\n",
    "class Circle(Shape):\n",
    "    def __init__(self, radius):\n",
    "        self.radius = radius\n",
    "    def area(self):\n",
    "        return math.pi*(self.radius**2)\n",
    "class Rectangle(Shape):\n",
    "    def __init__(self, length , breadth):\n",
    "        self.l = length\n",
    "        self.b = breadth\n",
    "    def area(self):\n",
    "        return self.l * self.b\n",
    "\n",
    "S = Shape()\n",
    "C = Circle(5)\n",
    "R = Rectangle(5, 10)\n",
    "print(C.area())  # Output: 78.53981633974483\n",
    "print(R.area())  # Output: 50\n"
   ]
  },
  {
   "cell_type": "markdown",
   "metadata": {},
   "source": [
    "## Question 3\n",
    "Implement a multi-level inheritance scenario where a class `Vehicle` has an attribute `type`. Derive a class `Car` and further derive a class `ElectricCar` that adds a battery attribute."
   ]
  },
  {
   "cell_type": "code",
   "execution_count": 21,
   "metadata": {},
   "outputs": [
    {
     "name": "stdout",
     "output_type": "stream",
     "text": [
      "This is a generic vehicle.\n",
      "This is a Toyota Camry car.\n",
      "This is a Tesla Model 3 car.\n",
      "This Tesla Model 3 has a 75 kWh battery.\n"
     ]
    }
   ],
   "source": [
    "class Vehicle:\n",
    "    def __init__(self, vehicle_type):\n",
    "        self.type = vehicle_type\n",
    "    \n",
    "    def get_type(self):\n",
    "        return f\"This is a {self.type} vehicle.\"\n",
    "\n",
    "class Car(Vehicle):\n",
    "    def __init__(self, brand, model):\n",
    "        super().__init__(\"car\")\n",
    "        self.brand = brand\n",
    "        self.model = model\n",
    "    \n",
    "    def get_info(self):\n",
    "        return f\"This is a {self.brand} {self.model} {self.type}.\"\n",
    "\n",
    "class ElectricCar(Car):\n",
    "    def __init__(self, brand, model, battery_capacity):\n",
    "        super().__init__(brand, model)\n",
    "        self.battery = battery_capacity\n",
    "    \n",
    "    def get_battery_info(self):\n",
    "        return f\"This {self.brand} {self.model} has a {self.battery} kWh battery.\"\n",
    "\n",
    "# Testing\n",
    "vehicle = Vehicle(\"generic\")\n",
    "car = Car(\"Toyota\", \"Camry\")\n",
    "electric_car = ElectricCar(\"Tesla\", \"Model 3\", 75)\n",
    "\n",
    "print(vehicle.get_type())\n",
    "print(car.get_info())\n",
    "print(electric_car.get_info())\n",
    "print(electric_car.get_battery_info())"
   ]
  },
  {
   "cell_type": "markdown",
   "metadata": {},
   "source": [
    "## Question 4\n",
    "Demonstrate polymorphism by creating a base class `Bird` with a method `fly()`. Create two derived classes `Sparrow` and `Penguin` that override the `fly()` method."
   ]
  },
  {
   "cell_type": "code",
   "execution_count": 22,
   "metadata": {},
   "outputs": [
    {
     "name": "stdout",
     "output_type": "stream",
     "text": [
      "Generic bird is flying\n",
      "Sparrow is flying fast\n",
      "Penguin cannnot fly , but can swim \n"
     ]
    }
   ],
   "source": [
    "class Bird:\n",
    "    def __init__(self,bird):\n",
    "        self.bird = bird\n",
    "    def fly(self):\n",
    "        print(F\"{self.bird} bird is flying\")\n",
    "class Sparrow(Bird):\n",
    "    def fly(self):\n",
    "        print(f\"{self.bird} is flying fast\")\n",
    "class Penguin(Bird):\n",
    "    def fly(self):\n",
    "        print(f\"{self.bird} cannnot fly , but can swim \")\n",
    "\n",
    "B = Bird(\"Generic\")\n",
    "S = Sparrow(\"Sparrow\")\n",
    "P = Penguin(\"Penguin\")\n",
    "B.fly()\n",
    "S.fly()\n",
    "P.fly()"
   ]
  },
  {
   "cell_type": "markdown",
   "metadata": {},
   "source": [
    "## Question 5\n",
    "Write a program to demonstrate encapsulation by creating a class `BankAccount` with private attributes `balance` and methods to deposit, withdraw, and check balance."
   ]
  },
  {
   "cell_type": "code",
   "execution_count": 23,
   "metadata": {},
   "outputs": [
    {
     "name": "stdout",
     "output_type": "stream",
     "text": [
      "Dear Anand , Your current balance is 1000 \n",
      "The money in your account is insufficient\n",
      " Dear Anand , 200 money is withdraw from your account , Your current balance is 800 \n",
      " Dear Anand , 2000 money is deposited in your account , Your current balance is 2800 \n"
     ]
    }
   ],
   "source": [
    "class BankAccount:\n",
    "    def __init__(self , name , initialamt):\n",
    "        self.__accountHolder_name = name\n",
    "        self.__initial_balance = initialamt\n",
    "    \n",
    "    def deposit(self , amount):\n",
    "        if(amount<=0):\n",
    "            print(\"Deposited amount should be positive\")\n",
    "        else:\n",
    "            self.__initial_balance += amount\n",
    "            print(f\" Dear {self.__accountHolder_name } , {amount} money is deposited in your account , Your current balance is {self.__initial_balance} \")\n",
    "    def withdraw(self , amount):\n",
    "        if(amount <= 0):\n",
    "            print(\"Withdraw amount must be positive\")\n",
    "        else:\n",
    "            if(amount> self.__initial_balance):\n",
    "                print(\"The money in your account is insufficient\")\n",
    "            else:\n",
    "                self.__initial_balance -= amount\n",
    "                print(f\" Dear {self.__accountHolder_name } , {amount} money is withdraw from your account , Your current balance is {self.__initial_balance} \")\n",
    "    def check_balance(self):\n",
    "        print(f\"Dear {self.__accountHolder_name} , Your current balance is {self.__initial_balance} \")\n",
    "\n",
    "anand = BankAccount(\"Anand\" , 1000)\n",
    "anand.check_balance()\n",
    "anand.withdraw(1001)\n",
    "anand.withdraw(200)\n",
    "anand.deposit(2000)"
   ]
  },
  {
   "cell_type": "markdown",
   "metadata": {},
   "source": [
    "## Question 6\n",
    "Demonstrate runtime polymorphism using a method `play()` in a base class `Instrument`. Derive classes `Guitar` and `Piano` that implement their own version of `play()`."
   ]
  },
  {
   "cell_type": "code",
   "execution_count": 24,
   "metadata": {},
   "outputs": [
    {
     "name": "stdout",
     "output_type": "stream",
     "text": [
      "Instrument is playing\n",
      "Guiter is playing\n",
      "Piano is playing\n"
     ]
    }
   ],
   "source": [
    "class Instrument:\n",
    "    def play(self):\n",
    "        print(\"Instrument is playing\")\n",
    "class Guiter(Instrument):\n",
    "    def play(self):\n",
    "        print(\"Guiter is playing\")\n",
    "class Piano(Instrument):\n",
    "    def play(self):\n",
    "        print(\"Piano is playing\")\n",
    "\n",
    "instrument = Instrument()\n",
    "instrument.play()\n",
    "guiter = Guiter()\n",
    "guiter.play()\n",
    "piano = Piano()\n",
    "piano.play()"
   ]
  },
  {
   "cell_type": "markdown",
   "metadata": {},
   "source": [
    "## Question 7\n",
    "Create a class `MathOperations` with a class method `add_numbers()` to add two numbers and a static method `subtract_numbers()` to subtract two numbers."
   ]
  },
  {
   "cell_type": "code",
   "execution_count": 25,
   "metadata": {},
   "outputs": [
    {
     "name": "stdout",
     "output_type": "stream",
     "text": [
      "Addition result: 15\n",
      "Subtraction result: 5\n",
      "Using instance - Addition: 30\n",
      "Using instance - Subtraction: 10\n"
     ]
    }
   ],
   "source": [
    "class MathOperations:\n",
    "    @classmethod\n",
    "    def add_numbers(cls, a, b):\n",
    "        return a + b\n",
    "    \n",
    "    @staticmethod\n",
    "    def subtract_numbers(a, b):\n",
    "        return a - b\n",
    "\n",
    "# Testing\n",
    "result1 = MathOperations.add_numbers(10, 5)\n",
    "print(f\"Addition result: {result1}\")\n",
    "\n",
    "result2 = MathOperations.subtract_numbers(10, 5)\n",
    "print(f\"Subtraction result: {result2}\")\n",
    "\n",
    "math_ops = MathOperations()\n",
    "print(f\"Using instance - Addition: {math_ops.add_numbers(20, 10)}\")\n",
    "print(f\"Using instance - Subtraction: {math_ops.subtract_numbers(20, 10)}\")"
   ]
  },
  {
   "cell_type": "markdown",
   "metadata": {},
   "source": [
    "## Question 8\n",
    "Implement a class `Person` with a class method to count the total number of persons created."
   ]
  },
  {
   "cell_type": "code",
   "execution_count": 26,
   "metadata": {},
   "outputs": [
    {
     "name": "stdout",
     "output_type": "stream",
     "text": [
      "0\n",
      "2\n"
     ]
    }
   ],
   "source": [
    "class Person:\n",
    "    count = 0\n",
    "    def __init__(self , name , age):\n",
    "        self.name  = name\n",
    "        self.age = age\n",
    "        Person.count +=1\n",
    "    @classmethod\n",
    "    def get_count():\n",
    "        return Person.count\n",
    "print(Person.count)\n",
    "Person(\"anand\" , 21)\n",
    "Person(\"Dhoni\" , 32)\n",
    "print(Person.count)\n",
    "        \n",
    "        "
   ]
  },
  {
   "cell_type": "markdown",
   "metadata": {},
   "source": [
    "## Question 9\n",
    "Write a class `Fraction` with attributes `numerator` and `denominator`. Override the `__str__` method to display the fraction as \"numerator/denominator\"."
   ]
  },
  {
   "cell_type": "code",
   "execution_count": 27,
   "metadata": {},
   "outputs": [
    {
     "name": "stdout",
     "output_type": "stream",
     "text": [
      "3/4\n"
     ]
    }
   ],
   "source": [
    "class Fraction:\n",
    "    def __init__(self , numerator , denominator):\n",
    "        self.numerator = numerator\n",
    "        self.denominator = denominator\n",
    "    \n",
    "    def __str__(self):\n",
    "        return f\"{self.numerator}/{self.denominator}\"\n",
    "    \n",
    "F = Fraction(3,4)\n",
    "print(F)\n",
    "        "
   ]
  },
  {
   "cell_type": "markdown",
   "metadata": {},
   "source": [
    "## Question 10\n",
    "Demonstrate operator overloading by creating a class `Vector` and overriding the add (`+`) and subtract (`-`) operators to add/subtract two vectors."
   ]
  },
  {
   "cell_type": "code",
   "execution_count": 28,
   "metadata": {},
   "outputs": [
    {
     "name": "stdout",
     "output_type": "stream",
     "text": [
      "Vector(3,5,7)\n"
     ]
    }
   ],
   "source": [
    "class Vector:\n",
    "    def __init__(self , x , y,z):\n",
    "        self.x = x\n",
    "        self.y = y\n",
    "        self.z =z \n",
    "    def __add__(self , other):\n",
    "        return Vector(self.x + other.x , self.y + other.y , self.z + other.z)\n",
    "    def __sub__(self, other):\n",
    "        return Vector(self.x - other.x , self.y - other.y , self.z - other.z)\n",
    "    def __str__(self):\n",
    "        return f\"Vector({self.x},{self.y},{self.z})\"\n",
    "\n",
    "v1 = Vector(2,3,4)\n",
    "v2 = Vector(1,2,3)\n",
    "v3 = v1+v2\n",
    "print(v3)\n",
    "        "
   ]
  },
  {
   "cell_type": "markdown",
   "metadata": {},
   "source": [
    "## Question 11\n",
    "Create a class `Person` with attributes `name` and `age`. Add a method `greet()` that prints \"Hello, my name is {name} and I am {age} years old.\""
   ]
  },
  {
   "cell_type": "code",
   "execution_count": 29,
   "metadata": {},
   "outputs": [
    {
     "name": "stdout",
     "output_type": "stream",
     "text": [
      "Hello, my name is Anand and I am 30 years old.\n",
      "Hello, my name is Patidar and I am 25 years old.\n"
     ]
    }
   ],
   "source": [
    "class Person:\n",
    "    def __init__(self, name, age):\n",
    "        self.name = name\n",
    "        self.age = age\n",
    "    \n",
    "    def greet(self):\n",
    "        print(f\"Hello, my name is {self.name} and I am {self.age} years old.\")\n",
    "\n",
    "\n",
    "person1 = Person(\"Anand\", 30)\n",
    "person2 = Person(\"Patidar\", 25)\n",
    "person1.greet()\n",
    "person2.greet()"
   ]
  },
  {
   "cell_type": "markdown",
   "metadata": {},
   "source": [
    "## Question 12\n",
    "Implement a class `Student` with attributes `name` and `grades`. Create a method `average_grade()` to compute the average of the grades."
   ]
  },
  {
   "cell_type": "code",
   "execution_count": 30,
   "metadata": {},
   "outputs": [
    {
     "name": "stdout",
     "output_type": "stream",
     "text": [
      "3\n",
      "22\n"
     ]
    }
   ],
   "source": [
    "\n",
    "class Student:\n",
    "    def __init__(self,name , grades):\n",
    "        self.name = name\n",
    "        self.grades = grades if grades is not None else []\n",
    "    def add_grade(self, grade):\n",
    "        self.grades.append(grade)\n",
    "    def average(self):\n",
    "        return int(sum(self.grades)/len(self.grades))\n",
    "\n",
    "anand = Student(\"Anand\" , [1,2,3,4,5])\n",
    "print(anand.average())\n",
    "anand.add_grade(122)\n",
    "print(anand.average())\n",
    "        "
   ]
  },
  {
   "cell_type": "markdown",
   "metadata": {},
   "source": [
    "## Question 13\n",
    "Create a class `Rectangle` with methods `set_dimensions()` to set the dimensions and `area()` to calculate the area."
   ]
  },
  {
   "cell_type": "code",
   "execution_count": 31,
   "metadata": {},
   "outputs": [
    {
     "name": "stdout",
     "output_type": "stream",
     "text": [
      "Area of Rectangle is 0\n",
      "Area of Rectangle is 15\n"
     ]
    }
   ],
   "source": [
    "class Rectangle:\n",
    "    def __init__(self , l=0 , b=0):\n",
    "        self.l = l\n",
    "        self.b = b\n",
    "    def set_dimension(self ,l , b):\n",
    "        self.l = l\n",
    "        self.b = b\n",
    "    def area(self):\n",
    "        return f\"Area of Rectangle is {self.l*self.b}\"\n",
    "\n",
    "r1 = Rectangle()\n",
    "print(r1.area())\n",
    "r1.set_dimension(3,5)\n",
    "print(r1.area())\n",
    "    "
   ]
  },
  {
   "cell_type": "markdown",
   "metadata": {},
   "source": [
    "## Question 14\n",
    "Create a class `Employee` with a method `calculate_salary()` that computes the salary based on hours worked and hourly rate. Create a derived class `Manager` that adds a bonus to the salary."
   ]
  },
  {
   "cell_type": "code",
   "execution_count": 32,
   "metadata": {},
   "outputs": [
    {
     "name": "stdout",
     "output_type": "stream",
     "text": [
      "Rahul Kumar's salary: $1000\n",
      "Ful Devi's salary: $1850\n"
     ]
    }
   ],
   "source": [
    "class Employee:\n",
    "    def __init__(self, name, hours_worked, hourly_rate):\n",
    "        self.name = name\n",
    "        self.hours_worked = hours_worked\n",
    "        self.hourly_rate = hourly_rate\n",
    "    \n",
    "    def calculate_salary(self):\n",
    "        return self.hours_worked * self.hourly_rate\n",
    "\n",
    "class Manager(Employee):\n",
    "    def __init__(self, name, hours_worked, hourly_rate, bonus):\n",
    "        super().__init__(name, hours_worked, hourly_rate)\n",
    "        self.bonus = bonus\n",
    "    \n",
    "    def calculate_salary(self):\n",
    "        base_salary = super().calculate_salary()\n",
    "        return base_salary + self.bonus\n",
    "\n",
    "# Testing\n",
    "employee = Employee(\"Rahul Kumar\", 40, 25)\n",
    "manager = Manager(\"Ful Devi\", 45, 30, 500)\n",
    "print(f\"{employee.name}'s salary: ${employee.calculate_salary()}\")\n",
    "print(f\"{manager.name}'s salary: ${manager.calculate_salary()}\")"
   ]
  },
  {
   "cell_type": "markdown",
   "metadata": {},
   "source": [
    "## Question 15\n",
    "Create a class `Product` with attributes `name`, `price`, and `quantity`. Implement a method `total_price()` that calculates the total price of the product."
   ]
  },
  {
   "cell_type": "code",
   "execution_count": 33,
   "metadata": {},
   "outputs": [
    {
     "name": "stdout",
     "output_type": "stream",
     "text": [
      "Laptop: $1200 x 2 = $2400\n",
      "Mouse: $25 x 5 = $125\n",
      "Total price of Laptop: $2400\n",
      "Total price of Mouse: $125\n"
     ]
    }
   ],
   "source": [
    "class Product:\n",
    "    def __init__(self, name, price, quantity):\n",
    "        self.name = name\n",
    "        self.price = price\n",
    "        self.quantity = quantity\n",
    "    \n",
    "    def total_price(self):\n",
    "        return self.price * self.quantity\n",
    "    \n",
    "    def __str__(self):\n",
    "        return f\"{self.name}: ${self.price} x {self.quantity} = ${self.total_price()}\"\n",
    "\n",
    "# Testing\n",
    "product1 = Product(\"Laptop\", 1200, 2)\n",
    "product2 = Product(\"Mouse\", 25, 5)\n",
    "print(product1)\n",
    "print(product2)\n",
    "print(f\"Total price of {product1.name}: ${product1.total_price()}\")\n",
    "print(f\"Total price of {product2.name}: ${product2.total_price()}\")"
   ]
  },
  {
   "cell_type": "markdown",
   "metadata": {},
   "source": [
    "## Question 16\n",
    "Create a class `Animal` with an abstract method `sound()`. Create two derived classes `Cow` and `Sheep` that implement the `sound()` method."
   ]
  },
  {
   "cell_type": "code",
   "execution_count": 34,
   "metadata": {},
   "outputs": [
    {
     "name": "stdout",
     "output_type": "stream",
     "text": [
      "Rajwanti says: Moo!\n",
      "fool devi says: Baa!\n"
     ]
    }
   ],
   "source": [
    "from abc import ABC, abstractmethod\n",
    "\n",
    "class AnimalAbstract(ABC):\n",
    "    def __init__(self, name):\n",
    "        self.name = name\n",
    "    \n",
    "    @abstractmethod\n",
    "    def sound(self):\n",
    "        pass\n",
    "\n",
    "class Cow(AnimalAbstract):\n",
    "    def sound(self):\n",
    "        return \"Moo!\"\n",
    "\n",
    "class Sheep(AnimalAbstract):\n",
    "    def sound(self):\n",
    "        return \"Baa!\"\n",
    "\n",
    "# Testing\n",
    "\n",
    "cow = Cow(\"Rajwanti\")\n",
    "sheep = Sheep(\"fool devi\")\n",
    "\n",
    "print(f\"{cow.name} says: {cow.sound()}\")\n",
    "print(f\"{sheep.name} says: {sheep.sound()}\")\n",
    "\n"
   ]
  },
  {
   "cell_type": "markdown",
   "metadata": {},
   "source": [
    "## Question 17\n",
    "Create a class `Book` with attributes `title`, `author`, and `year_published`. Add a method `get_book_info()` that returns a formatted string with the book's details."
   ]
  },
  {
   "cell_type": "code",
   "execution_count": 35,
   "metadata": {},
   "outputs": [
    {
     "name": "stdout",
     "output_type": "stream",
     "text": [
      "\"Do Epic Shit\" by Ankur Warikoo, published in 2018\n"
     ]
    }
   ],
   "source": [
    "class Book:\n",
    "    def __init__(self, title, author, year_published):\n",
    "        self.title = title\n",
    "        self.author = author\n",
    "        self.year_published = year_published\n",
    "    \n",
    "    def get_book_info(self):\n",
    "        return f\"\\\"{self.title}\\\" by {self.author}, published in {self.year_published}\"\n",
    "    \n",
    "    def __str__(self):\n",
    "        return self.get_book_info()\n",
    "\n",
    "# Testing\n",
    "book = Book(\"Do Epic Shit\", \"Ankur Warikoo\", 2018)\n",
    "print(book)"
   ]
  },
  {
   "cell_type": "markdown",
   "metadata": {},
   "source": [
    "## Question 18\n",
    "Create a class `House` with attributes `address` and `price`. Create a derived class `Mansion` that adds an attribute `number_of_rooms`."
   ]
  },
  {
   "cell_type": "code",
   "execution_count": 36,
   "metadata": {},
   "outputs": [
    {
     "name": "stdout",
     "output_type": "stream",
     "text": [
      "House located at 123 Rajiv Nagar is priced at $250000\n",
      "House located at 456 Chai ki tapri is priced at $2000000 and has 10 rooms.\n"
     ]
    }
   ],
   "source": [
    "class House:\n",
    "    def __init__(self, address, price):\n",
    "        self.address = address\n",
    "        self.price = price\n",
    "    \n",
    "    def get_info(self):\n",
    "        return f\"House located at {self.address} is priced at ${self.price}\"\n",
    "    \n",
    "    def __str__(self):\n",
    "        return self.get_info()\n",
    "\n",
    "class Mansion(House):\n",
    "    def __init__(self, address, price, number_of_rooms):\n",
    "        super().__init__(address, price)\n",
    "        self.number_of_rooms = number_of_rooms\n",
    "    \n",
    "    def get_info(self):\n",
    "        base_info = super().get_info()\n",
    "        return f\"{base_info} and has {self.number_of_rooms} rooms.\"\n",
    "\n",
    "# Testing\n",
    "house = House(\"123 Rajiv Nagar\", 250000)\n",
    "mansion = Mansion(\"456 Chai ki tapri\", 2000000, 10)\n",
    "\n",
    "print(house)\n",
    "print(mansion)"
   ]
  },
  {
   "cell_type": "code",
   "execution_count": null,
   "id": "b206e534",
   "metadata": {},
   "outputs": [],
   "source": []
  }
 ],
 "metadata": {
  "kernelspec": {
   "display_name": "Python 3",
   "language": "python",
   "name": "python3"
  },
  "language_info": {
   "codemirror_mode": {
    "name": "ipython",
    "version": 3
   },
   "file_extension": ".py",
   "mimetype": "text/x-python",
   "name": "python",
   "nbconvert_exporter": "python",
   "pygments_lexer": "ipython3",
   "version": "3.13.2"
  }
 },
 "nbformat": 4,
 "nbformat_minor": 5
}
