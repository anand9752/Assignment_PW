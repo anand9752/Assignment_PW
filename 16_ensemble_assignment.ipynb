{
  "nbformat": 4,
  "nbformat_minor": 0,
  "metadata": {
    "colab": {
      "provenance": []
    },
    "kernelspec": {
      "name": "python3",
      "display_name": "Python 3"
    },
    "language_info": {
      "name": "python"
    }
  },
  "cells": [
    {
      "cell_type": "code",
      "execution_count": null,
      "metadata": {
        "id": "KgzooYPhWglE"
      },
      "outputs": [],
      "source": []
    },
    {
      "cell_type": "markdown",
      "metadata": {
        "id": "7dd7f0b6"
      },
      "source": [
        "### 1. What is ensemble learning in machine learning?\n",
        "Ensemble learning is a machine learning technique where multiple models (often called \"weak learners\") are trained to solve the same problem and combined to get better results. The main idea is that by combining the predictions of several models, the weaknesses of individual models can be overcome, leading to a more robust and accurate overall model."
      ]
    },
    {
      "cell_type": "markdown",
      "metadata": {
        "id": "bee60d6a"
      },
      "source": [
        "### 2. Explain the key idea behind ensemble techniques.\n",
        "The key idea behind ensemble techniques is \"wisdom of the crowd.\"  If you ask a complex question to thousands of random people, the average of their answers will often be better than the answer of a single expert. Similarly, in machine learning, instead of relying on a single model, we can combine the predictions of multiple models.  This helps to:\n",
        "\n",
        "*   **Reduce variance:**  Averaging multiple models can smooth out the noise and prevent overfitting.\n",
        "*   **Reduce bias:**  Combining models can help to capture different aspects of the data and reduce the overall bias.\n",
        "*   **Improve accuracy:**  By combining the strengths of different models, the overall prediction accuracy can be significantly improved."
      ]
    },
    {
      "cell_type": "markdown",
      "metadata": {
        "id": "335d5ff5"
      },
      "source": [
        "### 3. What are the main types of ensemble techniques?\n",
        "The main types of ensemble techniques are:\n",
        "\n",
        "*   **Bagging (Bootstrap Aggregating):** This technique involves training multiple models independently on different random subsets of the training data (with replacement). The final prediction is made by averaging the predictions of all the models (for regression) or by majority voting (for classification). Random Forest is a popular example of a Bagging-based ensemble.\n",
        "\n",
        "*   **Boosting:** In boosting, models are trained sequentially. Each subsequent model tries to correct the errors of its predecessor. Models are weighted based on their performance, with better-performing models having more influence on the final prediction. AdaBoost and Gradient Boosting are common examples of boosting algorithms.\n",
        "\n",
        "*   **Stacking (Stacked Generalization):** Stacking involves training several different models (e.g., a logistic regression, a support vector machine, and a decision tree) and then training a \"meta-model\" that learns to combine the predictions of these base models. The meta-model takes the outputs of the base models as input and makes the final prediction."
      ]
    },
    {
      "cell_type": "markdown",
      "metadata": {
        "id": "99005aff"
      },
      "source": [
        "### 4. What is the main advantage of ensemble techniques?\n",
        "The main advantage of ensemble techniques is their ability to **improve the predictive performance** of a machine learning model. By combining multiple models, ensembles can achieve higher accuracy, better generalization, and greater robustness compared to a single model. This is because they can effectively reduce both bias and variance, which are the two main sources of error in machine learning."
      ]
    },
    {
      "cell_type": "markdown",
      "metadata": {
        "id": "2362abac"
      },
      "source": [
        "### 5. What is the main challenge of ensemble methods?\n",
        "The main challenge of ensemble methods is their **increased complexity and computational cost**. Training multiple models requires more time and resources compared to training a single model. Additionally, the resulting ensemble model can be more difficult to interpret and understand, making it a \"black box\" in some cases. Debugging and tuning an ensemble of models can also be more challenging than working with a single model."
      ]
    },
    {
      "cell_type": "markdown",
      "metadata": {
        "id": "d870049c"
      },
      "source": [
        "### 6. When should we avoid using ensemble methods?\n",
        "While powerful, there are situations where using ensemble methods might not be the best choice:\n",
        "\n",
        "*   **When interpretability is crucial:** If you need to understand the reasoning behind a model's prediction (e.g., in medical diagnosis or credit scoring), a single, simpler model like a decision tree or a linear model might be preferable.\n",
        "*   **When computational resources are limited:** If you have a very large dataset or limited computing power, the time and resources required to train an ensemble might be prohibitive.\n",
        "*   **When the data is very noisy:** In some cases, if the underlying data is extremely noisy, ensemble methods might end up amplifying the noise, leading to worse performance.\n",
        "*   **When a simple model already performs well:** If a single, well-tuned model already achieves the desired level of performance, the added complexity of an ensemble might not be justified."
      ]
    },
    {
      "cell_type": "markdown",
      "metadata": {
        "id": "e2050f55"
      },
      "source": [
        "### 7. Explain the working principle of a Bagging Classifier.\n",
        "A Bagging Classifier works as follows:\n",
        "\n",
        "1.  **Bootstrap Sampling:**  Multiple random subsets of the original training data are created. These subsets are created with replacement, meaning that some data points may appear multiple times in a single subset, while others may not appear at all. This process is called bootstrap sampling.\n",
        "\n",
        "2.  **Model Training:** A separate base classifier (e.g., a decision tree) is trained on each of these bootstrap samples. Since each model is trained on a slightly different subset of the data, they will all be slightly different from each other.\n",
        "\n",
        "3.  **Prediction:** To make a prediction for a new data point, each of the base classifiers makes its own prediction.\n",
        "\n",
        "4.  **Majority Voting:** The final prediction of the Bagging Classifier is determined by a majority vote among all the base classifiers. The class that receives the most votes is the final prediction."
      ]
    },
    {
      "cell_type": "markdown",
      "metadata": {
        "id": "09a8bdfd"
      },
      "source": [
        "### 8. How does a Bagging Regressor work?\n",
        "A Bagging Regressor works in a very similar way to a Bagging Classifier, with the main difference being the final prediction step:\n",
        "\n",
        "1.  **Bootstrap Sampling:**  Multiple bootstrap samples are created from the training data.\n",
        "\n",
        "2.  **Model Training:** A separate base regressor (e.g., a decision tree regressor) is trained on each bootstrap sample.\n",
        "\n",
        "3.  **Prediction:** To make a prediction for a new data point, each of the base regressors makes its own prediction (a continuous value).\n",
        "\n",
        "4.  **Averaging:** The final prediction of the Bagging Regressor is the **average** of the predictions from all the base regressors."
      ]
    },
    {
      "cell_type": "markdown",
      "metadata": {
        "id": "5d229135"
      },
      "source": [
        "### 9. Can we use Bagging for regression problems?\n",
        "Yes, absolutely! As explained above, Bagging can be used for both classification and regression problems. For regression, the technique is called a **Bagging Regressor**, and it works by averaging the predictions of multiple base regressors."
      ]
    },
    {
      "cell_type": "markdown",
      "metadata": {
        "id": "f5e71499"
      },
      "source": [
        "### 10. What is the role of bootstrap sampling in Bagging?\n",
        "Bootstrap sampling is the core of the Bagging technique. Its main roles are:\n",
        "\n",
        "*   **Creating Diversity:** By creating different training subsets for each base model, bootstrap sampling ensures that the models are diverse. This diversity is crucial for the ensemble to be effective. If all the models were trained on the same data, they would likely be very similar, and combining them would not provide much benefit.\n",
        "*   **Reducing Variance:** Because each model is trained on a slightly different subset of the data, the errors made by individual models tend to be uncorrelated. When the predictions are averaged (in regression) or voted on (in classification), these uncorrelated errors tend to cancel each other out, leading to a significant reduction in the overall variance of the model and preventing overfitting."
      ]
    },
    {
      "cell_type": "markdown",
      "metadata": {
        "id": "ac87cfa6"
      },
      "source": [
        "### 11. How does Bagging help in reducing overfitting?\n",
        "Bagging helps reduce overfitting by reducing the variance of the model. Here's how:\n",
        "\n",
        "*   **High Variance in Single Models:** A single complex model (like a deep decision tree) is prone to high variance. This means it can learn the training data very well, including the noise, but it may not generalize well to new, unseen data.\n",
        "*   **Averaging Uncorrelated Errors:** Bagging trains multiple such models on different subsets of the data. While each individual model might still overfit its specific training subset, their errors are likely to be different (uncorrelated).\n",
        "*   **Smoothing Out Predictions:** When the predictions of these models are combined (by averaging or voting), the individual errors tend to cancel each other out. This results in a smoother, more stable, and less overfitted final prediction."
      ]
    },
    {
      "cell_type": "markdown",
      "metadata": {
        "id": "8a58ec41"
      },
      "source": [
        "### 12. What is the difference between multiple model training and single model training?\n",
        "| Feature               | Single Model Training                                    | Multiple Model Training (Ensemble)                                   |\n",
        "| --------------------- | -------------------------------------------------------- | -------------------------------------------------------------------- |\n",
        "| **Number of Models**  | One model is trained.                                    | Multiple models are trained.                                         |\n",
        "| **Training Data**     | The entire training dataset is used to train the model.  | The training data is often split or sampled to train different models. |\n",
        "| **Complexity**        | Generally simpler and faster to train.                   | More complex and computationally expensive.                          |\n",
        "| **Performance**       | Can be prone to high bias or high variance.              | Often achieves higher accuracy and better generalization.            |\n",
        "| **Interpretability**  | Usually easier to interpret and understand.              | Can be more difficult to interpret (a \"black box\").                    |\n",
        "| **Robustness**        | More sensitive to noise and outliers in the data.        | More robust to noise and outliers.                                   |"
      ]
    },
    {
      "cell_type": "markdown",
      "metadata": {
        "id": "b6db58a2"
      },
      "source": [
        "### 13. What is OOB (Out-of-Bag) Score?\n",
        "The Out-of-Bag (OOB) score is a way to evaluate the performance of a Bagging-based model (like a Random Forest) without needing a separate validation set.\n",
        "\n",
        "Here's how it works:\n",
        "\n",
        "1.  **Out-of-Bag Samples:** Because of bootstrap sampling, for each base model, some of the original data points are not included in its training set. These are called the \"out-of-bag\" samples for that model.\n",
        "\n",
        "2.  **Prediction on OOB Samples:** Each base model is then used to make predictions on its own out-of-bag samples.\n",
        "\n",
        "3.  **Aggregated Prediction:** For each data point in the original training set, we can get an aggregated prediction from all the models for which that data point was out-of-bag.\n",
        "\n",
        "4.  **OOB Score Calculation:** The OOB score is then calculated by comparing these aggregated predictions with the actual target values of the data points. For classification, it's typically the accuracy or F1-score, and for regression, it's usually the R-squared score.\n",
        "\n",
        "The OOB score is a good estimate of the model's performance on unseen data and can be used for model selection and hyperparameter tuning."
      ]
    },
    {
      "cell_type": "markdown",
      "metadata": {
        "id": "f415a170"
      },
      "source": [
        "### 14. How do you evaluate a Bagging Classifier’s performance?\n",
        "There are several ways to evaluate the performance of a Bagging Classifier:\n",
        "\n",
        "*   **Train-Test Split:** The most common approach is to split the data into a training set and a testing set. The model is trained on the training set and evaluated on the unseen testing set using metrics like:\n",
        "    *   **Accuracy:** The proportion of correctly classified instances.\n",
        "    *   **Precision:** The proportion of positive predictions that were actually correct.\n",
        "    *   **Recall (Sensitivity):** The proportion of actual positive instances that were correctly identified.\n",
        "    *   **F1-Score:** The harmonic mean of precision and recall.\n",
        "    *   **Confusion Matrix:** A table that summarizes the performance of a classification model.\n",
        "    *   **ROC Curve and AUC:**  A plot of the true positive rate against the false positive rate, with the Area Under the Curve (AUC) providing a single measure of performance.\n",
        "\n",
        "*   **Cross-Validation:**  This technique involves splitting the data into *k* folds and training the model *k* times, each time using a different fold as the test set and the remaining folds as the training set. The performance is then averaged across all *k* folds. This provides a more robust estimate of the model's performance than a single train-test split.\n",
        "\n",
        "*   **Out-of-Bag (OOB) Score:** As explained earlier, the OOB score can be used as a built-in validation mechanism for Bagging classifiers, providing a good estimate of the model's performance on unseen data."
      ]
    },
    {
      "cell_type": "markdown",
      "metadata": {
        "id": "65373e89"
      },
      "source": [
        "### 15. What is a Random Forest Classifier?\n",
        "A Random Forest Classifier is a specific type of Bagging-based ensemble method that uses **decision trees** as its base learners. It's an extension of the basic Bagging idea with an additional layer of randomness.\n",
        "\n",
        "Here's what makes a Random Forest a \"Random\" Forest:\n",
        "\n",
        "1.  **Bootstrap Sampling:** Like in Bagging, each decision tree in the forest is trained on a different bootstrap sample of the training data.\n",
        "\n",
        "2.  **Feature Randomness:**  This is the key difference from a standard Bagging classifier. When splitting a node in a decision tree, instead of considering all the features to find the best split, a Random Forest only considers a **random subset of the features**. This further increases the diversity of the trees and helps to de-correlate them, leading to a more robust and accurate model."
      ]
    },
    {
      "cell_type": "markdown",
      "metadata": {
        "id": "faecfd10"
      },
      "source": [
        "### 16. Explain the concept of feature randomness in Random Forest.\n",
        "Feature randomness, also known as **feature bagging** or the **random subspace method**, is the key innovation of Random Forest over standard Bagging.\n",
        "\n",
        "Here's the concept:\n",
        "\n",
        "*   **In a standard decision tree:** When deciding how to split a node, the algorithm considers *all* available features and chooses the one that results in the best split (e.g., the one that maximizes information gain or minimizes Gini impurity).\n",
        "\n",
        "*   **In a Random Forest:** When splitting a node in a decision tree, the algorithm does not look at all the features. Instead, it randomly selects a **subset of the features**. It then finds the best split only among this random subset.\n",
        "\n",
        "**Why is this important?**\n",
        "\n",
        "*   **Reduces Correlation Between Trees:** If there is a very strong predictive feature in the dataset, in a standard Bagging approach, most of the trees would likely use that feature for the first split. This would make the trees highly correlated, and the benefits of averaging would be diminished.\n",
        "*   **Encourages Diversity:** By forcing each tree to consider only a random subset of features, feature randomness prevents any single feature from dominating all the trees. This encourages the trees to explore different combinations of features and learn different aspects of the data, leading to a more diverse and robust ensemble."
      ]
    },
    {
      "cell_type": "markdown",
      "metadata": {
        "id": "f3e16357"
      },
      "source": [
        "### 17. Why is Random Forest better than a single Decision Tree?\n",
        "Random Forest is generally better than a single Decision Tree for several reasons:\n",
        "\n",
        "*   **Reduces Overfitting:** A single decision tree, especially a deep one, is highly prone to overfitting. It can learn the training data perfectly, including the noise, but it may not generalize well to new data. Random Forest, by averaging the predictions of multiple de-correlated trees, significantly reduces this variance and overfitting.\n",
        "*   **Higher Accuracy:** Due to the reduction in overfitting and the combined wisdom of multiple diverse trees, Random Forest typically achieves higher prediction accuracy than a single decision tree.\n",
        "*   **More Robust:** Random Forest is more robust to noise and outliers in the data. An outlier might affect a single decision tree, but its impact is likely to be averaged out in a forest of many trees.\n",
        "*   **No Need for Pruning:** Single decision trees often need to be pruned (i.e., some branches are removed) to prevent overfitting. Random Forest, due to its nature, does not require pruning."
      ]
    },
    {
      "cell_type": "markdown",
      "metadata": {
        "id": "6738e47d"
      },
      "source": [
        "### 18. How can you measure the importance of features in a Random Forest model?\n",
        "There are two common ways to measure feature importance in a Random Forest model:\n",
        "\n",
        "1.  **Mean Decrease in Gini Impurity (or Information Gain):**\n",
        "    *   Every time a feature is used to split a node in a tree, the Gini impurity (or information gain) of that split is calculated.\n",
        "    *   The importance of a feature is the total reduction in Gini impurity (or increase in information gain) brought about by that feature, averaged over all the trees in the forest.\n",
        "    *   Features that are used more often and result in larger improvements in purity are considered more important. This is the default method used in many libraries like scikit-learn.\n",
        "\n",
        "2.  **Permutation Importance (Mean Decrease in Accuracy):**\n",
        "    *   This method is more robust and less biased than the Gini impurity method.\n",
        "    *   First, the OOB error (or error on a validation set) of the trained Random Forest is calculated.\n",
        "    *   Then, for each feature, its values in the OOB samples (or validation set) are randomly shuffled (permuted).\n",
        "    *   The shuffled data is then passed through the model again, and the new error is calculated.\n",
        "    *   The importance of the feature is the difference between the new error and the original error. A larger increase in error after shuffling indicates a more important feature."
      ]
    },
    {
      "cell_type": "markdown",
      "metadata": {
        "id": "eeb5b0ba"
      },
      "source": [
        "### 19. What is the difference between Bagging and Boosting?\n",
        "\n",
        "| Feature              | Bagging                                                                  | Boosting                                                                |\n",
        "| -------------------- | ------------------------------------------------------------------------ | ----------------------------------------------------------------------- |\n",
        "| **Model Training**   | Parallel: Models are trained independently on different data subsets.    | Sequential: Models are trained one after another.                        |\n",
        "| **Focus**            | Reducing variance and overfitting.                                       | Reducing bias and improving accuracy.                                   |\n",
        "| **Model Weighting**  | All models have an equal vote (or their predictions are averaged).       | Models are weighted based on their performance; better models have more say. |\n",
        "| **Data Sampling**    | Uses bootstrap sampling (random sampling with replacement).              | The entire dataset is used, but the weights of misclassified data points are increased for the next model. |\n",
        "| **Examples**         | Bagging Classifier/Regressor, Random Forest.                             | AdaBoost, Gradient Boosting, XGBoost.                                     |\n",
        "| **Performance**      | Generally good, but can be outperformed by Boosting.                      | Often yields the best performance, but can be more prone to overfitting if not tuned carefully. |"
      ]
    },
    {
      "cell_type": "markdown",
      "metadata": {
        "id": "cb220599"
      },
      "source": [
        "### 20. What are some real-world applications of ensemble techniques?\n",
        "Ensemble techniques are widely used in various fields due to their high accuracy and robustness. Some real-world applications include:\n",
        "\n",
        "*   **Finance:**\n",
        "    *   **Credit risk assessment:** Predicting the likelihood of a borrower defaulting on a loan.\n",
        "    *   **Stock market prediction:** Forecasting stock prices and market trends.\n",
        "    *   **Fraud detection:** Identifying fraudulent credit card transactions.\n",
        "\n",
        "*   **Healthcare:**\n",
        "    *   **Medical diagnosis:** Assisting doctors in diagnosing diseases like cancer and heart disease.\n",
        "    *   **Drug discovery:** Identifying promising drug candidates.\n",
        "    *   **Predicting patient outcomes:** Forecasting the course of a disease or the response to a treatment.\n",
        "\n",
        "*   **E-commerce and Retail:**\n",
        "    *   **Recommender systems:** Suggesting products to customers based on their past behavior.\n",
        "    *   **Customer churn prediction:** Identifying customers who are likely to stop using a service.\n",
        "    *   **Demand forecasting:** Predicting the future demand for products.\n",
        "\n",
        "*   **Computer Vision:**\n",
        "    *   **Object detection and recognition:** Identifying objects in images and videos.\n",
        "    *   **Image classification:** Categorizing images based on their content.\n",
        "\n",
        "*   **Natural Language Processing (NLP):**\n",
        "    *   **Sentiment analysis:** Determining the sentiment (positive, negative, neutral) of a piece of text.\n",
        "    *   **Text classification:** Categorizing documents into different topics.\n",
        "\n",
        "*   **Other:**\n",
        "    *   **Weather forecasting:** Predicting weather patterns.\n",
        "    *   **Spam filtering:** Identifying spam emails.\n",
        "    *   **Predictive maintenance:** Predicting when industrial machinery is likely to fail."
      ]
    },
    {
      "cell_type": "markdown",
      "metadata": {
        "id": "3bc15095"
      },
      "source": [
        "### 1. Train a Bagging Classifier using Decision Trees on a sample dataset and print model accuracy"
      ]
    },
    {
      "cell_type": "code",
      "metadata": {
        "colab": {
          "base_uri": "https://localhost:8080/"
        },
        "id": "381768be",
        "outputId": "87554b06-a359-4c27-937a-7eaa22f224c1"
      },
      "source": [
        "# Import necessary libraries\n",
        "from sklearn.ensemble import BaggingClassifier\n",
        "from sklearn.tree import DecisionTreeClassifier\n",
        "from sklearn.datasets import make_classification\n",
        "from sklearn.model_selection import train_test_split\n",
        "from sklearn.metrics import accuracy_score\n",
        "\n",
        "# Generate a sample dataset\n",
        "X, y = make_classification(n_samples=1000, n_features=20, n_informative=15, n_redundant=5, random_state=42)\n",
        "\n",
        "# Split the dataset into training and testing sets\n",
        "X_train, X_test, y_train, y_test = train_test_split(X, y, test_size=0.3, random_state=42)\n",
        "\n",
        "# Create a Decision Tree Classifier as the base estimator\n",
        "estimator = DecisionTreeClassifier()\n",
        "\n",
        "# Create a Bagging Classifier with 100 Decision Trees\n",
        "bagging_classifier = BaggingClassifier(estimator=estimator, n_estimators=100, random_state=42)\n",
        "\n",
        "# Train the Bagging Classifier\n",
        "bagging_classifier.fit(X_train, y_train)\n",
        "\n",
        "# Make predictions on the test set\n",
        "y_pred = bagging_classifier.predict(X_test)\n",
        "\n",
        "# Calculate and print the accuracy of the model\n",
        "accuracy = accuracy_score(y_test, y_pred)\n",
        "print(f\"Bagging Classifier Accuracy: {accuracy:.4f}\")"
      ],
      "execution_count": 3,
      "outputs": [
        {
          "output_type": "stream",
          "name": "stdout",
          "text": [
            "Bagging Classifier Accuracy: 0.8833\n"
          ]
        }
      ]
    },
    {
      "cell_type": "code",
      "source": [],
      "metadata": {
        "id": "8AhlGUrmYY6_"
      },
      "execution_count": null,
      "outputs": []
    },
    {
      "cell_type": "markdown",
      "metadata": {
        "id": "d424d6ff"
      },
      "source": [
        "### 2. Train a Bagging Regressor using Decision Trees and evaluate using Mean Squared Error (MSE)"
      ]
    },
    {
      "cell_type": "code",
      "metadata": {
        "colab": {
          "base_uri": "https://localhost:8080/"
        },
        "id": "5abaf9c3",
        "outputId": "24d28695-453e-4d78-f562-a3634e322183"
      },
      "source": [
        "# Import necessary libraries\n",
        "from sklearn.ensemble import BaggingRegressor\n",
        "from sklearn.tree import DecisionTreeRegressor\n",
        "from sklearn.datasets import make_regression\n",
        "from sklearn.model_selection import train_test_split\n",
        "from sklearn.metrics import mean_squared_error\n",
        "\n",
        "# Generate a sample regression dataset\n",
        "X, y = make_regression(n_samples=1000, n_features=20, n_informative=15, random_state=42)\n",
        "\n",
        "# Split the dataset into training and testing sets\n",
        "X_train, X_test, y_train, y_test = train_test_split(X, y, test_size=0.3, random_state=42)\n",
        "\n",
        "# Create a Decision Tree Regressor as the base estimator\n",
        "estimator = DecisionTreeRegressor()\n",
        "\n",
        "# Create a Bagging Regressor with 100 Decision Trees\n",
        "bagging_regressor = BaggingRegressor(estimator=estimator, n_estimators=100, random_state=42)\n",
        "\n",
        "# Train the Bagging Regressor\n",
        "bagging_regressor.fit(X_train, y_train)\n",
        "\n",
        "# Make predictions on the test set\n",
        "y_pred = bagging_regressor.predict(X_test)\n",
        "\n",
        "# Calculate and print the Mean Squared Error of the model\n",
        "mse = mean_squared_error(y_test, y_pred)\n",
        "print(f\"Bagging Regressor MSE: {mse:.4f}\")"
      ],
      "execution_count": 4,
      "outputs": [
        {
          "output_type": "stream",
          "name": "stdout",
          "text": [
            "Bagging Regressor MSE: 18067.6286\n"
          ]
        }
      ]
    },
    {
      "cell_type": "markdown",
      "metadata": {
        "id": "22f24b41"
      },
      "source": [
        "### 3. Train a Random Forest Classifier on the Breast Cancer dataset and print feature importance scores"
      ]
    },
    {
      "cell_type": "code",
      "metadata": {
        "colab": {
          "base_uri": "https://localhost:8080/"
        },
        "id": "189e1487",
        "outputId": "3b9046b7-4914-4808-c5c9-daf5a46de9be"
      },
      "source": [
        "# Import necessary libraries\n",
        "import pandas as pd\n",
        "from sklearn.ensemble import RandomForestClassifier\n",
        "from sklearn.datasets import load_breast_cancer\n",
        "from sklearn.model_selection import train_test_split\n",
        "\n",
        "# Load the Breast Cancer dataset\n",
        "cancer = load_breast_cancer()\n",
        "X = pd.DataFrame(cancer.data, columns=cancer.feature_names)\n",
        "y = cancer.target\n",
        "\n",
        "# Split the dataset into training and testing sets\n",
        "X_train, X_test, y_train, y_test = train_test_split(X, y, test_size=0.3, random_state=42)\n",
        "\n",
        "# Create a Random Forest Classifier\n",
        "rf_classifier = RandomForestClassifier(n_estimators=100, random_state=42)\n",
        "\n",
        "# Train the classifier\n",
        "rf_classifier.fit(X_train, y_train)\n",
        "\n",
        "# Get feature importances\n",
        "importances = rf_classifier.feature_importances_\n",
        "\n",
        "# Create a DataFrame for better visualization\n",
        "feature_importances = pd.DataFrame({'feature': X.columns, 'importance': importances})\n",
        "feature_importances = feature_importances.sort_values('importance', ascending=False)\n",
        "\n",
        "# Print the feature importances\n",
        "print(\"Feature Importances:\")\n",
        "print(feature_importances)"
      ],
      "execution_count": 5,
      "outputs": [
        {
          "output_type": "stream",
          "name": "stdout",
          "text": [
            "Feature Importances:\n",
            "                    feature  importance\n",
            "7       mean concave points    0.141934\n",
            "27     worst concave points    0.127136\n",
            "23               worst area    0.118217\n",
            "6            mean concavity    0.080557\n",
            "20             worst radius    0.077975\n",
            "22          worst perimeter    0.074292\n",
            "2            mean perimeter    0.060092\n",
            "3                 mean area    0.053810\n",
            "26          worst concavity    0.041080\n",
            "0               mean radius    0.032312\n",
            "13               area error    0.029538\n",
            "21            worst texture    0.018786\n",
            "25        worst compactness    0.017539\n",
            "10             radius error    0.016435\n",
            "28           worst symmetry    0.012929\n",
            "12          perimeter error    0.011770\n",
            "24         worst smoothness    0.011769\n",
            "1              mean texture    0.011064\n",
            "5          mean compactness    0.009216\n",
            "19  fractal dimension error    0.007135\n",
            "29  worst fractal dimension    0.006924\n",
            "4           mean smoothness    0.006223\n",
            "14         smoothness error    0.005881\n",
            "16          concavity error    0.005816\n",
            "15        compactness error    0.004596\n",
            "18           symmetry error    0.004001\n",
            "17     concave points error    0.003382\n",
            "8             mean symmetry    0.003278\n",
            "11            texture error    0.003172\n",
            "9    mean fractal dimension    0.003140\n"
          ]
        }
      ]
    },
    {
      "cell_type": "markdown",
      "metadata": {
        "id": "2392d4ae"
      },
      "source": [
        "### 4. Train a Random Forest Regressor and compare its performance with a single Decision Tree"
      ]
    },
    {
      "cell_type": "code",
      "metadata": {
        "colab": {
          "base_uri": "https://localhost:8080/"
        },
        "id": "9686d462",
        "outputId": "63d4c9ff-852a-48e6-fad6-d77f7d660696"
      },
      "source": [
        "# Import necessary libraries\n",
        "from sklearn.ensemble import RandomForestRegressor\n",
        "from sklearn.tree import DecisionTreeRegressor\n",
        "from sklearn.datasets import make_regression\n",
        "from sklearn.model_selection import train_test_split\n",
        "from sklearn.metrics import mean_squared_error\n",
        "\n",
        "# Generate a sample regression dataset\n",
        "X, y = make_regression(n_samples=1000, n_features=20, n_informative=15, random_state=42)\n",
        "\n",
        "# Split the dataset into training and testing sets\n",
        "X_train, X_test, y_train, y_test = train_test_split(X, y, test_size=0.3, random_state=42)\n",
        "\n",
        "# Create a Decision Tree Regressor\n",
        "dt_regressor = DecisionTreeRegressor(random_state=42)\n",
        "\n",
        "# Create a Random Forest Regressor\n",
        "rf_regressor = RandomForestRegressor(n_estimators=100, random_state=42)\n",
        "\n",
        "# Train both models\n",
        "dt_regressor.fit(X_train, y_train)\n",
        "rf_regressor.fit(X_train, y_train)\n",
        "\n",
        "# Make predictions\n",
        "y_pred_dt = dt_regressor.predict(X_test)\n",
        "y_pred_rf = rf_regressor.predict(X_test)\n",
        "\n",
        "# Evaluate the models\n",
        "mse_dt = mean_squared_error(y_test, y_pred_dt)\n",
        "mse_rf = mean_squared_error(y_test, y_pred_rf)\n",
        "\n",
        "# Print the results\n",
        "print(f\"Decision Tree Regressor MSE: {mse_dt:.4f}\")\n",
        "print(f\"Random Forest Regressor MSE: {mse_rf:.4f}\")"
      ],
      "execution_count": 6,
      "outputs": [
        {
          "output_type": "stream",
          "name": "stdout",
          "text": [
            "Decision Tree Regressor MSE: 53218.0891\n",
            "Random Forest Regressor MSE: 18100.3317\n"
          ]
        }
      ]
    },
    {
      "cell_type": "markdown",
      "metadata": {
        "id": "a13ab7cb"
      },
      "source": [
        "### 5. Compute the Out-of-Bag (OOB) Score for a Random Forest Classifier"
      ]
    },
    {
      "cell_type": "code",
      "metadata": {
        "colab": {
          "base_uri": "https://localhost:8080/"
        },
        "id": "7261a461",
        "outputId": "d7525f72-9964-4305-d72d-07fbdb75c8e7"
      },
      "source": [
        "# Import necessary libraries\n",
        "from sklearn.ensemble import RandomForestClassifier\n",
        "from sklearn.datasets import make_classification\n",
        "\n",
        "# Generate a sample dataset\n",
        "X, y = make_classification(n_samples=1000, n_features=20, n_informative=15, n_redundant=5, random_state=42)\n",
        "\n",
        "# Create a Random Forest Classifier with OOB score enabled\n",
        "rf_classifier_oob = RandomForestClassifier(n_estimators=100, oob_score=True, random_state=42)\n",
        "\n",
        "# Train the classifier\n",
        "rf_classifier_oob.fit(X, y)\n",
        "\n",
        "# Print the OOB score\n",
        "print(f\"Random Forest Classifier OOB Score: {rf_classifier_oob.oob_score_:.4f}\")"
      ],
      "execution_count": 7,
      "outputs": [
        {
          "output_type": "stream",
          "name": "stdout",
          "text": [
            "Random Forest Classifier OOB Score: 0.9030\n"
          ]
        }
      ]
    },
    {
      "cell_type": "markdown",
      "metadata": {
        "id": "0db3258c"
      },
      "source": [
        "### 6. Train a Bagging Classifier using SVM as a base estimator and print accuracy"
      ]
    },
    {
      "cell_type": "code",
      "metadata": {
        "colab": {
          "base_uri": "https://localhost:8080/"
        },
        "id": "fb01640e",
        "outputId": "0fae863d-7d33-4906-cbd8-55f1e61779ab"
      },
      "source": [
        "# Import necessary libraries\n",
        "from sklearn.ensemble import BaggingClassifier\n",
        "from sklearn.svm import SVC\n",
        "from sklearn.datasets import make_classification\n",
        "from sklearn.model_selection import train_test_split\n",
        "from sklearn.metrics import accuracy_score\n",
        "\n",
        "# Generate a sample dataset\n",
        "X, y = make_classification(n_samples=1000, n_features=20, n_informative=15, n_redundant=5, random_state=42)\n",
        "\n",
        "# Split the dataset into training and testing sets\n",
        "X_train, X_test, y_train, y_test = train_test_split(X, y, test_size=0.3, random_state=42)\n",
        "\n",
        "# Create an SVM classifier as the base estimator\n",
        "estimator = SVC()\n",
        "\n",
        "# Create a Bagging Classifier with 10 SVMs\n",
        "bagging_classifier_svm = BaggingClassifier(estimator=estimator, n_estimators=10, random_state=42)\n",
        "\n",
        "# Train the Bagging Classifier\n",
        "bagging_classifier_svm.fit(X_train, y_train)\n",
        "\n",
        "# Make predictions on the test set\n",
        "y_pred = bagging_classifier_svm.predict(X_test)\n",
        "\n",
        "# Calculate and print the accuracy of the model\n",
        "accuracy = accuracy_score(y_test, y_pred)\n",
        "print(f\"Bagging Classifier with SVM Accuracy: {accuracy:.4f}\")"
      ],
      "execution_count": 8,
      "outputs": [
        {
          "output_type": "stream",
          "name": "stdout",
          "text": [
            "Bagging Classifier with SVM Accuracy: 0.9300\n"
          ]
        }
      ]
    },
    {
      "cell_type": "markdown",
      "metadata": {
        "id": "616747e4"
      },
      "source": [
        "### 7. Train a Random Forest Classifier with different numbers of trees and compare accuracy"
      ]
    },
    {
      "cell_type": "code",
      "metadata": {
        "colab": {
          "base_uri": "https://localhost:8080/",
          "height": 655
        },
        "id": "db674095",
        "outputId": "183780b4-440e-4235-dfde-b911a6e5e302"
      },
      "source": [
        "# Import necessary libraries\n",
        "import matplotlib.pyplot as plt\n",
        "from sklearn.ensemble import RandomForestClassifier\n",
        "from sklearn.datasets import make_classification\n",
        "from sklearn.model_selection import train_test_split\n",
        "from sklearn.metrics import accuracy_score\n",
        "\n",
        "# Generate a sample dataset\n",
        "X, y = make_classification(n_samples=1000, n_features=20, n_informative=15, n_redundant=5, random_state=42)\n",
        "\n",
        "# Split the dataset into training and testing sets\n",
        "X_train, X_test, y_train, y_test = train_test_split(X, y, test_size=0.3, random_state=42)\n",
        "\n",
        "# Define the number of trees to try\n",
        "n_estimators_list = [1, 10, 50, 100, 200]\n",
        "\n",
        "# Store the accuracies\n",
        "accuracies = []\n",
        "\n",
        "# Train and evaluate a Random Forest Classifier for each number of trees\n",
        "for n_estimators in n_estimators_list:\n",
        "    rf_classifier = RandomForestClassifier(n_estimators=n_estimators, random_state=42)\n",
        "    rf_classifier.fit(X_train, y_train)\n",
        "    y_pred = rf_classifier.predict(X_test)\n",
        "    accuracy = accuracy_score(y_test, y_pred)\n",
        "    accuracies.append(accuracy)\n",
        "    print(f\"Accuracy with {n_estimators} trees: {accuracy:.4f}\")\n",
        "\n",
        "# Plot the results\n",
        "plt.figure(figsize=(10, 6))\n",
        "plt.plot(n_estimators_list, accuracies, marker='o')\n",
        "plt.title(\"Random Forest Accuracy vs. Number of Trees\")\n",
        "plt.xlabel(\"Number of Trees\")\n",
        "plt.ylabel(\"Accuracy\")\n",
        "plt.grid(True)\n",
        "plt.show()"
      ],
      "execution_count": 9,
      "outputs": [
        {
          "output_type": "stream",
          "name": "stdout",
          "text": [
            "Accuracy with 1 trees: 0.7500\n",
            "Accuracy with 10 trees: 0.8733\n",
            "Accuracy with 50 trees: 0.8900\n",
            "Accuracy with 100 trees: 0.8867\n",
            "Accuracy with 200 trees: 0.8900\n"
          ]
        },
        {
          "output_type": "display_data",
          "data": {
            "text/plain": [
              "<Figure size 1000x600 with 1 Axes>"
            ],
            "image/png": "[encoded data removed]"
          },
          "metadata": {}
        }
      ]
    },
    {
      "cell_type": "markdown",
      "metadata": {
        "id": "321fbff5"
      },
      "source": [
        "### 8. Train a Bagging Classifier using Logistic Regression as a base estimator and print AUC score"
      ]
    },
    {
      "cell_type": "code",
      "metadata": {
        "colab": {
          "base_uri": "https://localhost:8080/"
        },
        "id": "672fbba5",
        "outputId": "8aab9b0f-c9d1-4ec4-df98-9276e43c130c"
      },
      "source": [
        "# Import necessary libraries\n",
        "from sklearn.ensemble import BaggingClassifier\n",
        "from sklearn.linear_model import LogisticRegression\n",
        "from sklearn.datasets import make_classification\n",
        "from sklearn.model_selection import train_test_split\n",
        "from sklearn.metrics import roc_auc_score\n",
        "\n",
        "# Generate a sample dataset\n",
        "X, y = make_classification(n_samples=1000, n_features=20, n_informative=15, n_redundant=5, random_state=42)\n",
        "\n",
        "# Split the dataset into training and testing sets\n",
        "X_train, X_test, y_train, y_test = train_test_split(X, y, test_size=0.3, random_state=42)\n",
        "\n",
        "# Create a Logistic Regression classifier as the base estimator\n",
        "estimator = LogisticRegression()\n",
        "\n",
        "# Create a Bagging Classifier with 10 Logistic Regression models\n",
        "bagging_classifier_lr = BaggingClassifier(estimator=estimator, n_estimators=10, random_state=42)\n",
        "\n",
        "# Train the Bagging Classifier\n",
        "bagging_classifier_lr.fit(X_train, y_train)\n",
        "\n",
        "# Make predictions on the test set\n",
        "y_pred_proba = bagging_classifier_lr.predict_proba(X_test)[:, 1]\n",
        "\n",
        "# Calculate and print the AUC score\n",
        "auc_score = roc_auc_score(y_test, y_pred_proba)\n",
        "print(f\"Bagging Classifier with Logistic Regression AUC Score: {auc_score:.4f}\")"
      ],
      "execution_count": 10,
      "outputs": [
        {
          "output_type": "stream",
          "name": "stdout",
          "text": [
            "Bagging Classifier with Logistic Regression AUC Score: 0.9082\n"
          ]
        }
      ]
    },
    {
      "cell_type": "markdown",
      "metadata": {
        "id": "82b4a1fb"
      },
      "source": [
        "### 9. Train a Random Forest Regressor and analyze feature importance scores"
      ]
    },
    {
      "cell_type": "code",
      "metadata": {
        "colab": {
          "base_uri": "https://localhost:8080/"
        },
        "id": "705d2996",
        "outputId": "0f7f3ebf-a047-4b54-b668-3e0cb92f95d5"
      },
      "source": [
        "# Import necessary libraries\n",
        "import pandas as pd\n",
        "from sklearn.ensemble import RandomForestRegressor\n",
        "from sklearn.datasets import make_regression\n",
        "from sklearn.model_selection import train_test_split\n",
        "\n",
        "# Generate a sample regression dataset\n",
        "X, y = make_regression(n_samples=1000, n_features=20, n_informative=15, random_state=42)\n",
        "\n",
        "# Create a DataFrame for the features for better readability of importances\n",
        "X = pd.DataFrame(X, columns=[f'feature_{i}' for i in range(X.shape[1])])\n",
        "\n",
        "# Split the dataset into training and testing sets\n",
        "X_train, X_test, y_train, y_test = train_test_split(X, y, test_size=0.3, random_state=42)\n",
        "\n",
        "# Create a Random Forest Regressor\n",
        "rf_regressor = RandomForestRegressor(n_estimators=100, random_state=42)\n",
        "\n",
        "# Train the regressor\n",
        "rf_regressor.fit(X_train, y_train)\n",
        "\n",
        "# Get feature importances\n",
        "importances = rf_regressor.feature_importances_\n",
        "\n",
        "# Create a DataFrame for better visualization\n",
        "feature_importances = pd.DataFrame({'feature': X.columns, 'importance': importances})\n",
        "feature_importances = feature_importances.sort_values('importance', ascending=False)\n",
        "\n",
        "# Print the feature importances\n",
        "print(\"Feature Importances:\")\n",
        "print(feature_importances)"
      ],
      "execution_count": 11,
      "outputs": [
        {
          "output_type": "stream",
          "name": "stdout",
          "text": [
            "Feature Importances:\n",
            "       feature  importance\n",
            "16  feature_16    0.190003\n",
            "4    feature_4    0.130577\n",
            "15  feature_15    0.126785\n",
            "5    feature_5    0.097973\n",
            "2    feature_2    0.085739\n",
            "0    feature_0    0.066232\n",
            "10  feature_10    0.064616\n",
            "3    feature_3    0.039055\n",
            "19  feature_19    0.035280\n",
            "12  feature_12    0.025454\n",
            "18  feature_18    0.019812\n",
            "1    feature_1    0.015789\n",
            "8    feature_8    0.014896\n",
            "14  feature_14    0.014283\n",
            "13  feature_13    0.013981\n",
            "11  feature_11    0.013472\n",
            "7    feature_7    0.012320\n",
            "9    feature_9    0.011709\n",
            "17  feature_17    0.011434\n",
            "6    feature_6    0.010590\n"
          ]
        }
      ]
    },
    {
      "cell_type": "markdown",
      "metadata": {
        "id": "4c788f7a"
      },
      "source": [
        "### 10. Train an ensemble model using both Bagging and Random Forest and compare accuracy"
      ]
    },
    {
      "cell_type": "code",
      "metadata": {
        "colab": {
          "base_uri": "https://localhost:8080/"
        },
        "id": "b0f1dd1f",
        "outputId": "610538a4-e683-4187-ef50-4ef4bd0ac29b"
      },
      "source": [
        "# Import necessary libraries\n",
        "from sklearn.ensemble import BaggingClassifier, RandomForestClassifier\n",
        "from sklearn.tree import DecisionTreeClassifier\n",
        "from sklearn.datasets import make_classification\n",
        "from sklearn.model_selection import train_test_split\n",
        "from sklearn.metrics import accuracy_score\n",
        "\n",
        "# Generate a sample dataset\n",
        "X, y = make_classification(n_samples=1000, n_features=20, n_informative=15, n_redundant=5, random_state=42)\n",
        "\n",
        "# Split the dataset into training and testing sets\n",
        "X_train, X_test, y_train, y_test = train_test_split(X, y, test_size=0.3, random_state=42)\n",
        "\n",
        "# Create a Decision Tree Classifier as the base estimator for Bagging\n",
        "estimator = DecisionTreeClassifier()\n",
        "\n",
        "# Create a Bagging Classifier\n",
        "bagging_classifier = BaggingClassifier(estimator=estimator, n_estimators=100, random_state=42)\n",
        "\n",
        "# Create a Random Forest Classifier\n",
        "rf_classifier = RandomForestClassifier(n_estimators=100, random_state=42)\n",
        "\n",
        "# Train both models\n",
        "bagging_classifier.fit(X_train, y_train)\n",
        "rf_classifier.fit(X_train, y_train)\n",
        "\n",
        "# Make predictions\n",
        "y_pred_bagging = bagging_classifier.predict(X_test)\n",
        "y_pred_rf = rf_classifier.predict(X_test)\n",
        "\n",
        "# Evaluate the models\n",
        "accuracy_bagging = accuracy_score(y_test, y_pred_bagging)\n",
        "accuracy_rf = accuracy_score(y_test, y_pred_rf)\n",
        "\n",
        "# Print the results\n",
        "print(f\"Bagging Classifier Accuracy: {accuracy_bagging:.4f}\")\n",
        "print(f\"Random Forest Classifier Accuracy: {accuracy_rf:.4f}\")"
      ],
      "execution_count": 12,
      "outputs": [
        {
          "output_type": "stream",
          "name": "stdout",
          "text": [
            "Bagging Classifier Accuracy: 0.8833\n",
            "Random Forest Classifier Accuracy: 0.8867\n"
          ]
        }
      ]
    },
    {
      "cell_type": "markdown",
      "metadata": {
        "id": "c4a59188"
      },
      "source": [
        "### 1. Train a Random Forest Classifier and tune hyperparameters using GridSearchCV"
      ]
    },
    {
      "cell_type": "code",
      "metadata": {
        "colab": {
          "base_uri": "https://localhost:8080/"
        },
        "id": "df27aa8f",
        "outputId": "dfefc1f5-5b10-449d-a627-504291ee242e"
      },
      "source": [
        "# Import necessary libraries\n",
        "from sklearn.ensemble import RandomForestClassifier\n",
        "from sklearn.datasets import make_classification\n",
        "from sklearn.model_selection import train_test_split, GridSearchCV\n",
        "from sklearn.metrics import accuracy_score\n",
        "\n",
        "# Generate a sample dataset\n",
        "X, y = make_classification(n_samples=1000, n_features=20, n_informative=15, n_redundant=5, random_state=42)\n",
        "\n",
        "# Split the dataset into training and testing sets\n",
        "X_train, X_test, y_train, y_test = train_test_split(X, y, test_size=0.3, random_state=42)\n",
        "\n",
        "# Create a Random Forest Classifier\n",
        "rf_classifier = RandomForestClassifier(random_state=42)\n",
        "\n",
        "# Define the hyperparameter grid\n",
        "param_grid = {\n",
        "    'n_estimators': [50, 100, 200],\n",
        "    'max_depth': [None, 10, 20],\n",
        "    'min_samples_split': [2, 5, 10]\n",
        "}\n",
        "\n",
        "# Create a GridSearchCV object\n",
        "grid_search = GridSearchCV(estimator=rf_classifier, param_grid=param_grid, cv=5, n_jobs=-1, verbose=2)\n",
        "\n",
        "# Fit the GridSearchCV object to the training data\n",
        "grid_search.fit(X_train, y_train)\n",
        "\n",
        "# Get the best parameters\n",
        "best_params = grid_search.best_params_\n",
        "print(f\"Best parameters: {best_params}\")\n",
        "\n",
        "# Get the best estimator\n",
        "best_rf_classifier = grid_search.best_estimator_\n",
        "\n",
        "# Make predictions on the test set\n",
        "y_pred = best_rf_classifier.predict(X_test)\n",
        "\n",
        "# Calculate and print the accuracy of the model\n",
        "accuracy = accuracy_score(y_test, y_pred)\n",
        "print(f\"Random Forest Classifier with tuned hyperparameters Accuracy: {accuracy:.4f}\")"
      ],
      "execution_count": 13,
      "outputs": [
        {
          "output_type": "stream",
          "name": "stdout",
          "text": [
            "Fitting 5 folds for each of 27 candidates, totalling 135 fits\n",
            "Best parameters: {'max_depth': 10, 'min_samples_split': 2, 'n_estimators': 100}\n",
            "Random Forest Classifier with tuned hyperparameters Accuracy: 0.8767\n"
          ]
        }
      ]
    },
    {
      "cell_type": "markdown",
      "metadata": {
        "id": "73dc301f"
      },
      "source": [
        "### 2. Train a Bagging Regressor with different numbers of base estimators and compare performance"
      ]
    },
    {
      "cell_type": "code",
      "metadata": {
        "colab": {
          "base_uri": "https://localhost:8080/",
          "height": 649
        },
        "id": "052a85b4",
        "outputId": "70d8367f-9031-441d-958d-17a7051c1624"
      },
      "source": [
        "# Import necessary libraries\n",
        "import matplotlib.pyplot as plt\n",
        "from sklearn.ensemble import BaggingRegressor\n",
        "from sklearn.tree import DecisionTreeRegressor\n",
        "from sklearn.datasets import make_regression\n",
        "from sklearn.model_selection import train_test_split\n",
        "from sklearn.metrics import mean_squared_error\n",
        "\n",
        "# Generate a sample regression dataset\n",
        "X, y = make_regression(n_samples=1000, n_features=20, n_informative=15, random_state=42)\n",
        "\n",
        "# Split the dataset into training and testing sets\n",
        "X_train, X_test, y_train, y_test = train_test_split(X, y, test_size=0.3, random_state=42)\n",
        "\n",
        "# Define the number of base estimators to try\n",
        "n_estimators_list = [1, 10, 50, 100, 200]\n",
        "\n",
        "# Store the MSEs\n",
        "mses = []\n",
        "\n",
        "# Train and evaluate a Bagging Regressor for each number of estimators\n",
        "for n_estimators in n_estimators_list:\n",
        "    bagging_regressor = BaggingRegressor(estimator=DecisionTreeRegressor(), n_estimators=n_estimators, random_state=42)\n",
        "    bagging_regressor.fit(X_train, y_train)\n",
        "    y_pred = bagging_regressor.predict(X_test)\n",
        "    mse = mean_squared_error(y_test, y_pred)\n",
        "    mses.append(mse)\n",
        "    print(f\"MSE with {n_estimators} estimators: {mse:.4f}\")\n",
        "\n",
        "# Plot the results\n",
        "plt.figure(figsize=(10, 6))\n",
        "plt.plot(n_estimators_list, mses, marker='o')\n",
        "plt.title(\"Bagging Regressor MSE vs. Number of Estimators\")\n",
        "plt.xlabel(\"Number of Estimators\")\n",
        "plt.ylabel(\"Mean Squared Error\")\n",
        "plt.grid(True)\n",
        "plt.show()"
      ],
      "execution_count": 14,
      "outputs": [
        {
          "output_type": "stream",
          "name": "stdout",
          "text": [
            "MSE with 1 estimators: 54806.2745\n",
            "MSE with 10 estimators: 22358.3613\n",
            "MSE with 50 estimators: 18665.0730\n",
            "MSE with 100 estimators: 18067.6286\n",
            "MSE with 200 estimators: 17708.2755\n"
          ]
        },
        {
          "output_type": "display_data",
          "data": {
            "text/plain": [
              "<Figure size 1000x600 with 1 Axes>"
            ],
            "image/png": "[encoded data removed]"
          },
          "metadata": {}
        }
      ]
    },
    {
      "cell_type": "markdown",
      "metadata": {
        "id": "e698a3a3"
      },
      "source": [
        "### 3. Train a Random Forest Classifier and analyze misclassified samples"
      ]
    },
    {
      "cell_type": "code",
      "metadata": {
        "colab": {
          "base_uri": "https://localhost:8080/"
        },
        "id": "71fad159",
        "outputId": "d1ca585a-1b25-45b0-d5f2-bf20b6d7ea9d"
      },
      "source": [
        "# Import necessary libraries\n",
        "import numpy as np\n",
        "from sklearn.ensemble import RandomForestClassifier\n",
        "from sklearn.datasets import make_classification\n",
        "from sklearn.model_selection import train_test_split\n",
        "\n",
        "# Generate a sample dataset\n",
        "X, y = make_classification(n_samples=1000, n_features=20, n_informative=15, n_redundant=5, random_state=42)\n",
        "\n",
        "# Split the dataset into training and testing sets\n",
        "X_train, X_test, y_train, y_test = train_test_split(X, y, test_size=0.3, random_state=42)\n",
        "\n",
        "# Create a Random Forest Classifier\n",
        "rf_classifier = RandomForestClassifier(n_estimators=100, random_state=42)\n",
        "\n",
        "# Train the classifier\n",
        "rf_classifier.fit(X_train, y_train)\n",
        "\n",
        "# Make predictions on the test set\n",
        "y_pred = rf_classifier.predict(X_test)\n",
        "\n",
        "# Find misclassified samples\n",
        "misclassified_indices = np.where(y_pred != y_test)[0]\n",
        "misclassified_samples = X_test[misclassified_indices]\n",
        "misclassified_true_labels = y_test[misclassified_indices]\n",
        "misclassified_predicted_labels = y_pred[misclassified_indices]\n",
        "\n",
        "# Print some information about the misclassified samples\n",
        "print(f\"Number of misclassified samples: {len(misclassified_indices)}\")\n",
        "print(\"\\nExamples of misclassified samples:\")\n",
        "for i in range(min(5, len(misclassified_indices))):\n",
        "    print(f\"  Sample {misclassified_indices[i]}:\")\n",
        "    print(f\"    Features: {misclassified_samples[i]}\")\n",
        "    print(f\"    True Label: {misclassified_true_labels[i]}, Predicted Label: {misclassified_predicted_labels[i]}\")"
      ],
      "execution_count": 15,
      "outputs": [
        {
          "output_type": "stream",
          "name": "stdout",
          "text": [
            "Number of misclassified samples: 34\n",
            "\n",
            "Examples of misclassified samples:\n",
            "  Sample 2:\n",
            "    Features: [ 5.67299393  4.29576916 -0.93771644 -2.56473975  0.84115617 -1.8749157\n",
            " -0.66473264  0.07863369 -3.06165509 -1.46568467 -2.31329701 -0.18437048\n",
            " -0.56177596 -1.20007067  1.95911799 -2.264274   -2.90840899  1.3016205\n",
            " -1.87046287  1.49681456]\n",
            "    True Label: 1, Predicted Label: 0\n",
            "  Sample 11:\n",
            "    Features: [ 1.86641194  5.27750293 -1.35629798 -0.05389045  0.95412249  1.52892754\n",
            " -0.55452126 -1.11319276  1.75333728 -2.14539004 -1.22811048 -1.91197904\n",
            "  1.293324   -3.23046237  2.99410138  2.67254829  0.92525266  7.91161179\n",
            " -2.09792893  4.05674564]\n",
            "    True Label: 1, Predicted Label: 0\n",
            "  Sample 22:\n",
            "    Features: [ 2.26074311  6.76833621  0.46273979  2.21028919  3.3731058   2.82452793\n",
            "  0.66240848  0.69835114  1.91927565 -3.00970155  2.46177714 -4.58611524\n",
            " -3.32994894 -0.62482443  1.16587984 -3.60993817  1.71831059 -1.11396561\n",
            " -0.72044715 -2.76569429]\n",
            "    True Label: 0, Predicted Label: 1\n",
            "  Sample 39:\n",
            "    Features: [ 5.94599609  3.01920148  0.96751112  0.15121716  2.69434119 -2.68449563\n",
            "  2.53827458  3.81093217  1.17490532 -0.50322339  3.04424348 -3.91372224\n",
            "  1.58978915 -0.22853318  5.67877208 -2.834238   -2.32126791 -6.54845342\n",
            "  0.52409603 -2.25566221]\n",
            "    True Label: 0, Predicted Label: 1\n",
            "  Sample 46:\n",
            "    Features: [ 2.04750229  4.66468766  0.14463599  1.71576002 -0.77373961 -2.26234477\n",
            "  1.56228638  1.90850977 -2.10343722 -2.75417424  0.64774888 -2.60640396\n",
            "  0.19533731 -1.85477979  2.22043477 -6.99198776  1.42144636 -1.47788271\n",
            " -1.08059449  0.19524634]\n",
            "    True Label: 1, Predicted Label: 0\n"
          ]
        }
      ]
    },
    {
      "cell_type": "markdown",
      "metadata": {
        "id": "112c6078"
      },
      "source": [
        "### 4. Train a Bagging Classifier and compare its performance with a single Decision Tree Classifier"
      ]
    },
    {
      "cell_type": "code",
      "metadata": {
        "colab": {
          "base_uri": "https://localhost:8080/"
        },
        "id": "0160e8ec",
        "outputId": "fd0a113d-8abe-4823-85e2-7160d7c92429"
      },
      "source": [
        "# Import necessary libraries\n",
        "from sklearn.ensemble import BaggingClassifier\n",
        "from sklearn.tree import DecisionTreeClassifier\n",
        "from sklearn.datasets import make_classification\n",
        "from sklearn.model_selection import train_test_split\n",
        "from sklearn.metrics import accuracy_score\n",
        "\n",
        "# Generate a sample dataset\n",
        "X, y = make_classification(n_samples=1000, n_features=20, n_informative=15, n_redundant=5, random_state=42)\n",
        "\n",
        "# Split the dataset into training and testing sets\n",
        "X_train, X_test, y_train, y_test = train_test_split(X, y, test_size=0.3, random_state=42)\n",
        "\n",
        "# Create a Decision Tree Classifier\n",
        "dt_classifier = DecisionTreeClassifier(random_state=42)\n",
        "\n",
        "# Create a Bagging Classifier with Decision Trees\n",
        "bagging_classifier = BaggingClassifier(estimator=DecisionTreeClassifier(), n_estimators=100, random_state=42)\n",
        "\n",
        "# Train both models\n",
        "dt_classifier.fit(X_train, y_train)\n",
        "bagging_classifier.fit(X_train, y_train)\n",
        "\n",
        "# Make predictions\n",
        "y_pred_dt = dt_classifier.predict(X_test)\n",
        "y_pred_bagging = bagging_classifier.predict(X_test)\n",
        "\n",
        "# Evaluate the models\n",
        "accuracy_dt = accuracy_score(y_test, y_pred_dt)\n",
        "accuracy_bagging = accuracy_score(y_test, y_pred_bagging)\n",
        "\n",
        "# Print the results\n",
        "print(f\"Single Decision Tree Classifier Accuracy: {accuracy_dt:.4f}\")\n",
        "print(f\"Bagging Classifier Accuracy: {accuracy_bagging:.4f}\")"
      ],
      "execution_count": 16,
      "outputs": [
        {
          "output_type": "stream",
          "name": "stdout",
          "text": [
            "Single Decision Tree Classifier Accuracy: 0.7967\n",
            "Bagging Classifier Accuracy: 0.8833\n"
          ]
        }
      ]
    },
    {
      "cell_type": "markdown",
      "metadata": {
        "id": "e8f8493d"
      },
      "source": [
        "### 5. Train a Random Forest Classifier and visualize the confusion matrix"
      ]
    },
    {
      "cell_type": "code",
      "metadata": {
        "colab": {
          "base_uri": "https://localhost:8080/",
          "height": 582
        },
        "id": "2347fb86",
        "outputId": "c1cb7fa0-2983-46f4-eedc-631102755843"
      },
      "source": [
        "# Import necessary libraries\n",
        "import matplotlib.pyplot as plt\n",
        "import seaborn as sns\n",
        "from sklearn.ensemble import RandomForestClassifier\n",
        "from sklearn.datasets import make_classification\n",
        "from sklearn.model_selection import train_test_split\n",
        "from sklearn.metrics import confusion_matrix, accuracy_score\n",
        "\n",
        "# Generate a sample dataset\n",
        "X, y = make_classification(n_samples=1000, n_features=20, n_informative=15, n_redundant=5, random_state=42)\n",
        "\n",
        "# Split the dataset into training and testing sets\n",
        "X_train, X_test, y_train, y_test = train_test_split(X, y, test_size=0.3, random_state=42)\n",
        "\n",
        "# Create a Random Forest Classifier\n",
        "rf_classifier = RandomForestClassifier(n_estimators=100, random_state=42)\n",
        "\n",
        "# Train the classifier\n",
        "rf_classifier.fit(X_train, y_train)\n",
        "\n",
        "# Make predictions on the test set\n",
        "y_pred = rf_classifier.predict(X_test)\n",
        "\n",
        "# Calculate the confusion matrix\n",
        "cm = confusion_matrix(y_test, y_pred)\n",
        "\n",
        "# Get the accuracy\n",
        "accuracy = accuracy_score(y_test, y_pred)\n",
        "print(f\"Random Forest Classifier Accuracy: {accuracy:.4f}\")\n",
        "\n",
        "# Plot the confusion matrix\n",
        "plt.figure(figsize=(8, 6))\n",
        "sns.heatmap(cm, annot=True, fmt='d', cmap='Blues')\n",
        "plt.title(\"Confusion Matrix\")\n",
        "plt.xlabel(\"Predicted Label\")\n",
        "plt.ylabel(\"True Label\")\n",
        "plt.show()"
      ],
      "execution_count": 17,
      "outputs": [
        {
          "output_type": "stream",
          "name": "stdout",
          "text": [
            "Random Forest Classifier Accuracy: 0.8867\n"
          ]
        },
        {
          "output_type": "display_data",
          "data": {
            "text/plain": [
              "<Figure size 800x600 with 2 Axes>"
            ],
            "image/png": "[encoded data removed]"
          },
          "metadata": {}
        }
      ]
    },
    {
      "cell_type": "markdown",
      "metadata": {
        "id": "e4322ef6"
      },
      "source": [
        "### 6. Train a Stacking Classifier using Decision Trees, SVM, and Logistic Regression, and compare accuracy"
      ]
    },
    {
      "cell_type": "code",
      "metadata": {
        "colab": {
          "base_uri": "https://localhost:8080/"
        },
        "id": "dad608fe",
        "outputId": "05caaf3c-40e8-499d-e44c-d3ea0d6e2838"
      },
      "source": [
        "# Import necessary libraries\n",
        "from sklearn.ensemble import StackingClassifier\n",
        "from sklearn.tree import DecisionTreeClassifier\n",
        "from sklearn.svm import SVC\n",
        "from sklearn.linear_model import LogisticRegression\n",
        "from sklearn.datasets import make_classification\n",
        "from sklearn.model_selection import train_test_split\n",
        "from sklearn.metrics import accuracy_score\n",
        "\n",
        "# Generate a sample dataset\n",
        "X, y = make_classification(n_samples=1000, n_features=20, n_informative=15, n_redundant=5, random_state=42)\n",
        "\n",
        "# Split the dataset into training and testing sets\n",
        "X_train, X_test, y_train, y_test = train_test_split(X, y, test_size=0.3, random_state=42)\n",
        "\n",
        "# Define the base estimators\n",
        "estimators = [\n",
        "    ('dt', DecisionTreeClassifier(random_state=42)),\n",
        "    ('svm', SVC(probability=True, random_state=42)),\n",
        "    ('lr', LogisticRegression(random_state=42))\n",
        "]\n",
        "\n",
        "# Create a Stacking Classifier\n",
        "stacking_classifier = StackingClassifier(estimators=estimators, final_estimator=LogisticRegression())\n",
        "\n",
        "# Train the Stacking Classifier\n",
        "stacking_classifier.fit(X_train, y_train)\n",
        "\n",
        "# Make predictions on the test set\n",
        "y_pred = stacking_classifier.predict(X_test)\n",
        "\n",
        "# Calculate and print the accuracy of the model\n",
        "accuracy = accuracy_score(y_test, y_pred)\n",
        "print(f\"Stacking Classifier Accuracy: {accuracy:.4f}\")"
      ],
      "execution_count": 18,
      "outputs": [
        {
          "output_type": "stream",
          "name": "stdout",
          "text": [
            "Stacking Classifier Accuracy: 0.9400\n"
          ]
        }
      ]
    },
    {
      "cell_type": "markdown",
      "metadata": {
        "id": "6605ef20"
      },
      "source": [
        "### 7. Train a Random Forest Classifier and print the top 5 most important features"
      ]
    },
    {
      "cell_type": "code",
      "metadata": {
        "colab": {
          "base_uri": "https://localhost:8080/"
        },
        "id": "bac0167d",
        "outputId": "f2ae9b2f-73dc-40d9-e086-daed26ff0eec"
      },
      "source": [
        "# Import necessary libraries\n",
        "import pandas as pd\n",
        "from sklearn.ensemble import RandomForestClassifier\n",
        "from sklearn.datasets import make_classification\n",
        "from sklearn.model_selection import train_test_split\n",
        "\n",
        "# Generate a sample dataset\n",
        "X, y = make_classification(n_samples=1000, n_features=20, n_informative=15, n_redundant=5, random_state=42)\n",
        "\n",
        "# Create a DataFrame for the features for better readability\n",
        "X = pd.DataFrame(X, columns=[f'feature_{i}' for i in range(X.shape[1])])\n",
        "\n",
        "# Split the dataset into training and testing sets\n",
        "X_train, X_test, y_train, y_test = train_test_split(X, y, test_size=0.3, random_state=42)\n",
        "\n",
        "# Create a Random Forest Classifier\n",
        "rf_classifier = RandomForestClassifier(n_estimators=100, random_state=42)\n",
        "\n",
        "# Train the classifier\n",
        "rf_classifier.fit(X_train, y_train)\n",
        "\n",
        "# Get feature importances\n",
        "importances = rf_classifier.feature_importances_\n",
        "\n",
        "# Create a DataFrame for better visualization\n",
        "feature_importances = pd.DataFrame({'feature': X.columns, 'importance': importances})\n",
        "feature_importances = feature_importances.sort_values('importance', ascending=False)\n",
        "\n",
        "# Print the top 5 most important features\n",
        "print(\"Top 5 most important features:\")\n",
        "print(feature_importances.head(5))"
      ],
      "execution_count": 19,
      "outputs": [
        {
          "output_type": "stream",
          "name": "stdout",
          "text": [
            "Top 5 most important features:\n",
            "       feature  importance\n",
            "12  feature_12    0.134124\n",
            "6    feature_6    0.067935\n",
            "2    feature_2    0.067285\n",
            "5    feature_5    0.066582\n",
            "17  feature_17    0.058248\n"
          ]
        }
      ]
    },
    {
      "cell_type": "markdown",
      "metadata": {
        "id": "80c72ae1"
      },
      "source": [
        "### 8. Train a Bagging Classifier and evaluate performance using Precision, Recall, and F1-score"
      ]
    },
    {
      "cell_type": "code",
      "metadata": {
        "colab": {
          "base_uri": "https://localhost:8080/"
        },
        "id": "369c621f",
        "outputId": "677b0a47-2094-4234-b87c-0acb393bf0bb"
      },
      "source": [
        "# Import necessary libraries\n",
        "from sklearn.ensemble import BaggingClassifier\n",
        "from sklearn.tree import DecisionTreeClassifier\n",
        "from sklearn.datasets import make_classification\n",
        "from sklearn.model_selection import train_test_split\n",
        "from sklearn.metrics import precision_score, recall_score, f1_score\n",
        "\n",
        "# Generate a sample dataset\n",
        "X, y = make_classification(n_samples=1000, n_features=20, n_informative=15, n_redundant=5, random_state=42)\n",
        "\n",
        "# Split the dataset into training and testing sets\n",
        "X_train, X_test, y_train, y_test = train_test_split(X, y, test_size=0.3, random_state=42)\n",
        "\n",
        "# Create a Bagging Classifier with Decision Trees\n",
        "bagging_classifier = BaggingClassifier(estimator=DecisionTreeClassifier(), n_estimators=100, random_state=42)\n",
        "\n",
        "# Train the model\n",
        "bagging_classifier.fit(X_train, y_train)\n",
        "\n",
        "# Make predictions\n",
        "y_pred = bagging_classifier.predict(X_test)\n",
        "\n",
        "# Calculate and print the performance metrics\n",
        "precision = precision_score(y_test, y_pred)\n",
        "recall = recall_score(y_test, y_pred)\n",
        "f1 = f1_score(y_test, y_pred)\n",
        "\n",
        "print(f\"Bagging Classifier Precision: {precision:.4f}\")\n",
        "print(f\"Bagging Classifier Recall: {recall:.4f}\")\n",
        "print(f\"Bagging Classifier F1-score: {f1:.4f}\")"
      ],
      "execution_count": 20,
      "outputs": [
        {
          "output_type": "stream",
          "name": "stdout",
          "text": [
            "Bagging Classifier Precision: 0.8621\n",
            "Bagging Classifier Recall: 0.8929\n",
            "Bagging Classifier F1-score: 0.8772\n"
          ]
        }
      ]
    },
    {
      "cell_type": "markdown",
      "metadata": {
        "id": "ebd31b68"
      },
      "source": [
        "### 9. Train a Random Forest Classifier and analyze the effect of max_depth on accuracy"
      ]
    },
    {
      "cell_type": "code",
      "metadata": {
        "colab": {
          "base_uri": "https://localhost:8080/",
          "height": 655
        },
        "id": "9d3aa4da",
        "outputId": "54c39772-c379-480e-8f84-923d937fcfc0"
      },
      "source": [
        "# Import necessary libraries\n",
        "import matplotlib.pyplot as plt\n",
        "from sklearn.ensemble import RandomForestClassifier\n",
        "from sklearn.datasets import make_classification\n",
        "from sklearn.model_selection import train_test_split\n",
        "from sklearn.metrics import accuracy_score\n",
        "\n",
        "# Generate a sample dataset\n",
        "X, y = make_classification(n_samples=1000, n_features=20, n_informative=15, n_redundant=5, random_state=42)\n",
        "\n",
        "# Split the dataset into training and testing sets\n",
        "X_train, X_test, y_train, y_test = train_test_split(X, y, test_size=0.3, random_state=42)\n",
        "\n",
        "# Define the max_depth values to try\n",
        "max_depth_list = [2, 5, 10, 20, None]\n",
        "\n",
        "# Store the accuracies\n",
        "accuracies = []\n",
        "\n",
        "# Train and evaluate a Random Forest Classifier for each max_depth value\n",
        "for max_depth in max_depth_list:\n",
        "    rf_classifier = RandomForestClassifier(n_estimators=100, max_depth=max_depth, random_state=42)\n",
        "    rf_classifier.fit(X_train, y_train)\n",
        "    y_pred = rf_classifier.predict(X_test)\n",
        "    accuracy = accuracy_score(y_test, y_pred)\n",
        "    accuracies.append(accuracy)\n",
        "    print(f\"Accuracy with max_depth={max_depth}: {accuracy:.4f}\")\n",
        "\n",
        "# Plot the results\n",
        "plt.figure(figsize=(10, 6))\n",
        "plt.plot([str(d) for d in max_depth_list], accuracies, marker='o')\n",
        "plt.title(\"Random Forest Accuracy vs. Max Depth\")\n",
        "plt.xlabel(\"Max Depth\")\n",
        "plt.ylabel(\"Accuracy\")\n",
        "plt.grid(True)\n",
        "plt.show()"
      ],
      "execution_count": 21,
      "outputs": [
        {
          "output_type": "stream",
          "name": "stdout",
          "text": [
            "Accuracy with max_depth=2: 0.7900\n",
            "Accuracy with max_depth=5: 0.8633\n",
            "Accuracy with max_depth=10: 0.8767\n",
            "Accuracy with max_depth=20: 0.8867\n",
            "Accuracy with max_depth=None: 0.8867\n"
          ]
        },
        {
          "output_type": "display_data",
          "data": {
            "text/plain": [
              "<Figure size 1000x600 with 1 Axes>"
            ],
            "image/png": "[encoded data removed]"
          },
          "metadata": {}
        }
      ]
    },
    {
      "cell_type": "markdown",
      "metadata": {
        "id": "f918a757"
      },
      "source": [
        "### 10. Train a Bagging Regressor using different base estimators (DecisionTree and KNeighbors) and compare performance"
      ]
    },
    {
      "cell_type": "code",
      "metadata": {
        "colab": {
          "base_uri": "https://localhost:8080/"
        },
        "id": "4a150402",
        "outputId": "b7b5412c-57fe-4e65-a17a-2a27783189f1"
      },
      "source": [
        "# Import necessary libraries\n",
        "from sklearn.ensemble import BaggingRegressor\n",
        "from sklearn.tree import DecisionTreeRegressor\n",
        "from sklearn.neighbors import KNeighborsRegressor\n",
        "from sklearn.datasets import make_regression\n",
        "from sklearn.model_selection import train_test_split\n",
        "from sklearn.metrics import mean_squared_error\n",
        "\n",
        "# Generate a sample regression dataset\n",
        "X, y = make_regression(n_samples=1000, n_features=20, n_informative=15, random_state=42)\n",
        "\n",
        "# Split the dataset into training and testing sets\n",
        "X_train, X_test, y_train, y_test = train_test_split(X, y, test_size=0.3, random_state=42)\n",
        "\n",
        "# Create the base estimators\n",
        "dt_estimator = DecisionTreeRegressor()\n",
        "knn_estimator = KNeighborsRegressor()\n",
        "\n",
        "# Create Bagging Regressors with different base estimators\n",
        "bagging_dt = BaggingRegressor(estimator=dt_estimator, n_estimators=10, random_state=42)\n",
        "bagging_knn = BaggingRegressor(estimator=knn_estimator, n_estimators=10, random_state=42)\n",
        "\n",
        "# Train the models\n",
        "bagging_dt.fit(X_train, y_train)\n",
        "bagging_knn.fit(X_train, y_train)\n",
        "\n",
        "# Make predictions\n",
        "y_pred_dt = bagging_dt.predict(X_test)\n",
        "y_pred_knn = bagging_knn.predict(X_test)\n",
        "\n",
        "# Evaluate the models\n",
        "mse_dt = mean_squared_error(y_test, y_pred_dt)\n",
        "mse_knn = mean_squared_error(y_test, y_pred_knn)\n",
        "\n",
        "# Print the results\n",
        "print(f\"Bagging Regressor with Decision Tree MSE: {mse_dt:.4f}\")\n",
        "print(f\"Bagging Regressor with KNeighbors Regressor MSE: {mse_knn:.4f}\")"
      ],
      "execution_count": 22,
      "outputs": [
        {
          "output_type": "stream",
          "name": "stdout",
          "text": [
            "Bagging Regressor with Decision Tree MSE: 22358.3613\n",
            "Bagging Regressor with KNeighbors Regressor MSE: 18503.1170\n"
          ]
        }
      ]
    },
    {
      "cell_type": "markdown",
      "metadata": {
        "id": "f3039e21"
      },
      "source": [
        "### 11. Train a Random Forest Classifier and evaluate its performance using ROC-AUC Score"
      ]
    },
    {
      "cell_type": "code",
      "metadata": {
        "colab": {
          "base_uri": "https://localhost:8080/"
        },
        "id": "d5b9ccce",
        "outputId": "c313f715-6926-42ab-97b3-b34a525a00c3"
      },
      "source": [
        "# Import necessary libraries\n",
        "from sklearn.ensemble import RandomForestClassifier\n",
        "from sklearn.datasets import make_classification\n",
        "from sklearn.model_selection import train_test_split\n",
        "from sklearn.metrics import roc_auc_score\n",
        "\n",
        "# Generate a sample dataset\n",
        "X, y = make_classification(n_samples=1000, n_features=20, n_informative=15, n_redundant=5, random_state=42)\n",
        "\n",
        "# Split the dataset into training and testing sets\n",
        "X_train, X_test, y_train, y_test = train_test_split(X, y, test_size=0.3, random_state=42)\n",
        "\n",
        "# Create a Random Forest Classifier\n",
        "rf_classifier = RandomForestClassifier(n_estimators=100, random_state=42)\n",
        "\n",
        "# Train the classifier\n",
        "rf_classifier.fit(X_train, y_train)\n",
        "\n",
        "# Make predictions on the test set\n",
        "y_pred_proba = rf_classifier.predict_proba(X_test)[:, 1]\n",
        "\n",
        "# Calculate and print the AUC score\n",
        "auc_score = roc_auc_score(y_test, y_pred_proba)\n",
        "print(f\"Random Forest Classifier ROC-AUC Score: {auc_score:.4f}\")"
      ],
      "execution_count": 23,
      "outputs": [
        {
          "output_type": "stream",
          "name": "stdout",
          "text": [
            "Random Forest Classifier ROC-AUC Score: 0.9647\n"
          ]
        }
      ]
    },
    {
      "cell_type": "markdown",
      "metadata": {
        "id": "2ae83c72"
      },
      "source": [
        "### 12. Train a Bagging Classifier and evaluate its performance using cross-validation"
      ]
    },
    {
      "cell_type": "code",
      "metadata": {
        "colab": {
          "base_uri": "https://localhost:8080/"
        },
        "id": "426ecfb1",
        "outputId": "796b29af-fb6e-422c-cc47-b94d053c4434"
      },
      "source": [
        "# Import necessary libraries\n",
        "from sklearn.ensemble import BaggingClassifier\n",
        "from sklearn.tree import DecisionTreeClassifier\n",
        "from sklearn.datasets import make_classification\n",
        "from sklearn.model_selection import cross_val_score\n",
        "\n",
        "# Generate a sample dataset\n",
        "X, y = make_classification(n_samples=1000, n_features=20, n_informative=15, n_redundant=5, random_state=42)\n",
        "\n",
        "# Create a Bagging Classifier with Decision Trees\n",
        "bagging_classifier = BaggingClassifier(estimator=DecisionTreeClassifier(), n_estimators=100, random_state=42)\n",
        "\n",
        "# Perform 5-fold cross-validation\n",
        "scores = cross_val_score(bagging_classifier, X, y, cv=5)\n",
        "\n",
        "# Print the cross-validation scores\n",
        "print(f\"Cross-validation scores: {scores}\")\n",
        "print(f\"Average cross-validation score: {scores.mean():.4f}\")"
      ],
      "execution_count": 24,
      "outputs": [
        {
          "output_type": "stream",
          "name": "stdout",
          "text": [
            "Cross-validation scores: [0.86  0.895 0.915 0.885 0.905]\n",
            "Average cross-validation score: 0.8920\n"
          ]
        }
      ]
    },
    {
      "cell_type": "markdown",
      "metadata": {
        "id": "ca684da3"
      },
      "source": [
        "### 13. Train a Random Forest Classifier and plot the Precision-Recall curve"
      ]
    },
    {
      "cell_type": "code",
      "metadata": {
        "colab": {
          "base_uri": "https://localhost:8080/",
          "height": 564
        },
        "id": "52f2cd6a",
        "outputId": "56a7765a-06b0-4756-844d-07bf17a16b50"
      },
      "source": [
        "# Import necessary libraries\n",
        "import matplotlib.pyplot as plt\n",
        "from sklearn.ensemble import RandomForestClassifier\n",
        "from sklearn.datasets import make_classification\n",
        "from sklearn.model_selection import train_test_split\n",
        "from sklearn.metrics import precision_recall_curve\n",
        "\n",
        "# Generate a sample dataset\n",
        "X, y = make_classification(n_samples=1000, n_features=20, n_informative=15, n_redundant=5, random_state=42)\n",
        "\n",
        "# Split the dataset into training and testing sets\n",
        "X_train, X_test, y_train, y_test = train_test_split(X, y, test_size=0.3, random_state=42)\n",
        "\n",
        "# Create a Random Forest Classifier\n",
        "rf_classifier = RandomForestClassifier(n_estimators=100, random_state=42)\n",
        "\n",
        "# Train the classifier\n",
        "rf_classifier.fit(X_train, y_train)\n",
        "\n",
        "# Make predictions on the test set\n",
        "y_pred_proba = rf_classifier.predict_proba(X_test)[:, 1]\n",
        "\n",
        "# Calculate precision and recall\n",
        "precision, recall, _ = precision_recall_curve(y_test, y_pred_proba)\n",
        "\n",
        "# Plot the Precision-Recall curve\n",
        "plt.figure(figsize=(8, 6))\n",
        "plt.plot(recall, precision, marker='.')\n",
        "plt.title(\"Precision-Recall Curve\")\n",
        "plt.xlabel(\"Recall\")\n",
        "plt.ylabel(\"Precision\")\n",
        "plt.grid(True)\n",
        "plt.show()"
      ],
      "execution_count": 25,
      "outputs": [
        {
          "output_type": "display_data",
          "data": {
            "text/plain": [
              "<Figure size 800x600 with 1 Axes>"
            ],
            "image/png": "[encoded data removed]"
          },
          "metadata": {}
        }
      ]
    },
    {
      "cell_type": "markdown",
      "metadata": {
        "id": "a4f2703f"
      },
      "source": [
        "### 14. Train a Stacking Classifier with Random Forest and Logistic Regression and compare accuracy"
      ]
    },
    {
      "cell_type": "code",
      "metadata": {
        "colab": {
          "base_uri": "https://localhost:8080/"
        },
        "id": "419d67fe",
        "outputId": "6b0ad4f1-fd67-4164-8c93-a759bbe3cbe4"
      },
      "source": [
        "# Import necessary libraries\n",
        "from sklearn.ensemble import StackingClassifier\n",
        "from sklearn.ensemble import RandomForestClassifier\n",
        "from sklearn.linear_model import LogisticRegression\n",
        "from sklearn.datasets import make_classification\n",
        "from sklearn.model_selection import train_test_split\n",
        "from sklearn.metrics import accuracy_score\n",
        "\n",
        "# Generate a sample dataset\n",
        "X, y = make_classification(n_samples=1000, n_features=20, n_informative=15, n_redundant=5, random_state=42)\n",
        "\n",
        "# Split the dataset into training and testing sets\n",
        "X_train, X_test, y_train, y_test = train_test_split(X, y, test_size=0.3, random_state=42)\n",
        "\n",
        "# Define the base estimators\n",
        "estimators = [\n",
        "    ('rf', RandomForestClassifier(n_estimators=10, random_state=42)),\n",
        "    ('lr', LogisticRegression(random_state=42))\n",
        "]\n",
        "\n",
        "# Create a Stacking Classifier\n",
        "stacking_classifier = StackingClassifier(estimators=estimators, final_estimator=LogisticRegression())\n",
        "\n",
        "# Train the Stacking Classifier\n",
        "stacking_classifier.fit(X_train, y_train)\n",
        "\n",
        "# Make predictions on the test set\n",
        "y_pred = stacking_classifier.predict(X_test)\n",
        "\n",
        "# Calculate and print the accuracy of the model\n",
        "accuracy = accuracy_score(y_test, y_pred)\n",
        "print(f\"Stacking Classifier Accuracy: {accuracy:.4f}\")"
      ],
      "execution_count": 26,
      "outputs": [
        {
          "output_type": "stream",
          "name": "stdout",
          "text": [
            "Stacking Classifier Accuracy: 0.8867\n"
          ]
        }
      ]
    },
    {
      "cell_type": "markdown",
      "metadata": {
        "id": "70df32cd"
      },
      "source": [
        "### 15. Train a Bagging Regressor with different levels of bootstrap samples and compare performance"
      ]
    },
    {
      "cell_type": "code",
      "metadata": {
        "colab": {
          "base_uri": "https://localhost:8080/",
          "height": 667
        },
        "id": "39241ae6",
        "outputId": "2a0bcfc7-18a9-4682-db71-ff5e6e76248b"
      },
      "source": [
        "# Import necessary libraries\n",
        "import matplotlib.pyplot as plt\n",
        "from sklearn.ensemble import BaggingRegressor\n",
        "from sklearn.tree import DecisionTreeRegressor\n",
        "from sklearn.datasets import make_regression\n",
        "from sklearn.model_selection import train_test_split\n",
        "from sklearn.metrics import mean_squared_error\n",
        "\n",
        "# Generate a sample regression dataset\n",
        "X, y = make_regression(n_samples=1000, n_features=20, n_informative=15, random_state=42)\n",
        "\n",
        "# Split the dataset into training and testing sets\n",
        "X_train, X_test, y_train, y_test = train_test_split(X, y, test_size=0.3, random_state=42)\n",
        "\n",
        "# Define the different levels of bootstrap samples to try\n",
        "max_samples_list = [0.1, 0.3, 0.5, 0.7, 0.9, 1.0]\n",
        "\n",
        "# Store the MSEs\n",
        "mses = []\n",
        "\n",
        "# Train and evaluate a Bagging Regressor for each level of bootstrap samples\n",
        "for max_samples in max_samples_list:\n",
        "    bagging_regressor = BaggingRegressor(\n",
        "        estimator=DecisionTreeRegressor(),\n",
        "        n_estimators=100,\n",
        "        max_samples=max_samples,\n",
        "        random_state=42\n",
        "    )\n",
        "    bagging_regressor.fit(X_train, y_train)\n",
        "    y_pred = bagging_regressor.predict(X_test)\n",
        "    mse = mean_squared_error(y_test, y_pred)\n",
        "    mses.append(mse)\n",
        "    print(f\"MSE with max_samples={max_samples}: {mse:.4f}\")\n",
        "\n",
        "# Plot the results\n",
        "plt.figure(figsize=(10, 6))\n",
        "plt.plot(max_samples_list, mses, marker='o')\n",
        "plt.title(\"Bagging Regressor MSE vs. Max Samples\")\n",
        "plt.xlabel(\"Max Samples\")\n",
        "plt.ylabel(\"Mean Squared Error\")\n",
        "plt.grid(True)\n",
        "plt.show()"
      ],
      "execution_count": 27,
      "outputs": [
        {
          "output_type": "stream",
          "name": "stdout",
          "text": [
            "MSE with max_samples=0.1: 23084.3373\n",
            "MSE with max_samples=0.3: 19918.6498\n",
            "MSE with max_samples=0.5: 19175.5528\n",
            "MSE with max_samples=0.7: 18533.3648\n",
            "MSE with max_samples=0.9: 18474.4050\n",
            "MSE with max_samples=1.0: 18067.6286\n"
          ]
        },
        {
          "output_type": "display_data",
          "data": {
            "text/plain": [
              "<Figure size 1000x600 with 1 Axes>"
            ],
            "image/png": "[encoded data removed]"
          },
          "metadata": {}
        }
      ]
    }
  ]
}