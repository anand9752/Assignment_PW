{
 "cells": [
  {
   "cell_type": "markdown",
   "metadata": {},
   "source": [
    "# Python Basics - Practical Questions with Answers"
   ]
  },
  {
   "cell_type": "markdown",
   "metadata": {},
   "source": [
    "## 1. Write a Python program to print \"Hello, World!\""
   ]
  },
  {
   "cell_type": "code",
   "execution_count": 1,
   "metadata": {},
   "outputs": [
    {
     "name": "stdout",
     "output_type": "stream",
     "text": [
      "Hello, World!\n"
     ]
    }
   ],
   "source": [
    "print(\"Hello, World!\")"
   ]
  },
  {
   "cell_type": "markdown",
   "metadata": {},
   "source": [
    "## 2. Write a Python program that displays your name and age"
   ]
  },
  {
   "cell_type": "code",
   "execution_count": 2,
   "metadata": {},
   "outputs": [
    {
     "name": "stdout",
     "output_type": "stream",
     "text": [
      "My name is John Doe and I am 25 years old.\n"
     ]
    }
   ],
   "source": [
    "name = \"John Doe\"\n",
    "age = 25\n",
    "print(f\"My name is {name} and I am {age} years old.\")"
   ]
  },
  {
   "cell_type": "markdown",
   "metadata": {},
   "source": [
    "## 3. Write code to print all the pre-defined keywords in Python using the keyword library"
   ]
  },
  {
   "cell_type": "code",
   "execution_count": 3,
   "metadata": {},
   "outputs": [
    {
     "name": "stdout",
     "output_type": "stream",
     "text": [
      "['False', 'None', 'True', 'and', 'as', 'assert', 'async', 'await', 'break', 'class', 'continue', 'def', 'del', 'elif', 'else', 'except', 'finally', 'for', 'from', 'global', 'if', 'import', 'in', 'is', 'lambda', 'nonlocal', 'not', 'or', 'pass', 'raise', 'return', 'try', 'while', 'with', 'yield']\n"
     ]
    }
   ],
   "source": [
    "import keyword\n",
    "print(keyword.kwlist)"
   ]
  },
  {
   "cell_type": "markdown",
   "metadata": {},
   "source": [
    "## 4. Write a program that checks if a given word is a Python keyword"
   ]
  },
  {
   "cell_type": "code",
   "execution_count": 4,
   "metadata": {},
   "outputs": [
    {
     "name": "stdout",
     "output_type": "stream",
     "text": [
      "'if' is a Python keyword.\n",
      "'variable' is not a Python keyword.\n"
     ]
    }
   ],
   "source": [
    "import keyword\n",
    "\n",
    "def is_keyword(word):\n",
    "    if keyword.iskeyword(word):\n",
    "        print(f\"'{word}' is a Python keyword.\")\n",
    "    else:\n",
    "        print(f\"'{word}' is not a Python keyword.\")\n",
    "\n",
    "# Test with two words\n",
    "is_keyword(\"if\")\n",
    "is_keyword(\"variable\")"
   ]
  },
  {
   "cell_type": "markdown",
   "metadata": {},
   "source": [
    "## 5. Create a list and tuple in Python, and demonstrate how attempting to change an element works differently for each"
   ]
  },
  {
   "cell_type": "code",
   "execution_count": 5,
   "metadata": {},
   "outputs": [
    {
     "name": "stdout",
     "output_type": "stream",
     "text": [
      "Original list: [1, 2, 3, 4]\n",
      "Modified list: [1, 22, 3, 4]\n",
      "\n",
      "Original tuple: (1, 2, 3, 4)\n"
     ]
    },
    {
     "ename": "TypeError",
     "evalue": "'tuple' object does not support item assignment",
     "output_type": "error",
     "traceback": [
      "\u001b[1;31m---------------------------------------------------------------------------\u001b[0m",
      "\u001b[1;31mTypeError\u001b[0m                                 Traceback (most recent call last)",
      "\u001b[1;32m<ipython-input-5-9bbece43b66d>\u001b[0m in \u001b[0;36m<module>\u001b[1;34m\u001b[0m\n\u001b[0;32m     10\u001b[0m \u001b[0mprint\u001b[0m\u001b[1;33m(\u001b[0m\u001b[1;34m\"\\nOriginal tuple:\"\u001b[0m\u001b[1;33m,\u001b[0m \u001b[0mmy_tuple\u001b[0m\u001b[1;33m)\u001b[0m\u001b[1;33m\u001b[0m\u001b[1;33m\u001b[0m\u001b[0m\n\u001b[0;32m     11\u001b[0m \u001b[1;32mtry\u001b[0m\u001b[1;33m:\u001b[0m\u001b[1;33m\u001b[0m\u001b[1;33m\u001b[0m\u001b[0m\n\u001b[1;32m---> 12\u001b[1;33m     \u001b[0mmy_tuple\u001b[0m\u001b[1;33m[\u001b[0m\u001b[1;36m1\u001b[0m\u001b[1;33m]\u001b[0m \u001b[1;33m=\u001b[0m \u001b[1;36m22\u001b[0m  \u001b[1;31m# This will cause an error\u001b[0m\u001b[1;33m\u001b[0m\u001b[1;33m\u001b[0m\u001b[0m\n\u001b[0m\u001b[0;32m     13\u001b[0m     \u001b[0mprint\u001b[0m\u001b[1;33m(\u001b[0m\u001b[1;34m\"Modified tuple:\"\u001b[0m\u001b[1;33m,\u001b[0m \u001b[0mmy_tuple\u001b[0m\u001b[1;33m)\u001b[0m\u001b[1;33m\u001b[0m\u001b[1;33m\u001b[0m\u001b[0m\n\u001b[0;32m     14\u001b[0m \u001b[1;32mexcept\u001b[0m \u001b[0mTypeError\u001b[0m \u001b[1;32mas\u001b[0m \u001b[0me\u001b[0m\u001b[1;33m:\u001b[0m\u001b[1;33m\u001b[0m\u001b[1;33m\u001b[0m\u001b[0m\n",
      "\u001b[1;31mTypeError\u001b[0m: 'tuple' object does not support item assignment"
     ]
    }
   ],
   "source": [
    "# Creating a list\n",
    "my_list = [1, 2, 3, 4]\n",
    "print(\"Original list:\", my_list)\n",
    "\n",
    "# Modifying a list element\n",
    "my_list[1] = 22\n",
    "print(\"Modified list:\", my_list)\n",
    "\n",
    "# Creating a tuple\n",
    "my_tuple = (1, 2, 3, 4)\n",
    "print(\"\\nOriginal tuple:\", my_tuple)\n",
    "try:\n",
    "    my_tuple[1] = 22  # This will cause an error\n",
    "    print(\"Modified tuple:\", my_tuple)\n",
    "except TypeError as e:\n",
    "    print(\"Error:\", e)"
   ]
  },
  {
   "cell_type": "markdown",
   "metadata": {},
   "source": [
    "## 6. Write a function to demonstrate the behavior of mutable and immutable arguments"
   ]
  },
  {
   "cell_type": "code",
   "execution_count": 6,
   "metadata": {},
   "outputs": [
    {
     "name": "stdout",
     "output_type": "stream",
     "text": [
      "Inside function, mutable_arg = [1, 2, 3, 4]\n",
      "Inside function, immutable_arg = 11\n",
      "\n",
      "Outside function, mutable_arg = [1, 2, 3, 4]\n",
      "Outside function, immutable_arg = 10\n"
     ]
    }
   ],
   "source": [
    "def demonstrate_mutability(mutable_arg, immutable_arg):\n",
    "    # Modify mutable argument\n",
    "    mutable_arg.append(4)\n",
    "    print(f\"Inside function, mutable_arg = {mutable_arg}\")\n",
    "    \n",
    "    # Try to modify immutable argument\n",
    "    immutable_arg += 1\n",
    "    print(f\"Inside function, immutable_arg = {immutable_arg}\")\n",
    "\n",
    "# Define arguments\n",
    "mutable_list = [1, 2, 3]\n",
    "immutable_int = 10\n",
    "\n",
    "# Call function\n",
    "demonstrate_mutability(mutable_list, immutable_int)\n",
    "\n",
    "# Check values after function call\n",
    "print(f\"\\nOutside function, mutable_arg = {mutable_list}\")\n",
    "print(f\"Outside function, immutable_arg = {immutable_int}\")"
   ]
  },
  {
   "cell_type": "markdown",
   "metadata": {},
   "source": [
    "## 7. Write a program that performs basic arithmetic operations on two user-input numbers"
   ]
  },
  {
   "cell_type": "code",
   "execution_count": 7,
   "metadata": {},
   "outputs": [
    {
     "name": "stdout",
     "output_type": "stream",
     "text": [
      "Enter first number: 10\n",
      "Enter second number: 5\n",
      "\n",
      "Arithmetic Operations:\n",
      "10 + 5 = 15\n",
      "10 - 5 = 5\n",
      "10 * 5 = 50\n",
      "10 / 5 = 2.0\n",
      "10 % 5 = 0\n",
      "10 ** 5 = 100000\n",
      "10 // 5 = 2\n"
     ]
    }
   ],
   "source": [
    "# Get user input\n",
    "num1 = float(input(\"Enter first number: \"))\n",
    "num2 = float(input(\"Enter second number: \"))\n",
    "\n",
    "# Perform operations\n",
    "addition = num1 + num2\n",
    "subtraction = num1 - num2\n",
    "multiplication = num1 * num2\n",
    "division = num1 / num2\n",
    "modulus = num1 % num2\n",
    "exponentiation = num1 ** num2\n",
    "floor_division = num1 // num2\n",
    "\n",
    "# Display results\n",
    "print(\"\\nArithmetic Operations:\")\n",
    "print(f\"{num1} + {num2} = {addition}\")\n",
    "print(f\"{num1} - {num2} = {subtraction}\")\n",
    "print(f\"{num1} * {num2} = {multiplication}\")\n",
    "print(f\"{num1} / {num2} = {division}\")\n",
    "print(f\"{num1} % {num2} = {modulus}\")\n",
    "print(f\"{num1} ** {num2} = {exponentiation}\")\n",
    "print(f\"{num1} // {num2} = {floor_division}\")"
   ]
  },
  {
   "cell_type": "markdown",
   "metadata": {},
   "source": [
    "## 8. Write a program to demonstrate the use of logical operators"
   ]
  },
  {
   "cell_type": "code",
   "execution_count": 8,
   "metadata": {},
   "outputs": [
    {
     "name": "stdout",
     "output_type": "stream",
     "text": [
      "Enter a number: 15\n",
      "\n",
      "Logical Operators Demonstration:\n",
      "Is the number between 10 and 20? True\n",
      "Is the number greater than 50 or divisible by 5? True\n",
      "Is the number not divisible by 3? False\n"
     ]
    }
   ],
   "source": [
    "# Get user input\n",
    "num = int(input(\"Enter a number: \"))\n",
    "\n",
    "# Demonstrate logical operators\n",
    "between_10_and_20 = num > 10 and num < 20\n",
    "greater_than_50_or_divisible_by_5 = num > 50 or num % 5 == 0\n",
    "not_divisible_by_3 = not (num % 3 == 0)\n",
    "\n",
    "# Display results\n",
    "print(\"\\nLogical Operators Demonstration:\")\n",
    "print(f\"Is the number between 10 and 20? {between_10_and_20}\")\n",
    "print(f\"Is the number greater than 50 or divisible by 5? {greater_than_50_or_divisible_by_5}\")\n",
    "print(f\"Is the number not divisible by 3? {not_divisible_by_3}\")"
   ]
  },
  {
   "cell_type": "markdown",
   "metadata": {},
   "source": [
    "## 9. Write a Python program to convert user input from string to integer, float, and boolean types"
   ]
  },
  {
   "cell_type": "code",
   "execution_count": 9,
   "metadata": {},
   "outputs": [
    {
     "name": "stdout",
     "output_type": "stream",
     "text": [
      "Enter a number: 42\n",
      "Enter a decimal number: 3.14\n",
      "Enter True or False: True\n",
      "\n",
      "Converted values:\n",
      "To integer: 42 (type: <class 'int'>)\n",
      "To float: 3.14 (type: <class 'float'>)\n",
      "To boolean: True (type: <class 'bool'>)\n"
     ]
    }
   ],
   "source": [
    "# Get user input\n",
    "str_int = input(\"Enter a number: \")\n",
    "str_float = input(\"Enter a decimal number: \")\n",
    "str_bool = input(\"Enter True or False: \")\n",
    "\n",
    "# Convert to different types\n",
    "int_value = int(str_int)\n",
    "float_value = float(str_float)\n",
    "bool_value = True if str_bool.lower() == \"true\" else False\n",
    "\n",
    "# Display results\n",
    "print(\"\\nConverted values:\")\n",
    "print(f\"To integer: {int_value} (type: {type(int_value)})\")\n",
    "print(f\"To float: {float_value} (type: {type(float_value)})\")\n",
    "print(f\"To boolean: {bool_value} (type: {type(bool_value)})\")"
   ]
  },
  {
   "cell_type": "markdown",
   "metadata": {},
   "source": [
    "## 10. Write code to demonstrate type casting with list elements"
   ]
  },
  {
   "cell_type": "code",
   "execution_count": 2,
   "metadata": {},
   "outputs": [
    {
     "name": "stdout",
     "output_type": "stream",
     "text": [
      "\n",
      "Converted elements:\n",
      "To integer: 1 (type: <class 'int'>)\n",
      "To float: 2.5 (type: <class 'float'>)\n",
      "To string: Hello (type: <class 'str'>)\n",
      "To boolean: True (type: <class 'bool'>)\n"
     ]
    }
   ],
   "source": [
    "# Write code to demonstrate type casting with list elements?\n",
    "# Define a list with different types of elements\n",
    "mixed_list = ['1', '2.5', \"Hello\", \"True\"]\n",
    "\n",
    "# Convert each element to a different type\n",
    "int_element = int(mixed_list[0])\n",
    "float_element = float(mixed_list[1])\n",
    "str_element = str(mixed_list[2])\n",
    "bool_element = bool(mixed_list[3])\n",
    "\n",
    "print(\"\\nConverted elements:\")\n",
    "print(f\"To integer: {int_element} (type: {type(int_element)})\") \n",
    "print(f\"To float: {float_element} (type: {type(float_element)})\")\n",
    "print(f\"To string: {str_element} (type: {type(str_element)})\")\n",
    "print(f\"To boolean: {bool_element} (type: {type(bool_element)})\")\n",
    "\n"
   ]
  },
  {
   "cell_type": "markdown",
   "metadata": {},
   "source": [
    "## 11. Write a program that checks if a number is positive, negative, or zero"
   ]
  },
  {
   "cell_type": "code",
   "execution_count": 11,
   "metadata": {},
   "outputs": [
    {
     "name": "stdout",
     "output_type": "stream",
     "text": [
      "Enter a number: -5\n",
      "-5.0 is a negative number.\n"
     ]
    }
   ],
   "source": [
    "# Get user input\n",
    "number = float(input(\"Enter a number: \"))\n",
    "\n",
    "# Check if positive, negative, or zero\n",
    "if number > 0:\n",
    "    print(f\"{number} is a positive number.\")\n",
    "elif number < 0:\n",
    "    print(f\"{number} is a negative number.\")\n",
    "else:\n",
    "    print(\"The number is zero.\")"
   ]
  },
  {
   "cell_type": "markdown",
   "metadata": {},
   "source": [
    "## 12. Write a for loop to print numbers from 1 to 10"
   ]
  },
  {
   "cell_type": "code",
   "execution_count": 12,
   "metadata": {},
   "outputs": [
    {
     "name": "stdout",
     "output_type": "stream",
     "text": [
      "1\n",
      "2\n",
      "3\n",
      "4\n",
      "5\n",
      "6\n",
      "7\n",
      "8\n",
      "9\n",
      "10\n"
     ]
    }
   ],
   "source": [
    "for i in range(1, 11):\n",
    "    print(i)"
   ]
  },
  {
   "cell_type": "markdown",
   "metadata": {},
   "source": [
    "## 13. Write a Python program to find the sum of all even numbers between 1 and 50"
   ]
  },
  {
   "cell_type": "code",
   "execution_count": 13,
   "metadata": {},
   "outputs": [
    {
     "name": "stdout",
     "output_type": "stream",
     "text": [
      "The sum of all even numbers between 1 and 50 is 650\n"
     ]
    }
   ],
   "source": [
    "# Initialize sum\n",
    "sum_of_evens = 0\n",
    "\n",
    "# Find even numbers and sum them\n",
    "for num in range(1, 51):\n",
    "    if num % 2 == 0:  # Check if number is even\n",
    "        sum_of_evens += num\n",
    "\n",
    "print(f\"The sum of all even numbers between 1 and 50 is {sum_of_evens}\")"
   ]
  },
  {
   "cell_type": "markdown",
   "metadata": {},
   "source": [
    "## 14. Write a program to reverse a string using a while loop"
   ]
  },
  {
   "cell_type": "code",
   "execution_count": 14,
   "metadata": {},
   "outputs": [
    {
     "name": "stdout",
     "output_type": "stream",
     "text": [
      "Enter a string: Hello World\n",
      "Reversed string: dlroW olleH\n"
     ]
    }
   ],
   "source": [
    "# Get user input\n",
    "original_string = input(\"Enter a string: \")\n",
    "\n",
    "# Initialize variables\n",
    "reversed_string = \"\"\n",
    "index = len(original_string) - 1\n",
    "\n",
    "# Use while loop to reverse string\n",
    "while index >= 0:\n",
    "    reversed_string += original_string[index]\n",
    "    index -= 1\n",
    "\n",
    "print(f\"Reversed string: {reversed_string}\")"
   ]
  },
  {
   "cell_type": "markdown",
   "metadata": {},
   "source": [
    "## 15. Write a Python program to calculate the factorial of a number provided by the user using a while loop"
   ]
  },
  {
   "cell_type": "code",
   "execution_count": 15,
   "metadata": {},
   "outputs": [
    {
     "name": "stdout",
     "output_type": "stream",
     "text": [
      "Enter a non-negative integer: 5\n",
      "The factorial of 5 is 120\n"
     ]
    }
   ],
   "source": [
    "# Get user input\n",
    "num = int(input(\"Enter a non-negative integer: \"))\n",
    "\n",
    "# Check if input is valid\n",
    "if num < 0:\n",
    "    print(\"Factorial is not defined for negative numbers.\")\n",
    "else:\n",
    "    # Initialize variables\n",
    "    factorial = 1\n",
    "    counter = 1\n",
    "    \n",
    "    # Calculate factorial using while loop\n",
    "    while counter <= num:\n",
    "        factorial *= counter\n",
    "        counter += 1\n",
    "    \n",
    "    print(f\"The factorial of {num} is {factorial}\")"
   ]
  }
 ],
 "metadata": {
  "kernelspec": {
   "display_name": "Python 3",
   "language": "python",
   "name": "python3"
  },
  "language_info": {
   "codemirror_mode": {
    "name": "ipython",
    "version": 3
   },
   "file_extension": ".py",
   "mimetype": "text/x-python",
   "name": "python",
   "nbconvert_exporter": "python",
   "pygments_lexer": "ipython3",
   "version": "3.13.2"
  }
 },
 "nbformat": 4,
 "nbformat_minor": 4
}
