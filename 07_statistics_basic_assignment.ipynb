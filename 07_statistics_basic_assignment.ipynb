{
 "cells": [
  {
   "cell_type": "markdown",
   "metadata": {},
   "source": [
    "# Statistics Basics: Theory and Practice\n",
    "\n"
   ]
  },
  {
   "cell_type": "markdown",
   "metadata": {},
   "source": [
    "## Theory Questions\n",
    "\n",
    "### 1. What is statistics, and why is it important?\n",
    "\n",
    "Statistics is the science of collecting, analyzing, interpreting, and presenting data. It provides methods for understanding patterns, relationships, and trends within data. \n",
    "\n",
    "**Importance of Statistics:**\n",
    "- Helps in making informed decisions based on data rather than intuition\n",
    "- Enables prediction of future trends based on historical data\n",
    "- Facilitates testing of hypotheses and theories\n",
    "- Provides tools to quantify uncertainty and variability\n",
    "- Essential in fields such as science, business, medicine, economics, and social sciences"
   ]
  },
  {
   "cell_type": "markdown",
   "metadata": {},
   "source": [
    "### 2. What are the two main types of statistics?\n",
    "\n",
    "The two main types of statistics are:\n",
    "\n",
    "1. **Descriptive Statistics**: Involves methods for organizing, summarizing, and presenting data in a meaningful way. It describes the main features of the data without making inferences beyond what is observed.\n",
    "\n",
    "2. **Inferential Statistics**: Involves using data from a sample to make inferences, predictions, or generalizations about a larger population. It deals with methods of drawing conclusions about populations based on sample data."
   ]
  },
  {
   "cell_type": "markdown",
   "metadata": {},
   "source": [
    "### 3. What are descriptive statistics?\n",
    "\n",
    "Descriptive statistics are methods used to summarize and describe the main features of a dataset. They provide simple summaries about the sample and the measures, forming the basis of virtually every quantitative analysis of data.\n",
    "\n",
    "**Key components of descriptive statistics:**\n",
    "\n",
    "1. **Measures of Central Tendency**: Mean, median, and mode\n",
    "2. **Measures of Dispersion**: Range, variance, standard deviation, interquartile range\n",
    "3. **Measures of Shape**: Skewness and kurtosis\n",
    "4. **Graphical Representations**: Histograms, bar charts, scatter plots, box plots\n",
    "\n",
    "Descriptive statistics helps in simplifying large amounts of data into a simpler, more understandable format."
   ]
  },
  {
   "cell_type": "markdown",
   "metadata": {},
   "source": [
    "### 4. What is inferential statistics?\n",
    "\n",
    "Inferential statistics is the process of using data from a sample to make inferences about a larger population. It allows statisticians to make predictions, test hypotheses, and draw conclusions that extend beyond the data that was actually collected.\n",
    "\n",
    "**Key concepts in inferential statistics:**\n",
    "\n",
    "1. **Probability**: The foundation for making inferences\n",
    "2. **Sampling Distributions**: The theoretical distribution of a statistic calculated from repeated sampling\n",
    "3. **Hypothesis Testing**: A method for testing a claim about a parameter\n",
    "4. **Confidence Intervals**: Ranges of values that are likely to contain the true population parameter\n",
    "5. **Regression Analysis**: A technique for investigating relationships between variables\n",
    "\n",
    "Inferential statistics is crucial when it's impractical or impossible to examine every member of an entire population."
   ]
  },
  {
   "cell_type": "markdown",
   "metadata": {},
   "source": [
    "### 5. What is sampling in statistics?\n",
    "\n",
    "Sampling is the process of selecting a subset of individuals or items from a larger population to estimate characteristics of the whole population. Rather than examining every member of a population (which would be a census), statisticians use sampling to make inferences about the population.\n",
    "\n",
    "**Key aspects of sampling:**\n",
    "\n",
    "1. **Population**: The entire group that is the subject of study\n",
    "2. **Sample**: A subset of the population selected for study\n",
    "3. **Sampling Frame**: The list of all members of the population from which a sample is drawn\n",
    "4. **Sampling Error**: The difference between a sample statistic and its corresponding population parameter\n",
    "5. **Sample Size**: The number of observations in a sample (denoted by n)\n",
    "\n",
    "Proper sampling techniques are essential for ensuring that the sample is representative of the entire population, which increases the accuracy of inferences."
   ]
  },
  {
   "cell_type": "markdown",
   "metadata": {},
   "source": [
    "### 6. What are the different types of sampling methods?\n",
    "\n",
    "There are several sampling methods, broadly categorized into probability (random) and non-probability (non-random) sampling:\n",
    "\n",
    "**Probability Sampling Methods:**\n",
    "1. **Simple Random Sampling**: Every individual or item in the population has an equal chance of being selected.\n",
    "2. **Systematic Sampling**: Selecting elements at regular intervals after randomly selecting a starting point.\n",
    "3. **Stratified Sampling**: Dividing the population into subgroups (strata) and selecting samples from each stratum.\n",
    "4. **Cluster Sampling**: Dividing the population into clusters, randomly selecting some clusters, and including all elements from those clusters.\n",
    "5. **Multistage Sampling**: Using multiple stages of selection, often combining different sampling methods.\n",
    "\n",
    "**Non-probability Sampling Methods:**\n",
    "1. **Convenience Sampling**: Selecting easily accessible individuals or items.\n",
    "2. **Judgmental/Purposive Sampling**: Using expert judgment to select representative samples.\n",
    "3. **Quota Sampling**: Selecting individuals according to preset quotas for specific characteristics.\n",
    "4. **Snowball Sampling**: Participants recruit additional participants from their networks.\n",
    "5. **Voluntary Response Sampling**: Individuals self-select to participate in the study."
   ]
  },
  {
   "cell_type": "markdown",
   "metadata": {},
   "source": [
    "### 7. What is the difference between random and non-random sampling?\n",
    "\n",
    "**Random (Probability) Sampling:**\n",
    "- Every member of the population has a known, non-zero probability of being selected\n",
    "- Selection is based on chance, eliminating selection bias\n",
    "- Allows for statistical inference about the population\n",
    "- Sampling error can be calculated\n",
    "- Methods include simple random, systematic, stratified, and cluster sampling\n",
    "- Generally more time-consuming and expensive\n",
    "\n",
    "**Non-random (Non-probability) Sampling:**\n",
    "- Selection is based on subjective judgment, not random chance\n",
    "- Not every member of the population has a known probability of being selected\n",
    "- Prone to selection bias and not representative of the entire population\n",
    "- Cannot reliably make statistical inferences about the population\n",
    "- Sampling error cannot be calculated\n",
    "- Methods include convenience, purposive, quota, and snowball sampling\n",
    "- Generally quicker and less expensive\n",
    "\n",
    "The main difference is that random sampling provides a statistical basis for making inferences about the population, while non-random sampling does not."
   ]
  },
  {
   "cell_type": "markdown",
   "metadata": {},
   "source": [
    "### 8. Define and give examples of qualitative and quantitative data\n",
    "\n",
    "**Qualitative Data (Categorical Data):**\n",
    "Data that describes qualities or characteristics and cannot be measured numerically.\n",
    "\n",
    "Examples:\n",
    "- Gender (male, female, non-binary)\n",
    "- Blood type (A, B, AB, O)\n",
    "- Marital status (single, married, divorced)\n",
    "- Colors (red, blue, green)\n",
    "- Responses to yes/no questions\n",
    "- Nationality or ethnicity\n",
    "\n",
    "**Quantitative Data (Numerical Data):**\n",
    "Data that can be measured or counted numerically and used in calculations.\n",
    "\n",
    "Examples:\n",
    "- Age in years\n",
    "- Height in centimeters\n",
    "- Weight in kilograms\n",
    "- Temperature in degrees\n",
    "- Income in dollars\n",
    "- Number of children in a family\n",
    "- Test scores (75%, 85%, etc.)"
   ]
  },
  {
   "cell_type": "markdown",
   "metadata": {},
   "source": [
    "### 9. What are the different types of data in statistics?\n",
    "\n",
    "In statistics, data can be classified into different types based on nature and measurement levels:\n",
    "\n",
    "**Based on Nature:**\n",
    "1. **Qualitative (Categorical)**: Describes qualities or characteristics\n",
    "   - **Nominal**: Categories with no inherent order (e.g., gender, ethnicity)\n",
    "   - **Ordinal**: Categories with a natural order (e.g., education level, satisfaction ratings)\n",
    "   \n",
    "2. **Quantitative (Numerical)**: Represents quantities that can be measured\n",
    "   - **Discrete**: Takes specific, countable values (e.g., number of children, count of items)\n",
    "   - **Continuous**: Can take any value within a range (e.g., height, weight, temperature)\n",
    "\n",
    "**Based on Measurement Level:**\n",
    "1. **Nominal**: Categories with no natural order (e.g., colors, genders)\n",
    "2. **Ordinal**: Categories with a natural order but no consistent difference between values (e.g., rankings, grades)\n",
    "3. **Interval**: Numeric scale with equal intervals but no true zero point (e.g., temperature in Celsius, IQ scores)\n",
    "4. **Ratio**: Numeric scale with equal intervals and a true zero point (e.g., height, weight, age)"
   ]
  },
  {
   "cell_type": "markdown",
   "metadata": {},
   "source": [
    "### 10. Explain nominal, ordinal, interval, and ratio levels of measurement\n",
    "\n",
    "**1. Nominal Level:**\n",
    "- Data categorized without any natural order\n",
    "- Only allows for equality comparisons (= or ≠)\n",
    "- Examples: Gender, ethnicity, blood type, marital status\n",
    "- Statistical operations: Mode, frequency counts, chi-square tests\n",
    "\n",
    "**2. Ordinal Level:**\n",
    "- Data categorized with a natural, meaningful order\n",
    "- Allows for equality and order comparisons (=, ≠, >, <)\n",
    "- Differences between values aren't consistent or meaningful\n",
    "- Examples: Education level (high school, bachelor's, master's), satisfaction ratings (poor, fair, good, excellent)\n",
    "- Statistical operations: Median, percentiles, rank correlation\n",
    "\n",
    "**3. Interval Level:**\n",
    "- Numeric data with equal intervals between consecutive values\n",
    "- Has an arbitrary zero point (zero doesn't indicate absence of the attribute)\n",
    "- Allows for equality, order, and addition/subtraction comparisons\n",
    "- Ratios aren't meaningful\n",
    "- Examples: Temperature in Celsius/Fahrenheit, calendar years, IQ scores\n",
    "- Statistical operations: Mean, standard deviation, Pearson correlation\n",
    "\n",
    "**4. Ratio Level:**\n",
    "- Numeric data with equal intervals and a true zero point (zero means absence of the attribute)\n",
    "- Allows for all arithmetic operations, including meaningful ratios\n",
    "- Examples: Height, weight, age, income, distance, temperature in Kelvin\n",
    "- Statistical operations: All statistical methods"
   ]
  },
  {
   "cell_type": "markdown",
   "metadata": {},
   "source": [
    "### 11. What is the measure of central tendency?\n",
    "\n",
    "Measures of central tendency are statistical values that represent the center or typical value of a dataset. They provide a single value that attempts to describe the central position of the data, effectively summarizing the entire dataset with a single number.\n",
    "\n",
    "**The three main measures of central tendency are:**\n",
    "\n",
    "1. **Mean**: The arithmetic average of all values in the dataset\n",
    "2. **Median**: The middle value when the data is arranged in order\n",
    "3. **Mode**: The most frequently occurring value in the dataset\n",
    "\n",
    "Each measure has its strengths and weaknesses, and the appropriate choice depends on the data distribution, the presence of outliers, and the level of measurement of the data."
   ]
  },
  {
   "cell_type": "markdown",
   "metadata": {},
   "source": [
    "### 12. Define mean, median, and mode\n",
    "\n",
    "**Mean:**\n",
    "- The arithmetic average of all values in a dataset\n",
    "- Calculated by summing all values and dividing by the number of observations\n",
    "- Formula: $\\bar{x} = \\frac{\\sum_{i=1}^{n} x_i}{n}$\n",
    "- Highly influenced by outliers\n",
    "- Most appropriate for symmetrically distributed data\n",
    "\n",
    "**Median:**\n",
    "- The middle value when data is arranged in ascending or descending order\n",
    "- For odd number of observations: The middle value\n",
    "- For even number of observations: The average of the two middle values\n",
    "- Resistant to outliers and skewness\n",
    "- Appropriate for ordinal data and skewed distributions\n",
    "\n",
    "**Mode:**\n",
    "- The most frequently occurring value in the dataset\n",
    "- A dataset may have no mode, one mode (unimodal), or multiple modes (multimodal)\n",
    "- The only measure of central tendency applicable to nominal data\n",
    "- Not affected by extreme values\n",
    "- Less commonly used in statistical analyses than mean or median"
   ]
  },
  {
   "cell_type": "markdown",
   "metadata": {},
   "source": [
    "### 13. What is the significance of the measure of central tendency?\n",
    "\n",
    "Measures of central tendency are significant for the following reasons:\n",
    "\n",
    "1. **Data Summarization**: They condense large datasets into single, representative values that are easier to understand and communicate.\n",
    "\n",
    "2. **Comparative Analysis**: They allow for comparison between different datasets or groups.\n",
    "\n",
    "3. **Statistical Foundation**: They form the basis for many statistical tests and analyses.\n",
    "\n",
    "4. **Decision-Making**: They provide reference points for making informed decisions in various fields.\n",
    "\n",
    "5. **Trend Identification**: When tracked over time, they help identify trends and patterns in data.\n",
    "\n",
    "6. **Outlier Detection**: They help in identifying anomalies or outliers by providing a benchmark of what's \"typical\".\n",
    "\n",
    "7. **Distribution Understanding**: Different measures provide insights into the underlying distribution of the data.\n",
    "\n",
    "8. **Reference Standards**: They establish norms or standards in fields like medicine, education, and quality control.\n",
    "\n",
    "However, it's important to use measures of central tendency alongside measures of dispersion for a more complete understanding of the data."
   ]
  },
  {
   "cell_type": "markdown",
   "metadata": {},
   "source": [
    "### 14. What is variance, and how is it calculated?\n",
    "\n",
    "Variance is a measure of dispersion that indicates how spread out values are in a dataset relative to the mean. It measures the average squared deviation from the mean.\n",
    "\n",
    "**Calculation for Population Variance:**\n",
    "$\\sigma^2 = \\frac{\\sum_{i=1}^{N} (x_i - \\mu)^2}{N}$\n",
    "\n",
    "Where:\n",
    "- $\\sigma^2$ is the population variance\n",
    "- $x_i$ represents each value in the dataset\n",
    "- $\\mu$ is the population mean\n",
    "- $N$ is the total number of observations in the population\n",
    "\n",
    "**Calculation for Sample Variance:**\n",
    "$s^2 = \\frac{\\sum_{i=1}^{n} (x_i - \\bar{x})^2}{n-1}$\n",
    "\n",
    "Where:\n",
    "- $s^2$ is the sample variance\n",
    "- $x_i$ represents each value in the sample\n",
    "- $\\bar{x}$ is the sample mean\n",
    "- $n$ is the sample size\n",
    "- $n-1$ is used instead of $n$ to provide an unbiased estimate of the population variance (Bessel's correction)\n",
    "\n",
    "The variance is always non-negative, and its units are the square of the original data's units."
   ]
  },
  {
   "cell_type": "markdown",
   "metadata": {},
   "source": [
    "### 15. What is standard deviation, and why is it important?\n",
    "\n",
    "Standard deviation is a measure of dispersion that represents the average distance between each data point and the mean. It is calculated as the square root of the variance.\n",
    "\n",
    "**Calculation:**\n",
    "- Population standard deviation: $\\sigma = \\sqrt{\\sigma^2} = \\sqrt{\\frac{\\sum_{i=1}^{N} (x_i - \\mu)^2}{N}}$\n",
    "- Sample standard deviation: $s = \\sqrt{s^2} = \\sqrt{\\frac{\\sum_{i=1}^{n} (x_i - \\bar{x})^2}{n-1}}$\n",
    "\n",
    "**Importance of Standard Deviation:**\n",
    "\n",
    "1. **Interpretable Units**: Unlike variance, standard deviation is expressed in the same units as the original data, making it more interpretable.\n",
    "\n",
    "2. **Normal Distribution**: In a normal distribution, specific percentages of data fall within certain standard deviations from the mean (68-95-99.7 rule).\n",
    "\n",
    "3. **Data Quality**: It helps assess the reliability and consistency of data.\n",
    "\n",
    "4. **Comparison**: It allows for comparison of dispersion across different datasets, even with different means.\n",
    "\n",
    "5. **Statistical Significance**: It forms the basis for many statistical tests and confidence intervals.\n",
    "\n",
    "6. **Risk Measurement**: In finance, it's used to quantify risk and volatility.\n",
    "\n",
    "7. **Quality Control**: In manufacturing, it helps monitor process consistency and identify issues.\n",
    "\n",
    "8. **Anomaly Detection**: It helps identify outliers or unusual data points."
   ]
  },
  {
   "cell_type": "markdown",
   "metadata": {},
   "source": [
    "### 16. Define and explain the term range in statistics\n",
    "\n",
    "Range is the simplest measure of dispersion in statistics. It is defined as the difference between the maximum and minimum values in a dataset.\n",
    "\n",
    "**Calculation:**\n",
    "Range = Maximum value - Minimum value\n",
    "\n",
    "**Explanation:**\n",
    "- The range provides a quick assessment of how spread out the data is.\n",
    "- It gives the entire span of the dataset, from the smallest to the largest value.\n",
    "- It is expressed in the same units as the original data.\n",
    "- A larger range indicates greater dispersion or variability in the data.\n",
    "\n",
    "**Limitations:**\n",
    "- It only considers the two extreme values and ignores the distribution of all other data points.\n",
    "- It is highly sensitive to outliers, which can significantly inflate the range.\n",
    "- It doesn't provide information about how data is distributed between the extremes.\n",
    "- It becomes less reliable as a measure of dispersion as sample size increases.\n",
    "\n",
    "Due to these limitations, the range is often used in conjunction with other measures of dispersion like standard deviation, interquartile range, or variance for a more comprehensive understanding of data spread."
   ]
  },
  {
   "cell_type": "markdown",
   "metadata": {},
   "source": [
    "### 17. What is the difference between variance and standard deviation?\n",
    "\n",
    "**Variance and Standard Deviation Differences:**\n",
    "\n",
    "1. **Definition:**\n",
    "   - Variance: Average of squared deviations from the mean\n",
    "   - Standard Deviation: Square root of the variance\n",
    "\n",
    "2. **Units:**\n",
    "   - Variance: Expressed in squared units of the original data (e.g., meters²)\n",
    "   - Standard Deviation: Expressed in the same units as the original data (e.g., meters)\n",
    "\n",
    "3. **Interpretation:**\n",
    "   - Variance: More difficult to interpret due to squared units\n",
    "   - Standard Deviation: More intuitive as it represents the average distance from the mean\n",
    "\n",
    "4. **Usage:**\n",
    "   - Variance: Often used in statistical formulas and theoretical analyses\n",
    "   - Standard Deviation: Commonly used for practical interpretations and reporting\n",
    "\n",
    "5. **Sensitivity to Outliers:**\n",
    "   - Both are sensitive to outliers, but variance emphasizes extreme values more due to the squaring\n",
    "\n",
    "6. **Application in Normal Distribution:**\n",
    "   - Variance: Parameter that defines the shape of the distribution\n",
    "   - Standard Deviation: Used to determine specific percentiles (68-95-99.7 rule)\n",
    "\n",
    "Standard deviation is generally preferred for practical applications due to its interpretability, while variance is often used in mathematical operations and statistical theory."
   ]
  },
  {
   "cell_type": "markdown",
   "metadata": {},
   "source": [
    "### 18. What is skewness in a dataset?\n",
    "\n",
    "Skewness is a measure of the asymmetry of the probability distribution of a real-valued random variable. It describes the extent to which a dataset deviates from a symmetric distribution, such as the normal distribution.\n",
    "\n",
    "**Key aspects of skewness:**\n",
    "\n",
    "1. **Definition**: Skewness measures the lack of symmetry in a distribution.\n",
    "\n",
    "2. **Calculation**: Mathematically, skewness is the third standardized moment of a distribution:\n",
    "   $Skewness = \\frac{\\sum_{i=1}^{n} (x_i - \\bar{x})^3}{(n-1)s^3}$\n",
    "   Where $\\bar{x}$ is the mean, $s$ is the standard deviation, and $n$ is the sample size.\n",
    "\n",
    "3. **Interpretation**:\n",
    "   - Zero skewness: Perfectly symmetric distribution\n",
    "   - Positive skewness (right-skewed): Longer tail on the right side, with most values concentrated on the left\n",
    "   - Negative skewness (left-skewed): Longer tail on the left side, with most values concentrated on the right\n",
    "\n",
    "4. **Effect on central tendency**: In skewed distributions, the mean, median, and mode often have different values:\n",
    "   - In right-skewed distributions: Mode < Median < Mean\n",
    "   - In left-skewed distributions: Mean < Median < Mode\n",
    "   - In symmetric distributions: Mean = Median = Mode\n",
    "\n",
    "Skewness is important in statistics as it affects the choice of statistical tests, the interpretation of results, and the selection of appropriate measures of central tendency."
   ]
  },
  {
   "cell_type": "markdown",
   "metadata": {},
   "source": [
    "### 19. What does it mean if a dataset is positively or negatively skewed?\n",
    "\n",
    "**Positively Skewed (Right-Skewed) Distribution:**\n",
    "- The distribution has a longer tail on the right side\n",
    "- Most of the data values are concentrated on the left side\n",
    "- The mean is greater than the median, which is greater than the mode (Mean > Median > Mode)\n",
    "- The mass of the distribution is concentrated on the left with a tail extending to the right\n",
    "- Examples: Income distribution, house prices, time to complete a task\n",
    "\n",
    "**Negatively Skewed (Left-Skewed) Distribution:**\n",
    "- The distribution has a longer tail on the left side\n",
    "- Most of the data values are concentrated on the right side\n",
    "- The mean is less than the median, which is less than the mode (Mean < Median < Mode)\n",
    "- The mass of the distribution is concentrated on the right with a tail extending to the left\n",
    "- Examples: Age at death, exam scores with a ceiling effect, years of experience in a profession\n",
    "\n",
    "**Implications of Skewness:**\n",
    "1. **Choice of central tendency measure**: For skewed data, the median is often more representative than the mean\n",
    "2. **Statistical testing**: Many parametric tests assume normality, so skewed data might require transformation or non-parametric tests\n",
    "3. **Data interpretation**: Understanding skewness helps in correctly interpreting the spread and center of data\n",
    "4. **Outlier identification**: What might appear as outliers could be natural parts of a skewed distribution"
   ]
  },
  {
   "cell_type": "markdown",
   "metadata": {},
   "source": [
    "### 20. Define and explain kurtosis\n",
    "\n",
    "Kurtosis is a statistical measure that describes the \"tailedness\" or peakedness of a probability distribution relative to a normal distribution. It is the fourth standardized moment of a distribution.\n",
    "\n",
    "**Definition and calculation:**\n",
    "- Kurtosis measures the combined weight of the tails relative to the rest of the distribution\n",
    "- Formula: $Kurtosis = \\frac{\\sum_{i=1}^{n} (x_i - \\bar{x})^4}{(n-1)s^4}$ where $\\bar{x}$ is the mean, $s$ is the standard deviation, and $n$ is the sample size\n",
    "\n",
    "**Types of kurtosis:**\n",
    "\n",
    "1. **Mesokurtic**: Normal distribution with standard kurtosis (kurtosis ≈ 3)\n",
    "   - Considered the reference point\n",
    "   - Standard bell curve shape\n",
    "\n",
    "2. **Leptokurtic** (High kurtosis, > 3):\n",
    "   - More peaked than normal distribution\n",
    "   - Heavier tails (more outliers)\n",
    "   - Data is more clustered around the mean\n",
    "   - Example: Financial returns during market stress\n",
    "\n",
    "3. **Platykurtic** (Low kurtosis, < 3):\n",
    "   - Less peaked than normal distribution\n",
    "   - Lighter tails (fewer outliers)\n",
    "   - Data is more uniformly distributed\n",
    "   - Example: Bimodal distributions\n",
    "\n",
    "**Note:** In some statistical software, excess kurtosis is reported, which is the kurtosis minus 3 (to make the normal distribution's kurtosis equal to 0).\n",
    "\n",
    "Kurtosis helps in understanding the tendency of the data to produce outliers and the concentration of data around the mean, which is important for risk assessment and statistical modeling."
   ]
  },
  {
   "cell_type": "markdown",
   "id": "a10d5840",
   "metadata": {},
   "source": [
    "### 21 .  What is the purpose of covariance?\n",
    "\n",
    "Covariance is a statistical measure that helps determine how two random variables change together. It shows the **direction** of their linear relationship.\n",
    "\n",
    "**Purpose of Covariance:**\n",
    "\n",
    "1.  **Relationship Direction**:\\\n",
    "    Indicates whether two variables increase or decrease together (positive covariance) or move in opposite directions (negative covariance).\n",
    "\n",
    "2.  **Foundation for Correlation**:\\\n",
    "    Covariance is the basis for the correlation coefficient, which standardizes the measure to a value between -1 and 1.\n",
    "\n",
    "3.  **Portfolio Theory in Finance**:\\\n",
    "    Helps investors understand how different assets behave relative to each other --- useful for risk management and diversification.\n",
    "\n",
    "4.  **Multivariate Analysis**:\\\n",
    "    Plays a key role in techniques like **Principal Component Analysis (PCA)**, **Factor Analysis**, and **Multivariate Regression**.\n",
    "\n",
    "5.  **Statistical Inference**:\\\n",
    "    Supports hypothesis testing involving the relationships and dependencies between variables."
   ]
  },
  {
   "cell_type": "markdown",
   "id": "9007e2ed",
   "metadata": {},
   "source": [
    "### 22 . What does correlation measure in Statistics ?\n",
    "\n",
    "**Correlation** measures the **strength** and **direction** of a linear relationship between two variables.\n",
    "\n",
    "**Purpose of Correlation:**\n",
    "\n",
    "1.  **Strength of Relationship**:\\\n",
    "    It quantifies how strongly two variables are related --- a value close to **1** or **-1** indicates a strong relationship, while a value near **0** indicates a weak or no linear relationship.\n",
    "\n",
    "2.  **Direction of Relationship**:\n",
    "\n",
    "    -   **Positive correlation**: As one variable increases, the other tends to increase.\n",
    "\n",
    "    -   **Negative correlation**: As one variable increases, the other tends to decrease.\n",
    "\n",
    "3.  **Standardized Measure**:\\\n",
    "    Unlike covariance, correlation is dimensionless and lies between **-1 and 1**, making it easier to interpret and compare across different datasets.\n",
    "\n",
    "4.  **Predictive Analysis**:\\\n",
    "    Helps in understanding how changes in one variable might predict changes in another, useful in regression analysis and forecasting.\n",
    "\n",
    "5.  **Data Screening**:\\\n",
    "    Useful in identifying multicollinearity or redundancy in multivariate datasets before applying complex models."
   ]
  },
  {
   "cell_type": "markdown",
   "id": "e3643591",
   "metadata": {},
   "source": [
    "### 23. Explain the difference between covariance and correlation ?\n",
    "Both covariance and correlation measure the relationship between two variables, but they differ in **scale, interpretation, and comparability**.\n",
    "\n",
    "#### **Key Differences:**\n",
    "\n",
    "| Feature | **Covariance** | **Correlation** |\n",
    "| --- | --- | --- |\n",
    "| **Definition** | Measures how two variables vary together | Measures the strength and direction of the linear relationship |\n",
    "| **Value Range** | Can range from **-∞ to +∞** | Always ranges between **-1 to +1** |\n",
    "| **Scale Dependent** | Yes, depends on the units of the variables | No, it is a **standardized** measure |\n",
    "| **Interpretation** | Difficult to interpret due to unit dependence | Easy to interpret: +1 (perfect positive), -1 (perfect negative), 0 (no relation) |\n",
    "| **Use Case** | Used in portfolio risk analysis, multivariate statistics | Used in statistical modeling, data analysis, and predictive modeling |\n",
    "| **Formula Relation** | Cov(X, Y) = E[(X - μₓ)(Y - μᵧ)] | Corr(X, Y) = Cov(X, Y) / (σₓ × σᵧ) |"
   ]
  },
  {
   "cell_type": "markdown",
   "id": "9898350c",
   "metadata": {},
   "source": [
    "### 24 . what are real world application of statistics ?\n",
    "\n",
    "Statistics is used across many industries to **collect, analyze, interpret, and present data** for better decision-making.\n",
    "\n",
    "* * * * *\n",
    "\n",
    "#### **Real-World Applications of Statistics:**\n",
    "\n",
    "1.  **Business and Marketing**\n",
    "\n",
    "    -   Analyzing customer behavior\n",
    "\n",
    "    -   Market research and product development\n",
    "\n",
    "    -   Sales forecasting and pricing strategies\n",
    "\n",
    "2.  **Healthcare and Medicine**\n",
    "\n",
    "    -   Clinical trials and drug effectiveness\n",
    "\n",
    "    -   Public health data analysis (e.g., tracking diseases)\n",
    "\n",
    "    -   Hospital resource allocation\n",
    "\n",
    "3.  **Government and Policy Making**\n",
    "\n",
    "    -   Census data collection\n",
    "\n",
    "    -   Unemployment and inflation analysis\n",
    "\n",
    "    -   Budget planning and policy evaluation\n",
    "\n",
    "4.  **Education**\n",
    "\n",
    "    -   Student performance analysis\n",
    "\n",
    "    -   Curriculum effectiveness studies\n",
    "\n",
    "    -   Dropout rate predictions and improvements\n",
    "\n",
    "5.  **Sports**\n",
    "\n",
    "    -   Player performance statistics\n",
    "\n",
    "    -   Game strategy optimization\n",
    "\n",
    "    -   Fantasy sports and betting algorithms\n",
    "\n",
    "6.  **Finance and Economics**\n",
    "\n",
    "    -   Risk analysis and investment strategies\n",
    "\n",
    "    -   Economic forecasting\n",
    "\n",
    "    -   Credit scoring and fraud detection\n",
    "\n",
    "7.  **Technology and Data Science**\n",
    "\n",
    "    -   Machine learning and AI algorithms\n",
    "\n",
    "    -   A/B testing in software development\n",
    "\n",
    "    -   Recommendation systems (e.g., Netflix, Amazon)\n",
    "\n",
    "8.  **Environmental Studies**\n",
    "\n",
    "    -   Climate change modeling\n",
    "\n",
    "    -   Pollution level tracking\n",
    "\n",
    "    -   Natural disaster prediction and impact analysis"
   ]
  },
  {
   "cell_type": "markdown",
   "id": "a0251741",
   "metadata": {},
   "source": [
    "## Practical Question\n"
   ]
  },
  {
   "cell_type": "markdown",
   "id": "62055c87",
   "metadata": {},
   "source": [
    "### 1. How do you calculate mean , mode , median of dataset?"
   ]
  },
  {
   "cell_type": "code",
   "execution_count": 1,
   "id": "b80d29eb",
   "metadata": {},
   "outputs": [
    {
     "name": "stdout",
     "output_type": "stream",
     "text": [
      "Mean: 15.8\n",
      "Median: 15.0\n",
      "Mode: 15\n",
      "Mean using NumPy: 15.8\n",
      "Median using NumPy: 15.0\n"
     ]
    }
   ],
   "source": [
    "# Importing necessary libraries\n",
    "import statistics  # For mean, median, and mode\n",
    "import numpy as np  # Optional: NumPy for working with arrays\n",
    "\n",
    "# Example dataset\n",
    "data = [12, 15, 12, 15, 17, 19, 21, 15, 17, 15]\n",
    "\n",
    "# Calculate Mean\n",
    "mean = statistics.mean(data)  # Sum of values divided by count\n",
    "print(\"Mean:\", mean)\n",
    "\n",
    "# Calculate Median\n",
    "median = statistics.median(data)  # Middle value after sorting\n",
    "print(\"Median:\", median)\n",
    "\n",
    "# Calculate Mode\n",
    "mode = statistics.mode(data)  # Most frequent value\n",
    "print(\"Mode:\", mode)\n",
    "\n",
    "# Optional: Using NumPy for mean and median\n",
    "mean_np = np.mean(data)\n",
    "median_np = np.median(data)\n",
    "\n",
    "# Results using NumPy\n",
    "print(\"Mean using NumPy:\", mean_np)\n",
    "print(\"Median using NumPy:\", median_np)\n"
   ]
  },
  {
   "cell_type": "markdown",
   "id": "a27642e7",
   "metadata": {},
   "source": [
    " ### 2.Write a Python program to compute the variance and standard deviation of a datase"
   ]
  },
  {
   "cell_type": "code",
   "execution_count": 2,
   "id": "4a2acc37",
   "metadata": {},
   "outputs": [
    {
     "name": "stdout",
     "output_type": "stream",
     "text": [
      "Variance: 27.428571428571427\n",
      "Standard Deviation: 5.237229365663818\n",
      "Population Variance: 24\n",
      "Population Standard Deviation: 4.898979485566356\n"
     ]
    }
   ],
   "source": [
    "# Importing necessary libraries\n",
    "import statistics  # Provides variance and standard deviation functions\n",
    "\n",
    "# Example dataset\n",
    "data = [10, 12, 23, 23, 16, 23, 21, 16]\n",
    "\n",
    "# Calculate Variance\n",
    "variance = statistics.variance(data)  # Sample variance\n",
    "print(\"Variance:\", variance)\n",
    "\n",
    "# Calculate Standard Deviation\n",
    "std_deviation = statistics.stdev(data)  # Sample standard deviation\n",
    "print(\"Standard Deviation:\", std_deviation)\n",
    "\n",
    "# Optional: Using population version (if needed)\n",
    "population_variance = statistics.pvariance(data)\n",
    "population_std_deviation = statistics.pstdev(data)\n",
    "\n",
    "# Results using population formula\n",
    "print(\"Population Variance:\", population_variance)\n",
    "print(\"Population Standard Deviation:\", population_std_deviation)\n"
   ]
  },
  {
   "cell_type": "markdown",
   "id": "5c6ff71e",
   "metadata": {},
   "source": [
    "### 3. Create a dataset and classify it into nominal, ordinal, interval, and ratio types?"
   ]
  },
  {
   "cell_type": "code",
   "execution_count": 3,
   "id": "bcfc372e",
   "metadata": {},
   "outputs": [
    {
     "name": "stdout",
     "output_type": "stream",
     "text": [
      "=== Data Type Classification ===\n",
      "\n",
      "Nominal Data (Name): ['Anand', 'Riya', 'Vikram', 'Sara']\n",
      "-> No natural ordering; used for labeling or categorization\n",
      "\n",
      "Ordinal Data (Education Level): ['High School', 'Bachelor', 'Master', 'PhD']\n",
      "-> Ordered categories: High School < Bachelor < Master < PhD\n",
      "\n",
      "Interval Data (Temperature in Celsius): [36.5, 37.0, 36.8, 37.2]\n",
      "-> Meaningful differences but no true zero (0°C ≠ no temperature)\n",
      "\n",
      "Ratio Data (Height in cm): [170, 160, 180, 165]\n",
      "-> Has a true zero (0 cm means no height), can compare ratios\n",
      "\n"
     ]
    }
   ],
   "source": [
    "# Sample dataset with different types of data\n",
    "dataset = {\n",
    "    \"Name\": [\"Anand\", \"Riya\", \"Vikram\", \"Sara\"],  # Nominal\n",
    "    \"Education_Level\": [\"High School\", \"Bachelor\", \"Master\", \"PhD\"],  # Ordinal\n",
    "    \"Temperature_Celsius\": [36.5, 37.0, 36.8, 37.2],  # Interval\n",
    "    \"Height_cm\": [170, 160, 180, 165],  # Ratio\n",
    "}\n",
    "\n",
    "# Classifying data types\n",
    "print(\"=== Data Type Classification ===\\n\")\n",
    "\n",
    "# Nominal Data - Categories with no order\n",
    "print(\"Nominal Data (Name):\", dataset[\"Name\"])\n",
    "print(\"-> No natural ordering; used for labeling or categorization\\n\")\n",
    "\n",
    "# Ordinal Data - Categories with a meaningful order\n",
    "print(\"Ordinal Data (Education Level):\", dataset[\"Education_Level\"])\n",
    "print(\"-> Ordered categories: High School < Bachelor < Master < PhD\\n\")\n",
    "\n",
    "# Interval Data - Ordered, constant difference, no true zero\n",
    "print(\"Interval Data (Temperature in Celsius):\", dataset[\"Temperature_Celsius\"])\n",
    "print(\"-> Meaningful differences but no true zero (0°C ≠ no temperature)\\n\")\n",
    "\n",
    "# Ratio Data - Interval + true zero, supports all arithmetic operations\n",
    "print(\"Ratio Data (Height in cm):\", dataset[\"Height_cm\"])\n",
    "print(\"-> Has a true zero (0 cm means no height), can compare ratios\\n\")\n"
   ]
  },
  {
   "cell_type": "markdown",
   "id": "40acfb93",
   "metadata": {},
   "source": [
    "### 4.  Implement sampling techniques like random sampling and stratified sampling?"
   ]
  },
  {
   "cell_type": "code",
   "execution_count": 4,
   "id": "f7bfee31",
   "metadata": {},
   "outputs": [
    {
     "name": "stdout",
     "output_type": "stream",
     "text": [
      "Collecting scikit-learn"
     ]
    },
    {
     "name": "stderr",
     "output_type": "stream",
     "text": [
      "\n",
      "[notice] A new release of pip is available: 25.0.1 -> 25.1.1\n",
      "[notice] To update, run: python.exe -m pip install --upgrade pip\n"
     ]
    },
    {
     "name": "stdout",
     "output_type": "stream",
     "text": [
      "\n",
      "  Using cached scikit_learn-1.6.1-cp313-cp313-win_amd64.whl.metadata (15 kB)\n",
      "Requirement already satisfied: numpy>=1.19.5 in c:\\users\\patid\\appdata\\local\\programs\\python\\python313\\lib\\site-packages (from scikit-learn) (2.2.4)\n",
      "Requirement already satisfied: scipy>=1.6.0 in c:\\users\\patid\\appdata\\local\\programs\\python\\python313\\lib\\site-packages (from scikit-learn) (1.15.2)\n",
      "Collecting joblib>=1.2.0 (from scikit-learn)\n",
      "  Using cached joblib-1.5.0-py3-none-any.whl.metadata (5.6 kB)\n",
      "Collecting threadpoolctl>=3.1.0 (from scikit-learn)\n",
      "  Using cached threadpoolctl-3.6.0-py3-none-any.whl.metadata (13 kB)\n",
      "Using cached scikit_learn-1.6.1-cp313-cp313-win_amd64.whl (11.1 MB)\n",
      "Using cached joblib-1.5.0-py3-none-any.whl (307 kB)\n",
      "Using cached threadpoolctl-3.6.0-py3-none-any.whl (18 kB)\n",
      "Installing collected packages: threadpoolctl, joblib, scikit-learn\n",
      "Successfully installed joblib-1.5.0 scikit-learn-1.6.1 threadpoolctl-3.6.0\n"
     ]
    }
   ],
   "source": [
    "!pip install scikit-learn\n"
   ]
  },
  {
   "cell_type": "code",
   "execution_count": 5,
   "id": "462fcf31",
   "metadata": {},
   "outputs": [
    {
     "name": "stdout",
     "output_type": "stream",
     "text": [
      "Original Dataset:\n",
      "     Name  Age Gender Group\n",
      "0   Anand   21      M     A\n",
      "1    Riya   22      F     B\n",
      "2  Vikram   21      M     A\n",
      "3    Sara   23      F     B\n",
      "4    Amit   22      M     A\n",
      "5    Neha   21      F     B\n",
      "6     Raj   23      M     A\n",
      "7   Priya   22      F     B\n",
      "\n",
      "Random Sample (n=4):\n",
      "     Name  Age Gender Group\n",
      "7   Priya   22      F     B\n",
      "2  Vikram   21      M     A\n",
      "1    Riya   22      F     B\n",
      "6     Raj   23      M     A\n",
      "\n",
      "Stratified Sample (stratified by 'Group'):\n",
      "   Name  Age Gender Group\n",
      "5  Neha   21      F     B\n",
      "1  Riya   22      F     B\n",
      "6   Raj   23      M     A\n",
      "4  Amit   22      M     A\n"
     ]
    }
   ],
   "source": [
    "# Import necessary libraries\n",
    "import pandas as pd\n",
    "import numpy as np\n",
    "from sklearn.model_selection import train_test_split\n",
    "\n",
    "# Create a sample dataset\n",
    "data = {\n",
    "    'Name': ['Anand', 'Riya', 'Vikram', 'Sara', 'Amit', 'Neha', 'Raj', 'Priya'],\n",
    "    'Age': [21, 22, 21, 23, 22, 21, 23, 22],\n",
    "    'Gender': ['M', 'F', 'M', 'F', 'M', 'F', 'M', 'F'],\n",
    "    'Group': ['A', 'B', 'A', 'B', 'A', 'B', 'A', 'B']  # For stratified sampling\n",
    "}\n",
    "\n",
    "df = pd.DataFrame(data)\n",
    "\n",
    "print(\"Original Dataset:\")\n",
    "print(df)\n",
    "\n",
    "# ------------------------\n",
    "# 1. Simple Random Sampling\n",
    "# ------------------------\n",
    "\n",
    "# Randomly select 4 samples from the dataset\n",
    "random_sample = df.sample(n=4, random_state=1)  # random_state ensures reproducibility\n",
    "\n",
    "print(\"\\nRandom Sample (n=4):\")\n",
    "print(random_sample)\n",
    "\n",
    "# ------------------------\n",
    "# 2. Stratified Sampling\n",
    "# ------------------------\n",
    "\n",
    "# We'll stratify based on the 'Group' column\n",
    "# Using sklearn's train_test_split with stratify parameter\n",
    "stratified_sample, _ = train_test_split(df, test_size=0.5, stratify=df['Group'], random_state=1)\n",
    "\n",
    "print(\"\\nStratified Sample (stratified by 'Group'):\")\n",
    "print(stratified_sample)\n"
   ]
  },
  {
   "cell_type": "markdown",
   "id": "a955c721",
   "metadata": {},
   "source": [
    "### 5. Write a python function to calculate the range of a dataset"
   ]
  },
  {
   "cell_type": "code",
   "execution_count": 6,
   "id": "409bc963",
   "metadata": {},
   "outputs": [
    {
     "name": "stdout",
     "output_type": "stream",
     "text": [
      "Range of the dataset: 17\n"
     ]
    }
   ],
   "source": [
    "# Function to calculate the range of a dataset\n",
    "def calculate_range(data):\n",
    "    # Range is the difference between the maximum and minimum values in the dataset\n",
    "    data_range = max(data) - min(data)\n",
    "    return data_range\n",
    "\n",
    "# Example dataset\n",
    "data = [12, 15, 23, 10, 8, 19, 25]\n",
    "\n",
    "# Calling the function and printing the result\n",
    "data_range = calculate_range(data)\n",
    "print(\"Range of the dataset:\", data_range)\n"
   ]
  },
  {
   "cell_type": "markdown",
   "id": "24138351",
   "metadata": {},
   "source": [
    "### 6. Create a dataset and plot its histogram to visualize skewness\n"
   ]
  },
  {
   "cell_type": "code",
   "execution_count": 7,
   "id": "3cbfc007",
   "metadata": {},
   "outputs": [
    {
     "data": {
      "image/png": "[encoded data removed]",
      "text/plain": [
       "<Figure size 1000x600 with 1 Axes>"
      ]
     },
     "metadata": {},
     "output_type": "display_data"
    },
    {
     "name": "stdout",
     "output_type": "stream",
     "text": [
      "Skewness of the dataset: 1.800332260007164\n"
     ]
    }
   ],
   "source": [
    "# Importing necessary libraries\n",
    "import numpy as np\n",
    "import matplotlib.pyplot as plt\n",
    "import seaborn as sns\n",
    "\n",
    "# Create a sample dataset (e.g., data with positive skewness)\n",
    "data = np.random.exponential(scale=2, size=1000)  # Exponential distribution (positively skewed)\n",
    "\n",
    "# Plotting the histogram\n",
    "plt.figure(figsize=(10, 6))\n",
    "sns.histplot(data, kde=True, color='skyblue', bins=30)  # kde=True adds Kernel Density Estimate curve\n",
    "plt.title('Histogram with KDE - Visualizing Skewness', fontsize=15)\n",
    "plt.xlabel('Value', fontsize=12)\n",
    "plt.ylabel('Frequency', fontsize=12)\n",
    "\n",
    "# Display the plot\n",
    "plt.show()\n",
    "\n",
    "# Print the skewness value of the dataset\n",
    "from scipy.stats import skew\n",
    "print(f\"Skewness of the dataset: {skew(data)}\")\n"
   ]
  },
  {
   "cell_type": "markdown",
   "id": "21aba3d7",
   "metadata": {},
   "source": [
    "### 7. Calculate skewness and kurtosis of a dataset using Python libraries"
   ]
  },
  {
   "cell_type": "code",
   "execution_count": 8,
   "id": "72ddf45a",
   "metadata": {},
   "outputs": [
    {
     "name": "stdout",
     "output_type": "stream",
     "text": [
      "Skewness of the dataset: 0.06026373734562445\n",
      "Kurtosis of the dataset: -0.029486667128793886\n",
      "\n",
      "Pandas Skewness: 0.06035430655332227\n",
      "Pandas Kurtosis: -0.023610548722446723\n"
     ]
    }
   ],
   "source": [
    "# Importing necessary libraries\n",
    "import numpy as np\n",
    "import pandas as pd\n",
    "from scipy.stats import skew, kurtosis\n",
    "\n",
    "# Create a sample dataset\n",
    "data = np.random.normal(loc=50, scale=10, size=1000)  # Normally distributed data\n",
    "\n",
    "# Calculating Skewness\n",
    "data_skewness = skew(data)\n",
    "print(f\"Skewness of the dataset: {data_skewness}\")\n",
    "\n",
    "# Calculating Kurtosis\n",
    "data_kurtosis = kurtosis(data)\n",
    "print(f\"Kurtosis of the dataset: {data_kurtosis}\")\n",
    "\n",
    "# Optional: Using pandas to display skewness and kurtosis\n",
    "df = pd.DataFrame(data, columns=['Value'])\n",
    "\n",
    "# Skewness and Kurtosis using pandas\n",
    "print(\"\\nPandas Skewness:\", df['Value'].skew())\n",
    "print(\"Pandas Kurtosis:\", df['Value'].kurt())\n"
   ]
  },
  {
   "cell_type": "markdown",
   "id": "745facad",
   "metadata": {},
   "source": [
    "### 8.  Generate a dataset and demonstrate positive and negative skewness"
   ]
  },
  {
   "cell_type": "code",
   "execution_count": 9,
   "id": "a4ae5cb9",
   "metadata": {},
   "outputs": [
    {
     "name": "stdout",
     "output_type": "stream",
     "text": [
      "Skewness of positive skew dataset: 2.182463515082022\n",
      "Skewness of negative skew dataset: 0.015545350859543484\n"
     ]
    },
    {
     "data": {
      "image/png": "[encoded data removed]",
      "text/plain": [
       "<Figure size 1400x600 with 2 Axes>"
      ]
     },
     "metadata": {},
     "output_type": "display_data"
    }
   ],
   "source": [
    "# Importing necessary libraries\n",
    "import numpy as np\n",
    "import matplotlib.pyplot as plt\n",
    "import seaborn as sns\n",
    "from scipy.stats import skew\n",
    "\n",
    "# Set up the figure for plotting\n",
    "plt.figure(figsize=(14, 6))\n",
    "\n",
    "# -------------------\n",
    "# 1. Positive Skewness (Right-skewed)\n",
    "# -------------------\n",
    "positive_skew_data = np.random.exponential(scale=2, size=1000)\n",
    "\n",
    "plt.subplot(1, 2, 1)  # Subplot for positive skew\n",
    "sns.histplot(positive_skew_data, kde=True, color='skyblue', bins=30)\n",
    "plt.title('Positive Skewness (Right-skewed)', fontsize=14)\n",
    "plt.xlabel('Value', fontsize=12)\n",
    "plt.ylabel('Frequency', fontsize=12)\n",
    "\n",
    "# Calculate and display skewness for positive skew dataset\n",
    "positive_skew_value = skew(positive_skew_data)\n",
    "print(f\"Skewness of positive skew dataset: {positive_skew_value}\")\n",
    "\n",
    "# -------------------\n",
    "# 2. Negative Skewness (Left-skewed)\n",
    "# -------------------\n",
    "negative_skew_data = np.random.normal(loc=50, scale=10, size=1000)  # Normally distributed\n",
    "negative_skew_data = np.random.normal(loc=50, scale=10, size=1000)  # Normal, then inverted for skew\n",
    "\n",
    "# Invert values to create negative skew (tail on the left)\n",
    "negative_skew_data = 100- negative_skew_data\n",
    "\n",
    "plt.subplot(1, 2, 2)  # Subplot for negative skew\n",
    "sns.histplot(negative_skew_data, kde=True, color='salmon', bins=30)\n",
    "plt.title('Negative Skewness (Left-skewed)', fontsize=14)\n",
    "plt.xlabel('Value', fontsize=12)\n",
    "plt.ylabel('Frequency', fontsize=12)\n",
    "\n",
    "# Calculate and display skewness for negative skew dataset\n",
    "negative_skew_value = skew(negative_skew_data)\n",
    "print(f\"Skewness of negative skew dataset: {negative_skew_value}\")\n",
    "\n",
    "# Display the plots\n",
    "plt.tight_layout()\n",
    "plt.show()\n"
   ]
  },
  {
   "cell_type": "markdown",
   "id": "424c0d27",
   "metadata": {},
   "source": [
    "### 9 .  Write a Python script to calculate covariance between two datasets"
   ]
  },
  {
   "cell_type": "code",
   "execution_count": 10,
   "id": "ad8db8e7",
   "metadata": {},
   "outputs": [
    {
     "name": "stdout",
     "output_type": "stream",
     "text": [
      "Covariance matrix:\n",
      " [[250.  280. ]\n",
      " [280.  324.3]]\n",
      "Covariance (x, y): 280.0\n",
      "Manual Covariance (x, y): 280.0\n"
     ]
    }
   ],
   "source": [
    "# Importing required libraries\n",
    "import numpy as np\n",
    "\n",
    "# Create two sample datasets\n",
    "x = [10, 20, 30, 40, 50]\n",
    "y = [12, 25, 28, 45, 58]\n",
    "\n",
    "# ✅ Method 1: Using NumPy's cov() function\n",
    "cov_matrix = np.cov(x, y, bias=False)  # bias=False gives sample covariance\n",
    "print(\"Covariance matrix:\\n\", cov_matrix)\n",
    "print(\"Covariance (x, y):\", cov_matrix[0][1])  # Covariance between x and y\n",
    "\n",
    "# ✅ Method 2: Manual calculation of sample covariance\n",
    "def manual_covariance(x, y):\n",
    "    n = len(x)\n",
    "    mean_x = np.mean(x)\n",
    "    mean_y = np.mean(y)\n",
    "    \n",
    "    covariance = sum((x[i] - mean_x) * (y[i] - mean_y) for i in range(n)) / (n - 1)\n",
    "    return covariance\n",
    "\n",
    "# Calculating using custom function\n",
    "manual_cov = manual_covariance(x, y)\n",
    "print(\"Manual Covariance (x, y):\", manual_cov)\n"
   ]
  },
  {
   "cell_type": "markdown",
   "id": "4407a918",
   "metadata": {},
   "source": [
    "### 10. Write a Python script to calculate the correlation coefficient between two dataset"
   ]
  },
  {
   "cell_type": "code",
   "execution_count": 11,
   "id": "e2f9543f",
   "metadata": {},
   "outputs": [
    {
     "name": "stdout",
     "output_type": "stream",
     "text": [
      "Correlation matrix:\n",
      " [[1.         0.98336456]\n",
      " [0.98336456 1.        ]]\n",
      "Correlation coefficient (x, y): 0.9833645604620604\n",
      "Manual Correlation coefficient (x, y): 0.9833645604620603\n"
     ]
    }
   ],
   "source": [
    "# Import required libraries\n",
    "import numpy as np\n",
    "\n",
    "# Sample datasets\n",
    "x = [10, 20, 30, 40, 50]\n",
    "y = [12, 25, 28, 45, 58]\n",
    "\n",
    "# ✅ Method 1: Using NumPy's corrcoef() function\n",
    "correlation_matrix = np.corrcoef(x, y)\n",
    "print(\"Correlation matrix:\\n\", correlation_matrix)\n",
    "print(\"Correlation coefficient (x, y):\", correlation_matrix[0][1])\n",
    "\n",
    "# ✅ Method 2: Manual calculation of Pearson correlation coefficient\n",
    "def manual_correlation(x, y):\n",
    "    n = len(x)\n",
    "    mean_x = np.mean(x)\n",
    "    mean_y = np.mean(y)\n",
    "\n",
    "    numerator = sum((x[i] - mean_x) * (y[i] - mean_y) for i in range(n))\n",
    "    denominator = (sum((x[i] - mean_x)**2 for i in range(n)) * sum((y[i] - mean_y)**2 for i in range(n)))**0.5\n",
    "\n",
    "    correlation = numerator / denominator\n",
    "    return correlation\n",
    "\n",
    "# Manual calculation result\n",
    "manual_corr = manual_correlation(x, y)\n",
    "print(\"Manual Correlation coefficient (x, y):\", manual_corr)\n"
   ]
  },
  {
   "cell_type": "markdown",
   "id": "74e29351",
   "metadata": {},
   "source": [
    "### 11 . Create a scatter plot to visualize the relationship between two variables"
   ]
  },
  {
   "cell_type": "code",
   "execution_count": 12,
   "id": "6c5ad28c",
   "metadata": {},
   "outputs": [
    {
     "data": {
      "image/png": "[encoded data removed]",
      "text/plain": [
       "<Figure size 800x600 with 1 Axes>"
      ]
     },
     "metadata": {},
     "output_type": "display_data"
    }
   ],
   "source": [
    "# Importing required libraries\n",
    "import matplotlib.pyplot as plt\n",
    "import seaborn as sns\n",
    "\n",
    "# Sample datasets\n",
    "x = [10, 20, 30, 40, 50]\n",
    "y = [12, 25, 28, 45, 58]\n",
    "\n",
    "# Create scatter plot using seaborn\n",
    "plt.figure(figsize=(8, 6))\n",
    "sns.scatterplot(x=x, y=y, color='blue', s=100)\n",
    "\n",
    "# Add labels and title\n",
    "plt.title('Scatter Plot of X vs Y', fontsize=14)\n",
    "plt.xlabel('X values', fontsize=12)\n",
    "plt.ylabel('Y values', fontsize=12)\n",
    "plt.grid(True)\n",
    "\n",
    "# Display the plot\n",
    "plt.show()\n"
   ]
  },
  {
   "cell_type": "markdown",
   "id": "2cb01fb5",
   "metadata": {},
   "source": [
    "### 12 . Implement and compare simple random sampling and systematic sampling"
   ]
  },
  {
   "cell_type": "code",
   "execution_count": 13,
   "id": "f8de27eb",
   "metadata": {},
   "outputs": [
    {
     "name": "stdout",
     "output_type": "stream",
     "text": [
      "🔹 Simple Random Sample:\n",
      "     ID  Value\n",
      "83  84     83\n",
      "53  54     60\n",
      "70  71     16\n",
      "45  46     79\n",
      "44  45     35\n",
      "39  40     57\n",
      "22  23     18\n",
      "80  81     18\n",
      "10  11     69\n",
      "0    1     91\n",
      "\n",
      "🔹 Systematic Sample:\n",
      "     ID  Value\n",
      "3    4     22\n",
      "13  14     84\n",
      "23  24     90\n",
      "33  34     15\n",
      "43  44     67\n",
      "53  54     60\n",
      "63  64     53\n",
      "73  74     99\n",
      "83  84     83\n",
      "93  94     82\n"
     ]
    },
    {
     "data": {
      "image/png": "[encoded data removed]",
      "text/plain": [
       "<Figure size 1000x500 with 2 Axes>"
      ]
     },
     "metadata": {},
     "output_type": "display_data"
    }
   ],
   "source": [
    "import numpy as np\n",
    "import pandas as pd\n",
    "import random\n",
    "import matplotlib.pyplot as plt\n",
    "\n",
    "# Create a dataset of 100 elements\n",
    "data = pd.DataFrame({'ID': np.arange(1, 101), 'Value': np.random.randint(10, 100, size=100)})\n",
    "\n",
    "# --- Simple Random Sampling ---\n",
    "def simple_random_sampling(data, sample_size):\n",
    "    return data.sample(n=sample_size, random_state=42)\n",
    "\n",
    "# --- Systematic Sampling ---\n",
    "def systematic_sampling(data, sample_size):\n",
    "    step = len(data) // sample_size\n",
    "    start = random.randint(0, step - 1)\n",
    "    indices = list(range(start, len(data), step))[:sample_size]\n",
    "    return data.iloc[indices]\n",
    "\n",
    "# Parameters\n",
    "sample_size = 10\n",
    "\n",
    "# Perform both samplings\n",
    "simple_sample = simple_random_sampling(data, sample_size)\n",
    "systematic_sample = systematic_sampling(data, sample_size)\n",
    "\n",
    "# Display the samples\n",
    "print(\"🔹 Simple Random Sample:\\n\", simple_sample)\n",
    "print(\"\\n🔹 Systematic Sample:\\n\", systematic_sample)\n",
    "\n",
    "# Plotting both samples\n",
    "plt.figure(figsize=(10, 5))\n",
    "\n",
    "plt.subplot(1, 2, 1)\n",
    "plt.stem(simple_sample['ID'], simple_sample['Value'], basefmt=\" \", linefmt='blue', markerfmt='bo')\n",
    "plt.title('Simple Random Sampling')\n",
    "plt.xlabel('ID')\n",
    "plt.ylabel('Value')\n",
    "\n",
    "plt.subplot(1, 2, 2)\n",
    "plt.stem(systematic_sample['ID'], systematic_sample['Value'], basefmt=\" \", linefmt='green', markerfmt='go')\n",
    "plt.title('Systematic Sampling')\n",
    "plt.xlabel('ID')\n",
    "\n",
    "plt.tight_layout()\n",
    "plt.show()\n"
   ]
  },
  {
   "cell_type": "markdown",
   "id": "19b0abd1",
   "metadata": {},
   "source": [
    "### 13.  Calculate the mean, median, and mode of grouped data"
   ]
  },
  {
   "cell_type": "code",
   "execution_count": 14,
   "id": "095cbd77",
   "metadata": {},
   "outputs": [
    {
     "name": "stdout",
     "output_type": "stream",
     "text": [
      "📌 Mean: 27.0\n",
      "📌 Median: 28.0\n",
      "📌 Mode: 30.91\n"
     ]
    }
   ],
   "source": [
    "# Import necessary libraries\n",
    "import pandas as pd\n",
    "import numpy as np\n",
    "\n",
    "# Define grouped data\n",
    "class_intervals = [(0, 10), (10, 20), (20, 30), (30, 40), (40, 50)]\n",
    "frequencies = [5, 8, 15, 16, 6]\n",
    "\n",
    "# Convert to DataFrame\n",
    "df = pd.DataFrame(class_intervals, columns=[\"Lower\", \"Upper\"])\n",
    "df[\"Frequency\"] = frequencies\n",
    "\n",
    "# Calculate class mark (midpoint)\n",
    "df[\"Midpoint\"] = (df[\"Lower\"] + df[\"Upper\"]) / 2\n",
    "\n",
    "# -------- Mean --------\n",
    "# Mean = Σ(f * x) / Σf\n",
    "df[\"f*x\"] = df[\"Frequency\"] * df[\"Midpoint\"]\n",
    "mean = df[\"f*x\"].sum() / df[\"Frequency\"].sum()\n",
    "print(\"📌 Mean:\", round(mean, 2))\n",
    "\n",
    "# -------- Median --------\n",
    "# Steps: Find cumulative frequency, locate median class\n",
    "df[\"CumulativeFreq\"] = df[\"Frequency\"].cumsum()\n",
    "n = df[\"Frequency\"].sum()\n",
    "median_class_index = df[df[\"CumulativeFreq\"] >= n / 2].index[0]\n",
    "\n",
    "L = df.loc[median_class_index, \"Lower\"]\n",
    "F = df.loc[median_class_index - 1, \"CumulativeFreq\"] if median_class_index > 0 else 0\n",
    "f = df.loc[median_class_index, \"Frequency\"]\n",
    "h = df.loc[median_class_index, \"Upper\"] - df.loc[median_class_index, \"Lower\"]\n",
    "\n",
    "# Median formula: L + [(n/2 – F) / f] × h\n",
    "median = L + ((n/2 - F) / f) * h\n",
    "print(\"📌 Median:\", round(median, 2))\n",
    "\n",
    "# -------- Mode --------\n",
    "# Mode formula: L + [(f1 - f0) / (2f1 - f0 - f2)] × h\n",
    "modal_class_index = df[\"Frequency\"].idxmax()\n",
    "L = df.loc[modal_class_index, \"Lower\"]\n",
    "f1 = df.loc[modal_class_index, \"Frequency\"]\n",
    "f0 = df.loc[modal_class_index - 1, \"Frequency\"] if modal_class_index > 0 else 0\n",
    "f2 = df.loc[modal_class_index + 1, \"Frequency\"] if modal_class_index + 1 < len(df) else 0\n",
    "h = df.loc[modal_class_index, \"Upper\"] - df.loc[modal_class_index, \"Lower\"]\n",
    "\n",
    "mode = L + ((f1 - f0) / (2*f1 - f0 - f2)) * h if (2*f1 - f0 - f2) != 0 else np.nan\n",
    "print(\"📌 Mode:\", round(mode, 2))\n"
   ]
  },
  {
   "cell_type": "markdown",
   "id": "f0dfaa4d",
   "metadata": {},
   "source": [
    "### 14. Simulate data using Python and calculate its central tendency and dispersion"
   ]
  },
  {
   "cell_type": "code",
   "execution_count": 15,
   "id": "6d3c3740",
   "metadata": {},
   "outputs": [
    {
     "name": "stdout",
     "output_type": "stream",
     "text": [
      "📊 Central Tendency:\n",
      "Mean   = 48.96\n",
      "Median = 48.73\n",
      "Mode   = 23.80\n",
      "\n",
      "📈 Dispersion:\n",
      "Range             = 44.72\n",
      "Variance          = 81.65\n",
      "Standard Deviation= 9.04\n",
      "IQR               = 10.07\n"
     ]
    }
   ],
   "source": [
    "import numpy as np\n",
    "import pandas as pd\n",
    "from scipy import stats\n",
    "\n",
    "# Simulate data: 100 random values from normal distribution\n",
    "np.random.seed(42)  # for reproducibility\n",
    "data = np.random.normal(loc=50, scale=10, size=100)  # mean=50, std=10\n",
    "\n",
    "# Convert to DataFrame\n",
    "df = pd.DataFrame(data, columns=['Value'])\n",
    "\n",
    "# --- Central Tendency ---\n",
    "mean = np.mean(data)\n",
    "median = np.median(data)\n",
    "mode = stats.mode(data, keepdims=True).mode[0]\n",
    "\n",
    "# --- Dispersion Measures ---\n",
    "data_range = np.ptp(data)  # range = max - min\n",
    "variance = np.var(data)\n",
    "std_dev = np.std(data)\n",
    "q75, q25 = np.percentile(data, [75 ,25])\n",
    "iqr = q75 - q25  # Interquartile range\n",
    "\n",
    "# --- Display Results ---\n",
    "print(\"📊 Central Tendency:\")\n",
    "print(f\"Mean   = {mean:.2f}\")\n",
    "print(f\"Median = {median:.2f}\")\n",
    "print(f\"Mode   = {mode:.2f}\")\n",
    "\n",
    "print(\"\\n📈 Dispersion:\")\n",
    "print(f\"Range             = {data_range:.2f}\")\n",
    "print(f\"Variance          = {variance:.2f}\")\n",
    "print(f\"Standard Deviation= {std_dev:.2f}\")\n",
    "print(f\"IQR               = {iqr:.2f}\")\n"
   ]
  },
  {
   "cell_type": "markdown",
   "id": "b2b53b81",
   "metadata": {},
   "source": [
    "### 15 . Use NumPy or pandas to summarize a dataset’s descriptive statistic"
   ]
  },
  {
   "cell_type": "code",
   "execution_count": 16,
   "id": "98f6dc4d",
   "metadata": {},
   "outputs": [
    {
     "name": "stdout",
     "output_type": "stream",
     "text": [
      "📊 Descriptive Statistics (Pandas):\n",
      "          Score\n",
      "count  50.00000\n",
      "mean   66.88000\n",
      "std    17.07324\n",
      "min    40.00000\n",
      "25%    54.25000\n",
      "50%    64.00000\n",
      "75%    79.00000\n",
      "max    99.00000\n",
      "\n",
      "🔍 Additional Statistics:\n",
      "Mean    = 66.88\n",
      "Median  = 64.0\n",
      "Mode    = 64\n",
      "Std Dev = 17.07\n",
      "Variance= 291.50\n",
      "Range   = 59\n"
     ]
    }
   ],
   "source": [
    "import numpy as np\n",
    "import pandas as pd\n",
    "from scipy import stats\n",
    "\n",
    "# Simulate a dataset using NumPy (e.g., students' scores)\n",
    "np.random.seed(0)\n",
    "scores = np.random.randint(40, 100, size=50)\n",
    "\n",
    "# Create a DataFrame\n",
    "df = pd.DataFrame(scores, columns=[\"Score\"])\n",
    "\n",
    "# --- Using pandas describe() ---\n",
    "print(\"📊 Descriptive Statistics (Pandas):\")\n",
    "print(df.describe())\n",
    "\n",
    "# --- Additional stats using pandas and scipy ---\n",
    "mean = df[\"Score\"].mean()\n",
    "median = df[\"Score\"].median()\n",
    "mode = stats.mode(df[\"Score\"], keepdims=True).mode[0]\n",
    "std_dev = df[\"Score\"].std()\n",
    "var = df[\"Score\"].var()\n",
    "range_val = df[\"Score\"].max() - df[\"Score\"].min()\n",
    "\n",
    "print(\"\\n🔍 Additional Statistics:\")\n",
    "print(f\"Mean    = {mean:.2f}\")\n",
    "print(f\"Median  = {median}\")\n",
    "print(f\"Mode    = {mode}\")\n",
    "print(f\"Std Dev = {std_dev:.2f}\")\n",
    "print(f\"Variance= {var:.2f}\")\n",
    "print(f\"Range   = {range_val}\")\n"
   ]
  },
  {
   "cell_type": "markdown",
   "id": "58e30342",
   "metadata": {},
   "source": [
    "### 16.  Plot a boxplot to understand the spread and identify outliers"
   ]
  },
  {
   "cell_type": "code",
   "execution_count": 17,
   "id": "d781fa0f",
   "metadata": {},
   "outputs": [
    {
     "data": {
      "image/png": "[encoded data removed]",
      "text/plain": [
       "<Figure size 800x500 with 1 Axes>"
      ]
     },
     "metadata": {},
     "output_type": "display_data"
    }
   ],
   "source": [
    "import numpy as np\n",
    "import pandas as pd\n",
    "import matplotlib.pyplot as plt\n",
    "import seaborn as sns\n",
    "\n",
    "# Simulate data (e.g., exam scores with some outliers)\n",
    "np.random.seed(42)\n",
    "data = np.append(np.random.normal(70, 10, 100), [30, 120])  # adding outliers\n",
    "\n",
    "# Create a DataFrame\n",
    "df = pd.DataFrame(data, columns=[\"Score\"])\n",
    "\n",
    "# Plot the boxplot\n",
    "plt.figure(figsize=(8, 5))\n",
    "sns.boxplot(x=df[\"Score\"], color='skyblue')\n",
    "\n",
    "plt.title(\"Boxplot of Scores with Outliers\")\n",
    "plt.xlabel(\"Score\")\n",
    "plt.grid(True)\n",
    "plt.show()\n"
   ]
  },
  {
   "cell_type": "markdown",
   "id": "5f99af2d",
   "metadata": {},
   "source": [
    "### 17.  Calculate the interquartile range (IQR) of a dataset"
   ]
  },
  {
   "cell_type": "code",
   "execution_count": 18,
   "id": "4d2b424a",
   "metadata": {},
   "outputs": [
    {
     "name": "stdout",
     "output_type": "stream",
     "text": [
      "📊 Interquartile Range Calculation\n",
      "Q1 (25th percentile) = 58.25\n",
      "Q3 (75th percentile) = 88.25\n",
      "IQR = Q3 - Q1 = 30.0\n"
     ]
    }
   ],
   "source": [
    "import numpy as np\n",
    "import pandas as pd\n",
    "\n",
    "# Simulate a dataset (e.g., exam scores)\n",
    "np.random.seed(0)\n",
    "data = np.random.randint(50, 100, size=20)  # 20 scores between 50 and 100\n",
    "\n",
    "# Convert to a DataFrame\n",
    "df = pd.DataFrame(data, columns=[\"Score\"])\n",
    "\n",
    "# Calculate Q1 (25th percentile) and Q3 (75th percentile)\n",
    "Q1 = df[\"Score\"].quantile(0.25)\n",
    "Q3 = df[\"Score\"].quantile(0.75)\n",
    "\n",
    "# Calculate IQR\n",
    "IQR = Q3 - Q1\n",
    "\n",
    "# Print results\n",
    "print(\"📊 Interquartile Range Calculation\")\n",
    "print(f\"Q1 (25th percentile) = {Q1}\")\n",
    "print(f\"Q3 (75th percentile) = {Q3}\")\n",
    "print(f\"IQR = Q3 - Q1 = {IQR}\")\n"
   ]
  },
  {
   "cell_type": "markdown",
   "id": "a80f0e15",
   "metadata": {},
   "source": [
    "### 18 . Implement Z-score normalization and explain its significance"
   ]
  },
  {
   "cell_type": "code",
   "execution_count": 19,
   "id": "0ecf4495",
   "metadata": {},
   "outputs": [
    {
     "name": "stdout",
     "output_type": "stream",
     "text": [
      "📊 Z-score Normalization:\n",
      "   Marks   Z_Score\n",
      "0     50 -0.806716\n",
      "1     60 -0.286254\n",
      "2     55 -0.546485\n",
      "3     90  1.275131\n",
      "4     85  1.014900\n",
      "5     95  1.535362\n",
      "6     45 -1.066946\n",
      "7     40 -1.327177\n",
      "8     70  0.234208\n",
      "9     65 -0.026023\n"
     ]
    }
   ],
   "source": [
    "import numpy as np\n",
    "import pandas as pd\n",
    "\n",
    "# Sample dataset: student marks\n",
    "data = [50, 60, 55, 90, 85, 95, 45, 40, 70, 65]\n",
    "\n",
    "# Convert to DataFrame\n",
    "df = pd.DataFrame(data, columns=[\"Marks\"])\n",
    "\n",
    "# Calculate mean and standard deviation\n",
    "mean = df[\"Marks\"].mean()\n",
    "std = df[\"Marks\"].std()\n",
    "\n",
    "# Apply Z-score normalization\n",
    "df[\"Z_Score\"] = (df[\"Marks\"] - mean) / std\n",
    "\n",
    "# Show original and normalized data\n",
    "print(\"📊 Z-score Normalization:\")\n",
    "print(df)\n"
   ]
  },
  {
   "cell_type": "markdown",
   "id": "526eb971",
   "metadata": {},
   "source": [
    "### 19. Compare two datasets using their standard deviation"
   ]
  },
  {
   "cell_type": "code",
   "execution_count": 20,
   "id": "86067d78",
   "metadata": {},
   "outputs": [
    {
     "name": "stdout",
     "output_type": "stream",
     "text": [
      "📊 Standard Deviation Comparison:\n",
      "Standard Deviation of Exam 1 = 12.32\n",
      "Standard Deviation of Exam 2 = 15.61\n",
      "\n",
      "Exam 2 has more variability than Exam 1.\n"
     ]
    }
   ],
   "source": [
    "import numpy as np\n",
    "import pandas as pd\n",
    "\n",
    "# Simulate two datasets (e.g., scores of two different exams)\n",
    "np.random.seed(0)\n",
    "data1 = np.random.randint(50, 90, size=50)  # Exam 1 scores\n",
    "data2 = np.random.randint(30, 80, size=50)  # Exam 2 scores\n",
    "\n",
    "# Convert to DataFrame\n",
    "df1 = pd.DataFrame(data1, columns=[\"Exam 1\"])\n",
    "df2 = pd.DataFrame(data2, columns=[\"Exam 2\"])\n",
    "\n",
    "# Calculate standard deviation for both datasets\n",
    "std_dev1 = df1[\"Exam 1\"].std()\n",
    "std_dev2 = df2[\"Exam 2\"].std()\n",
    "\n",
    "# Print results\n",
    "print(\"📊 Standard Deviation Comparison:\")\n",
    "print(f\"Standard Deviation of Exam 1 = {std_dev1:.2f}\")\n",
    "print(f\"Standard Deviation of Exam 2 = {std_dev2:.2f}\")\n",
    "\n",
    "# Interpret the comparison\n",
    "if std_dev1 > std_dev2:\n",
    "    print(\"\\nExam 1 has more variability than Exam 2.\")\n",
    "elif std_dev1 < std_dev2:\n",
    "    print(\"\\nExam 2 has more variability than Exam 1.\")\n",
    "else:\n",
    "    print(\"\\nBoth exams have the same level of variability.\")\n"
   ]
  },
  {
   "cell_type": "markdown",
   "id": "f2b8b5a4",
   "metadata": {},
   "source": [
    "### 20.  Write a Python program to visualize covariance using a heatmap"
   ]
  },
  {
   "cell_type": "code",
   "execution_count": 21,
   "id": "f9a7ac2a",
   "metadata": {},
   "outputs": [
    {
     "data": {
      "image/png": "[encoded data removed]",
      "text/plain": [
       "<Figure size 800x600 with 2 Axes>"
      ]
     },
     "metadata": {},
     "output_type": "display_data"
    }
   ],
   "source": [
    "import numpy as np\n",
    "import pandas as pd\n",
    "import seaborn as sns\n",
    "import matplotlib.pyplot as plt\n",
    "\n",
    "# Simulate a dataset with 3 variables (e.g., height, weight, age)\n",
    "np.random.seed(0)\n",
    "height = np.random.normal(170, 10, 100)  # Heights in cm\n",
    "weight = np.random.normal(70, 15, 100)   # Weight in kg\n",
    "age = np.random.normal(30, 5, 100)       # Age in years\n",
    "\n",
    "# Create a DataFrame\n",
    "df = pd.DataFrame({\"Height\": height, \"Weight\": weight, \"Age\": age})\n",
    "\n",
    "# Calculate the covariance matrix\n",
    "cov_matrix = df.cov()\n",
    "\n",
    "# Plotting the heatmap of the covariance matrix\n",
    "plt.figure(figsize=(8, 6))\n",
    "sns.heatmap(cov_matrix, annot=True, cmap='coolwarm', fmt='.2f', linewidths=1, linecolor='black')\n",
    "\n",
    "# Title and labels\n",
    "plt.title(\"Covariance Matrix Heatmap\", fontsize=15)\n",
    "plt.show()\n"
   ]
  },
  {
   "cell_type": "markdown",
   "id": "5508305d",
   "metadata": {},
   "source": [
    "### 21 .  Use seaborn to create a correlation matrix for a datase"
   ]
  },
  {
   "cell_type": "code",
   "execution_count": 22,
   "id": "56863537",
   "metadata": {},
   "outputs": [
    {
     "data": {
      "image/png": "[encoded data removed]",
      "text/plain": [
       "<Figure size 800x600 with 2 Axes>"
      ]
     },
     "metadata": {},
     "output_type": "display_data"
    }
   ],
   "source": [
    "import numpy as np\n",
    "import pandas as pd\n",
    "import seaborn as sns\n",
    "import matplotlib.pyplot as plt\n",
    "\n",
    "# Simulate a dataset with 4 variables (e.g., sales, price, advertising, and profit)\n",
    "np.random.seed(0)\n",
    "sales = np.random.normal(200, 25, 100)        # Sales in units\n",
    "price = np.random.normal(30, 5, 100)          # Price in dollars\n",
    "advertising = np.random.normal(50, 10, 100)   # Advertising expenses in thousands\n",
    "profit = np.random.normal(5000, 1000, 100)    # Profit in dollars\n",
    "\n",
    "# Create a DataFrame\n",
    "df = pd.DataFrame({\"Sales\": sales, \"Price\": price, \"Advertising\": advertising, \"Profit\": profit})\n",
    "\n",
    "# Calculate the correlation matrix\n",
    "corr_matrix = df.corr()\n",
    "\n",
    "# Plotting the correlation matrix using seaborn heatmap\n",
    "plt.figure(figsize=(8, 6))\n",
    "sns.heatmap(corr_matrix, annot=True, cmap='coolwarm', fmt='.2f', linewidths=1, linecolor='black', vmin=-1, vmax=1)\n",
    "\n",
    "# Title and labels\n",
    "plt.title(\"Correlation Matrix Heatmap\", fontsize=15)\n",
    "plt.show()\n"
   ]
  },
  {
   "cell_type": "markdown",
   "id": "4b90325b",
   "metadata": {},
   "source": [
    "### 22 .  Generate a dataset and implement both variance and standard deviation computation"
   ]
  },
  {
   "cell_type": "code",
   "execution_count": 23,
   "id": "5ea5daf7",
   "metadata": {},
   "outputs": [
    {
     "name": "stdout",
     "output_type": "stream",
     "text": [
      "📊 Variance and Standard Deviation Computation:\n",
      "\n",
      "Using NumPy:\n",
      "Variance (NumPy) = 9872.91\n",
      "Standard Deviation (NumPy) = 99.36\n",
      "\n",
      "Using Pandas:\n",
      "Variance (Pandas) = 10770.45\n",
      "Standard Deviation (Pandas) = 103.78\n"
     ]
    }
   ],
   "source": [
    "import numpy as np\n",
    "import pandas as pd\n",
    "\n",
    "# Simulate a dataset (e.g., monthly sales of a product)\n",
    "np.random.seed(0)\n",
    "sales = np.random.randint(100, 500, size=12)  # 12 months of sales data between 100 and 500 units\n",
    "\n",
    "# Convert to DataFrame for easier manipulation\n",
    "df = pd.DataFrame(sales, columns=[\"Sales\"])\n",
    "\n",
    "# Using NumPy to calculate variance and standard deviation\n",
    "variance_numpy = np.var(sales)  # Variance\n",
    "std_dev_numpy = np.std(sales)  # Standard deviation\n",
    "\n",
    "# Using Pandas to calculate variance and standard deviation\n",
    "variance_pandas = df[\"Sales\"].var()  # Variance (sample variance by default)\n",
    "std_dev_pandas = df[\"Sales\"].std()  # Standard deviation (sample std dev by default)\n",
    "\n",
    "# Output the results\n",
    "print(\"📊 Variance and Standard Deviation Computation:\")\n",
    "\n",
    "print(\"\\nUsing NumPy:\")\n",
    "print(f\"Variance (NumPy) = {variance_numpy:.2f}\")\n",
    "print(f\"Standard Deviation (NumPy) = {std_dev_numpy:.2f}\")\n",
    "\n",
    "print(\"\\nUsing Pandas:\")\n",
    "print(f\"Variance (Pandas) = {variance_pandas:.2f}\")\n",
    "print(f\"Standard Deviation (Pandas) = {std_dev_pandas:.2f}\")\n"
   ]
  },
  {
   "cell_type": "markdown",
   "id": "54c32697",
   "metadata": {},
   "source": [
    "### 23.  Visualize skewness and kurtosis using Python libraries like matplotlib or seaborn"
   ]
  },
  {
   "cell_type": "code",
   "execution_count": 24,
   "id": "c0e8f253",
   "metadata": {},
   "outputs": [
    {
     "data": {
      "image/png": "[encoded data removed]",
      "text/plain": [
       "<Figure size 1000x600 with 1 Axes>"
      ]
     },
     "metadata": {},
     "output_type": "display_data"
    },
    {
     "name": "stdout",
     "output_type": "stream",
     "text": [
      "Skewness: 2.05\n",
      "Kurtosis: 6.48\n",
      "Data is positively skewed (longer right tail).\n",
      "Data has high kurtosis (heavy tails, potential outliers).\n"
     ]
    }
   ],
   "source": [
    "import numpy as np\n",
    "import pandas as pd\n",
    "import matplotlib.pyplot as plt\n",
    "import seaborn as sns\n",
    "from scipy.stats import skew, kurtosis\n",
    "\n",
    "# Generate a dataset (e.g., exam scores with skewness and kurtosis)\n",
    "np.random.seed(0)\n",
    "data = np.random.exponential(scale=1, size=1000)  # Exponential distribution (positive skew)\n",
    "\n",
    "# Calculate skewness and kurtosis\n",
    "data_skewness = skew(data)\n",
    "data_kurtosis = kurtosis(data)\n",
    "\n",
    "# Visualizing the data distribution\n",
    "plt.figure(figsize=(10, 6))\n",
    "\n",
    "# Plot histogram with seaborn to visualize skewness\n",
    "sns.histplot(data, kde=True, color='skyblue', bins=30)\n",
    "plt.title(f\"Histogram of Data\\nSkewness: {data_skewness:.2f} | Kurtosis: {data_kurtosis:.2f}\", fontsize=15)\n",
    "plt.xlabel(\"Values\")\n",
    "plt.ylabel(\"Frequency\")\n",
    "plt.show()\n",
    "\n",
    "# Output the computed skewness and kurtosis\n",
    "print(f\"Skewness: {data_skewness:.2f}\")\n",
    "print(f\"Kurtosis: {data_kurtosis:.2f}\")\n",
    "\n",
    "# Interpretation of the skewness and kurtosis\n",
    "if data_skewness > 0:\n",
    "    print(\"Data is positively skewed (longer right tail).\")\n",
    "elif data_skewness < 0:\n",
    "    print(\"Data is negatively skewed (longer left tail).\")\n",
    "else:\n",
    "    print(\"Data is symmetric.\")\n",
    "\n",
    "if data_kurtosis > 0:\n",
    "    print(\"Data has high kurtosis (heavy tails, potential outliers).\")\n",
    "elif data_kurtosis < 0:\n",
    "    print(\"Data has low kurtosis (light tails).\")\n",
    "else:\n",
    "    print(\"Data has normal kurtosis (bell-shaped distribution).\")\n"
   ]
  },
  {
   "cell_type": "markdown",
   "id": "3c6afc7c",
   "metadata": {},
   "source": [
    "### 24.  Implement the Pearson and Spearman correlation coefficients for a dataset"
   ]
  },
  {
   "cell_type": "code",
   "execution_count": 25,
   "id": "4182b5dc",
   "metadata": {},
   "outputs": [
    {
     "name": "stdout",
     "output_type": "stream",
     "text": [
      "📊 Pearson and Spearman Correlation Coefficients:\n",
      "Pearson Correlation Coefficient: 0.94\n",
      "Spearman Correlation Coefficient: 0.92\n",
      "Pearson: There is a positive linear relationship between sales and advertising.\n",
      "Spearman: There is a positive monotonic relationship between sales and advertising.\n"
     ]
    }
   ],
   "source": [
    "import numpy as np\n",
    "import pandas as pd\n",
    "from scipy.stats import pearsonr, spearmanr\n",
    "\n",
    "# Generate a dataset with two variables (e.g., product sales and advertising spend)\n",
    "np.random.seed(0)\n",
    "sales = np.random.randint(100, 500, size=20)  # Random sales data\n",
    "advertising = 0.5 * sales + np.random.randint(20, 100, size=20)  # Advertising spend related to sales with some noise\n",
    "\n",
    "# Convert to DataFrame for easier manipulation\n",
    "df = pd.DataFrame({'Sales': sales, 'Advertising': advertising})\n",
    "\n",
    "# Pearson Correlation Coefficient\n",
    "pearson_corr, _ = pearsonr(df['Sales'], df['Advertising'])\n",
    "\n",
    "# Spearman Correlation Coefficient\n",
    "spearman_corr, _ = spearmanr(df['Sales'], df['Advertising'])\n",
    "\n",
    "# Output the results\n",
    "print(\"📊 Pearson and Spearman Correlation Coefficients:\")\n",
    "\n",
    "print(f\"Pearson Correlation Coefficient: {pearson_corr:.2f}\")\n",
    "print(f\"Spearman Correlation Coefficient: {spearman_corr:.2f}\")\n",
    "\n",
    "# Interpretation:\n",
    "if pearson_corr > 0:\n",
    "    print(\"Pearson: There is a positive linear relationship between sales and advertising.\")\n",
    "elif pearson_corr < 0:\n",
    "    print(\"Pearson: There is a negative linear relationship between sales and advertising.\")\n",
    "else:\n",
    "    print(\"Pearson: No linear relationship between sales and advertising.\")\n",
    "\n",
    "if spearman_corr > 0:\n",
    "    print(\"Spearman: There is a positive monotonic relationship between sales and advertising.\")\n",
    "elif spearman_corr < 0:\n",
    "    print(\"Spearman: There is a negative monotonic relationship between sales and advertising.\")\n",
    "else:\n",
    "    print(\"Spearman: No monotonic relationship between sales and advertising.\")\n"
   ]
  },
  {
   "cell_type": "code",
   "execution_count": null,
   "id": "8d1d971b",
   "metadata": {},
   "outputs": [],
   "source": []
  }
 ],
 "metadata": {
  "kernelspec": {
   "display_name": "Python 3",
   "language": "python",
   "name": "python3"
  },
  "language_info": {
   "codemirror_mode": {
    "name": "ipython",
    "version": 3
   },
   "file_extension": ".py",
   "mimetype": "text/x-python",
   "name": "python",
   "nbconvert_exporter": "python",
   "pygments_lexer": "ipython3",
   "version": "3.13.2"
  }
 },
 "nbformat": 4,
 "nbformat_minor": 5
}
