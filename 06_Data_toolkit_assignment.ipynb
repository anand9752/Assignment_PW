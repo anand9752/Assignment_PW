{
 "cells": [
  {
   "cell_type": "markdown",
   "metadata": {},
   "source": [
    "# Data Toolkit Solutions\n",
    "# Theory and Practical Questions"
   ]
  },
  {
   "cell_type": "code",
   "execution_count": 25,
   "metadata": {},
   "outputs": [],
   "source": [
    "import numpy as np\n",
    "import pandas as pd\n",
    "import matplotlib.pyplot as plt\n",
    "import seaborn as sns\n",
    "import plotly.express as px\n",
    "import plotly.graph_objects as go\n",
    "from plotly.subplots import make_subplots\n",
    "from bokeh.plotting import figure, show\n",
    "from bokeh.io import output_notebook"
   ]
  },
  {
   "cell_type": "markdown",
   "metadata": {},
   "source": [
    "## Theory Questions"
   ]
  },
  {
   "cell_type": "markdown",
   "metadata": {},
   "source": [
    "### 1. What is NumPy, and why is it widely used in Python?\n",
    "\n",
    "NumPy (Numerical Python) is a fundamental package for scientific computing in Python. \n",
    "It's widely used because:\n",
    "- It provides efficient multi-dimensional array objects\n",
    "- It offers fast operations on arrays (vectorized operations)\n",
    "- It includes mathematical functions for operating on these arrays\n",
    "- It serves as a foundation for many other scientific libraries like Pandas, SciPy, etc.\n",
    "- It has optimized C implementations that make calculations much faster than Python lists"
   ]
  },
  {
   "cell_type": "markdown",
   "metadata": {},
   "source": [
    "### 2. How does broadcasting work in NumPy?\n",
    "\n",
    "Broadcasting in NumPy is a mechanism that allows arrays with different shapes to be used in operations.\n",
    "The smaller array is \"broadcast\" to match the shape of the larger array, creating a virtual copy\n",
    "without actually duplicating data. This makes operations between arrays of different dimensions \n",
    "possible and memory-efficient.\n",
    "\n",
    "Rules of broadcasting:\n",
    "1. If arrays don't have the same dimensions, prepend dimensions of 1 to the smaller array\n",
    "2. If the shape of the arrays doesn't match in any dimension, and one of them has a size of 1,\n",
    "   the smaller one is stretched to match the larger one\n",
    "3. If sizes differ and neither is 1, an error is raised"
   ]
  },
  {
   "cell_type": "code",
   "execution_count": 26,
   "metadata": {},
   "outputs": [
    {
     "name": "stdout",
     "output_type": "stream",
     "text": [
      "Broadcasting Example:\n",
      "Array a shape: (3,), Array b shape: (3, 1)\n",
      "Result shape after broadcasting: (3, 3)\n",
      "Result array:\n",
      "[[2 3 4]\n",
      " [3 4 5]\n",
      " [4 5 6]]\n"
     ]
    }
   ],
   "source": [
    "# Example of broadcasting\n",
    "print(\"Broadcasting Example:\")\n",
    "a = np.array([1, 2, 3])  # Shape: (3,)\n",
    "b = np.array([[1], [2], [3]])  # Shape: (3, 1)\n",
    "print(f\"Array a shape: {a.shape}, Array b shape: {b.shape}\")\n",
    "c = a + b  # Broadcasting happens here\n",
    "print(f\"Result shape after broadcasting: {c.shape}\")\n",
    "print(\"Result array:\")\n",
    "print(c)"
   ]
  },
  {
   "cell_type": "markdown",
   "metadata": {},
   "source": [
    "### 3. What is a Pandas DataFrame?\n",
    "\n",
    "A Pandas DataFrame is a 2-dimensional labeled data structure with columns that can be of different types.\n",
    "It's similar to a spreadsheet, SQL table, or a dictionary of Series objects. Key features include:\n",
    "- Column and row labels\n",
    "- Ability to perform operations on rows or columns\n",
    "- Can handle heterogeneous data types\n",
    "- Powerful data alignment and integrated handling of missing data\n",
    "- Flexible reshaping, merging, and pivoting of data sets"
   ]
  },
  {
   "cell_type": "markdown",
   "metadata": {},
   "source": [
    "### 4. Explain the use of the groupby() method in Pandas.\n",
    "\n",
    "The groupby() method in Pandas is used for grouping data according to specified criteria and then applying\n",
    "a function to each group independently. The workflow typically follows a split-apply-combine pattern:\n",
    "1. Split: Data is grouped based on one or more keys\n",
    "2. Apply: A function is applied to each group independently\n",
    "3. Combine: The results are combined into a new data structure\n",
    "\n",
    "It's particularly useful for aggregation operations (sum, mean, count), transformations, and filtering operations."
   ]
  },
  {
   "cell_type": "code",
   "execution_count": 27,
   "metadata": {},
   "outputs": [
    {
     "name": "stdout",
     "output_type": "stream",
     "text": [
      "\n",
      "Pandas groupby() example:\n",
      "Original DataFrame:\n",
      "  Category  Value\n",
      "0        A     10\n",
      "1        B     20\n",
      "2        A     15\n",
      "3        B     25\n",
      "4        A      5\n",
      "5        B     30\n",
      "\n",
      "After groupby and aggregation:\n",
      "         Value            \n",
      "           sum  mean count\n",
      "Category                  \n",
      "A           30  10.0     3\n",
      "B           75  25.0     3\n"
     ]
    }
   ],
   "source": [
    "# Example of groupby()\n",
    "print(\"\\nPandas groupby() example:\")\n",
    "df = pd.DataFrame({\n",
    "    'Category': ['A', 'B', 'A', 'B', 'A', 'B'],\n",
    "    'Value': [10, 20, 15, 25, 5, 30]\n",
    "})\n",
    "print(\"Original DataFrame:\")\n",
    "print(df)\n",
    "grouped = df.groupby('Category').agg({'Value': ['sum', 'mean', 'count']})\n",
    "print(\"\\nAfter groupby and aggregation:\")\n",
    "print(grouped)"
   ]
  },
  {
   "cell_type": "markdown",
   "metadata": {},
   "source": [
    "### 5. Why is Seaborn preferred for statistical visualizations?\n",
    "\n",
    "Seaborn is preferred for statistical visualizations because:\n",
    "- It's built on top of Matplotlib but provides a higher-level interface\n",
    "- It has built-in themes for creating aesthetically pleasing visualizations\n",
    "- It includes specialized plots for statistical analysis (violin plots, box plots, etc.)\n",
    "- It integrates well with Pandas DataFrames\n",
    "- It automatically handles aggregation and statistical estimation\n",
    "- It simplifies the creation of complex visualizations like heatmaps, pair plots, and facet grids"
   ]
  },
  {
   "cell_type": "markdown",
   "metadata": {},
   "source": [
    "### 6. What are the differences between NumPy arrays and Python lists?\n",
    "\n",
    "Key differences between NumPy arrays and Python lists:\n",
    "- NumPy arrays are homogeneous (same data type) while Python lists can be heterogeneous\n",
    "- NumPy arrays support vectorized operations, making calculations much faster\n",
    "- NumPy arrays are more memory-efficient than Python lists\n",
    "- NumPy arrays have built-in mathematical functions\n",
    "- NumPy arrays can be multi-dimensional while Python lists need nested structures\n",
    "- NumPy arrays have fixed size at creation, while Python lists are dynamic"
   ]
  },
  {
   "cell_type": "markdown",
   "metadata": {},
   "source": [
    "### 7. What is a heatmap, and when should it be used?\n",
    "\n",
    "A heatmap is a graphical representation of data where values are depicted by colors. It's useful for:\n",
    "- Visualizing correlation matrices to show relationships between variables\n",
    "- Displaying patterns in large datasets where color intensity represents value magnitude\n",
    "- Showing variations across two dimensions (like time and categories)\n",
    "- Identifying clusters or outliers in complex data\n",
    "- Visualizing hierarchical clustering results\n",
    "- Representing geographical or spatial data distributions"
   ]
  },
  {
   "cell_type": "markdown",
   "metadata": {},
   "source": [
    "### 8. What does the term \"vectorized operation\" mean in NumPy?\n",
    "\n",
    "Vectorized operations in NumPy refer to operations that are applied to entire arrays at once, rather than\n",
    "using explicit loops in Python. Benefits include:\n",
    "- Significantly faster execution as operations are implemented in C\n",
    "- Cleaner, more readable code without explicit loops\n",
    "- Better memory management and cache utilization\n",
    "- Enables parallel computation on modern hardware\n",
    "- Facilitates mathematical expressions that closely resemble their algebraic notation"
   ]
  },
  {
   "cell_type": "code",
   "execution_count": 28,
   "metadata": {},
   "outputs": [
    {
     "name": "stdout",
     "output_type": "stream",
     "text": [
      "\n",
      "Vectorized operation example:\n",
      "CPU times: total: 0 ns\n",
      "Wall time: 5.05 ms\n",
      "Vectorized operations are much faster than loops for large arrays\n"
     ]
    }
   ],
   "source": [
    "# Example of vectorized operation vs loop\n",
    "print(\"\\nVectorized operation example:\")\n",
    "array = np.random.rand(1000000)\n",
    "# Time a vectorized operation\n",
    "%time vectorized_result = array * 2\n",
    "# Time a loop operation (uncomment to see the difference)\n",
    "# %time loop_result = [x * 2 for x in array]\n",
    "print(\"Vectorized operations are much faster than loops for large arrays\")"
   ]
  },
  {
   "cell_type": "markdown",
   "metadata": {},
   "source": [
    "### 9. How does Matplotlib differ from Plotly?\n",
    "\n",
    "Key differences between Matplotlib and Plotly:\n",
    "- Matplotlib is primarily a static plotting library, while Plotly specializes in interactive visualizations\n",
    "- Plotly generates JavaScript-based plots that are web-ready, while Matplotlib produces static images\n",
    "- Plotly has built-in support for hover tooltips and zooming without additional coding\n",
    "- Matplotlib offers more fine-grained control over plot elements\n",
    "- Plotly has better support for 3D visualizations and animated plots\n",
    "- Matplotlib is more traditional and has been around longer with extensive documentation"
   ]
  },
  {
   "cell_type": "markdown",
   "metadata": {},
   "source": [
    "### 10. What is the significance of hierarchical indexing in Pandas?\n",
    "\n",
    "Hierarchical indexing (MultiIndex) in Pandas allows:\n",
    "- Representing higher-dimensional data in a tabular format with multiple levels of row and column indices\n",
    "- More intuitive handling of grouped data\n",
    "- Advanced data selection and manipulation through partial indexing\n",
    "- Reshaping data through operations like stack() and unstack()\n",
    "- Representing panel data (3D data) in a 2D DataFrame\n",
    "- More efficient storage and querying of sparse data"
   ]
  },
  {
   "cell_type": "code",
   "execution_count": 29,
   "metadata": {},
   "outputs": [
    {
     "name": "stdout",
     "output_type": "stream",
     "text": [
      "\n",
      "Hierarchical indexing example:\n",
      "            X         Y\n",
      "A 1  0.979467  0.114823\n",
      "  2  0.220978  0.184828\n",
      "B 1  0.602779  0.737716\n",
      "  2  0.387549  0.957958\n",
      "\n",
      "Selecting data from level 'A':\n",
      "          X         Y\n",
      "1  0.979467  0.114823\n",
      "2  0.220978  0.184828\n"
     ]
    }
   ],
   "source": [
    "# Example of hierarchical indexing\n",
    "print(\"\\nHierarchical indexing example:\")\n",
    "multi_index = pd.MultiIndex.from_tuples([('A', 1), ('A', 2), ('B', 1), ('B', 2)])\n",
    "df_multi = pd.DataFrame(np.random.rand(4, 2), index=multi_index, columns=['X', 'Y'])\n",
    "print(df_multi)\n",
    "print(\"\\nSelecting data from level 'A':\")\n",
    "print(df_multi.loc['A']) "
   ]
  },
  {
   "cell_type": "markdown",
   "metadata": {},
   "source": [
    "### 11. What is the role of Seaborn's pairplot() function?\n",
    "\n",
    "Seaborn's pairplot() function creates a grid of scatter plots showing pairwise relationships between variables\n",
    "in a dataset. It's useful for:\n",
    "- Exploring correlations between multiple variables at once\n",
    "- Visualizing the distribution of each variable (through histograms or KDE plots on the diagonal)\n",
    "- Identifying patterns, clusters, or outliers in multivariate data\n",
    "- Assessing the potential for linear relationships between pairs of variables\n",
    "- Color-coding points by a categorical variable to reveal group-specific patterns"
   ]
  },
  {
   "cell_type": "markdown",
   "metadata": {},
   "source": [
    "### 12. What is the purpose of the describe() function in Pandas?\n",
    "\n",
    "The describe() function in Pandas generates descriptive statistics that summarize the central tendency,\n",
    "dispersion, and shape of a dataset's distribution. It:\n",
    "- Calculates count, mean, std, min, 25%, 50%, 75%, max for numeric columns\n",
    "- Provides count, unique values, top value, and frequency for object columns\n",
    "- Helps quickly understand the basic characteristics of data\n",
    "- Identifies potential outliers or anomalies\n",
    "- Assists in data preprocessing decisions\n",
    "- Works with both Series and DataFrame objects"
   ]
  },
  {
   "cell_type": "code",
   "execution_count": 30,
   "metadata": {},
   "outputs": [
    {
     "name": "stdout",
     "output_type": "stream",
     "text": [
      "\n",
      "Pandas describe() example:\n",
      "                A           B\n",
      "count  100.000000  100.000000\n",
      "mean     0.073088    4.799415\n",
      "std      0.990033    2.925650\n",
      "min     -2.799757    0.141203\n",
      "25%     -0.423768    2.256738\n",
      "50%      0.087367    4.559629\n",
      "75%      0.703066    7.347308\n",
      "max      2.453912    9.926212\n",
      "\n",
      "Describe for categorical column:\n",
      "count     100\n",
      "unique      3\n",
      "top         Y\n",
      "freq       41\n",
      "Name: C, dtype: object\n"
     ]
    }
   ],
   "source": [
    "# Example of describe()\n",
    "print(\"\\nPandas describe() example:\")\n",
    "df_sample = pd.DataFrame({\n",
    "    'A': np.random.normal(0, 1, 100),\n",
    "    'B': np.random.uniform(0, 10, 100),\n",
    "    'C': np.random.choice(['X', 'Y', 'Z'], 100)\n",
    "})\n",
    "print(df_sample.describe())\n",
    "print(\"\\nDescribe for categorical column:\")\n",
    "print(df_sample['C'].describe())"
   ]
  },
  {
   "cell_type": "markdown",
   "metadata": {},
   "source": [
    "### 13. Why is handling missing data important in Pandas?\n",
    "\n",
    "Handling missing data in Pandas is important because:\n",
    "- Missing values can lead to incorrect analysis and misleading conclusions\n",
    "- Many statistical functions and machine learning algorithms can't handle missing values directly\n",
    "- Complete-case analysis (dropping missing values) may introduce bias and reduce statistical power\n",
    "- Proper handling preserves the integrity and representativeness of the dataset\n",
    "- Different types of missingness (MCAR, MAR, MNAR) require different handling strategies\n",
    "- Missing values might contain information about the data collection process"
   ]
  },
  {
   "cell_type": "markdown",
   "metadata": {},
   "source": [
    "### 14. What are the benefits of using Plotly for data visualization?\n",
    "\n",
    "Benefits of using Plotly for data visualization:\n",
    "- Interactive plots with zoom, pan, and hover capabilities\n",
    "- Web-ready visualizations that can be embedded in dashboards\n",
    "- Support for a wide range of chart types, including scientific and financial charts\n",
    "- Built-in animation capabilities for time-series data\n",
    "- Support for creating dashboards with multiple linked visualizations\n",
    "- Integration with Jupyter notebooks, Dash, and other web frameworks\n",
    "- Advanced 3D plotting capabilities"
   ]
  },
  {
   "cell_type": "markdown",
   "metadata": {},
   "source": [
    "### 15. How does NumPy handle multidimensional arrays?\n",
    "\n",
    "NumPy handles multidimensional arrays through:\n",
    "- ndarray object that can represent arrays of any dimension\n",
    "- Efficient storage with contiguous memory allocation\n",
    "- Fast operations through vectorized functions\n",
    "- Shape attribute that defines the size in each dimension\n",
    "- Advanced indexing and slicing across any dimension\n",
    "- Axis parameter in functions to specify which dimension to operate on\n",
    "- Broadcasting for operations between arrays of different shapes\n",
    "- Functions for reshaping, transposing, and manipulating dimensions"
   ]
  },
  {
   "cell_type": "code",
   "execution_count": 31,
   "metadata": {},
   "outputs": [
    {
     "name": "stdout",
     "output_type": "stream",
     "text": [
      "\n",
      "Multidimensional array operations:\n",
      "Array shape: (3, 4, 2)\n",
      "Sum along axis 0: (4, 2)\n",
      "Sum along axis 1: (3, 2)\n",
      "Sum along axis 2: (3, 4)\n"
     ]
    }
   ],
   "source": [
    "# Example of multidimensional array operations\n",
    "print(\"\\nMultidimensional array operations:\")\n",
    "multi_array = np.random.rand(3, 4, 2)\n",
    "print(f\"Array shape: {multi_array.shape}\")\n",
    "print(f\"Sum along axis 0: {multi_array.sum(axis=0).shape}\")\n",
    "print(f\"Sum along axis 1: {multi_array.sum(axis=1).shape}\")\n",
    "print(f\"Sum along axis 2: {multi_array.sum(axis=2).shape}\")"
   ]
  },
  {
   "cell_type": "markdown",
   "metadata": {},
   "source": [
    "### 16. What is the role of Bokeh in data visualization?\n",
    "\n",
    "Bokeh's role in data visualization:\n",
    "- Creating interactive web-based visualizations in Python\n",
    "- Targeting modern web browsers for presentation\n",
    "- Enabling high-performance interactivity over large or streaming datasets\n",
    "- Providing styling capabilities similar to D3.js with Python syntax\n",
    "- Creating standalone HTML documents or server applications\n",
    "- Supporting real-time streaming data visualization\n",
    "- Offering both high-level and low-level interfaces for different needs"
   ]
  },
  {
   "cell_type": "markdown",
   "metadata": {},
   "source": [
    "### 17. Explain the difference between apply() and map() in Pandas.\n",
    "\n",
    "Differences between apply() and map() in Pandas:\n",
    "- map() is used only on Series, while apply() works on both Series and DataFrame\n",
    "- map() transforms each value independently using a dictionary, Series, or function\n",
    "- apply() can access the whole Series/DataFrame and perform more complex operations\n",
    "- map() preserves the index, while apply() might not always preserve the index\n",
    "- apply() on DataFrames can work row-wise or column-wise using the axis parameter\n",
    "- map() is generally faster for element-wise transformations"
   ]
  },
  {
   "cell_type": "code",
   "execution_count": 32,
   "metadata": {},
   "outputs": [
    {
     "name": "stdout",
     "output_type": "stream",
     "text": [
      "\n",
      "apply() vs map() example:\n",
      "Original Series: [1 2 3 4]\n",
      "map() result: [ 1  4  9 16]\n",
      "apply() result: [ 1  4  9 16]\n",
      "\n",
      "Original DataFrame:\n",
      "   A  B\n",
      "0  1  4\n",
      "1  2  5\n",
      "2  3  6\n",
      "\n",
      "apply() on DataFrame (by column):\n",
      "A    2\n",
      "B    2\n",
      "dtype: int64\n",
      "\n",
      "apply() on DataFrame (by row):\n",
      "0    3\n",
      "1    3\n",
      "2    3\n",
      "dtype: int64\n"
     ]
    }
   ],
   "source": [
    "# Example of apply() vs map()\n",
    "print(\"\\napply() vs map() example:\")\n",
    "s = pd.Series([1, 2, 3, 4])\n",
    "print(\"Original Series:\", s.values)\n",
    "print(\"map() result:\", s.map(lambda x: x**2).values)\n",
    "print(\"apply() result:\", s.apply(lambda x: x**2).values)\n",
    "df = pd.DataFrame({'A': [1, 2, 3], 'B': [4, 5, 6]})\n",
    "print(\"\\nOriginal DataFrame:\")\n",
    "print(df)\n",
    "print(\"\\napply() on DataFrame (by column):\")\n",
    "print(df.apply(lambda x: x.max() - x.min()))\n",
    "print(\"\\napply() on DataFrame (by row):\")\n",
    "print(df.apply(lambda x: x.max() - x.min(), axis=1))"
   ]
  },
  {
   "cell_type": "markdown",
   "metadata": {},
   "source": [
    "### 18. What are some advanced features of NumPy?\n",
    "\n",
    "Advanced features of NumPy include:\n",
    "- Structured arrays for complex data types\n",
    "- Memory views and zero-copy operations\n",
    "- Universal functions (ufuncs) for element-wise operations\n",
    "- Advanced indexing with boolean masks and integer arrays\n",
    "- Einsum notation for tensor operations\n",
    "- Fast Fourier Transforms and linear algebra operations\n",
    "- Random number generation with various distributions\n",
    "- Polynomial functions and operations\n",
    "- Masked arrays for data with invalid values\n",
    "- Customizable dtypes for specialized applications"
   ]
  },
  {
   "cell_type": "markdown",
   "metadata": {},
   "source": [
    "### 19. How does Pandas simplify time series analysis?\n",
    "\n",
    "Pandas simplifies time series analysis through:\n",
    "- Specialized date/time data types and indexing\n",
    "- Resampling methods to change the frequency of observations\n",
    "- Rolling window calculations for moving statistics\n",
    "- Shifting and lagging functions for lead/lag analysis\n",
    "- Date range generation and time zone handling\n",
    "- Seasonality decomposition and periodicity analysis\n",
    "- Time-based slicing and filtering using datetime indexing\n",
    "- Functions specific to financial time series (returns, volatility, etc.)"
   ]
  },
  {
   "cell_type": "code",
   "execution_count": 33,
   "metadata": {},
   "outputs": [
    {
     "name": "stdout",
     "output_type": "stream",
     "text": [
      "\n",
      "Time series example:\n",
      "Time series data:\n",
      "2023-01-01   -1.306037\n",
      "2023-01-02   -1.696741\n",
      "2023-01-03    1.059213\n",
      "2023-01-04    0.863566\n",
      "2023-01-05   -1.952110\n",
      "2023-01-06    0.426690\n",
      "2023-01-07   -0.116306\n",
      "2023-01-08    1.528370\n",
      "2023-01-09   -0.056882\n",
      "2023-01-10    0.800447\n",
      "Freq: D, dtype: float64\n",
      "\n",
      "Resampled to 3-day frequency:\n",
      "2023-01-01   -0.647855\n",
      "2023-01-04   -0.220618\n",
      "2023-01-07    0.451727\n",
      "2023-01-10    0.800447\n",
      "Freq: 3D, dtype: float64\n",
      "\n",
      "Rolling 3-day window mean:\n",
      "2023-01-01         NaN\n",
      "2023-01-02         NaN\n",
      "2023-01-03   -0.647855\n",
      "2023-01-04    0.075346\n",
      "2023-01-05   -0.009777\n",
      "2023-01-06   -0.220618\n",
      "2023-01-07   -0.547242\n",
      "2023-01-08    0.612918\n",
      "2023-01-09    0.451727\n",
      "2023-01-10    0.757312\n",
      "Freq: D, dtype: float64\n"
     ]
    }
   ],
   "source": [
    "# Example of time series in Pandas\n",
    "print(\"\\nTime series example:\")\n",
    "date_range = pd.date_range('2023-01-01', periods=10, freq='D')\n",
    "ts_data = pd.Series(np.random.randn(10), index=date_range)\n",
    "print(\"Time series data:\")\n",
    "print(ts_data)\n",
    "print(\"\\nResampled to 3-day frequency:\")\n",
    "print(ts_data.resample('3D').mean())\n",
    "print(\"\\nRolling 3-day window mean:\")\n",
    "print(ts_data.rolling(window=3).mean())"
   ]
  },
  {
   "cell_type": "markdown",
   "metadata": {},
   "source": [
    "### 20. What is the role of a pivot table in Pandas?\n",
    "\n",
    "The role of a pivot table in Pandas:\n",
    "- Reshaping and summarizing data by aggregating values across categories\n",
    "- Creating spreadsheet-like cross-tabulations\n",
    "- Transforming long/tidy data to wide format for analysis or reporting\n",
    "- Enabling multi-level hierarchical views of data\n",
    "- Performing group-wise calculations with multiple aggregation functions\n",
    "- Facilitating comparison across different dimensions of data\n",
    "- Creating contingency tables for statistical analysis"
   ]
  },
  {
   "cell_type": "code",
   "execution_count": 34,
   "metadata": {},
   "outputs": [
    {
     "name": "stdout",
     "output_type": "stream",
     "text": [
      "\n",
      "Pivot table example:\n",
      "Original data:\n",
      "        Date Category  Value\n",
      "0 2023-01-01        A     10\n",
      "1 2023-01-02        B     20\n",
      "2 2023-01-03        A     15\n",
      "3 2023-01-04        B     25\n",
      "4 2023-01-05        A      5\n",
      "5 2023-01-06        B     30\n",
      "\n",
      "Pivoted data:\n",
      "Date      2023-01-01  2023-01-03  2023-01-05\n",
      "Category                                    \n",
      "A               10.0        15.0         5.0\n",
      "B               20.0        25.0        30.0\n"
     ]
    }
   ],
   "source": [
    "# Example of pivot table\n",
    "print(\"\\nPivot table example:\")\n",
    "pivot_data = pd.DataFrame({\n",
    "    'Date': pd.date_range('2023-01-01', periods=6),\n",
    "    'Category': ['A', 'B', 'A', 'B', 'A', 'B'],\n",
    "    'Value': [10, 20, 15, 25, 5, 30]\n",
    "})\n",
    "print(\"Original data:\")\n",
    "print(pivot_data)\n",
    "pivoted = pivot_data.pivot_table(index='Category', columns=pd.Grouper(key='Date', freq='2D'), \n",
    "                               values='Value', aggfunc='mean')\n",
    "print(\"\\nPivoted data:\")\n",
    "print(pivoted)"
   ]
  },
  {
   "cell_type": "markdown",
   "metadata": {},
   "source": [
    "### 21. Why is NumPy's array slicing faster than Python's list slicing?\n",
    "\n",
    "NumPy's array slicing is faster than Python list slicing because:\n",
    "- NumPy arrays have contiguous memory allocation, while Python lists store references to objects\n",
    "- NumPy slices are views of the original array (no copying), while list slices create new lists\n",
    "- NumPy's implementation is in C, while Python's list operations are interpreted\n",
    "- NumPy's homogeneous data types allow for optimized memory access patterns\n",
    "- NumPy can leverage cache locality due to its memory layout\n",
    "- NumPy slicing can be done along multiple dimensions in a single operation"
   ]
  },
  {
   "cell_type": "markdown",
   "metadata": {},
   "source": [
    "### 22. What are some common use cases for Seaborn?\n",
    "\n",
    "Common use cases for Seaborn:\n",
    "- Statistical data visualization with confidence intervals\n",
    "- Visualizing distributions (histograms, KDE plots, ECDF plots)\n",
    "- Visualizing categorical data with bar plots, count plots, and categorical scatter plots\n",
    "- Visualizing relationships with scatter plots, line plots, and regression plots\n",
    "- Creating correlation matrices and heatmaps\n",
    "- Visualizing multivariate relationships with pair plots and facet grids\n",
    "- Creating complex layouts with FacetGrid and PairGrid\n",
    "- Customizing plot aesthetics with themes and palettes"
   ]
  },
  {
   "cell_type": "markdown",
   "metadata": {},
   "source": [
    "## Practical Questions"
   ]
  },
  {
   "cell_type": "markdown",
   "metadata": {},
   "source": [
    "### 23. How do you create a 2D NumPy array and calculate the sum of each row?"
   ]
  },
  {
   "cell_type": "code",
   "execution_count": 35,
   "metadata": {},
   "outputs": [
    {
     "name": "stdout",
     "output_type": "stream",
     "text": [
      "2D Array:\n",
      "[[1 2 3]\n",
      " [4 5 6]\n",
      " [7 8 9]]\n",
      "\n",
      "Sum of each row:\n",
      "[ 6 15 24]\n"
     ]
    }
   ],
   "source": [
    "# Create a 2D array\n",
    "array_2d = np.array([[1, 2, 3], [4, 5, 6], [7, 8, 9]])\n",
    "print(\"2D Array:\")\n",
    "print(array_2d)\n",
    "\n",
    "# Calculate the sum of each row\n",
    "row_sum = np.sum(array_2d, axis =1 )\n",
    "print(\"\\nSum of each row:\")\n",
    "print(row_sums)"
   ]
  },
  {
   "cell_type": "markdown",
   "metadata": {},
   "source": [
    "### 24. Write a Pandas script to find the mean of a specific column in a DataFrame."
   ]
  },
  {
   "cell_type": "code",
   "execution_count": 36,
   "metadata": {},
   "outputs": [
    {
     "name": "stdout",
     "output_type": "stream",
     "text": [
      "DataFrame:\n",
      "    A   B   C\n",
      "0  10   5   2\n",
      "1  20  10   4\n",
      "2  30  15   6\n",
      "3  40  20   8\n",
      "4  50  25  10\n",
      "\n",
      "Mean of column 'B': 15.0\n"
     ]
    }
   ],
   "source": [
    "# Create a sample DataFrame\n",
    "df = pd.DataFrame({\n",
    "    'A': [10, 20, 30, 40, 50],\n",
    "    'B': [5, 10, 15, 20, 25],\n",
    "    'C': [2, 4, 6, 8, 10]\n",
    "})\n",
    "print(\"DataFrame:\")\n",
    "print(df)\n",
    "\n",
    "# Find the mean of column 'B'\n",
    "mean_of_B = df['B'].mean()\n",
    "print(f\"\\nMean of column 'B': {mean_of_B}\")"
   ]
  },
  {
   "cell_type": "markdown",
   "metadata": {},
   "source": [
    "### 25. Create a scatter plot using Matplotlib."
   ]
  },
  {
   "cell_type": "code",
   "execution_count": 37,
   "metadata": {},
   "outputs": [
    {
     "data": {
      "image/png": "[encoded data removed]",
      "text/plain": [
       "<Figure size 800x600 with 1 Axes>"
      ]
     },
     "metadata": {},
     "output_type": "display_data"
    }
   ],
   "source": [
    "# Generate some random data\n",
    "np.random.seed(42)\n",
    "x = np.random.rand(50)\n",
    "y = x * 3 + np.random.normal(0, 0.2, 50)\n",
    "\n",
    "# Create a scatter plot\n",
    "plt.figure(figsize=(8, 6))\n",
    "plt.scatter(x, y, color='blue', alpha=0.7)\n",
    "plt.title('Scatter Plot Example')\n",
    "plt.xlabel('X-axis')\n",
    "plt.ylabel('Y-axis')\n",
    "plt.grid(True, alpha=0.3)\n",
    "plt.show()"
   ]
  },
  {
   "cell_type": "markdown",
   "metadata": {},
   "source": [
    "### 26. How do you calculate the correlation matrix using Seaborn and visualize it with a heatmap?"
   ]
  },
  {
   "cell_type": "code",
   "execution_count": 38,
   "id": "d5a7bd85",
   "metadata": {},
   "outputs": [
    {
     "name": "stdout",
     "output_type": "stream",
     "text": [
      "\n",
      "Correlation matrix using Seaborn:\n",
      "            total_bill       tip      size\n",
      "total_bill    1.000000  0.675734  0.598315\n",
      "tip           0.675734  1.000000  0.489299\n",
      "size          0.598315  0.489299  1.000000\n"
     ]
    },
    {
     "data": {
      "text/plain": [
       "<Axes: >"
      ]
     },
     "execution_count": 38,
     "metadata": {},
     "output_type": "execute_result"
    },
    {
     "data": {
      "image/png": "[encoded data removed]",
      "text/plain": [
       "<Figure size 640x480 with 2 Axes>"
      ]
     },
     "metadata": {},
     "output_type": "display_data"
    }
   ],
   "source": [
    "#How do you calculate the correlation matrix using Seaborn and visualize it with a heatmap?\n",
    "print(\"\\nCorrelation matrix using Seaborn:\")\n",
    "tips = sns.load_dataset('tips')\n",
    "tips_corr = tips[['total_bill', 'tip', 'size']].corr()\n",
    "print(tips_corr)\n",
    "# correlation matrix shows the correlation between total_bill, tip, and size means the higher the total_bill the higher the tip and size\n",
    "\n",
    "sns.heatmap(tips_corr, annot=True, cmap='coolwarm', center=0)\n"
   ]
  },
  {
   "cell_type": "markdown",
   "id": "913df3a9",
   "metadata": {},
   "source": [
    "### 27 Generate a bar plot using Plotly"
   ]
  },
  {
   "cell_type": "code",
   "execution_count": 39,
   "id": "05efd17e",
   "metadata": {},
   "outputs": [
    {
     "name": "stdout",
     "output_type": "stream",
     "text": [
      "\n",
      "Bar plot using Plotly:\n",
      "DataFrame for bar plot:\n"
     ]
    },
    {
     "data": {
      "application/vnd.plotly.v1+json": {
       "config": {
        "plotlyServerURL": "https://plot.ly"
       },
       "data": [
        {
         "hovertemplate": "Category=%{x}<br>Value=%{y}<extra></extra>",
         "legendgroup": "",
         "marker": {
          "color": "#636efa",
          "pattern": {
           "shape": ""
          }
         },
         "name": "",
         "orientation": "v",
         "showlegend": false,
         "textposition": "auto",
         "type": "bar",
         "x": [
          "A",
          "B",
          "C",
          "D"
         ],
         "xaxis": "x",
         "y": {
          "bdata": "ChQPGQ==",
          "dtype": "i1"
         },
         "yaxis": "y"
        }
       ],
       "layout": {
        "barmode": "relative",
        "legend": {
         "tracegroupgap": 0
        },
        "template": {
         "data": {
          "bar": [
           {
            "error_x": {
             "color": "#2a3f5f"
            },
            "error_y": {
             "color": "#2a3f5f"
            },
            "marker": {
             "line": {
              "color": "#E5ECF6",
              "width": 0.5
             },
             "pattern": {
              "fillmode": "overlay",
              "size": 10,
              "solidity": 0.2
             }
            },
            "type": "bar"
           }
          ],
          "barpolar": [
           {
            "marker": {
             "line": {
              "color": "#E5ECF6",
              "width": 0.5
             },
             "pattern": {
              "fillmode": "overlay",
              "size": 10,
              "solidity": 0.2
             }
            },
            "type": "barpolar"
           }
          ],
          "carpet": [
           {
            "aaxis": {
             "endlinecolor": "#2a3f5f",
             "gridcolor": "white",
             "linecolor": "white",
             "minorgridcolor": "white",
             "startlinecolor": "#2a3f5f"
            },
            "baxis": {
             "endlinecolor": "#2a3f5f",
             "gridcolor": "white",
             "linecolor": "white",
             "minorgridcolor": "white",
             "startlinecolor": "#2a3f5f"
            },
            "type": "carpet"
           }
          ],
          "choropleth": [
           {
            "colorbar": {
             "outlinewidth": 0,
             "ticks": ""
            },
            "type": "choropleth"
           }
          ],
          "contour": [
           {
            "colorbar": {
             "outlinewidth": 0,
             "ticks": ""
            },
            "colorscale": [
             [
              0,
              "#0d0887"
             ],
             [
              0.1111111111111111,
              "#46039f"
             ],
             [
              0.2222222222222222,
              "#7201a8"
             ],
             [
              0.3333333333333333,
              "#9c179e"
             ],
             [
              0.4444444444444444,
              "#bd3786"
             ],
             [
              0.5555555555555556,
              "#d8576b"
             ],
             [
              0.6666666666666666,
              "#ed7953"
             ],
             [
              0.7777777777777778,
              "#fb9f3a"
             ],
             [
              0.8888888888888888,
              "#fdca26"
             ],
             [
              1,
              "#f0f921"
             ]
            ],
            "type": "contour"
           }
          ],
          "contourcarpet": [
           {
            "colorbar": {
             "outlinewidth": 0,
             "ticks": ""
            },
            "type": "contourcarpet"
           }
          ],
          "heatmap": [
           {
            "colorbar": {
             "outlinewidth": 0,
             "ticks": ""
            },
            "colorscale": [
             [
              0,
              "#0d0887"
             ],
             [
              0.1111111111111111,
              "#46039f"
             ],
             [
              0.2222222222222222,
              "#7201a8"
             ],
             [
              0.3333333333333333,
              "#9c179e"
             ],
             [
              0.4444444444444444,
              "#bd3786"
             ],
             [
              0.5555555555555556,
              "#d8576b"
             ],
             [
              0.6666666666666666,
              "#ed7953"
             ],
             [
              0.7777777777777778,
              "#fb9f3a"
             ],
             [
              0.8888888888888888,
              "#fdca26"
             ],
             [
              1,
              "#f0f921"
             ]
            ],
            "type": "heatmap"
           }
          ],
          "histogram": [
           {
            "marker": {
             "pattern": {
              "fillmode": "overlay",
              "size": 10,
              "solidity": 0.2
             }
            },
            "type": "histogram"
           }
          ],
          "histogram2d": [
           {
            "colorbar": {
             "outlinewidth": 0,
             "ticks": ""
            },
            "colorscale": [
             [
              0,
              "#0d0887"
             ],
             [
              0.1111111111111111,
              "#46039f"
             ],
             [
              0.2222222222222222,
              "#7201a8"
             ],
             [
              0.3333333333333333,
              "#9c179e"
             ],
             [
              0.4444444444444444,
              "#bd3786"
             ],
             [
              0.5555555555555556,
              "#d8576b"
             ],
             [
              0.6666666666666666,
              "#ed7953"
             ],
             [
              0.7777777777777778,
              "#fb9f3a"
             ],
             [
              0.8888888888888888,
              "#fdca26"
             ],
             [
              1,
              "#f0f921"
             ]
            ],
            "type": "histogram2d"
           }
          ],
          "histogram2dcontour": [
           {
            "colorbar": {
             "outlinewidth": 0,
             "ticks": ""
            },
            "colorscale": [
             [
              0,
              "#0d0887"
             ],
             [
              0.1111111111111111,
              "#46039f"
             ],
             [
              0.2222222222222222,
              "#7201a8"
             ],
             [
              0.3333333333333333,
              "#9c179e"
             ],
             [
              0.4444444444444444,
              "#bd3786"
             ],
             [
              0.5555555555555556,
              "#d8576b"
             ],
             [
              0.6666666666666666,
              "#ed7953"
             ],
             [
              0.7777777777777778,
              "#fb9f3a"
             ],
             [
              0.8888888888888888,
              "#fdca26"
             ],
             [
              1,
              "#f0f921"
             ]
            ],
            "type": "histogram2dcontour"
           }
          ],
          "mesh3d": [
           {
            "colorbar": {
             "outlinewidth": 0,
             "ticks": ""
            },
            "type": "mesh3d"
           }
          ],
          "parcoords": [
           {
            "line": {
             "colorbar": {
              "outlinewidth": 0,
              "ticks": ""
             }
            },
            "type": "parcoords"
           }
          ],
          "pie": [
           {
            "automargin": true,
            "type": "pie"
           }
          ],
          "scatter": [
           {
            "fillpattern": {
             "fillmode": "overlay",
             "size": 10,
             "solidity": 0.2
            },
            "type": "scatter"
           }
          ],
          "scatter3d": [
           {
            "line": {
             "colorbar": {
              "outlinewidth": 0,
              "ticks": ""
             }
            },
            "marker": {
             "colorbar": {
              "outlinewidth": 0,
              "ticks": ""
             }
            },
            "type": "scatter3d"
           }
          ],
          "scattercarpet": [
           {
            "marker": {
             "colorbar": {
              "outlinewidth": 0,
              "ticks": ""
             }
            },
            "type": "scattercarpet"
           }
          ],
          "scattergeo": [
           {
            "marker": {
             "colorbar": {
              "outlinewidth": 0,
              "ticks": ""
             }
            },
            "type": "scattergeo"
           }
          ],
          "scattergl": [
           {
            "marker": {
             "colorbar": {
              "outlinewidth": 0,
              "ticks": ""
             }
            },
            "type": "scattergl"
           }
          ],
          "scattermap": [
           {
            "marker": {
             "colorbar": {
              "outlinewidth": 0,
              "ticks": ""
             }
            },
            "type": "scattermap"
           }
          ],
          "scattermapbox": [
           {
            "marker": {
             "colorbar": {
              "outlinewidth": 0,
              "ticks": ""
             }
            },
            "type": "scattermapbox"
           }
          ],
          "scatterpolar": [
           {
            "marker": {
             "colorbar": {
              "outlinewidth": 0,
              "ticks": ""
             }
            },
            "type": "scatterpolar"
           }
          ],
          "scatterpolargl": [
           {
            "marker": {
             "colorbar": {
              "outlinewidth": 0,
              "ticks": ""
             }
            },
            "type": "scatterpolargl"
           }
          ],
          "scatterternary": [
           {
            "marker": {
             "colorbar": {
              "outlinewidth": 0,
              "ticks": ""
             }
            },
            "type": "scatterternary"
           }
          ],
          "surface": [
           {
            "colorbar": {
             "outlinewidth": 0,
             "ticks": ""
            },
            "colorscale": [
             [
              0,
              "#0d0887"
             ],
             [
              0.1111111111111111,
              "#46039f"
             ],
             [
              0.2222222222222222,
              "#7201a8"
             ],
             [
              0.3333333333333333,
              "#9c179e"
             ],
             [
              0.4444444444444444,
              "#bd3786"
             ],
             [
              0.5555555555555556,
              "#d8576b"
             ],
             [
              0.6666666666666666,
              "#ed7953"
             ],
             [
              0.7777777777777778,
              "#fb9f3a"
             ],
             [
              0.8888888888888888,
              "#fdca26"
             ],
             [
              1,
              "#f0f921"
             ]
            ],
            "type": "surface"
           }
          ],
          "table": [
           {
            "cells": {
             "fill": {
              "color": "#EBF0F8"
             },
             "line": {
              "color": "white"
             }
            },
            "header": {
             "fill": {
              "color": "#C8D4E3"
             },
             "line": {
              "color": "white"
             }
            },
            "type": "table"
           }
          ]
         },
         "layout": {
          "annotationdefaults": {
           "arrowcolor": "#2a3f5f",
           "arrowhead": 0,
           "arrowwidth": 1
          },
          "autotypenumbers": "strict",
          "coloraxis": {
           "colorbar": {
            "outlinewidth": 0,
            "ticks": ""
           }
          },
          "colorscale": {
           "diverging": [
            [
             0,
             "#8e0152"
            ],
            [
             0.1,
             "#c51b7d"
            ],
            [
             0.2,
             "#de77ae"
            ],
            [
             0.3,
             "#f1b6da"
            ],
            [
             0.4,
             "#fde0ef"
            ],
            [
             0.5,
             "#f7f7f7"
            ],
            [
             0.6,
             "#e6f5d0"
            ],
            [
             0.7,
             "#b8e186"
            ],
            [
             0.8,
             "#7fbc41"
            ],
            [
             0.9,
             "#4d9221"
            ],
            [
             1,
             "#276419"
            ]
           ],
           "sequential": [
            [
             0,
             "#0d0887"
            ],
            [
             0.1111111111111111,
             "#46039f"
            ],
            [
             0.2222222222222222,
             "#7201a8"
            ],
            [
             0.3333333333333333,
             "#9c179e"
            ],
            [
             0.4444444444444444,
             "#bd3786"
            ],
            [
             0.5555555555555556,
             "#d8576b"
            ],
            [
             0.6666666666666666,
             "#ed7953"
            ],
            [
             0.7777777777777778,
             "#fb9f3a"
            ],
            [
             0.8888888888888888,
             "#fdca26"
            ],
            [
             1,
             "#f0f921"
            ]
           ],
           "sequentialminus": [
            [
             0,
             "#0d0887"
            ],
            [
             0.1111111111111111,
             "#46039f"
            ],
            [
             0.2222222222222222,
             "#7201a8"
            ],
            [
             0.3333333333333333,
             "#9c179e"
            ],
            [
             0.4444444444444444,
             "#bd3786"
            ],
            [
             0.5555555555555556,
             "#d8576b"
            ],
            [
             0.6666666666666666,
             "#ed7953"
            ],
            [
             0.7777777777777778,
             "#fb9f3a"
            ],
            [
             0.8888888888888888,
             "#fdca26"
            ],
            [
             1,
             "#f0f921"
            ]
           ]
          },
          "colorway": [
           "#636efa",
           "#EF553B",
           "#00cc96",
           "#ab63fa",
           "#FFA15A",
           "#19d3f3",
           "#FF6692",
           "#B6E880",
           "#FF97FF",
           "#FECB52"
          ],
          "font": {
           "color": "#2a3f5f"
          },
          "geo": {
           "bgcolor": "white",
           "lakecolor": "white",
           "landcolor": "#E5ECF6",
           "showlakes": true,
           "showland": true,
           "subunitcolor": "white"
          },
          "hoverlabel": {
           "align": "left"
          },
          "hovermode": "closest",
          "mapbox": {
           "style": "light"
          },
          "paper_bgcolor": "white",
          "plot_bgcolor": "#E5ECF6",
          "polar": {
           "angularaxis": {
            "gridcolor": "white",
            "linecolor": "white",
            "ticks": ""
           },
           "bgcolor": "#E5ECF6",
           "radialaxis": {
            "gridcolor": "white",
            "linecolor": "white",
            "ticks": ""
           }
          },
          "scene": {
           "xaxis": {
            "backgroundcolor": "#E5ECF6",
            "gridcolor": "white",
            "gridwidth": 2,
            "linecolor": "white",
            "showbackground": true,
            "ticks": "",
            "zerolinecolor": "white"
           },
           "yaxis": {
            "backgroundcolor": "#E5ECF6",
            "gridcolor": "white",
            "gridwidth": 2,
            "linecolor": "white",
            "showbackground": true,
            "ticks": "",
            "zerolinecolor": "white"
           },
           "zaxis": {
            "backgroundcolor": "#E5ECF6",
            "gridcolor": "white",
            "gridwidth": 2,
            "linecolor": "white",
            "showbackground": true,
            "ticks": "",
            "zerolinecolor": "white"
           }
          },
          "shapedefaults": {
           "line": {
            "color": "#2a3f5f"
           }
          },
          "ternary": {
           "aaxis": {
            "gridcolor": "white",
            "linecolor": "white",
            "ticks": ""
           },
           "baxis": {
            "gridcolor": "white",
            "linecolor": "white",
            "ticks": ""
           },
           "bgcolor": "#E5ECF6",
           "caxis": {
            "gridcolor": "white",
            "linecolor": "white",
            "ticks": ""
           }
          },
          "title": {
           "x": 0.05
          },
          "xaxis": {
           "automargin": true,
           "gridcolor": "white",
           "linecolor": "white",
           "ticks": "",
           "title": {
            "standoff": 15
           },
           "zerolinecolor": "white",
           "zerolinewidth": 2
          },
          "yaxis": {
           "automargin": true,
           "gridcolor": "white",
           "linecolor": "white",
           "ticks": "",
           "title": {
            "standoff": 15
           },
           "zerolinecolor": "white",
           "zerolinewidth": 2
          }
         }
        },
        "title": {
         "text": "Bar Plot Example"
        },
        "xaxis": {
         "anchor": "y",
         "domain": [
          0,
          1
         ],
         "title": {
          "text": "Category"
         }
        },
        "yaxis": {
         "anchor": "x",
         "domain": [
          0,
          1
         ],
         "title": {
          "text": "Value"
         }
        }
       }
      }
     },
     "metadata": {},
     "output_type": "display_data"
    }
   ],
   "source": [
    "# Generate a bar plot using Plotly\n",
    "print(\"\\nBar plot using Plotly:\")\n",
    "df = pd.DataFrame({\n",
    "    'A': ['A', 'B', 'C', 'D'],\n",
    "    'B': [10, 20, 15, 25]\n",
    "})\n",
    "print(\"DataFrame for bar plot:\")\n",
    "fig = px.bar(x=df['A'], y=df['B'], title='Bar Plot Example', labels={'x': 'Category', 'y': 'Value'})\n",
    "fig.show()"
   ]
  },
  {
   "cell_type": "markdown",
   "id": "c79ab4a8",
   "metadata": {},
   "source": [
    "### 28. Create a DataFrame and add a new column based on an existing column?"
   ]
  },
  {
   "cell_type": "code",
   "execution_count": 43,
   "id": "6b0be2fc",
   "metadata": {},
   "outputs": [
    {
     "name": "stdout",
     "output_type": "stream",
     "text": [
      "\n",
      "Adding a new column based on an existing column:\n",
      "Oringinal DataFrame:\n",
      "   A  B\n",
      "0  1  5\n",
      "1  2  6\n",
      "2  3  7\n",
      "3  4  8\n",
      "DataFrame after adding new column C (A + B):\n",
      "   A  B   C\n",
      "0  1  5   6\n",
      "1  2  6   8\n",
      "2  3  7  10\n",
      "3  4  8  12\n"
     ]
    }
   ],
   "source": [
    "# Create a DataFrame and add a new column based on an existing column\n",
    "print(\"\\nAdding a new column based on an existing column:\")\n",
    "df = pd.DataFrame(\n",
    "    {\n",
    "        'A': [1, 2, 3, 4],\n",
    "        'B': [5, 6, 7, 8]\n",
    "    }\n",
    "\n",
    ")\n",
    "print(\"Oringinal DataFrame:\")\n",
    "print(df)\n",
    "df[\"C\"] = df[\"A\"]+df[\"B\"]\n",
    "print(\"DataFrame after adding new column C (A + B):\")\n",
    "print(df)"
   ]
  },
  {
   "cell_type": "markdown",
   "id": "be2f2849",
   "metadata": {},
   "source": [
    "### 29. Write a program to perform element-wise multiplication of two NumPy arrays?"
   ]
  },
  {
   "cell_type": "code",
   "execution_count": 44,
   "id": "0b75a0dd",
   "metadata": {},
   "outputs": [
    {
     "name": "stdout",
     "output_type": "stream",
     "text": [
      "\n",
      "Element-wise multiplication of two NumPy arrays:\n",
      "Array 1:\n",
      "[1 2 3]\n",
      "Array 2:\n",
      "[4 5 6]\n",
      "Result of element-wise multiplication:\n",
      "[ 4 10 18]\n"
     ]
    }
   ],
   "source": [
    "# Write a program to perform element-wise multiplication of two NumPy arrays\n",
    "print(\"\\nElement-wise multiplication of two NumPy arrays:\")\n",
    "array1 = np.array([1, 2, 3])\n",
    "array2 = np.array([4, 5, 6])\n",
    "print(\"Array 1:\")\n",
    "print(array1)\n",
    "print(\"Array 2:\")\n",
    "print(array2)\n",
    "result = array1 * array2\n",
    "print(\"Result of element-wise multiplication:\")\n",
    "print(result)\n"
   ]
  },
  {
   "cell_type": "markdown",
   "id": "9b4fdcf1",
   "metadata": {},
   "source": [
    "### 30. Create a line plot with multiple lines using Matplotlib"
   ]
  },
  {
   "cell_type": "code",
   "execution_count": 49,
   "id": "71c913c6",
   "metadata": {},
   "outputs": [
    {
     "name": "stdout",
     "output_type": "stream",
     "text": [
      "\n",
      "Line plot with multiple lines using Matplotlib:\n"
     ]
    },
    {
     "name": "stderr",
     "output_type": "stream",
     "text": [
      "C:\\Users\\patid\\AppData\\Local\\Temp\\ipykernel_8660\\2898826174.py:12: UserWarning:\n",
      "\n",
      "No artists with labels found to put in legend.  Note that artists whose label start with an underscore are ignored when legend() is called with no argument.\n",
      "\n"
     ]
    },
    {
     "data": {
      "image/png": "[encoded data removed]",
      "text/plain": [
       "<Figure size 1000x800 with 1 Axes>"
      ]
     },
     "metadata": {},
     "output_type": "display_data"
    }
   ],
   "source": [
    "# Create a line plot with multiple lines using Matplotlib\n",
    "print(\"\\nLine plot with multiple lines using Matplotlib:\")\n",
    "x = np.linspace(0,10,100)\n",
    "y1 = np.sin(x)\n",
    "y2 = np.cos(x)\n",
    "y3 = np.tan(x)\n",
    "\n",
    "plt.figure(figsize=(10,8))\n",
    "plt.plot(x,y1 , color='r')\n",
    "plt.plot(x,y2,color='b')\n",
    "plt.plot(x,y3 , color='g')\n",
    "plt.legend()\n",
    "plt.ylabel('function')\n",
    "plt.xlabel('x')\n",
    "plt.title(\"Multiple line graph using matplotlib\")\n",
    "plt.show()"
   ]
  },
  {
   "cell_type": "markdown",
   "id": "a3efa99f",
   "metadata": {},
   "source": [
    "### 31. Generate a Pandas DataFrame and filter rows where a column value is greater than a threshold"
   ]
  },
  {
   "cell_type": "code",
   "execution_count": 51,
   "id": "2aeb35f0",
   "metadata": {},
   "outputs": [
    {
     "name": "stdout",
     "output_type": "stream",
     "text": [
      "\n",
      "Filtering rows in a DataFrame based on a condition:\n",
      "Original DataFrame:\n",
      "   A  B\n",
      "0  1  5\n",
      "1  2  6\n",
      "2  3  7\n",
      "3  4  8\n",
      "Filtered DataFrame (B > 5):\n",
      "   A  B\n",
      "1  2  6\n",
      "2  3  7\n",
      "3  4  8\n"
     ]
    }
   ],
   "source": [
    "# Generate a Pandas DataFrame and filter rows where a column value is greater than a threshold\n",
    "print(\"\\nFiltering rows in a DataFrame based on a condition:\")\n",
    "df = pd.DataFrame(\n",
    "    {\n",
    "        'A': [1, 2, 3, 4],\n",
    "        'B': [5, 6, 7, 8]\n",
    "    }\n",
    ")\n",
    "print(\"Original DataFrame:\")\n",
    "print(df)\n",
    "threshold = 5\n",
    "filtered_df = df[df['B'] > threshold]\n",
    "print(f\"Filtered DataFrame (B > {threshold}):\")\n",
    "print(filtered_df)"
   ]
  },
  {
   "cell_type": "markdown",
   "id": "15c4be24",
   "metadata": {},
   "source": [
    "###  32. Create a histogram using Seaborn to visualize a distribution"
   ]
  },
  {
   "cell_type": "code",
   "execution_count": 53,
   "id": "ff2f4ccc",
   "metadata": {},
   "outputs": [
    {
     "name": "stdout",
     "output_type": "stream",
     "text": [
      "\n",
      "Histogram using Seaborn:\n"
     ]
    },
    {
     "data": {
      "text/plain": [
       "<Axes: xlabel='total_bill', ylabel='Count'>"
      ]
     },
     "execution_count": 53,
     "metadata": {},
     "output_type": "execute_result"
    },
    {
     "data": {
      "image/png": "[encoded data removed]",
      "text/plain": [
       "<Figure size 640x480 with 1 Axes>"
      ]
     },
     "metadata": {},
     "output_type": "display_data"
    }
   ],
   "source": [
    "#  Create a histogram using Seaborn to visualize a distribution\n",
    "print(\"\\nHistogram using Seaborn:\")\n",
    "tips = sns.load_dataset('tips')\n",
    "sns.histplot(tips['total_bill'], bins=20, kde=True, color='blue')"
   ]
  },
  {
   "cell_type": "markdown",
   "id": "701fb7fc",
   "metadata": {},
   "source": [
    "###  33.Perform matrix multiplication using NumPy"
   ]
  },
  {
   "cell_type": "code",
   "execution_count": 57,
   "id": "91882695",
   "metadata": {},
   "outputs": [
    {
     "name": "stdout",
     "output_type": "stream",
     "text": [
      "\n",
      "Matrix multiplication using NumPy:\n",
      "Matrix 1:\n",
      "[[1 2]\n",
      " [3 4]]\n",
      "Matrix 2:\n",
      "[[5 6]\n",
      " [7 8]]\n",
      "[[19 22]\n",
      " [43 50]]\n",
      "[[19 22]\n",
      " [43 50]]\n",
      "[[19 22]\n",
      " [43 50]]\n"
     ]
    }
   ],
   "source": [
    "#  Perform matrix multiplication using NumPyA\n",
    "print(\"\\nMatrix multiplication using NumPy:\")\n",
    "matrix1 = np.array([[1, 2], [3, 4]])\n",
    "matrix2 = np.array([[5, 6], [7, 8]])\n",
    "print(\"Matrix 1:\")\n",
    "print(matrix1)\n",
    "print(\"Matrix 2:\")\n",
    "print(matrix2)\n",
    "print(np.dot(matrix1, matrix2))\n",
    "print(matrix1 @ matrix2)\n",
    "print(np.matmul(matrix1, matrix2))"
   ]
  },
  {
   "cell_type": "markdown",
   "id": "aff8ba49",
   "metadata": {},
   "source": [
    "### 34. Use Pandas to load a CSV file and display its first 5 rowsA"
   ]
  },
  {
   "cell_type": "code",
   "execution_count": 58,
   "id": "c9c7a5f4",
   "metadata": {},
   "outputs": [
    {
     "name": "stdout",
     "output_type": "stream",
     "text": [
      "\n",
      "Titanic dataset:\n",
      "   survived  pclass     sex   age  sibsp  parch     fare embarked  class  \\\n",
      "0         0       3    male  22.0      1      0   7.2500        S  Third   \n",
      "1         1       1  female  38.0      1      0  71.2833        C  First   \n",
      "2         1       3  female  26.0      0      0   7.9250        S  Third   \n",
      "3         1       1  female  35.0      1      0  53.1000        S  First   \n",
      "4         0       3    male  35.0      0      0   8.0500        S  Third   \n",
      "\n",
      "     who  adult_male deck  embark_town alive  alone  \n",
      "0    man        True  NaN  Southampton    no  False  \n",
      "1  woman       False    C    Cherbourg   yes  False  \n",
      "2  woman       False  NaN  Southampton   yes   True  \n",
      "3  woman       False    C  Southampton   yes  False  \n",
      "4    man        True  NaN  Southampton    no   True  \n"
     ]
    }
   ],
   "source": [
    "df = pd.read_csv('https://raw.githubusercontent.com/mwaskom/seaborn-data/master/titanic.csv')\n",
    "print(\"\\nTitanic dataset:\")\n",
    "print(df.head())"
   ]
  },
  {
   "cell_type": "markdown",
   "id": "fa4af440",
   "metadata": {},
   "source": [
    "### 35.  Create a 3D scatter plot using Plotly."
   ]
  },
  {
   "cell_type": "code",
   "execution_count": 64,
   "id": "dd6fd730",
   "metadata": {},
   "outputs": [
    {
     "name": "stdout",
     "output_type": "stream",
     "text": [
      "\n",
      "3D scatter plot using Plotly:\n"
     ]
    },
    {
     "data": {
      "application/vnd.plotly.v1+json": {
       "config": {
        "plotlyServerURL": "https://plot.ly"
       },
       "data": [
        {
         "hovertemplate": "day=Sun<br>total_bill=%{x}<br>tip=%{y}<br>size=%{z}<extra></extra>",
         "legendgroup": "Sun",
         "marker": {
          "color": "#636efa",
          "symbol": "circle"
         },
         "mode": "markers",
         "name": "Sun",
         "scene": "scene",
         "showlegend": true,
         "type": "scatter3d",
         "x": {
          "bdata": "PQrXo3D9MECuR+F6FK4kQMP1KFyPAjVArkfhehSuN0DXo3A9Cpc4QArXo3A9SjlACtejcD2KIUDhehSuR+E6QBSuR+F6FC5Aj8L1KFyPLUAK16NwPYokQOF6FK5HoUFA16NwPQrXLkCuR+F6FG4yQClcj8L1qC1AFK5H4XqUNUApXI/C9agkQArXo3A9SjBAuB6F61H4MED2KFyPwnUxQOF6FK5H4StAXI/C9ShcI0BmZmZmZmY+QArXo3A9SjJAexSuR+E6NkAzMzMzMzNAQM3MzMzMjDxACtejcD0KMkAUrkfhehQpQBSuR+F6lCRASOF6FK5nQUDhehSuR+EjQI/C9ShcjzlAPQrXo3B9M0ApXI/C9QhDQDMzMzMz8zdA9ihcj8K1OUCPwvUoXE8xQK5H4XoU7j1ApHA9CtcjLEDD9Shcj0IqQMP1KFyPQjFAzczMzMyMOECF61G4HsUzQJqZmZmZ2T1A9ihcj8IVSEAAAAAAAAA5QEjhehSuxypAPQrXo3B9MEAAAAAAAIA1QFK4HoXrUSlA9ihcj8I1MEAfhetRuJ4rQMP1KFyPgjFAhetRuB6FOEDD9Shcj8I0QPYoXI/CtT9AAAAAAAAAHUCamZmZmdk/QFK4HoXr0TBAMzMzMzNzQECkcD0K1+MxQPYoXI/C9SxAMzMzMzMzI0BxPQrXo1BBQDMzMzMzU0FAFK5H4XpUN0DNzMzMzKxGQOxRuB6FKzdAZmZmZmZGREBxPQrXo7A0QGZmZmZm5jRA9ihcj8J1PkBmZmZmZiYyQJqZmZmZGTdA4XoUrkdhL0A=",
          "dtype": "f8"
         },
         "y": {
          "bdata": "KVyPwvUo8D+PwvUoXI/6PwAAAAAAAAxAexSuR+F6CkDhehSuR+EMQNejcD0K1xJAAAAAAAAAAED2KFyPwvUIQFyPwvUoXP8/16NwPQrXCUBcj8L1KFz7PwAAAAAAABRAH4XrUbge+T8AAAAAAAAIQClcj8L1KAhAXI/C9ShcD0C4HoXrUbj6P65H4XoUrg1AAAAAAAAADEBSuB6F61EEQHsUrkfheghAH4XrUbge9T9mZmZmZmYWQAAAAAAAAAhAAAAAAAAAFEAAAAAAAAAYQGZmZmZmZgBAAAAAAAAACEAAAAAAAAAEQM3MzMzMzARAzczMzMzMFED2KFyPwvX4P1yPwvUoXBFAFK5H4XoUDEAAAAAAAAAQQGZmZmZmZgRAAAAAAAAAEEAAAAAAAAAMQEjhehSuRxRAAAAAAAAABEAAAAAAAAAAQOxRuB6F6wVAAAAAAAAAAEAAAAAAAAAAQI/C9ShcjxRAAAAAAAAAFEAAAAAAAAAOQOF6FK5H4QRAAAAAAAAAAEAAAAAAAAAMQAAAAAAAAARAAAAAAAAAAEAAAAAAAAAAQAAAAAAAAAhA16NwPQrXC0DsUbgehesBQAAAAAAAABJAmpmZmZmZFEBxPQrXo3AJQAAAAAAAABBA4XoUrkfhCEAAAAAAAAAAQAAAAAAAAABAAAAAAAAAEEBmZmZmZmYMQHE9CtejcA1AmpmZmZmZFkAAAAAAAAAMQAAAAAAAABpAAAAAAAAACEAAAAAAAAAUQAAAAAAAAAxAAAAAAAAAAEAAAAAAAAAMQAAAAAAAABBAAAAAAAAA+D8=",
          "dtype": "f8"
         },
         "z": {
          "bdata": "AgMDAgQEAgQCAgIEAgQCAgMDAwICAgQCAgQDAgICBAIEAgMCAwIEAgIDBAQFBgQCBAQCAwICAwIEAgICAgICAgIEAgMEAgUDBQMDAg==",
          "dtype": "i1"
         }
        },
        {
         "hovertemplate": "day=Sat<br>total_bill=%{x}<br>tip=%{y}<br>size=%{z}<extra></extra>",
         "legendgroup": "Sat",
         "marker": {
          "color": "#EF553B",
          "symbol": "circle"
         },
         "mode": "markers",
         "name": "Sat",
         "scene": "scene",
         "showlegend": true,
         "type": "scatter3d",
         "x": {
          "bdata": "ZmZmZmamNEDsUbgehesxQArXo3A9SjRACtejcD2KL0D2KFyPwrVDQFK4HoXr0TNAj8L1KFzPMUA9CtejcL0qQOF6FK5HYSlAMzMzMzOzNUBmZmZmZqYzQJqZmZmZGSNAmpmZmZlZMkAfhetRuB4uQHE9CtejsDRASOF6FK7HMUCPwvUoXA84QI/C9ShcTzBArkfhehTuMEBxPQrXo7AyQIXrUbgeRT9ACtejcD0KMEDhehSuRwFDQClcj8L1aDpAexSuR+F6JkDD9ShcjyJIQArXo3A9SjRAH4XrUbieK0AK16NwPQomQArXo3A9SjJA16NwPQqXMUAUrkfhehQ0QDMzMzMzczBAj8L1KFyPCEB7FK5H4To0QIXrUbgeBS5ACtejcD0KKEBSuB6F6xExQFyPwvUo3DpASOF6FK5HOUD2KFyPwnUtQIXrUbgeBSVA7FG4HoXrMUBmZmZmZiZGQOxRuB6FazZA7FG4HoXrNEC4HoXrUbguQD0K16NwfTRA9ihcj8I1OUA9CtejcD0yQB+F61G4nixAAAAAAAAALEAAAAAAAAAdQK5H4XoULiVAw/UoXI9CJUBI4XoUrmdJQB+F61G4ni9A16NwPQqXOkA9CtejcF1DQIXrUbgeRThAhetRuB6FKUCPwvUoXA8+QKRwPQrX4zlACtejcD0qSEAK16NwPYoqQOxRuB6FKzxAzczMzMzMKUBmZmZmZiY8QK5H4XoULidA9ihcj8L1HkCkcD0K1yM+QDMzMzMzczRAj8L1KFyPKkAfhetRuB42QMP1KFyPAjhA4XoUrkdhL0C4HoXrUTgnQArXo3A9iiVAj8L1KFwPL0CkcD0K1yMkQDMzMzMzMylACtejcD1qQEAK16NwPepBQEjhehSuBz1ArkfhehQuO0DsUbgehas2QFK4HoXr0TFA",
          "dtype": "f8"
         },
         "y": {
          "bdata": "zczMzMzMCkBSuB6F61EQQAAAAAAAAAZA16NwPQrXAUBSuB6F61EeQHE9CtejcAlAuB6F61G4AkAAAAAAAAAAQAAAAAAAAABAMzMzMzMzEUAAAAAAAAAIQDMzMzMzM/c/AAAAAAAABEAAAAAAAAAIQJqZmZmZmQNAKVyPwvUoCkDNzMzMzMwMQAAAAAAAAABAj8L1KFyPCEB7FK5H4XoCQAAAAAAAABRA7FG4HoXrAUAAAAAAAAAIQAAAAAAAAPg/KVyPwvUo/D/sUbgehesaQK5H4XoUrglAAAAAAAAAAECuR+F6FK7/PxSuR+F6FA5AH4XrUbgeBUAzMzMzMzMJQMP1KFyPwgNAAAAAAAAA8D8UrkfhehQAQLgehetRuABAhetRuB6F/z8AAAAAAAAIQB+F61G4HglAAAAAAAAAFECamZmZmZkBQAAAAAAAAPQ/pHA9CtejCEAAAAAAAAAEQNejcD0K1wtAUrgehetREEA9CtejcD36Pz0K16NwPRBAKVyPwvUoEUAUrkfhehQOQAAAAAAAABBAAAAAAAAACEAAAAAAAADwP8P1KFyPwvk/AAAAAAAAAEAAAAAAAAAkQEjhehSuRwlASOF6FK5HC0AAAAAAAAAIQD0K16NwPQBA16NwPQrXAUAAAAAAAAAAQKRwPQrXoxRAAAAAAAAAIkAAAAAAAAAEQAAAAAAAABpAmpmZmZmZ8T8AAAAAAAAIQAAAAAAAAPg/CtejcD0K9z+4HoXrUbgIQAAAAAAAAAhAw/UoXI/CBUAK16NwPQoHQAAAAAAAAABAAAAAAAAACEAfhetRuB4LQIXrUbgehfc/AAAAAAAACEAAAAAAAAD0PwAAAAAAAPA/uB6F61G48j+uR+F6FK4SQK5H4XoUrhdAAAAAAAAAAEAAAAAAAAAAQAAAAAAAAPw/",
          "dtype": "f8"
         },
         "z": {
          "bdata": "AwICAgQCBAICAgICBAIEAgMDAwMDAwQCAgQCAgIEAwMCAQICAgMCAgICAgMCAgICAgICAgECAgMCAwQCAgMEBAIDAgUCAgQEAgIEAwICAgICAgMDAgIC",
          "dtype": "i1"
         }
        },
        {
         "hovertemplate": "day=Thur<br>total_bill=%{x}<br>tip=%{y}<br>size=%{z}<extra></extra>",
         "legendgroup": "Thur",
         "marker": {
          "color": "#00cc96",
          "symbol": "circle"
         },
         "mode": "markers",
         "name": "Thur",
         "scene": "scene",
         "showlegend": true,
         "type": "scatter3d",
         "x": {
          "bdata": "MzMzMzMzO0DD9Shcj8I2QArXo3A9SjFAcT0K16NwM0ApXI/C9agwQKRwPQrXIyRA16NwPQpXQED2KFyPwvUvQArXo3A9akFAj8L1KFwPKkBI4XoUrkcyQPYoXI/CtThAKVyPwvUoNUDNzMzMzEwlQFyPwvUo3ChAFK5H4XoUOEDhehSuR2EnQNejcD0K1ypAhetRuB6FLEBmZmZmZuYvQPYoXI/C9ShAzczMzMzMPUAK16NwPQohQArXo3A9Ci1Aw/UoXI/CJkBSuB6F69E2QBSuR+F6FDNAhetRuB5FNEDXo3A9ClcmQIXrUbgehShAw/UoXI9CMkCF61G4HgUhQClcj8L1qCRAzczMzMxMLEAAAAAAAAAwQFK4HoXrUSpAuB6F61F4MUBmZmZmZiZBQLgehetRmERAzczMzMwMO0CuR+F6FG4wQDMzMzMzsyBApHA9CtejMkA9CtejcL0nQI/C9ShcjyNACtejcD0KHkCPwvUoXM8zQHE9CtejcDxA9ihcj8L1LkAUrkfhepQwQD0K16NwPR5ArkfhehSuJECuR+F6FI5FQAAAAAAAACpAhetRuB4FK0D2KFyPwrUyQHsUrkfheilAAAAAAAAAKkBmZmZmZmYwQEjhehSuhzRAuB6F61F4MEBI4XoUrscyQA==",
          "dtype": "f8"
         },
         "y": {
          "bdata": "AAAAAAAAEEAAAAAAAAAIQK5H4XoUrgVAAAAAAAAACEAzMzMzMzMLQEjhehSuR/0/AAAAAAAAFEA9CtejcD0AQK5H4XoUrhRAAAAAAAAAAEAAAAAAAAAQQGZmZmZmZhdAAAAAAAAACEAAAAAAAAD4P83MzMzMzPw/XI/C9ShcB0B7FK5H4XoCQOF6FK5H4fo/AAAAAAAABEAAAAAAAAAAQClcj8L1KARAzczMzMzMEECuR+F6FK73PwAAAAAAAABAAAAAAAAAAEBxPQrXo3ABQAAAAAAAAPg/pHA9CtejBkAAAAAAAAD4PwAAAAAAAABAAAAAAAAACkAAAAAAAAD0PwAAAAAAAABAAAAAAAAAAEAAAAAAAAAAQAAAAAAAAAZAAAAAAAAADEDNzMzMzMwaQAAAAAAAABRAAAAAAAAAFEBmZmZmZmYCQAAAAAAAAPg/w/UoXI/C9T8UrkfhehT6P65H4XoUrvs/AAAAAAAAAEDD9Shcj8IQQHsUrkfhegRAKVyPwvUoAEAAAAAAAAAQQArXo3A9Cvc/AAAAAAAAAEAAAAAAAAAUQAAAAAAAAABAAAAAAAAAAEAAAAAAAAAQQBSuR+F6FABAAAAAAAAAAEAAAAAAAAAEQAAAAAAAABBA16NwPQrXCUAAAAAAAAAIQA==",
          "dtype": "f8"
         },
         "z": {
          "bdata": "BAICAgIBAgIEAgICAgICBAICAgICBgICAgMCAgICAgICAgICAgYFBgICAwICAgICAgICAgQCAgMCAgIEAwI=",
          "dtype": "i1"
         }
        },
        {
         "hovertemplate": "day=Fri<br>total_bill=%{x}<br>tip=%{y}<br>size=%{z}<extra></extra>",
         "legendgroup": "Fri",
         "marker": {
          "color": "#ab63fa",
          "symbol": "circle"
         },
         "mode": "markers",
         "name": "Fri",
         "scene": "scene",
         "showlegend": true,
         "type": "scatter3d",
         "x": {
          "bdata": "uB6F61H4PEA9CtejcH02QAAAAAAAABdAUrgehetRMEAAAAAAAMA2QPYoXI/CFURASOF6FK5HO0CPwvUoXA8oQMP1KFyPAjVA7FG4HoXrKEAzMzMzM7MmQMP1KFyPwi5AUrgehetRKEDXo3A9CtcqQClcj8L1KCFA9ihcj8L1L0DXo3A9CtcqQIXrUbgeRTBArkfhehQuJEA=",
          "dtype": "f8"
         },
         "y": {
          "bdata": "AAAAAAAACEAAAAAAAAAMQAAAAAAAAPA/MzMzMzMzEUAAAAAAAAAKQOxRuB6F6xJAAAAAAAAAEEAAAAAAAAD4PwAAAAAAAAhAAAAAAAAA+D8AAAAAAAAEQAAAAAAAAAhAmpmZmZmZAUDXo3A9CtcLQLgehetRuP4/AAAAAAAACEBI4XoUrkf5PwAAAAAAAARAAAAAAAAAAEA=",
          "dtype": "f8"
         },
         "z": {
          "bdata": "AgICAgIEAgICAgICAgIBAwICAg==",
          "dtype": "i1"
         }
        }
       ],
       "layout": {
        "legend": {
         "title": {
          "text": "day"
         },
         "tracegroupgap": 0
        },
        "scene": {
         "domain": {
          "x": [
           0,
           1
          ],
          "y": [
           0,
           1
          ]
         },
         "xaxis": {
          "title": {
           "text": "total_bill"
          }
         },
         "yaxis": {
          "title": {
           "text": "tip"
          }
         },
         "zaxis": {
          "title": {
           "text": "size"
          }
         }
        },
        "template": {
         "data": {
          "bar": [
           {
            "error_x": {
             "color": "#2a3f5f"
            },
            "error_y": {
             "color": "#2a3f5f"
            },
            "marker": {
             "line": {
              "color": "#E5ECF6",
              "width": 0.5
             },
             "pattern": {
              "fillmode": "overlay",
              "size": 10,
              "solidity": 0.2
             }
            },
            "type": "bar"
           }
          ],
          "barpolar": [
           {
            "marker": {
             "line": {
              "color": "#E5ECF6",
              "width": 0.5
             },
             "pattern": {
              "fillmode": "overlay",
              "size": 10,
              "solidity": 0.2
             }
            },
            "type": "barpolar"
           }
          ],
          "carpet": [
           {
            "aaxis": {
             "endlinecolor": "#2a3f5f",
             "gridcolor": "white",
             "linecolor": "white",
             "minorgridcolor": "white",
             "startlinecolor": "#2a3f5f"
            },
            "baxis": {
             "endlinecolor": "#2a3f5f",
             "gridcolor": "white",
             "linecolor": "white",
             "minorgridcolor": "white",
             "startlinecolor": "#2a3f5f"
            },
            "type": "carpet"
           }
          ],
          "choropleth": [
           {
            "colorbar": {
             "outlinewidth": 0,
             "ticks": ""
            },
            "type": "choropleth"
           }
          ],
          "contour": [
           {
            "colorbar": {
             "outlinewidth": 0,
             "ticks": ""
            },
            "colorscale": [
             [
              0,
              "#0d0887"
             ],
             [
              0.1111111111111111,
              "#46039f"
             ],
             [
              0.2222222222222222,
              "#7201a8"
             ],
             [
              0.3333333333333333,
              "#9c179e"
             ],
             [
              0.4444444444444444,
              "#bd3786"
             ],
             [
              0.5555555555555556,
              "#d8576b"
             ],
             [
              0.6666666666666666,
              "#ed7953"
             ],
             [
              0.7777777777777778,
              "#fb9f3a"
             ],
             [
              0.8888888888888888,
              "#fdca26"
             ],
             [
              1,
              "#f0f921"
             ]
            ],
            "type": "contour"
           }
          ],
          "contourcarpet": [
           {
            "colorbar": {
             "outlinewidth": 0,
             "ticks": ""
            },
            "type": "contourcarpet"
           }
          ],
          "heatmap": [
           {
            "colorbar": {
             "outlinewidth": 0,
             "ticks": ""
            },
            "colorscale": [
             [
              0,
              "#0d0887"
             ],
             [
              0.1111111111111111,
              "#46039f"
             ],
             [
              0.2222222222222222,
              "#7201a8"
             ],
             [
              0.3333333333333333,
              "#9c179e"
             ],
             [
              0.4444444444444444,
              "#bd3786"
             ],
             [
              0.5555555555555556,
              "#d8576b"
             ],
             [
              0.6666666666666666,
              "#ed7953"
             ],
             [
              0.7777777777777778,
              "#fb9f3a"
             ],
             [
              0.8888888888888888,
              "#fdca26"
             ],
             [
              1,
              "#f0f921"
             ]
            ],
            "type": "heatmap"
           }
          ],
          "histogram": [
           {
            "marker": {
             "pattern": {
              "fillmode": "overlay",
              "size": 10,
              "solidity": 0.2
             }
            },
            "type": "histogram"
           }
          ],
          "histogram2d": [
           {
            "colorbar": {
             "outlinewidth": 0,
             "ticks": ""
            },
            "colorscale": [
             [
              0,
              "#0d0887"
             ],
             [
              0.1111111111111111,
              "#46039f"
             ],
             [
              0.2222222222222222,
              "#7201a8"
             ],
             [
              0.3333333333333333,
              "#9c179e"
             ],
             [
              0.4444444444444444,
              "#bd3786"
             ],
             [
              0.5555555555555556,
              "#d8576b"
             ],
             [
              0.6666666666666666,
              "#ed7953"
             ],
             [
              0.7777777777777778,
              "#fb9f3a"
             ],
             [
              0.8888888888888888,
              "#fdca26"
             ],
             [
              1,
              "#f0f921"
             ]
            ],
            "type": "histogram2d"
           }
          ],
          "histogram2dcontour": [
           {
            "colorbar": {
             "outlinewidth": 0,
             "ticks": ""
            },
            "colorscale": [
             [
              0,
              "#0d0887"
             ],
             [
              0.1111111111111111,
              "#46039f"
             ],
             [
              0.2222222222222222,
              "#7201a8"
             ],
             [
              0.3333333333333333,
              "#9c179e"
             ],
             [
              0.4444444444444444,
              "#bd3786"
             ],
             [
              0.5555555555555556,
              "#d8576b"
             ],
             [
              0.6666666666666666,
              "#ed7953"
             ],
             [
              0.7777777777777778,
              "#fb9f3a"
             ],
             [
              0.8888888888888888,
              "#fdca26"
             ],
             [
              1,
              "#f0f921"
             ]
            ],
            "type": "histogram2dcontour"
           }
          ],
          "mesh3d": [
           {
            "colorbar": {
             "outlinewidth": 0,
             "ticks": ""
            },
            "type": "mesh3d"
           }
          ],
          "parcoords": [
           {
            "line": {
             "colorbar": {
              "outlinewidth": 0,
              "ticks": ""
             }
            },
            "type": "parcoords"
           }
          ],
          "pie": [
           {
            "automargin": true,
            "type": "pie"
           }
          ],
          "scatter": [
           {
            "fillpattern": {
             "fillmode": "overlay",
             "size": 10,
             "solidity": 0.2
            },
            "type": "scatter"
           }
          ],
          "scatter3d": [
           {
            "line": {
             "colorbar": {
              "outlinewidth": 0,
              "ticks": ""
             }
            },
            "marker": {
             "colorbar": {
              "outlinewidth": 0,
              "ticks": ""
             }
            },
            "type": "scatter3d"
           }
          ],
          "scattercarpet": [
           {
            "marker": {
             "colorbar": {
              "outlinewidth": 0,
              "ticks": ""
             }
            },
            "type": "scattercarpet"
           }
          ],
          "scattergeo": [
           {
            "marker": {
             "colorbar": {
              "outlinewidth": 0,
              "ticks": ""
             }
            },
            "type": "scattergeo"
           }
          ],
          "scattergl": [
           {
            "marker": {
             "colorbar": {
              "outlinewidth": 0,
              "ticks": ""
             }
            },
            "type": "scattergl"
           }
          ],
          "scattermap": [
           {
            "marker": {
             "colorbar": {
              "outlinewidth": 0,
              "ticks": ""
             }
            },
            "type": "scattermap"
           }
          ],
          "scattermapbox": [
           {
            "marker": {
             "colorbar": {
              "outlinewidth": 0,
              "ticks": ""
             }
            },
            "type": "scattermapbox"
           }
          ],
          "scatterpolar": [
           {
            "marker": {
             "colorbar": {
              "outlinewidth": 0,
              "ticks": ""
             }
            },
            "type": "scatterpolar"
           }
          ],
          "scatterpolargl": [
           {
            "marker": {
             "colorbar": {
              "outlinewidth": 0,
              "ticks": ""
             }
            },
            "type": "scatterpolargl"
           }
          ],
          "scatterternary": [
           {
            "marker": {
             "colorbar": {
              "outlinewidth": 0,
              "ticks": ""
             }
            },
            "type": "scatterternary"
           }
          ],
          "surface": [
           {
            "colorbar": {
             "outlinewidth": 0,
             "ticks": ""
            },
            "colorscale": [
             [
              0,
              "#0d0887"
             ],
             [
              0.1111111111111111,
              "#46039f"
             ],
             [
              0.2222222222222222,
              "#7201a8"
             ],
             [
              0.3333333333333333,
              "#9c179e"
             ],
             [
              0.4444444444444444,
              "#bd3786"
             ],
             [
              0.5555555555555556,
              "#d8576b"
             ],
             [
              0.6666666666666666,
              "#ed7953"
             ],
             [
              0.7777777777777778,
              "#fb9f3a"
             ],
             [
              0.8888888888888888,
              "#fdca26"
             ],
             [
              1,
              "#f0f921"
             ]
            ],
            "type": "surface"
           }
          ],
          "table": [
           {
            "cells": {
             "fill": {
              "color": "#EBF0F8"
             },
             "line": {
              "color": "white"
             }
            },
            "header": {
             "fill": {
              "color": "#C8D4E3"
             },
             "line": {
              "color": "white"
             }
            },
            "type": "table"
           }
          ]
         },
         "layout": {
          "annotationdefaults": {
           "arrowcolor": "#2a3f5f",
           "arrowhead": 0,
           "arrowwidth": 1
          },
          "autotypenumbers": "strict",
          "coloraxis": {
           "colorbar": {
            "outlinewidth": 0,
            "ticks": ""
           }
          },
          "colorscale": {
           "diverging": [
            [
             0,
             "#8e0152"
            ],
            [
             0.1,
             "#c51b7d"
            ],
            [
             0.2,
             "#de77ae"
            ],
            [
             0.3,
             "#f1b6da"
            ],
            [
             0.4,
             "#fde0ef"
            ],
            [
             0.5,
             "#f7f7f7"
            ],
            [
             0.6,
             "#e6f5d0"
            ],
            [
             0.7,
             "#b8e186"
            ],
            [
             0.8,
             "#7fbc41"
            ],
            [
             0.9,
             "#4d9221"
            ],
            [
             1,
             "#276419"
            ]
           ],
           "sequential": [
            [
             0,
             "#0d0887"
            ],
            [
             0.1111111111111111,
             "#46039f"
            ],
            [
             0.2222222222222222,
             "#7201a8"
            ],
            [
             0.3333333333333333,
             "#9c179e"
            ],
            [
             0.4444444444444444,
             "#bd3786"
            ],
            [
             0.5555555555555556,
             "#d8576b"
            ],
            [
             0.6666666666666666,
             "#ed7953"
            ],
            [
             0.7777777777777778,
             "#fb9f3a"
            ],
            [
             0.8888888888888888,
             "#fdca26"
            ],
            [
             1,
             "#f0f921"
            ]
           ],
           "sequentialminus": [
            [
             0,
             "#0d0887"
            ],
            [
             0.1111111111111111,
             "#46039f"
            ],
            [
             0.2222222222222222,
             "#7201a8"
            ],
            [
             0.3333333333333333,
             "#9c179e"
            ],
            [
             0.4444444444444444,
             "#bd3786"
            ],
            [
             0.5555555555555556,
             "#d8576b"
            ],
            [
             0.6666666666666666,
             "#ed7953"
            ],
            [
             0.7777777777777778,
             "#fb9f3a"
            ],
            [
             0.8888888888888888,
             "#fdca26"
            ],
            [
             1,
             "#f0f921"
            ]
           ]
          },
          "colorway": [
           "#636efa",
           "#EF553B",
           "#00cc96",
           "#ab63fa",
           "#FFA15A",
           "#19d3f3",
           "#FF6692",
           "#B6E880",
           "#FF97FF",
           "#FECB52"
          ],
          "font": {
           "color": "#2a3f5f"
          },
          "geo": {
           "bgcolor": "white",
           "lakecolor": "white",
           "landcolor": "#E5ECF6",
           "showlakes": true,
           "showland": true,
           "subunitcolor": "white"
          },
          "hoverlabel": {
           "align": "left"
          },
          "hovermode": "closest",
          "mapbox": {
           "style": "light"
          },
          "paper_bgcolor": "white",
          "plot_bgcolor": "#E5ECF6",
          "polar": {
           "angularaxis": {
            "gridcolor": "white",
            "linecolor": "white",
            "ticks": ""
           },
           "bgcolor": "#E5ECF6",
           "radialaxis": {
            "gridcolor": "white",
            "linecolor": "white",
            "ticks": ""
           }
          },
          "scene": {
           "xaxis": {
            "backgroundcolor": "#E5ECF6",
            "gridcolor": "white",
            "gridwidth": 2,
            "linecolor": "white",
            "showbackground": true,
            "ticks": "",
            "zerolinecolor": "white"
           },
           "yaxis": {
            "backgroundcolor": "#E5ECF6",
            "gridcolor": "white",
            "gridwidth": 2,
            "linecolor": "white",
            "showbackground": true,
            "ticks": "",
            "zerolinecolor": "white"
           },
           "zaxis": {
            "backgroundcolor": "#E5ECF6",
            "gridcolor": "white",
            "gridwidth": 2,
            "linecolor": "white",
            "showbackground": true,
            "ticks": "",
            "zerolinecolor": "white"
           }
          },
          "shapedefaults": {
           "line": {
            "color": "#2a3f5f"
           }
          },
          "ternary": {
           "aaxis": {
            "gridcolor": "white",
            "linecolor": "white",
            "ticks": ""
           },
           "baxis": {
            "gridcolor": "white",
            "linecolor": "white",
            "ticks": ""
           },
           "bgcolor": "#E5ECF6",
           "caxis": {
            "gridcolor": "white",
            "linecolor": "white",
            "ticks": ""
           }
          },
          "title": {
           "x": 0.05
          },
          "xaxis": {
           "automargin": true,
           "gridcolor": "white",
           "linecolor": "white",
           "ticks": "",
           "title": {
            "standoff": 15
           },
           "zerolinecolor": "white",
           "zerolinewidth": 2
          },
          "yaxis": {
           "automargin": true,
           "gridcolor": "white",
           "linecolor": "white",
           "ticks": "",
           "title": {
            "standoff": 15
           },
           "zerolinecolor": "white",
           "zerolinewidth": 2
          }
         }
        },
        "title": {
         "text": "3D Scatter Plot of Tips Dataset"
        }
       }
      }
     },
     "metadata": {},
     "output_type": "display_data"
    }
   ],
   "source": [
    "# Create a 3D scatter plot using Plotly.\n",
    "tips = sns.load_dataset('tips')\n",
    "print(\"\\n3D scatter plot using Plotly:\")\n",
    "fig = px.scatter_3d(tips, x='total_bill', y='tip', z='size', color='day', title='3D Scatter Plot of Tips Dataset')\n",
    "fig.show()"
   ]
  },
  {
   "cell_type": "code",
   "execution_count": null,
   "id": "65949772",
   "metadata": {},
   "outputs": [],
   "source": []
  }
 ],
 "metadata": {
  "kernelspec": {
   "display_name": "Python 3",
   "language": "python",
   "name": "python3"
  },
  "language_info": {
   "codemirror_mode": {
    "name": "ipython",
    "version": 3
   },
   "file_extension": ".py",
   "mimetype": "text/x-python",
   "name": "python",
   "nbconvert_exporter": "python",
   "pygments_lexer": "ipython3",
   "version": "3.13.3"
  }
 },
 "nbformat": 4,
 "nbformat_minor": 5
}
