{
  "cells": [
    {
      "cell_type": "markdown",
      "metadata": {},
      "source": [
        "# Regression Assignment Solutions\n",
        "\n"
      ]
    },
    {
      "cell_type": "markdown",
      "metadata": {},
      "source": [
        "## Simple Linear Regression\n",
        "\n",
        "### 1. What is Simple Linear Regression?\n",
        "\n",
        "Simple Linear Regression is a statistical method used to model the relationship between two variables:\n",
        "- **Dependent variable (Y)**: The variable we want to predict\n",
        "- **Independent variable (X)**: The variable we use to make predictions\n",
        "\n",
        "It assumes a linear relationship between X and Y, represented by the equation: **Y = mX + c**\n",
        "\n",
        "Where:\n",
        "- Y is the predicted value\n",
        "- m is the slope (coefficient)\n",
        "- X is the independent variable\n",
        "- c is the y-intercept"
      ]
    },
    {
      "cell_type": "markdown",
      "metadata": {},
      "source": [
        "### 2. Key Assumptions of Simple Linear Regression\n",
        "\n",
        "1. **Linearity**: The relationship between X and Y is linear\n",
        "2. **Independence**: Observations are independent of each other\n",
        "3. **Homoscedasticity**: Constant variance of residuals\n",
        "4. **Normality**: Residuals are normally distributed\n",
        "5. **No outliers**: Extreme values don't unduly influence the model"
      ]
    },
    {
      "cell_type": "markdown",
      "metadata": {},
      "source": [
        "### 3. What does the coefficient 'm' represent in Y = mX + c?\n",
        "\n",
        "The coefficient **m** represents the **slope** of the regression line:\n",
        "- It indicates the rate of change in Y for a unit change in X\n",
        "- If m = 2, then for every 1-unit increase in X, Y increases by 2 units\n",
        "- Positive m: positive relationship (as X increases, Y increases)\n",
        "- Negative m: negative relationship (as X increases, Y decreases)\n",
        "- m = 0: no linear relationship"
      ]
    },
    {
      "cell_type": "markdown",
      "metadata": {},
      "source": [
        "### 4. What does the intercept 'c' represent in Y = mX + c?\n",
        "\n",
        "The intercept **c** represents:\n",
        "- The value of Y when X = 0\n",
        "- The point where the regression line crosses the Y-axis\n",
        "- The baseline value of the dependent variable\n",
        "- May or may not have practical interpretation depending on the context"
      ]
    },
    {
      "cell_type": "markdown",
      "metadata": {},
      "source": [
        "### 5. How do we calculate the slope 'm' in Simple Linear Regression?\n",
        "\n",
        "The slope m is calculated using:\n",
        "\n",
        "**m = Σ[(Xi - X̄)(Yi - Ȳ)] / Σ[(Xi - X̄)²]**\n",
        "\n",
        "Or equivalently:\n",
        "\n",
        "**m = (n·ΣXiYi - ΣXi·ΣYi) / (n·ΣXi² - (ΣXi)²)**\n",
        "\n",
        "Where:\n",
        "- Xi, Yi are individual data points\n",
        "- X̄, Ȳ are means of X and Y\n",
        "- n is the number of observations"
      ]
    },
    {
      "cell_type": "markdown",
      "metadata": {},
      "source": [
        "### 6. Purpose of the Least Squares Method\n",
        "\n",
        "The least squares method:\n",
        "- Finds the best-fitting line by minimizing the sum of squared residuals\n",
        "- Residual = Actual value - Predicted value\n",
        "- Minimizes: Σ(Yi - Ŷi)²\n",
        "- Provides unique solution for optimal slope and intercept\n",
        "- Ensures the line passes as close as possible to all data points"
      ]
    },
    {
      "cell_type": "markdown",
      "metadata": {},
      "source": [
        "### 7. Interpretation of Coefficient of Determination (R²)\n",
        "\n",
        "R² measures the proportion of variance explained by the model:\n",
        "\n",
        "**R² = 1 - (SS_res / SS_tot)**\n",
        "\n",
        "Where:\n",
        "- SS_res = Sum of squares of residuals\n",
        "- SS_tot = Total sum of squares\n",
        "\n",
        "**Interpretation:**\n",
        "- R² = 0: Model explains no variance\n",
        "- R² = 1: Model explains all variance (perfect fit)\n",
        "- R² = 0.8: Model explains 80% of the variance\n",
        "- Higher R² indicates better model fit"
      ]
    },
    {
      "cell_type": "markdown",
      "metadata": {},
      "source": [
        "## Multiple Linear Regression\n",
        "\n",
        "### 8. What is Multiple Linear Regression?\n",
        "\n",
        "Multiple Linear Regression extends simple linear regression to include multiple independent variables:\n",
        "\n",
        "**Y = β₀ + β₁X₁ + β₂X₂ + ... + βₚXₚ + ε**\n",
        "\n",
        "Where:\n",
        "- Y is the dependent variable\n",
        "- X₁, X₂, ..., Xₚ are independent variables\n",
        "- β₀ is the intercept\n",
        "- β₁, β₂, ..., βₚ are coefficients\n",
        "- ε is the error term"
      ]
    },
    {
      "cell_type": "markdown",
      "metadata": {},
      "source": [
        "### 9. Main Difference Between Simple and Multiple Linear Regression\n",
        "\n",
        "| Simple Linear Regression | Multiple Linear Regression |\n",
        "|--------------------------|-----------------------------|\n",
        "| Uses one independent variable | Uses multiple independent variables |\n",
        "| Y = mX + c | Y = β₀ + β₁X₁ + β₂X₂ + ... + βₚXₚ |\n",
        "| 2D visualization | Higher dimensional space |\n",
        "| Limited real-world applicability | More realistic modeling |\n",
        "| Less complex | More complex analysis required |"
      ]
    },
    {
      "cell_type": "markdown",
      "metadata": {},
      "source": [
        "### 10. Key Assumptions of Multiple Linear Regression\n",
        "\n",
        "1. **Linearity**: Linear relationship between dependent and independent variables\n",
        "2. **Independence**: Observations are independent\n",
        "3. **Homoscedasticity**: Constant variance of residuals\n",
        "4. **Normality**: Residuals are normally distributed\n",
        "5. **No multicollinearity**: Independent variables are not highly correlated\n",
        "6. **No autocorrelation**: Residuals are not correlated with each other"
      ]
    },
    {
      "cell_type": "markdown",
      "metadata": {},
      "source": [
        "### 11. Heteroscedasticity and Its Effects\n",
        "\n",
        "**Heteroscedasticity** occurs when the variance of residuals is not constant across all levels of independent variables.\n",
        "\n",
        "**Effects:**\n",
        "- Inefficient parameter estimates\n",
        "- Biased standard errors\n",
        "- Invalid hypothesis tests\n",
        "- Unreliable confidence intervals\n",
        "\n",
        "**Detection:**\n",
        "- Residual plots show funnel or cone patterns\n",
        "- Breusch-Pagan test\n",
        "- White test"
      ]
    },
    {
      "cell_type": "markdown",
      "metadata": {},
      "source": [
        "### 12. Improving Multiple Linear Regression with High Multicollinearity\n",
        "\n",
        "**Solutions:**\n",
        "1. **Remove highly correlated variables** (correlation > 0.8)\n",
        "2. **Principal Component Analysis (PCA)** to reduce dimensionality\n",
        "3. **Ridge Regression** (L2 regularization)\n",
        "4. **LASSO Regression** (L1 regularization)\n",
        "5. **Elastic Net** (combination of L1 and L2)\n",
        "6. **Variance Inflation Factor (VIF)** analysis\n",
        "7. **Feature selection techniques**"
      ]
    },
    {
      "cell_type": "markdown",
      "metadata": {},
      "source": [
        "### 13. Techniques for Transforming Categorical Variables\n",
        "\n",
        "1. **One-Hot Encoding**: Create binary columns for each category\n",
        "2. **Label Encoding**: Assign numerical values to categories\n",
        "3. **Target Encoding**: Replace categories with target variable mean\n",
        "4. **Binary Encoding**: Convert to binary representation\n",
        "5. **Frequency Encoding**: Replace with frequency of occurrence\n",
        "6. **Ordinal Encoding**: For ordered categories\n",
        "7. **Feature Hashing**: Hash categories to fixed number of features"
      ]
    },
    {
      "cell_type": "markdown",
      "metadata": {},
      "source": [
        "### 14. Role of Interaction Terms in Multiple Linear Regression\n",
        "\n",
        "**Interaction terms** capture the combined effect of two or more variables:\n",
        "\n",
        "**Y = β₀ + β₁X₁ + β₂X₂ + β₃(X₁ × X₂)**\n",
        "\n",
        "**Purpose:**\n",
        "- Model non-additive relationships\n",
        "- Capture synergistic effects\n",
        "- Improve model accuracy\n",
        "- Represent real-world complexities\n",
        "\n",
        "**Example:** Effect of advertising spend might depend on the season"
      ]
    },
    {
      "cell_type": "markdown",
      "metadata": {},
      "source": [
        "### 15. Intercept Interpretation: Simple vs Multiple Regression\n",
        "\n",
        "**Simple Linear Regression:**\n",
        "- Intercept = Y when X = 0\n",
        "- Clear geometric interpretation\n",
        "\n",
        "**Multiple Linear Regression:**\n",
        "- Intercept = Y when ALL independent variables = 0\n",
        "- Often not practically meaningful\n",
        "- May represent extrapolation beyond data range\n",
        "- More complex interpretation due to multiple dimensions"
      ]
    },
    {
      "cell_type": "markdown",
      "metadata": {},
      "source": [
        "### 16. Significance of Slope in Regression Analysis\n",
        "\n",
        "**Slope significance:**\n",
        "- Measures the strength and direction of relationship\n",
        "- Determines prediction accuracy\n",
        "- Larger absolute slope = stronger relationship\n",
        "- Statistical significance tested using t-test\n",
        "- p-value < 0.05 typically indicates significance\n",
        "\n",
        "**Effect on predictions:**\n",
        "- Steep slope: Small changes in X cause large changes in Y\n",
        "- Flat slope: X has minimal impact on Y"
      ]
    },
    {
      "cell_type": "markdown",
      "metadata": {},
      "source": [
        "### 17. Intercept Context in Variable Relationships\n",
        "\n",
        "The intercept provides context by:\n",
        "- Establishing the baseline value\n",
        "- Indicating the starting point of the relationship\n",
        "- Helping interpret the practical meaning of predictions\n",
        "- Sometimes representing fixed costs or inherent values\n",
        "- Enabling proper scaling of the model"
      ]
    },
    {
      "cell_type": "markdown",
      "metadata": {},
      "source": [
        "### 18. Limitations of Using R² as Sole Performance Measure\n",
        "\n",
        "**Limitations:**\n",
        "1. **Always increases** with more variables (overfitting risk)\n",
        "2. **Doesn't indicate causation**, only correlation\n",
        "3. **Sensitive to outliers**\n",
        "4. **No information about prediction accuracy**\n",
        "5. **Doesn't validate assumptions**\n",
        "6. **Domain-dependent interpretation**\n",
        "\n",
        "**Alternatives:**\n",
        "- Adjusted R²\n",
        "- Cross-validation scores\n",
        "- AIC/BIC\n",
        "- RMSE, MAE\n",
        "- Residual analysis"
      ]
    },
    {
      "cell_type": "markdown",
      "metadata": {},
      "source": [
        "### 19. Interpreting Large Standard Error for Regression Coefficient\n",
        "\n",
        "**Large standard error indicates:**\n",
        "- **High uncertainty** in coefficient estimate\n",
        "- **Low precision** of the estimate\n",
        "- **Possible multicollinearity**\n",
        "- **Insufficient data**\n",
        "- **High variability** in the data\n",
        "\n",
        "**Consequences:**\n",
        "- Wide confidence intervals\n",
        "- Lower statistical significance\n",
        "- Less reliable predictions\n",
        "- Need for more data or model refinement"
      ]
    },
    {
      "cell_type": "markdown",
      "metadata": {},
      "source": [
        "### 20. Identifying Heteroscedasticity in Residual Plots\n",
        "\n",
        "**Identification:**\n",
        "- **Funnel shape**: Residuals spread out as fitted values increase\n",
        "- **Cone pattern**: Variance increases/decreases systematically\n",
        "- **Curved patterns**: Non-linear variance relationships\n",
        "\n",
        "**Why address it:**\n",
        "- Violates regression assumptions\n",
        "- Leads to inefficient estimates\n",
        "- Invalid statistical tests\n",
        "- Biased standard errors\n",
        "\n",
        "**Solutions:**\n",
        "- Transform variables (log, sqrt)\n",
        "- Weighted least squares\n",
        "- Robust standard errors\n",
        "- Different model specification"
      ]
    },
    {
      "cell_type": "markdown",
      "metadata": {},
      "source": [
        "### 21. High R² but Low Adjusted R²\n",
        "\n",
        "This scenario indicates:\n",
        "\n",
        "**Cause:**\n",
        "- **Too many variables** relative to sample size\n",
        "- **Overfitting** with irrelevant predictors\n",
        "- **Model complexity** not justified by data\n",
        "\n",
        "**Adjusted R² formula:**\n",
        "- Adj R² = 1 - [(1-R²)(n-1)/(n-p-1)]\n",
        "- Penalizes for additional variables\n",
        "\n",
        "**Solution:**\n",
        "- Remove insignificant variables\n",
        "- Use feature selection techniques\n",
        "- Increase sample size\n",
        "- Apply regularization"
      ]
    },
    {
      "cell_type": "markdown",
      "metadata": {},
      "source": [
        "### 22. Importance of Scaling Variables in Multiple Linear Regression\n",
        "\n",
        "**Why scale:**\n",
        "1. **Different units**: Variables measured in different scales\n",
        "2. **Coefficient interpretation**: Fair comparison between variables\n",
        "3. **Optimization**: Faster convergence in algorithms\n",
        "4. **Regularization**: Equal penalty for all variables\n",
        "5. **Numerical stability**: Avoid computational issues\n",
        "\n",
        "**Scaling methods:**\n",
        "- **Standardization**: (x - μ) / σ\n",
        "- **Min-Max scaling**: (x - min) / (max - min)\n",
        "- **Robust scaling**: Using median and IQR"
      ]
    },
    {
      "cell_type": "markdown",
      "metadata": {},
      "source": [
        "## Polynomial Regression\n",
        "\n",
        "### 23. What is Polynomial Regression?\n",
        "\n",
        "Polynomial regression is a form of regression analysis where the relationship between independent and dependent variables is modeled as an nth degree polynomial:\n",
        "\n",
        "**Y = β₀ + β₁X + β₂X² + β₃X³ + ... + βₙXⁿ + ε**\n",
        "\n",
        "It's used to fit non-linear relationships using polynomial functions while still maintaining the linear relationship between coefficients."
      ]
    },
    {
      "cell_type": "markdown",
      "metadata": {},
      "source": [
        "### 24. How Polynomial Regression Differs from Linear Regression\n",
        "\n",
        "| Linear Regression | Polynomial Regression |\n",
        "|------------------|----------------------|\n",
        "| Y = β₀ + β₁X | Y = β₀ + β₁X + β₂X² + ... + βₙXⁿ |\n",
        "| Straight line fit | Curved line fit |\n",
        "| Limited flexibility | High flexibility |\n",
        "| Cannot capture non-linear patterns | Captures non-linear relationships |\n",
        "| Lower complexity | Higher complexity |\n",
        "| Less prone to overfitting | More prone to overfitting |"
      ]
    },
    {
      "cell_type": "markdown",
      "metadata": {},
      "source": [
        "### 25. When is Polynomial Regression Used?\n",
        "\n",
        "**Use cases:**\n",
        "1. **Non-linear relationships** between variables\n",
        "2. **Curved patterns** in scatter plots\n",
        "3. **U-shaped or inverted U-shaped** relationships\n",
        "4. **Growth patterns** that accelerate or decelerate\n",
        "5. **Physical phenomena** following polynomial laws\n",
        "6. **When linear regression shows poor fit**\n",
        "\n",
        "**Examples:**\n",
        "- Economic demand curves\n",
        "- Population growth models\n",
        "- Physics trajectories\n",
        "- Dose-response relationships"
      ]
    },
    {
      "cell_type": "markdown",
      "metadata": {},
      "source": [
        "### 26. General Equation for Polynomial Regression\n",
        "\n",
        "**For single variable:**\n",
        "Y = β₀ + β₁X + β₂X² + β₃X³ + ... + βₙXⁿ + ε\n",
        "\n",
        "**Where:**\n",
        "- Y = dependent variable\n",
        "- X = independent variable\n",
        "- β₀ = intercept\n",
        "- β₁, β₂, ..., βₙ = coefficients\n",
        "- n = degree of polynomial\n",
        "- ε = error term\n",
        "\n",
        "**Common degrees:**\n",
        "- Degree 2: Quadratic (parabola)\n",
        "- Degree 3: Cubic\n",
        "- Higher degrees: More complex curves"
      ]
    },
    {
      "cell_type": "markdown",
      "metadata": {},
      "source": [
        "### 27. Can Polynomial Regression be Applied to Multiple Variables?\n",
        "\n",
        "**Yes, polynomial regression can be extended to multiple variables:**\n",
        "\n",
        "**Example with two variables:**\n",
        "Y = β₀ + β₁X₁ + β₂X₂ + β₃X₁² + β₄X₂² + β₅X₁X₂ + ε\n",
        "\n",
        "**Features:**\n",
        "- **Polynomial terms** for each variable\n",
        "- **Interaction terms** between variables\n",
        "- **Cross-product terms** of different degrees\n",
        "- **Exponentially increasing complexity**\n",
        "\n",
        "**Challenges:**\n",
        "- Curse of dimensionality\n",
        "- Increased overfitting risk\n",
        "- More difficult interpretation"
      ]
    },
    {
      "cell_type": "markdown",
      "metadata": {},
      "source": [
        "### 28. Limitations of Polynomial Regression\n",
        "\n",
        "1. **Overfitting**: High-degree polynomials fit noise\n",
        "2. **Extrapolation problems**: Poor predictions outside data range\n",
        "3. **Multicollinearity**: High correlation between polynomial terms\n",
        "4. **Computational complexity**: Increases with degree\n",
        "5. **Interpretation difficulty**: Complex coefficient relationships\n",
        "6. **Oscillation**: High-degree polynomials can oscillate wildly\n",
        "7. **Parameter sensitivity**: Small data changes cause large coefficient changes"
      ]
    },
    {
      "cell_type": "markdown",
      "metadata": {},
      "source": [
        "### 29. Methods to Evaluate Model Fit for Polynomial Degree Selection\n",
        "\n",
        "1. **Cross-validation**: K-fold CV to assess generalization\n",
        "2. **Information criteria**: AIC, BIC for model comparison\n",
        "3. **Learning curves**: Plot training vs validation error\n",
        "4. **Residual analysis**: Check for patterns in residuals\n",
        "5. **R² and Adjusted R²**: Balance fit and complexity\n",
        "6. **Validation set approach**: Hold-out test set\n",
        "7. **Statistical significance**: t-tests for coefficients\n",
        "8. **Domain knowledge**: Physical/theoretical constraints"
      ]
    },
    {
      "cell_type": "markdown",
      "metadata": {},
      "source": [
        "### 30. Why is Visualization Important in Polynomial Regression?\n",
        "\n",
        "**Importance:**\n",
        "1. **Pattern recognition**: Identify non-linear relationships\n",
        "2. **Degree selection**: Visual assessment of appropriate polynomial degree\n",
        "3. **Overfitting detection**: Spot excessive wiggling in high-degree fits\n",
        "4. **Outlier identification**: Find points that unduly influence the curve\n",
        "5. **Model validation**: Compare fitted curve with actual data\n",
        "6. **Residual analysis**: Plot residuals to check assumptions\n",
        "7. **Extrapolation awareness**: See how model behaves outside data range\n",
        "8. **Communication**: Explain model behavior to stakeholders"
      ]
    },
    {
      "cell_type": "markdown",
      "id": "f4f34723",
      "metadata": {
        "vscode": {
          "languageId": "plaintext"
        }
      },
      "source": [
        "### How is polynomial regression implemented in Python?"
      ]
    },
    {
      "cell_type": "code",
      "execution_count": 1,
      "id": "e03d46ef",
      "metadata": {},
      "outputs": [
        {
          "name": "stdout",
          "output_type": "stream",
          "text": [
            "Coefficients: [[ 0.         -0.65899158  2.40961881]]\n",
            "Intercept: [-0.24300868]\n",
            "First 5 predictions: [ 68.71717454 118.2949511   83.33199074  67.70728134  40.21379697]\n"
          ]
        },
        {
          "data": {
            "image/png": "[encoded data removed]",
            "text/plain": [
              "<Figure size 640x480 with 1 Axes>"
            ]
          },
          "metadata": {},
          "output_type": "display_data"
        }
      ],
      "source": [
        "# How is polynomial regression implemented in Python?\n",
        "import numpy as np\n",
        "from sklearn.preprocessing import PolynomialFeatures\n",
        "from sklearn.linear_model import LinearRegression\n",
        "\n",
        "# Generate some sample data\n",
        "np.random.seed(0)\n",
        "X = np.random.rand(100, 1) * 10  # 100 samples, single feature\n",
        "y = 2.5 * X**2 - 1.5 * X + np.random.randn(100, 1) * 5  # Quadratic relationship with noise\n",
        "\n",
        "# Transform the features to polynomial features\n",
        "poly = PolynomialFeatures(degree=2)\n",
        "X_poly = poly.fit_transform(X)\n",
        "\n",
        "# Fit a linear regression model to the polynomial features\n",
        "model = LinearRegression()\n",
        "model.fit(X_poly, y)\n",
        "\n",
        "# Make predictions\n",
        "y_pred = model.predict(X_poly)\n",
        "# Print the coefficients\n",
        "print(\"Coefficients:\", model.coef_)\n",
        "print(\"Intercept:\", model.intercept_)\n",
        "\n",
        "# Print the first 5 predictions\n",
        "print(\"First 5 predictions:\", y_pred[:5].flatten())\n",
        "# Visualize the results\n",
        "import matplotlib.pyplot as plt\n",
        "plt.scatter(X, y, color='blue', label='Data points')\n",
        "plt.scatter(X, y_pred, color='red', label='Polynomial regression predictions')\n",
        "plt.xlabel('X')\n",
        "plt.ylabel('y')\n",
        "plt.title('Polynomial Regression')\n",
        "plt.legend()\n",
        "plt.show()\n",
        "# This code demonstrates how to implement polynomial regression in Python using scikit-learn.\n"
      ]
    },
    {
      "cell_type": "code",
      "execution_count": null,
      "id": "eae0ade5",
      "metadata": {},
      "outputs": [],
      "source": []
    }
  ],
  "metadata": {
    "kernelspec": {
      "display_name": "Python 3",
      "language": "python",
      "name": "python3"
    },
    "language_info": {
      "codemirror_mode": {
        "name": "ipython",
        "version": 3
      },
      "file_extension": ".py",
      "mimetype": "text/x-python",
      "name": "python",
      "nbconvert_exporter": "python",
      "pygments_lexer": "ipython3",
      "version": "3.13.2"
    }
  },
  "nbformat": 4,
  "nbformat_minor": 5
}
