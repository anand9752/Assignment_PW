{
 "cells": [
  {
   "cell_type": "markdown",
   "metadata": {},
   "source": [
    "# Python File Handling, Exception Handling, Logging and Memory Management Solutions\n",
    "\n"
   ]
  },
  {
   "cell_type": "markdown",
   "metadata": {},
   "source": [
    "## SECTION 1: THEORETICAL QUESTIONS"
   ]
  },
  {
   "cell_type": "markdown",
   "metadata": {},
   "source": [
    "### Q1: What is the difference between interpreted and compiled languages?"
   ]
  },
  {
   "cell_type": "markdown",
   "metadata": {},
   "source": [
    "**Interpreted Languages:**\n",
    "- Code is executed line by line at runtime by an interpreter\n",
    "- No separate compilation step before execution\n",
    "- Errors are detected during execution\n",
    "- Generally platform-independent as the interpreter handles the translation\n",
    "- Examples: Python, JavaScript, Ruby\n",
    "\n",
    "**Compiled Languages:**\n",
    "- Code is translated into machine code before execution\n",
    "- Requires a compilation step that produces an executable file\n",
    "- Errors are detected during compilation\n",
    "- Often platform-dependent as compiled code targets specific architectures\n",
    "- Generally faster execution as compilation optimizes the code\n",
    "- Examples: C, C++, Rust, Go"
   ]
  },
  {
   "cell_type": "markdown",
   "metadata": {},
   "source": [
    "### Q2: What is exception handling in Python?"
   ]
  },
  {
   "cell_type": "markdown",
   "metadata": {},
   "source": [
    "Exception handling in Python is a mechanism to handle runtime errors and exceptional conditions that might occur during program execution. It allows the program to continue running rather than crashing when errors occur. Python uses try, except, else, and finally blocks for handling exceptions.\n",
    "\n",
    "The basic structure is:\n",
    "```python\n",
    "try:\n",
    "    # Code that might raise an exception\n",
    "except ExceptionType:\n",
    "    # Code to handle the exception\n",
    "else:\n",
    "    # Code to execute if no exception occurs\n",
    "finally:\n",
    "    # Code that executes regardless of whether an exception occurred\n",
    "```\n",
    "\n",
    "This mechanism helps create robust programs that can gracefully handle errors and unexpected situations."
   ]
  },
  {
   "cell_type": "markdown",
   "metadata": {},
   "source": [
    "### Q3: What is the purpose of the finally block in exception handling?"
   ]
  },
  {
   "cell_type": "markdown",
   "metadata": {},
   "source": [
    "The 'finally' block in exception handling serves the following purposes:\n",
    "\n",
    "1. It contains code that will be executed regardless of whether an exception was raised or not.\n",
    "2. It's ideal for cleanup activities that must happen under all circumstances, such as:\n",
    "   - Closing file handles\n",
    "   - Releasing database connections\n",
    "   - Freeing system resources\n",
    "   - Closing network connections\n",
    "3. It executes even if there's a return statement in the try or except blocks.\n",
    "4. It ensures that critical cleanup code is executed even if an exception occurs.\n",
    "\n",
    "Example use case: Ensuring a file is closed whether an exception occurs during file operations or not."
   ]
  },
  {
   "cell_type": "markdown",
   "metadata": {},
   "source": [
    "### Q4: What is logging in Python?"
   ]
  },
  {
   "cell_type": "markdown",
   "metadata": {},
   "source": [
    "Logging in Python refers to the process of recording events, messages, and information during program execution using the built-in 'logging' module. Instead of using print statements, logging provides a more flexible and configurable way to track what happens in applications.\n",
    "\n",
    "Key features of Python's logging module:\n",
    "1. Multiple severity levels (DEBUG, INFO, WARNING, ERROR, CRITICAL)\n",
    "2. Ability to format log messages\n",
    "3. Ability to output logs to different destinations (console, files, network)\n",
    "4. Configuration options for different components of an application\n",
    "5. Thread-safety for multi-threaded applications\n",
    "\n",
    "Logging helps with debugging, monitoring application behavior, and understanding the flow of execution, especially in production environments where direct observation is not possible."
   ]
  },
  {
   "cell_type": "markdown",
   "metadata": {},
   "source": [
    "### Q5: What is the significance of the __del__ method in Python?"
   ]
  },
  {
   "cell_type": "markdown",
   "metadata": {},
   "source": [
    "The __del__ method in Python (also known as a destructor) is a special method that's called when an object is about to be destroyed or garbage collected. Its significance includes:\n",
    "\n",
    "1. Cleanup: It allows for resource cleanup before object destruction (closing files, releasing memory, etc.)\n",
    "2. Finalizer: Acts as a finalizer for objects that need special handling before being removed from memory\n",
    "3. Resource Management: Useful for objects that manage external resources like file handles, network connections\n",
    "\n",
    "However, it has limitations:\n",
    "- Not guaranteed to be called immediately when an object goes out of scope\n",
    "- Not called if the object is still referenced somewhere\n",
    "- Not called when the program terminates abruptly\n",
    "- Can cause issues if it references other objects that may have been destroyed\n",
    "\n",
    "Because of these limitations, context managers (with statement) and explicit cleanup methods are often preferred over relying on __del__ for resource management."
   ]
  },
  {
   "cell_type": "markdown",
   "metadata": {},
   "source": [
    "### Q6: What is the difference between import and from ... import in Python?"
   ]
  },
  {
   "cell_type": "markdown",
   "metadata": {},
   "source": [
    "The two methods of importing modules in Python have different effects on namespace management:\n",
    "\n",
    "1. `import module`:\n",
    "   - Imports the entire module\n",
    "   - Requires using the module name as a namespace prefix when accessing its attributes\n",
    "   - Example: `import math` then use as `math.sqrt(4)`\n",
    "   - Keeps the namespace clean and avoids naming conflicts\n",
    "   \n",
    "2. `from module import name`:\n",
    "   - Imports specific attributes (functions, classes, variables) from the module\n",
    "   - Allows direct access without the module prefix\n",
    "   - Example: `from math import sqrt` then use as `sqrt(4)`\n",
    "   - Can lead to name conflicts if imported names clash with existing ones\n",
    "   \n",
    "3. `from module import *`:\n",
    "   - Imports all attributes from the module into the current namespace\n",
    "   - Convenient but potentially dangerous due to namespace pollution\n",
    "   - Makes it difficult to track the origin of functions/variables\n",
    "   - Generally not recommended in production code\n",
    "\n",
    "Best practice is to use explicit imports to improve code readability and maintainability."
   ]
  },
  {
   "cell_type": "markdown",
   "metadata": {},
   "source": [
    "### Q7: How can you handle multiple exceptions in Python?"
   ]
  },
  {
   "cell_type": "markdown",
   "metadata": {},
   "source": [
    "Python offers several ways to handle multiple exceptions:\n",
    "\n",
    "1. Using multiple except blocks:\n",
    "```python\n",
    "try:\n",
    "    # code that might raise exceptions\n",
    "except ValueError:\n",
    "    # handle ValueError\n",
    "except TypeError:\n",
    "    # handle TypeError\n",
    "```\n",
    "\n",
    "2. Grouping exceptions in a single except block:\n",
    "```python\n",
    "try:\n",
    "    # code that might raise exceptions\n",
    "except (ValueError, TypeError, KeyError):\n",
    "    # handle any of these exceptions\n",
    "```\n",
    "\n",
    "3. Using exception hierarchy with specific to general approach:\n",
    "```python\n",
    "try:\n",
    "    # code that might raise exceptions\n",
    "except ValueError:\n",
    "    # handle ValueError\n",
    "except Exception:\n",
    "    # handle all other exceptions\n",
    "```\n",
    "\n",
    "4. Capturing exception information:\n",
    "```python\n",
    "try:\n",
    "    # code that might raise exceptions\n",
    "except Exception as e:\n",
    "    # 'e' contains information about the exception\n",
    "    print(f\"Error occurred: {type(e).__name__}: {e}\")\n",
    "```\n",
    "\n",
    "The choice depends on whether different exceptions require different handling approaches."
   ]
  },
  {
   "cell_type": "markdown",
   "metadata": {},
   "source": [
    "### Q8: What is the purpose of the with statement when handling files in Python?"
   ]
  },
  {
   "cell_type": "markdown",
   "metadata": {},
   "source": [
    "The `with` statement in Python provides context management functionality primarily used for resource management. When handling files, it offers several advantages:\n",
    "\n",
    "1. Automatic Resource Management:\n",
    "   - Automatically closes files when the block exits, even if exceptions occur\n",
    "   - Eliminates the need for explicit file.close() calls\n",
    "\n",
    "2. Exception Safety:\n",
    "   - Ensures proper cleanup even during exceptions\n",
    "   - Reduces resource leaks\n",
    "\n",
    "3. Cleaner Code:\n",
    "   - More concise and readable than traditional try-finally blocks\n",
    "   - Makes the code's intent clearer\n",
    "\n",
    "Example:\n",
    "```python\n",
    "with open('file.txt', 'r') as file:\n",
    "    content = file.read()\n",
    "# File is automatically closed here, even if an exception occurred\n",
    "```\n",
    "\n",
    "The `with` statement works with any object that implements the context manager protocol (__enter__ and __exit__ methods)."
   ]
  },
  {
   "cell_type": "markdown",
   "metadata": {},
   "source": [
    "### Q9: What is the difference between multithreading and multiprocessing?"
   ]
  },
  {
   "cell_type": "markdown",
   "metadata": {},
   "source": [
    "Multithreading and multiprocessing are both approaches to achieve concurrent execution, but they differ in several fundamental ways:\n",
    "\n",
    "**Multithreading:**\n",
    "- Operates within a single process\n",
    "- Threads share the same memory space\n",
    "- Lightweight (lower overhead to create and switch between threads)\n",
    "- Limited by Global Interpreter Lock (GIL) in CPython, which prevents true parallel execution of Python code\n",
    "- Best for I/O-bound tasks (file operations, network requests)\n",
    "- Easier data sharing between threads but requires synchronization mechanisms\n",
    "\n",
    "**Multiprocessing:**\n",
    "- Uses multiple processes, each with its own Python interpreter\n",
    "- Each process has its own memory space (isolated)\n",
    "- Heavier weight (more resources needed to create processes)\n",
    "- Not limited by GIL, enabling true parallel execution\n",
    "- Best for CPU-bound tasks\n",
    "- Requires explicit communication between processes (pipes, queues)\n",
    "- More overhead for data sharing but fewer synchronization issues\n",
    "\n",
    "The choice between them depends on the task: I/O-bound tasks benefit from multithreading despite the GIL, while CPU-bound tasks benefit from multiprocessing to achieve true parallelism."
   ]
  },
  {
   "cell_type": "markdown",
   "metadata": {},
   "source": [
    "### Q10: What are the advantages of using logging in a program?"
   ]
  },
  {
   "cell_type": "markdown",
   "metadata": {},
   "source": [
    "Using logging instead of print statements offers numerous advantages:\n",
    "\n",
    "1. Severity Levels:\n",
    "   - Categorize messages by importance (DEBUG, INFO, WARNING, ERROR, CRITICAL)\n",
    "   - Filter output based on severity\n",
    "\n",
    "2. Configurability:\n",
    "   - Enable/disable logging without code changes\n",
    "   - Configure output format, destination, and verbosity\n",
    "\n",
    "3. Output Flexibility:\n",
    "   - Direct logs to multiple destinations (console, files, network)\n",
    "   - Rotate log files to manage storage\n",
    "\n",
    "4. Production Readiness:\n",
    "   - Leave logging code in production without affecting performance\n",
    "   - Enable debugging in production by changing log levels\n",
    "\n",
    "5. Contextual Information:\n",
    "   - Automatically include timestamps, line numbers, function names\n",
    "   - Add custom context like user IDs or transaction identifiers\n",
    "\n",
    "6. Better Debugging:\n",
    "   - More structured information than print statements\n",
    "   - Easier to find relevant information in large applications\n",
    "\n",
    "7. Thread Safety:\n",
    "   - Safe to use in multi-threaded applications\n",
    "\n",
    "Logging improves code maintainability, supports better troubleshooting, and provides a standardized approach to information capture across an application."
   ]
  },
  {
   "cell_type": "markdown",
   "metadata": {},
   "source": [
    "### Q11: What is memory management in Python?"
   ]
  },
  {
   "cell_type": "markdown",
   "metadata": {},
   "source": [
    "Memory management in Python refers to the process of allocating, using, and releasing memory during program execution. Python handles memory management automatically through several mechanisms:\n",
    "\n",
    "1. Automatic Memory Allocation:\n",
    "   - Python automatically allocates memory when objects are created\n",
    "\n",
    "2. Reference Counting:\n",
    "   - Primary mechanism for memory management\n",
    "   - Tracks how many references point to each object\n",
    "   - When reference count drops to zero, memory is reclaimed\n",
    "\n",
    "3. Garbage Collection:\n",
    "   - Cyclic garbage collector that identifies and cleans up reference cycles\n",
    "   - Runs periodically to collect objects that reference each other but are not referenced externally\n",
    "\n",
    "4. Memory Pooling:\n",
    "   - Reuses memory for frequently created and destroyed objects\n",
    "   - Reduces overhead of repeated memory allocation/deallocation\n",
    "\n",
    "5. Private Heap Space:\n",
    "   - Python stores all objects and data structures in a private heap\n",
    "   - The programmer doesn't need to explicitly allocate or deallocate memory\n",
    "\n",
    "Python's memory management is designed to be largely invisible to the programmer, allowing them to focus on algorithm and application development without worrying about low-level memory details."
   ]
  },
  {
   "cell_type": "markdown",
   "metadata": {},
   "source": [
    "### Q12: What are the basic steps involved in exception handling in Python?"
   ]
  },
  {
   "cell_type": "markdown",
   "metadata": {},
   "source": [
    "The basic steps involved in exception handling in Python are:\n",
    "\n",
    "1. Try Block:\n",
    "   - Enclose the code that might raise an exception in a try block\n",
    "   - Python monitors this code for exceptions during execution\n",
    "\n",
    "2. Exception Detection:\n",
    "   - When an exception occurs, Python immediately stops normal execution\n",
    "   - The exception object is created containing details about the error\n",
    "\n",
    "3. Except Block:\n",
    "   - Python looks for a matching except block to handle the exception\n",
    "   - The exception handler processes the error appropriately\n",
    "\n",
    "4. Else Block (Optional):\n",
    "   - Executes if no exceptions occur in the try block\n",
    "   - Allows separation of error-prone code from code that should run only if no errors occur\n",
    "\n",
    "5. Finally Block (Optional):\n",
    "   - Executes regardless of whether an exception occurred\n",
    "   - Used for cleanup operations that must always occur\n",
    "\n",
    "Basic structure:\n",
    "```python\n",
    "try:\n",
    "    # Potentially problematic code\n",
    "except ExceptionType:\n",
    "    # Handle specific exception\n",
    "else:\n",
    "    # Execute if no exception occurred\n",
    "finally:\n",
    "    # Always execute this block\n",
    "```\n",
    "\n",
    "This structured approach allows for robust error handling and resource management."
   ]
  },
  {
   "cell_type": "markdown",
   "metadata": {},
   "source": [
    "### Q13: Why is memory management important in Python?"
   ]
  },
  {
   "cell_type": "markdown",
   "metadata": {},
   "source": [
    "Memory management is crucial in Python for several reasons:\n",
    "\n",
    "1. Resource Efficiency:\n",
    "   - Efficiently using available memory allows programs to handle larger datasets\n",
    "   - Prevents memory leaks that could degrade performance over time\n",
    "\n",
    "2. Performance Optimization:\n",
    "   - Proper memory management minimizes garbage collection pauses\n",
    "   - Reduces memory fragmentation and overhead\n",
    "\n",
    "3. Scalability:\n",
    "   - Ensures applications can scale to handle larger workloads\n",
    "   - Critical for long-running services and applications\n",
    "\n",
    "4. Memory-Intensive Applications:\n",
    "   - Data processing, machine learning, and scientific computing require efficient memory use\n",
    "   - Working with large datasets requires careful memory management\n",
    "\n",
    "5. Limited Resources:\n",
    "   - Embedded systems and cloud environments often have memory constraints\n",
    "   - Mobile applications need to be memory-efficient\n",
    "\n",
    "6. Stability:\n",
    "   - Prevents out-of-memory errors that could crash applications\n",
    "   - Ensures consistent behavior during execution\n",
    "\n",
    "While Python handles most memory management automatically, understanding memory principles helps developers write more efficient code and avoid common pitfalls like excessive object creation or retaining unnecessary references."
   ]
  },
  {
   "cell_type": "markdown",
   "metadata": {},
   "source": [
    "### Q14: What is the role of try and except in exception handling?"
   ]
  },
  {
   "cell_type": "markdown",
   "metadata": {},
   "source": [
    "The try and except blocks form the core of exception handling in Python:\n",
    "\n",
    "**try block:**\n",
    "- Defines a section of code where exceptions are monitored\n",
    "- Contains code that might raise exceptions during execution\n",
    "- Multiple statements can be included in a single try block\n",
    "- If an exception occurs, execution immediately jumps to the except block\n",
    "- If no exception occurs, the except block is skipped\n",
    "\n",
    "**except block:**\n",
    "- Contains the code that executes when a matching exception occurs\n",
    "- Can specify which exception types to catch\n",
    "- Can capture the exception object for further inspection\n",
    "- Can handle the error or perform recovery actions\n",
    "- Multiple except blocks can be used to handle different exceptions differently\n",
    "- Can use a generic except to catch all exceptions (though not recommended in most cases)\n",
    "\n",
    "Together, they allow programs to:\n",
    "1. Attempt operations that might fail\n",
    "2. Detect failures when they occur\n",
    "3. Handle errors gracefully instead of crashing\n",
    "4. Continue execution despite encountering problems\n",
    "\n",
    "This mechanism forms the foundation of robust error handling in Python applications."
   ]
  },
  {
   "cell_type": "markdown",
   "metadata": {},
   "source": [
    "### Q15: How does Python's garbage collection system work?"
   ]
  },
  {
   "cell_type": "markdown",
   "metadata": {},
   "source": [
    "Python's garbage collection system works through a combination of reference counting and a cyclic garbage collector:\n",
    "\n",
    "1. Reference Counting (Primary Mechanism):\n",
    "   - Each object maintains a count of how many references point to it\n",
    "   - When references are created, the count increases\n",
    "   - When references are removed, the count decreases\n",
    "   - When count reaches zero, the object is immediately deallocated\n",
    "   - Fast and deterministic, but cannot handle reference cycles\n",
    "\n",
    "2. Cyclic Garbage Collector:\n",
    "   - Supplements reference counting to handle circular references\n",
    "   - Periodically searches for groups of objects that reference each other but are not reachable\n",
    "   - Uses a generational approach with three generations of objects\n",
    "   - Newer objects (generation 0) are checked more frequently than older ones\n",
    "   - Detected unreachable cycles are cleaned up\n",
    "\n",
    "3. Generational Collection:\n",
    "   - Objects are grouped into three generations (0, 1, 2)\n",
    "   - New objects start in generation 0\n",
    "   - Objects that survive collection are promoted to the next generation\n",
    "   - Higher generations are collected less frequently\n",
    "\n",
    "4. Manual Control:\n",
    "   - gc module allows programmatic control over garbage collection\n",
    "   - Can disable/enable collection, force collection, set thresholds\n",
    "\n",
    "This hybrid approach balances immediate memory reclamation through reference counting with the ability to handle complex reference structures through cyclic garbage collection."
   ]
  },
  {
   "cell_type": "markdown",
   "metadata": {},
   "source": [
    "### Q16: What is the purpose of the else block in exception handling?"
   ]
  },
  {
   "cell_type": "markdown",
   "metadata": {},
   "source": [
    "The else block in exception handling serves a specific purpose:\n",
    "\n",
    "1. Execution Condition:\n",
    "   - It executes only if no exceptions are raised in the try block\n",
    "   - Provides a clear separation between normal code flow and exception handling\n",
    "\n",
    "2. Advantages:\n",
    "   - Improves code organization by separating error-prone code from code that runs only on success\n",
    "   - Makes it clear which operations should happen only when no exceptions occur\n",
    "   - Avoids nesting additional code inside the try block unnecessarily\n",
    "\n",
    "3. Use Cases:\n",
    "   - Performing operations that depend on the successful execution of the try block\n",
    "   - Code that might raise different exceptions that you want to handle separately\n",
    "   - Making the success path explicit in the code structure\n",
    "\n",
    "Example:\n",
    "```python\n",
    "try:\n",
    "    data = process_data(raw_input)\n",
    "except ValueError:\n",
    "    print(\"Invalid input format\")\n",
    "else:\n",
    "    # This only runs if no exception occurred\n",
    "    save_results(data)  # This operation has its own potential exceptions\n",
    "```\n",
    "\n",
    "The else block helps maintain a clear flow of execution and makes the programmer's intent more explicit."
   ]
  },
  {
   "cell_type": "markdown",
   "metadata": {},
   "source": [
    "### Q17: What are the common logging levels in Python?"
   ]
  },
  {
   "cell_type": "markdown",
   "metadata": {},
   "source": [
    "Python's logging module provides five standard levels of logging severity, ordered from lowest to highest priority:\n",
    "\n",
    "1. DEBUG (10):\n",
    "   - Detailed information for diagnosing problems\n",
    "   - Typically only valuable during development and debugging\n",
    "   - Example: \"Entered function with parameters x=5, y=10\"\n",
    "\n",
    "2. INFO (20):\n",
    "   - Confirmation that things are working as expected\n",
    "   - General operational information\n",
    "   - Example: \"Server started successfully on port 8080\"\n",
    "\n",
    "3. WARNING (30):\n",
    "   - Indication that something unexpected happened or might happen\n",
    "   - Application continues working but needs attention\n",
    "   - Default level if not specified\n",
    "   - Example: \"Configuration file not found, using default values\"\n",
    "\n",
    "4. ERROR (40):\n",
    "   - Due to a more serious problem, the software couldn't perform a function\n",
    "   - Application can continue running but a specific operation failed\n",
    "   - Example: \"Failed to connect to database\"\n",
    "\n",
    "5. CRITICAL (50):\n",
    "   - A very serious error that might prevent the program from continuing\n",
    "   - Highest severity level\n",
    "   - Example: \"Out of memory, application shutting down\"\n",
    "\n",
    "These levels allow filtering logs based on severity, providing appropriate detail in different contexts like development, testing, and production environments."
   ]
  },
  {
   "cell_type": "markdown",
   "metadata": {},
   "source": [
    "# Q18: What is the difference between os.fork() and multiprocessing in Python?"
   ]
  },
  {
   "cell_type": "markdown",
   "id": "cb1b9a0d",
   "metadata": {
    "vscode": {
     "languageId": "plaintext"
    }
   },
   "source": [
    "🧠 `os.fork()` vs `multiprocessing` in Python\n",
    "---------------------------------------------\n",
    "\n",
    "### ✅ `os.fork()`\n",
    "\n",
    "-   **Definition**:\n",
    "\n",
    "    -   A low-level system call available on **Unix-based systems (Linux/macOS)**.\n",
    "\n",
    "    -   It creates a **child process** by duplicating the current process.\n",
    "\n",
    "-   **Syntax**:\n",
    "\n",
    "    ```python\n",
    "    import os\n",
    "\n",
    "    pid = os.fork()\n",
    "    if pid == 0:\n",
    "        # Child process\n",
    "        print(\"This is the child process\")\n",
    "    else:\n",
    "        # Parent process\n",
    "        print(\"This is the parent process\")\n",
    "    ```\n",
    "\n",
    "-   **Key Points**:\n",
    "\n",
    "    -   Directly interacts with the **operating system**.\n",
    "\n",
    "    -   **Not available on Windows**.\n",
    "\n",
    "    -   Requires **manual management** of shared data, communication, and synchronization.\n",
    "\n",
    "    -   Creates a **new process** with a copy of the current memory space.\n",
    "\n",
    "* * * * *\n",
    "\n",
    "### ✅ `multiprocessing` Module\n",
    "\n",
    "-   **Definition**:\n",
    "\n",
    "    -   A **high-level API** provided by Python's standard library to spawn processes.\n",
    "\n",
    "    -   Works on **both Unix and Windows**.\n",
    "\n",
    "-   **Syntax**:\n",
    "\n",
    "\n",
    "\n",
    "     ```python\n",
    "    from multiprocessing import Process\n",
    "\n",
    "    def worker():\n",
    "        print(\"This is the child process\")\n",
    "\n",
    "    p = Process(target=worker)\n",
    "    p.start()\n",
    "    p.join()\n",
    "    ```\n",
    "\n",
    "-   **Key Points**:\n",
    "\n",
    "    -   Cross-platform compatible.\n",
    "\n",
    "    -   Easier to use with built-in tools like:\n",
    "\n",
    "        -   `Queue`, `Pipe` for inter-process communication.\n",
    "\n",
    "        -   `Lock`, `Semaphore` for synchronization.\n",
    "\n",
    "        -   `Pool` for managing multiple worker processes.\n",
    "\n",
    "    -   Each process runs in its **own memory space**.\n",
    "\n",
    "    -   Good for **CPU-bound tasks**."
   ]
  },
  {
   "cell_type": "markdown",
   "id": "4e5f19ab",
   "metadata": {
    "vscode": {
     "languageId": "plaintext"
    }
   },
   "source": [
    "# Q.19 what is importance of closing a file in python?\n"
   ]
  },
  {
   "cell_type": "markdown",
   "id": "c6a86944",
   "metadata": {},
   "source": [
    "📂 Importance of Closing a File in Python\n",
    "-----------------------------------------\n",
    "\n",
    "When working with files in Python (using `open()`), it's essential to **close the file** after you're done. This ensures proper resource management and prevents issues.\n",
    "\n",
    "* * * * *\n",
    "\n",
    "### 🧠 Why is `file.close()` Important?\n",
    "\n",
    "1.  ### 🔄 **Flushes the Buffer**\n",
    "\n",
    "    -   When you write to a file, Python may use a **buffer** (temporary memory).\n",
    "\n",
    "    -   `close()` ensures that **all data** is written from the buffer to the file.\n",
    "\n",
    "    -   If not closed, you might **lose data** or have an **incomplete write**.\n",
    "\n",
    "2.  ### 💾 **Frees Up System Resources**\n",
    "\n",
    "    -   Every open file consumes **system resources** like memory and file descriptors.\n",
    "\n",
    "    -   Failing to close files can lead to:\n",
    "\n",
    "        -   **Memory leaks**\n",
    "\n",
    "        -   **Too many open files** error\n",
    "\n",
    "3.  ### 🔒 **Avoids File Corruption or Locking Issues**\n",
    "\n",
    "    -   Especially important when multiple programs access the same file.\n",
    "\n",
    "    -   Closing a file helps avoid **data corruption** and **file locking** issues.\n",
    "\n",
    "4.  ### 🧹 **Ensures Clean Code Execution**\n",
    "\n",
    "    -   Helps prevent unexpected behavior in **large or long-running programs**."
   ]
  },
  {
   "cell_type": "markdown",
   "id": "564bcbaf",
   "metadata": {},
   "source": [
    "#  Q.20 What is the difference between file.read() and file.readline() in Python?"
   ]
  },
  {
   "cell_type": "markdown",
   "id": "18907e48",
   "metadata": {},
   "source": [
    "📄 Difference Between `file.read()` and `file.readline()`\n",
    "---------------------------------------------------------\n",
    "\n",
    "Both methods are used to **read from a file**, but they work differently in terms of **how much** and **what part** they read.\n",
    "\n",
    "* * * * *\n",
    "\n",
    "### ✅ `file.read()`\n",
    "\n",
    "-   **Reads the entire file** (or a specified number of characters).\n",
    "\n",
    "-   Returns a **single string** containing all content.\n",
    "\n",
    "-   Moves the file pointer to the **end**.\n",
    "\n",
    "#### 🔹 Syntax:\n",
    "\n",
    "```python\n",
    "\n",
    "with open(\"sample.txt\", \"r\") as file:\n",
    "    content = file.read()\n",
    "    print(content)\n",
    "```\n",
    "\n",
    "#### 🔹 Optional Argument:\n",
    "\n",
    "python\n",
    "\n",
    "CopyEdit\n",
    "\n",
    "`file.read(n)  # reads 'n' characters`\n",
    "\n",
    "* * * * *\n",
    "\n",
    "### ✅ `file.readline()`\n",
    "\n",
    "-   Reads **one line at a time** from the file.\n",
    "\n",
    "-   Returns a **string including the newline character `\\n`** (if present).\n",
    "\n",
    "-   Useful for **looping through lines**.\n",
    "\n",
    "#### 🔹 Syntax:\n",
    "\n",
    "```python\n",
    "\n",
    "with open(\"sample.txt\", \"r\") as file:\n",
    "    line = file.readline()\n",
    "    print(line)\n",
    "```\n"
   ]
  },
  {
   "cell_type": "markdown",
   "id": "0bdfab27",
   "metadata": {},
   "source": [
    "# Q.21 What is the logging module in Python used for?\n",
    "The `logging` module in Python is used for tracking events that happen when the software runs. It provides a flexible framework for emitting log messages from Python programs. The logging module is part of the Python standard library and allows developers to log messages at different severity levels, such as DEBUG, INFO, WARNING, ERROR, and CRITICAL."
   ]
  },
  {
   "cell_type": "markdown",
   "id": "864617d4",
   "metadata": {
    "vscode": {
     "languageId": "plaintext"
    }
   },
   "source": [
    "# Q.22 What is the os module in Python used for in file handling?\n",
    "The `os` module in Python provides a way of using operating system-dependent functionality like reading or writing to the file system. It allows you to interact with the underlying operating system in a platform-independent manner. The `os` module is commonly used for file handling tasks such as creating, deleting, and manipulating files and directories.\n",
    "It provides functions to work with file paths, check file existence, and perform operations like renaming or moving files. The `os` module is essential for tasks that require interaction with the file system in a cross-platform way.\n",
    "\n"
   ]
  },
  {
   "cell_type": "markdown",
   "id": "acca8dd8",
   "metadata": {
    "vscode": {
     "languageId": "plaintext"
    }
   },
   "source": [
    "# Q.23 What are the challenges associated with memory management in Python?\n",
    "Memory management in Python, while largely automated, does present several challenges:\n",
    "1. **Garbage Collection**: Python uses reference counting and cyclic garbage collection, which can lead to memory leaks if circular references are not handled properly.\n",
    "2. **Memory Fragmentation**: Over time, memory can become fragmented, leading to inefficient use of memory and potential performance degradation.\n",
    "3. **Memory Leaks**: Although Python has garbage collection, memory leaks can still occur if references to objects are not properly released, especially in long-running applications.\n",
    "4. **Performance Overhead**: The garbage collection process can introduce performance overhead, especially in applications that create and destroy many objects frequently.\n",
    "5. **Limited Control**: Python abstracts memory management, which can limit the developer's control over memory allocation and deallocation compared to lower-level languages like C or C++.\n",
    "6. **Resource Management**: Managing resources like file handles, network connections, and database connections requires careful handling to avoid leaks and ensure proper cleanup.\n",
    "7. **Thread Safety**: In multi-threaded applications, ensuring thread-safe memory access can be challenging, especially when multiple threads access shared data."
   ]
  },
  {
   "cell_type": "markdown",
   "id": "18da4339",
   "metadata": {},
   "source": [
    "# Q.24 How do you raise an exception manually in Python?\n",
    "You can raise an exception manually in Python using the `raise` statement. This allows you to trigger an exception at any point in your code, which can be useful for error handling or enforcing certain conditions. Here's how to do it:\n",
    "```python\n",
    "try:\n",
    "    # Some code that may cause an error\n",
    "    x = int(input(\"Enter a number: \"))\n",
    "    if x < 0:\n",
    "        raise ValueError(\"Negative value is not allowed\")\n",
    "except ValueError as e:\n",
    "    print(f\"An error occurred: {e}\")\n",
    "```\n",
    "In this example, if the user enters a negative number, a `ValueError` is raised with a custom message. The exception is then caught in the `except` block, allowing you to handle it gracefully."
   ]
  },
  {
   "cell_type": "markdown",
   "id": "7121e709",
   "metadata": {},
   "source": [
    "# Q.25 Why is it important to use multithreading in certain applications?\n",
    "Multithreading is important in certain applications for several reasons:\n",
    "1. **Concurrency**: Multithreading allows multiple threads to run concurrently, improving the responsiveness of applications, especially in I/O-bound tasks like web servers or GUI applications.\n",
    "2. **Resource Sharing**: Threads within the same process share memory and resources, making it easier to share data between them compared to separate processes.\n",
    "3. **Responsiveness**: In GUI applications, multithreading keeps the interface responsive by offloading long-running tasks to background threads.\n",
    "4. **Performance**: For CPU-bound tasks, multithreading can improve performance by utilizing multiple CPU cores, especially in languages that support true parallelism (e.g., Java, C#). However, in Python, due to the Global Interpreter Lock (GIL), multithreading is more effective for I/O-bound tasks.\n",
    "5. **Simplified Design**: Multithreading can simplify the design of applications that require concurrent operations, such as web servers handling multiple requests simultaneously."
   ]
  },
  {
   "cell_type": "markdown",
   "id": "506d0914",
   "metadata": {
    "vscode": {
     "languageId": "plaintext"
    }
   },
   "source": [
    "# Practical Question "
   ]
  },
  {
   "cell_type": "markdown",
   "id": "13250f41",
   "metadata": {},
   "source": [
    "## Q1: How can you open a file for writing in Python and write a string to it?\n",
    "\n",
    "To open a file for writing in Python and write a string to it, you can use the `open()` function with the mode `'w'` (write mode). Here's an example:\n",
    "```python\n",
    "# Open a file for writing (creates the file if it doesn't exist)\n",
    "\n"
   ]
  },
  {
   "cell_type": "code",
   "execution_count": 1,
   "id": "4b42e983",
   "metadata": {},
   "outputs": [],
   "source": [
    "with open('example.txt', 'w') as file:\n",
    "    # Write a string to the file\n",
    "    file.write(\"Hello, World!\")\n",
    "    "
   ]
  },
  {
   "cell_type": "markdown",
   "id": "3f0c833b",
   "metadata": {},
   "source": [
    "## Q2:  Write a Python program to read the contents of a file and print each line?\n",
    "\n",
    "\n"
   ]
  },
  {
   "cell_type": "code",
   "execution_count": 2,
   "id": "837360b4",
   "metadata": {},
   "outputs": [
    {
     "name": "stdout",
     "output_type": "stream",
     "text": [
      "Hello, World!\n"
     ]
    }
   ],
   "source": [
    "with open('example.txt', 'r') as file:\n",
    "    # Read each line in the file\n",
    "    for line in file:\n",
    "        print(line.strip())  # Print each line without leading/trailing whitespace"
   ]
  },
  {
   "cell_type": "markdown",
   "id": "bd9e8767",
   "metadata": {},
   "source": [
    "## Q.3 How would you handle a case where the file doesn't exist while trying to open it for reading?\n",
    "\n",
    "\n"
   ]
  },
  {
   "cell_type": "code",
   "execution_count": 3,
   "id": "54165aad",
   "metadata": {},
   "outputs": [
    {
     "name": "stdout",
     "output_type": "stream",
     "text": [
      "The file does not exist.\n"
     ]
    }
   ],
   "source": [
    "try:\n",
    "    with open('example1.txt', 'r') as file:\n",
    "        content = file.read()\n",
    "        print(content)\n",
    "except FileNotFoundError:\n",
    "    print(\"The file does not exist.\")\n",
    "# using try except block we can handle this case when  file is not found ,\n",
    "# using specific expection names as FileNotFoundError"
   ]
  },
  {
   "cell_type": "markdown",
   "id": "f1d7adf1",
   "metadata": {},
   "source": [
    "## Q.4 Write a Python script that reads from one file and writes its content to another file?"
   ]
  },
  {
   "cell_type": "code",
   "execution_count": 4,
   "id": "f8f046bb",
   "metadata": {},
   "outputs": [],
   "source": [
    "\n",
    "with open('example.txt', 'r') as source_file:\n",
    "    content = source_file.read()\n",
    "with open('destination.txt', 'w') as dest_file:\n",
    "    dest_file.write(content)\n",
    "# This script reads content from 'source.txt' and writes it to 'destination.txt'.\n",
    "# Make sure to create 'source.txt' with some content before running this script.\n",
    "\n"
   ]
  },
  {
   "cell_type": "markdown",
   "id": "fcef076a",
   "metadata": {},
   "source": [
    "## Q.5 How would you catch and handle division by zero error in Python?"
   ]
  },
  {
   "cell_type": "code",
   "execution_count": 5,
   "id": "b95364c4",
   "metadata": {},
   "outputs": [
    {
     "name": "stdout",
     "output_type": "stream",
     "text": [
      "Error: Division by zero is not allowed.\n"
     ]
    }
   ],
   "source": [
    "\n",
    "try:\n",
    "    result = 10 / 0\n",
    "except ZeroDivisionError:\n",
    "    print(\"Error: Division by zero is not allowed.\")\n",
    "# This code attempts to divide by zero and catches the ZeroDivisionError exception."
   ]
  },
  {
   "cell_type": "markdown",
   "id": "a645eb9c",
   "metadata": {},
   "source": [
    "## Q.6 Write a Python program that logs an error message to a log file when a division by zero exception occurs?"
   ]
  },
  {
   "cell_type": "code",
   "execution_count": 6,
   "id": "ded91e45",
   "metadata": {},
   "outputs": [],
   "source": [
    "# \n",
    "import logging\n",
    "# Configure logging to write to a file\n",
    "logging.basicConfig(filename='example.log', level=logging.ERROR)\n",
    "try:\n",
    "    result = 10 / 0\n",
    "except ZeroDivisionError as e:\n",
    "    logging.error(\"Division by zero error: %s\", e)\n",
    "# This program logs the error message to 'error.log' when a division by zero occurs.\n",
    "# Make sure to check the 'error.log' file for the logged error message.\n",
    "# The logging module provides a flexible framework for emitting log messages from Python programs."
   ]
  },
  {
   "cell_type": "markdown",
   "id": "b42e3a22",
   "metadata": {},
   "source": [
    "## Q.7 How do you log information at different levels (INFO, ERROR, WARNING) in Python using the logging module?"
   ]
  },
  {
   "cell_type": "code",
   "execution_count": 7,
   "id": "18726041",
   "metadata": {},
   "outputs": [],
   "source": [
    "\n",
    "import logging\n",
    "# Configure logging to write to a file\n",
    "logging.basicConfig(filename='example.log', level=logging.DEBUG,\n",
    "                    format='%(asctime)s - %(levelname)s - %(message)s')\n",
    "# Log messages at different levels\n",
    "logging.debug(\"This is a debug message\")\n",
    "logging.info(\"This is an info message\")\n",
    "logging.warning(\"This is a warning message\")\n",
    "logging.error(\"This is an error message\")\n",
    "logging.critical(\"This is a critical message\")\n",
    "# This code logs messages at different levels (DEBUG, INFO, WARNING, ERROR, CRITICAL) to 'example.log'.\n",
    "# The log messages include timestamps and severity levels."
   ]
  },
  {
   "cell_type": "markdown",
   "id": "86ca8e7c",
   "metadata": {},
   "source": [
    "## Q.8  Write a program to handle a file opening error using exception handling?"
   ]
  },
  {
   "cell_type": "code",
   "execution_count": 8,
   "id": "59cdb21a",
   "metadata": {},
   "outputs": [
    {
     "name": "stdout",
     "output_type": "stream",
     "text": [
      "Error: The file does not exist.\n"
     ]
    }
   ],
   "source": [
    "\n",
    "\n",
    "try:\n",
    "    with open('non_existent_file.txt', 'r') as file:\n",
    "        content = file.read()\n",
    "except FileNotFoundError:\n",
    "    print(\"Error: The file does not exist.\")\n",
    "# This program attempts to open a non-existent file and handles the FileNotFoundError exception.\n",
    "# It prints an error message if the file is not found."
   ]
  },
  {
   "cell_type": "markdown",
   "id": "b1846924",
   "metadata": {},
   "source": [
    "## Q.9 How can you read a file line by line and store its content in a list in Python?"
   ]
  },
  {
   "cell_type": "code",
   "execution_count": 9,
   "id": "8506abc2",
   "metadata": {},
   "outputs": [
    {
     "name": "stdout",
     "output_type": "stream",
     "text": [
      "['Hello, World!']\n"
     ]
    }
   ],
   "source": [
    "\n",
    "with open('example.txt', 'r') as file:\n",
    "    lines = file.readlines()\n",
    "    lists = [line.strip() for line in lines]\n",
    "print(lists)\n"
   ]
  },
  {
   "cell_type": "markdown",
   "id": "6ae21c51",
   "metadata": {},
   "source": [
    "## Q.10  How can you append data to an existing file in Python?"
   ]
  },
  {
   "cell_type": "code",
   "execution_count": 10,
   "id": "118e3def",
   "metadata": {},
   "outputs": [],
   "source": [
    "\n",
    "with open('example.txt', 'a') as file:\n",
    "    file.write(\"\\nAppending this line to the file.\")\n",
    "# This code opens 'example.txt' in append mode ('a') and writes a new line to it."
   ]
  },
  {
   "cell_type": "markdown",
   "id": "55dca315",
   "metadata": {},
   "source": [
    "## Q.11 Write a Python program that uses a try-except block to handle an error when attempting to access a dictionary key that doesn't exist?\n"
   ]
  },
  {
   "cell_type": "code",
   "execution_count": 11,
   "id": "3bb6e82d",
   "metadata": {},
   "outputs": [
    {
     "name": "stdout",
     "output_type": "stream",
     "text": [
      "KeyError: The key 'c' does not exist in the dictionary.\n"
     ]
    }
   ],
   "source": [
    "\n",
    "my_dict = {'a': 1, 'b': 2}\n",
    "try:\n",
    "    value = my_dict['c']  # This will raise a KeyError\n",
    "except KeyError:\n",
    "    print(\"KeyError: The key 'c' does not exist in the dictionary.\")\n",
    "# This code attempts to access a key that doesn't exist in the dictionary and handles the KeyError exception.\n",
    "# It prints an error message if the key is not found."
   ]
  },
  {
   "cell_type": "markdown",
   "id": "965ee127",
   "metadata": {},
   "source": [
    "## Q.12   Write a program that demonstrates using multiple except blocks to handle different types of exceptions?"
   ]
  },
  {
   "cell_type": "code",
   "execution_count": 12,
   "id": "9ef40eba",
   "metadata": {},
   "outputs": [
    {
     "name": "stdout",
     "output_type": "stream",
     "text": [
      "The result is: 5.0\n",
      "Error: Division by zero is not allowed.\n",
      "Error: Both inputs must be numbers.\n"
     ]
    }
   ],
   "source": [
    "#\n",
    "def divide_numbers(num1, num2):\n",
    "    try:\n",
    "        result = num1 / num2\n",
    "    except ZeroDivisionError:\n",
    "        print(\"Error: Division by zero is not allowed.\")\n",
    "    except TypeError:\n",
    "        print(\"Error: Both inputs must be numbers.\")\n",
    "    else:\n",
    "        print(f\"The result is: {result}\")\n",
    "\n",
    "divide_numbers(10, 2)  # Valid input\n",
    "divide_numbers(10, 0)  # Division by zero\n",
    "divide_numbers(10, 'a')  # Invalid input (TypeError)"
   ]
  },
  {
   "cell_type": "markdown",
   "id": "417639e9",
   "metadata": {},
   "source": [
    "## Q.13 How would you check if a file exists before attempting to read it in Python?"
   ]
  },
  {
   "cell_type": "code",
   "execution_count": 13,
   "id": "d049ddad",
   "metadata": {},
   "outputs": [
    {
     "name": "stdout",
     "output_type": "stream",
     "text": [
      "Hello, World!\n",
      "Appending this line to the file.\n"
     ]
    }
   ],
   "source": [
    "# How would you check if a file exists before attempting to read it in Python?\n",
    "import os\n",
    "file_path = 'example.txt'\n",
    "if os.path.exists(file_path):\n",
    "    with open(file_path, 'r') as file:\n",
    "        content = file.read()\n",
    "        print(content)\n",
    "\n",
    "# This code checks if 'example.txt' exists before attempting to read it.\n",
    "# using os module to check if the file exists. \n",
    "# os.path return the path of the file and os.path.exists() checks if the file exists.\n",
    "# If the file exists, it opens the file and reads its content."
   ]
  },
  {
   "cell_type": "markdown",
   "id": "120cc710",
   "metadata": {},
   "source": [
    "## Q.14 Write a program that uses the logging module to log both informational and error messages?"
   ]
  },
  {
   "cell_type": "code",
   "execution_count": 14,
   "id": "23c1b778",
   "metadata": {},
   "outputs": [],
   "source": [
    "# Write a program that uses the logging module to log both informational and error messages?\n",
    "import logging\n",
    "# Configure logging to write to a file\n",
    "logging.basicConfig(filename='example.log', level=logging.DEBUG,\n",
    "                    format='%(asctime)s - %(levelname)s - %(message)s')\n",
    "# Log informational messages\n",
    "logging.info(\"This is an informational message.\")\n",
    "logging.error(\"This is an error message.\")"
   ]
  },
  {
   "cell_type": "markdown",
   "id": "2d1263db",
   "metadata": {},
   "source": [
    "## Q.15 Write a Python program that prints the content of a file and handles the case when the file is empty?"
   ]
  },
  {
   "cell_type": "code",
   "execution_count": 15,
   "id": "5a352ad9",
   "metadata": {},
   "outputs": [
    {
     "name": "stdout",
     "output_type": "stream",
     "text": [
      "Hello, World!\n",
      "Appending this line to the file.\n"
     ]
    }
   ],
   "source": [
    "# Write a Python program that prints the content of a file and handles the case when the file is empty?\n",
    "try:\n",
    "    with open('example.txt', 'r') as file:\n",
    "        content = file.read()\n",
    "        if not content.strip():  # Check if the file is empty\n",
    "            print(\"The file is empty.\")\n",
    "        else:\n",
    "            print(content)\n",
    "except FileNotFoundError:\n",
    "    print(\"The file does not exist.\")\n",
    "# This program attempts to read 'example.txt' and checks if it is empty."
   ]
  },
  {
   "cell_type": "markdown",
   "id": "4f41d88b",
   "metadata": {},
   "source": [
    "## Q.16  Demonstrate how to use memory profiling to check the memory usage of a small program?"
   ]
  },
  {
   "cell_type": "code",
   "execution_count": 16,
   "id": "b732d4ce",
   "metadata": {},
   "outputs": [
    {
     "ename": "ModuleNotFoundError",
     "evalue": "No module named 'memory_profiler'",
     "output_type": "error",
     "traceback": [
      "\u001b[1;31m---------------------------------------------------------------------------\u001b[0m",
      "\u001b[1;31mModuleNotFoundError\u001b[0m                       Traceback (most recent call last)",
      "Cell \u001b[1;32mIn[16], line 2\u001b[0m\n\u001b[0;32m      1\u001b[0m \u001b[38;5;66;03m#  Demonstrate how to use memory profiling to check the memory usage of a small program?\u001b[39;00m\n\u001b[1;32m----> 2\u001b[0m \u001b[38;5;28;01mimport\u001b[39;00m\u001b[38;5;250m \u001b[39m\u001b[38;5;21;01mmemory_profiler\u001b[39;00m\n\u001b[0;32m      3\u001b[0m \u001b[38;5;129m@profile\u001b[39m\n\u001b[0;32m      4\u001b[0m \u001b[38;5;28;01mdef\u001b[39;00m\u001b[38;5;250m \u001b[39m\u001b[38;5;21mmemory_test\u001b[39m():\n\u001b[0;32m      5\u001b[0m     a \u001b[38;5;241m=\u001b[39m [i \u001b[38;5;28;01mfor\u001b[39;00m i \u001b[38;5;129;01min\u001b[39;00m \u001b[38;5;28mrange\u001b[39m(\u001b[38;5;241m100000\u001b[39m)]\n",
      "\u001b[1;31mModuleNotFoundError\u001b[0m: No module named 'memory_profiler'"
     ]
    }
   ],
   "source": [
    "#  Demonstrate how to use memory profiling to check the memory usage of a small program?\n",
    "import memory_profiler\n",
    "@profile\n",
    "def memory_test():\n",
    "    a = [i for i in range(100000)]\n",
    "    b = [i**2 for i in a]\n",
    "    return b\n",
    "memory_test()\n",
    "# This code uses the memory_profiler module to profile the memory usage of a simple function.\n",
    "# The @profile decorator is used to mark the function for profiling.\n",
    "# Make sure to install memory_profiler using pip before running this code.\n",
    "# You can run the script with the command: python -m memory_profiler your_script.py"
   ]
  },
  {
   "cell_type": "markdown",
   "id": "2f896f6a",
   "metadata": {},
   "source": [
    "## Q.17 Write a Python program to create and write a list of numbers to a file, one number per line?"
   ]
  },
  {
   "cell_type": "code",
   "execution_count": null,
   "id": "dec4bbaf",
   "metadata": {},
   "outputs": [],
   "source": [
    "# Write a Python program to create and write a list of numbers to a file, one number per line\n",
    "\n",
    "numbers = [1, 2, 3, 4, 5]\n",
    "with open('numbers.txt', 'w') as file:\n",
    "    for number in numbers:\n",
    "        file.write(f\"{number}\\n\")"
   ]
  },
  {
   "cell_type": "markdown",
   "id": "999f5763",
   "metadata": {},
   "source": [
    "## Q.18  How would you implement a basic logging setup that logs to a file with rotation after 1MB?"
   ]
  },
  {
   "cell_type": "code",
   "execution_count": null,
   "id": "574ce4ec",
   "metadata": {},
   "outputs": [],
   "source": [
    "import logging\n",
    "from logging.handlers import RotatingFileHandler\n",
    "\n",
    "# Create a logger\n",
    "logger = logging.getLogger(\"MyLogger\")\n",
    "logger.setLevel(logging.DEBUG)  # Set the logging level\n",
    "\n",
    "# Create a rotating file handler\n",
    "handler = RotatingFileHandler(\n",
    "    \"app.log\",       # Log file name\n",
    "    maxBytes=1 * 1024 * 1024,  # Rotate after 1MB\n",
    "    backupCount=5    # Keep up to 5 backup files\n",
    ")\n",
    "\n",
    "# Create a log formatter and attach it to the handler\n",
    "formatter = logging.Formatter('%(asctime)s - %(levelname)s - %(message)s')\n",
    "handler.setFormatter(formatter)\n",
    "\n",
    "# Add the handler to the logger\n",
    "logger.addHandler(handler)\n",
    "\n",
    "# Example log entries\n",
    "for i in range(10000):\n",
    "    logger.debug(f\"This is log message number {i}\")\n"
   ]
  },
  {
   "cell_type": "markdown",
   "id": "b4ae11ab",
   "metadata": {},
   "source": [
    "## Q.19 Write a program that handles both IndexError and KeyError using a try-except block"
   ]
  },
  {
   "cell_type": "code",
   "execution_count": null,
   "id": "38a13df1",
   "metadata": {},
   "outputs": [
    {
     "name": "stdout",
     "output_type": "stream",
     "text": [
      "Caught an IndexError: list index out of range\n"
     ]
    }
   ],
   "source": [
    "def handle_errors():\n",
    "    my_list = [10, 20, 30]\n",
    "    my_dict = {\"name\": \"Anand\", \"age\": 21}\n",
    "\n",
    "    try:\n",
    "        # This will raise IndexError\n",
    "        print(\"List element:\", my_list[5])\n",
    "        \n",
    "        # This will raise KeyError\n",
    "        print(\"Dictionary value:\", my_dict[\"address\"])\n",
    "\n",
    "    except IndexError as ie:\n",
    "        print(\"Caught an IndexError:\", ie)\n",
    "\n",
    "    except KeyError as ke:\n",
    "        print(\"Caught a KeyError:\", ke)\n",
    "\n",
    "# Call the function\n",
    "handle_errors()\n"
   ]
  },
  {
   "cell_type": "markdown",
   "id": "896866a4",
   "metadata": {},
   "source": [
    "## Q.20  How would you open a file and read its contents using a context manager in Python?"
   ]
  },
  {
   "cell_type": "code",
   "execution_count": 17,
   "id": "0273b2a8",
   "metadata": {},
   "outputs": [
    {
     "name": "stdout",
     "output_type": "stream",
     "text": [
      "Hello, World!\n",
      "Appending this line to the file.\n"
     ]
    }
   ],
   "source": [
    "#  How would you open a file and read its contents using a context manager in Python\n",
    "with open('example.txt', 'r') as file:\n",
    "    content = file.read()\n",
    "    print(content)"
   ]
  },
  {
   "cell_type": "markdown",
   "id": "10f2daed",
   "metadata": {},
   "source": [
    "## Q. 21 Write a Python program that reads a file and prints the number of occurrences of a specific word"
   ]
  },
  {
   "cell_type": "code",
   "execution_count": 18,
   "id": "a1b0d911",
   "metadata": {},
   "outputs": [
    {
     "name": "stdout",
     "output_type": "stream",
     "text": [
      "The word 'Python' occurs 0 times in the file.\n"
     ]
    }
   ],
   "source": [
    "# Write a Python program that reads a file and prints the number of occurrences of a specific word\n",
    "word_to_count = \"Python\"\n",
    "word_count = 0\n",
    "with open('example.txt', 'r') as file:\n",
    "    for line in file:\n",
    "        word_count += line.lower().count(word_to_count.lower())\n",
    "print(f\"The word '{word_to_count}' occurs {word_count} times in the file.\")"
   ]
  },
  {
   "cell_type": "markdown",
   "id": "3542390f",
   "metadata": {},
   "source": [
    "## Q.22  How can you check if a file is empty before attempting to read its contents"
   ]
  },
  {
   "cell_type": "code",
   "execution_count": 19,
   "id": "6ee48cab",
   "metadata": {},
   "outputs": [
    {
     "name": "stdout",
     "output_type": "stream",
     "text": [
      "Hello, World!\n",
      "Appending this line to the file.\n"
     ]
    }
   ],
   "source": [
    "#  How can you check if a file is empty before attempting to read its contents?\n",
    "import os\n",
    "file_path = 'example.txt'\n",
    "if os.path.exists(file_path) and os.path.getsize(file_path) > 0:\n",
    "    with open(file_path, 'r') as file:\n",
    "        content = file.read()\n",
    "        print(content)\n",
    "# This code checks if 'example.txt' exists and is not empty before attempting to read it."
   ]
  },
  {
   "cell_type": "markdown",
   "id": "e088e60b",
   "metadata": {},
   "source": [
    "## Q.23 Write a Python program that writes to a log file when an error occurs during file handling."
   ]
  },
  {
   "cell_type": "code",
   "execution_count": 20,
   "id": "e5ae45cb",
   "metadata": {},
   "outputs": [
    {
     "name": "stdout",
     "output_type": "stream",
     "text": [
      "An error occurred. Check file_error.log for details.\n"
     ]
    }
   ],
   "source": [
    "import logging\n",
    "\n",
    "# Configure logging to write to a file\n",
    "logging.basicConfig(\n",
    "    filename=\"file_error.log\",         # Log file name\n",
    "    level=logging.ERROR,               # Log only ERROR level and above\n",
    "    format=\"%(asctime)s - %(levelname)s - %(message)s\"\n",
    ")\n",
    "\n",
    "def read_file(filename):\n",
    "    try:\n",
    "        with open(filename, 'r') as file:\n",
    "            content = file.read()\n",
    "            print(content)\n",
    "\n",
    "    except Exception as e:\n",
    "        # Log the exception to a file\n",
    "        logging.error(f\"Error while reading file '{filename}': {e}\")\n",
    "        print(\"An error occurred. Check file_error.log for details.\")\n",
    "\n",
    "# 🔍 Try with a non-existent file to simulate error\n",
    "read_file(\"nonexistent_file.txt\")\n"
   ]
  },
  {
   "cell_type": "code",
   "execution_count": null,
   "id": "8e2919bb",
   "metadata": {},
   "outputs": [],
   "source": []
  }
 ],
 "metadata": {
  "kernelspec": {
   "display_name": "Python 3",
   "language": "python",
   "name": "python3"
  },
  "language_info": {
   "codemirror_mode": {
    "name": "ipython",
    "version": 3
   },
   "file_extension": ".py",
   "mimetype": "text/x-python",
   "name": "python",
   "nbconvert_exporter": "python",
   "pygments_lexer": "ipython3",
   "version": "3.13.2"
  }
 },
 "nbformat": 4,
 "nbformat_minor": 5
}
